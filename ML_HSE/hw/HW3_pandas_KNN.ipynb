{
 "cells": [
  {
   "cell_type": "code",
   "execution_count": 114,
   "id": "297d3364",
   "metadata": {
    "ExecuteTime": {
     "end_time": "2021-05-14T13:17:59.595800Z",
     "start_time": "2021-05-14T13:17:59.590833Z"
    }
   },
   "outputs": [],
   "source": [
    "from sklearn.datasets import load_wine\n",
    "import pandas as pd\n",
    "import numpy as np"
   ]
  },
  {
   "cell_type": "code",
   "execution_count": 3,
   "id": "b8e00a01",
   "metadata": {
    "ExecuteTime": {
     "end_time": "2021-05-14T12:24:26.888438Z",
     "start_time": "2021-05-14T12:24:26.876402Z"
    }
   },
   "outputs": [],
   "source": [
    "wine_dataset = load_wine()"
   ]
  },
  {
   "cell_type": "code",
   "execution_count": 4,
   "id": "30a0da3c",
   "metadata": {
    "ExecuteTime": {
     "end_time": "2021-05-14T12:24:32.640011Z",
     "start_time": "2021-05-14T12:24:32.597045Z"
    }
   },
   "outputs": [
    {
     "data": {
      "text/html": [
       "<div>\n",
       "<style scoped>\n",
       "    .dataframe tbody tr th:only-of-type {\n",
       "        vertical-align: middle;\n",
       "    }\n",
       "\n",
       "    .dataframe tbody tr th {\n",
       "        vertical-align: top;\n",
       "    }\n",
       "\n",
       "    .dataframe thead th {\n",
       "        text-align: right;\n",
       "    }\n",
       "</style>\n",
       "<table border=\"1\" class=\"dataframe\">\n",
       "  <thead>\n",
       "    <tr style=\"text-align: right;\">\n",
       "      <th></th>\n",
       "      <th>alcohol</th>\n",
       "      <th>malic_acid</th>\n",
       "      <th>ash</th>\n",
       "      <th>alcalinity_of_ash</th>\n",
       "      <th>magnesium</th>\n",
       "      <th>total_phenols</th>\n",
       "      <th>flavanoids</th>\n",
       "      <th>nonflavanoid_phenols</th>\n",
       "      <th>proanthocyanins</th>\n",
       "      <th>color_intensity</th>\n",
       "      <th>hue</th>\n",
       "      <th>od280/od315_of_diluted_wines</th>\n",
       "      <th>proline</th>\n",
       "      <th>class</th>\n",
       "    </tr>\n",
       "  </thead>\n",
       "  <tbody>\n",
       "    <tr>\n",
       "      <th>0</th>\n",
       "      <td>14.23</td>\n",
       "      <td>1.71</td>\n",
       "      <td>2.43</td>\n",
       "      <td>15.6</td>\n",
       "      <td>127.0</td>\n",
       "      <td>2.80</td>\n",
       "      <td>3.06</td>\n",
       "      <td>0.28</td>\n",
       "      <td>2.29</td>\n",
       "      <td>5.64</td>\n",
       "      <td>1.04</td>\n",
       "      <td>3.92</td>\n",
       "      <td>1065.0</td>\n",
       "      <td>0</td>\n",
       "    </tr>\n",
       "    <tr>\n",
       "      <th>1</th>\n",
       "      <td>13.20</td>\n",
       "      <td>1.78</td>\n",
       "      <td>2.14</td>\n",
       "      <td>11.2</td>\n",
       "      <td>100.0</td>\n",
       "      <td>2.65</td>\n",
       "      <td>2.76</td>\n",
       "      <td>0.26</td>\n",
       "      <td>1.28</td>\n",
       "      <td>4.38</td>\n",
       "      <td>1.05</td>\n",
       "      <td>3.40</td>\n",
       "      <td>1050.0</td>\n",
       "      <td>0</td>\n",
       "    </tr>\n",
       "    <tr>\n",
       "      <th>2</th>\n",
       "      <td>13.16</td>\n",
       "      <td>2.36</td>\n",
       "      <td>2.67</td>\n",
       "      <td>18.6</td>\n",
       "      <td>101.0</td>\n",
       "      <td>2.80</td>\n",
       "      <td>3.24</td>\n",
       "      <td>0.30</td>\n",
       "      <td>2.81</td>\n",
       "      <td>5.68</td>\n",
       "      <td>1.03</td>\n",
       "      <td>3.17</td>\n",
       "      <td>1185.0</td>\n",
       "      <td>0</td>\n",
       "    </tr>\n",
       "    <tr>\n",
       "      <th>3</th>\n",
       "      <td>14.37</td>\n",
       "      <td>1.95</td>\n",
       "      <td>2.50</td>\n",
       "      <td>16.8</td>\n",
       "      <td>113.0</td>\n",
       "      <td>3.85</td>\n",
       "      <td>3.49</td>\n",
       "      <td>0.24</td>\n",
       "      <td>2.18</td>\n",
       "      <td>7.80</td>\n",
       "      <td>0.86</td>\n",
       "      <td>3.45</td>\n",
       "      <td>1480.0</td>\n",
       "      <td>0</td>\n",
       "    </tr>\n",
       "    <tr>\n",
       "      <th>4</th>\n",
       "      <td>13.24</td>\n",
       "      <td>2.59</td>\n",
       "      <td>2.87</td>\n",
       "      <td>21.0</td>\n",
       "      <td>118.0</td>\n",
       "      <td>2.80</td>\n",
       "      <td>2.69</td>\n",
       "      <td>0.39</td>\n",
       "      <td>1.82</td>\n",
       "      <td>4.32</td>\n",
       "      <td>1.04</td>\n",
       "      <td>2.93</td>\n",
       "      <td>735.0</td>\n",
       "      <td>0</td>\n",
       "    </tr>\n",
       "  </tbody>\n",
       "</table>\n",
       "</div>"
      ],
      "text/plain": [
       "   alcohol  malic_acid   ash  alcalinity_of_ash  magnesium  total_phenols  \\\n",
       "0    14.23        1.71  2.43               15.6      127.0           2.80   \n",
       "1    13.20        1.78  2.14               11.2      100.0           2.65   \n",
       "2    13.16        2.36  2.67               18.6      101.0           2.80   \n",
       "3    14.37        1.95  2.50               16.8      113.0           3.85   \n",
       "4    13.24        2.59  2.87               21.0      118.0           2.80   \n",
       "\n",
       "   flavanoids  nonflavanoid_phenols  proanthocyanins  color_intensity   hue  \\\n",
       "0        3.06                  0.28             2.29             5.64  1.04   \n",
       "1        2.76                  0.26             1.28             4.38  1.05   \n",
       "2        3.24                  0.30             2.81             5.68  1.03   \n",
       "3        3.49                  0.24             2.18             7.80  0.86   \n",
       "4        2.69                  0.39             1.82             4.32  1.04   \n",
       "\n",
       "   od280/od315_of_diluted_wines  proline  class  \n",
       "0                          3.92   1065.0      0  \n",
       "1                          3.40   1050.0      0  \n",
       "2                          3.17   1185.0      0  \n",
       "3                          3.45   1480.0      0  \n",
       "4                          2.93    735.0      0  "
      ]
     },
     "execution_count": 4,
     "metadata": {},
     "output_type": "execute_result"
    }
   ],
   "source": [
    "wine = pd.DataFrame(wine_dataset.data, columns=wine_dataset.feature_names)\n",
    "wine['class'] = wine_dataset.target\n",
    "wine.head()"
   ]
  },
  {
   "cell_type": "code",
   "execution_count": 5,
   "id": "90108527",
   "metadata": {
    "ExecuteTime": {
     "end_time": "2021-05-14T12:24:42.511587Z",
     "start_time": "2021-05-14T12:24:42.500620Z"
    }
   },
   "outputs": [],
   "source": [
    "X = wine.iloc[:,:-1]\n",
    "y = wine.iloc[:,-1]"
   ]
  },
  {
   "cell_type": "code",
   "execution_count": 13,
   "id": "717da401",
   "metadata": {
    "ExecuteTime": {
     "end_time": "2021-05-14T12:30:56.317986Z",
     "start_time": "2021-05-14T12:30:56.308991Z"
    }
   },
   "outputs": [],
   "source": [
    "from sklearn.model_selection import StratifiedKFold, cross_val_score, GridSearchCV"
   ]
  },
  {
   "cell_type": "code",
   "execution_count": 8,
   "id": "a02f6c32",
   "metadata": {
    "ExecuteTime": {
     "end_time": "2021-05-14T12:26:28.920617Z",
     "start_time": "2021-05-14T12:26:28.910619Z"
    }
   },
   "outputs": [],
   "source": [
    "klf = StratifiedKFold(random_state=42, shuffle=True)"
   ]
  },
  {
   "cell_type": "code",
   "execution_count": 9,
   "id": "ff4b4a53",
   "metadata": {
    "ExecuteTime": {
     "end_time": "2021-05-14T12:26:38.413433Z",
     "start_time": "2021-05-14T12:26:38.396537Z"
    }
   },
   "outputs": [],
   "source": [
    "from sklearn.metrics import accuracy_score"
   ]
  },
  {
   "cell_type": "code",
   "execution_count": 10,
   "id": "f14735a6",
   "metadata": {
    "ExecuteTime": {
     "end_time": "2021-05-14T12:29:42.010592Z",
     "start_time": "2021-05-14T12:29:42.004594Z"
    }
   },
   "outputs": [],
   "source": [
    "from sklearn.neighbors import KNeighborsClassifier"
   ]
  },
  {
   "cell_type": "code",
   "execution_count": 12,
   "id": "1712d169",
   "metadata": {
    "ExecuteTime": {
     "end_time": "2021-05-14T12:30:42.852498Z",
     "start_time": "2021-05-14T12:30:42.845468Z"
    }
   },
   "outputs": [],
   "source": [
    "knn = KNeighborsClassifier()"
   ]
  },
  {
   "cell_type": "code",
   "execution_count": 38,
   "id": "aab51003",
   "metadata": {
    "ExecuteTime": {
     "end_time": "2021-05-14T12:41:33.111468Z",
     "start_time": "2021-05-14T12:41:33.093466Z"
    }
   },
   "outputs": [],
   "source": [
    "parameters = {'n_neighbors': list(range(1, 51))}"
   ]
  },
  {
   "cell_type": "code",
   "execution_count": 39,
   "id": "f2641f1e",
   "metadata": {
    "ExecuteTime": {
     "end_time": "2021-05-14T12:41:35.074359Z",
     "start_time": "2021-05-14T12:41:33.357455Z"
    }
   },
   "outputs": [
    {
     "data": {
      "text/plain": [
       "GridSearchCV(cv=StratifiedKFold(n_splits=5, random_state=42, shuffle=True),\n",
       "             estimator=KNeighborsClassifier(),\n",
       "             param_grid={'n_neighbors': [1, 2, 3, 4, 5, 6, 7, 8, 9, 10, 11, 12,\n",
       "                                         13, 14, 15, 16, 17, 18, 19, 20, 21, 22,\n",
       "                                         23, 24, 25, 26, 27, 28, 29, 30, ...]})"
      ]
     },
     "execution_count": 39,
     "metadata": {},
     "output_type": "execute_result"
    }
   ],
   "source": [
    "clf = GridSearchCV(knn, parameters, cv=klf)\n",
    "clf.fit(X,y)"
   ]
  },
  {
   "cell_type": "code",
   "execution_count": null,
   "id": "48191168",
   "metadata": {
    "ExecuteTime": {
     "end_time": "2021-05-14T12:35:02.708382Z",
     "start_time": "2021-05-14T12:35:01.069688Z"
    }
   },
   "outputs": [],
   "source": []
  },
  {
   "cell_type": "code",
   "execution_count": 40,
   "id": "bce5abcf",
   "metadata": {
    "ExecuteTime": {
     "end_time": "2021-05-14T12:41:35.090327Z",
     "start_time": "2021-05-14T12:41:35.077325Z"
    }
   },
   "outputs": [
    {
     "data": {
      "text/plain": [
       "{'n_neighbors': 1}"
      ]
     },
     "execution_count": 40,
     "metadata": {},
     "output_type": "execute_result"
    }
   ],
   "source": [
    "clf.best_params_"
   ]
  },
  {
   "cell_type": "code",
   "execution_count": 41,
   "id": "4cfc9e72",
   "metadata": {
    "ExecuteTime": {
     "end_time": "2021-05-14T12:41:37.064364Z",
     "start_time": "2021-05-14T12:41:37.054318Z"
    }
   },
   "outputs": [
    {
     "data": {
      "text/plain": [
       "0.7185714285714285"
      ]
     },
     "execution_count": 41,
     "metadata": {},
     "output_type": "execute_result"
    }
   ],
   "source": [
    "clf.best_score_"
   ]
  },
  {
   "cell_type": "code",
   "execution_count": 42,
   "id": "eaa1cb15",
   "metadata": {
    "ExecuteTime": {
     "end_time": "2021-05-14T12:41:39.234870Z",
     "start_time": "2021-05-14T12:41:39.229870Z"
    }
   },
   "outputs": [],
   "source": [
    "from sklearn.preprocessing import StandardScaler"
   ]
  },
  {
   "cell_type": "code",
   "execution_count": 43,
   "id": "d3dd7fbd",
   "metadata": {
    "ExecuteTime": {
     "end_time": "2021-05-14T12:41:39.499058Z",
     "start_time": "2021-05-14T12:41:39.485027Z"
    }
   },
   "outputs": [],
   "source": [
    "scaler = StandardScaler()\n",
    "X_scaled = scaler.fit_transform(X)"
   ]
  },
  {
   "cell_type": "code",
   "execution_count": 68,
   "id": "1d3a3984",
   "metadata": {
    "ExecuteTime": {
     "end_time": "2021-05-14T12:51:09.701612Z",
     "start_time": "2021-05-14T12:51:09.693602Z"
    }
   },
   "outputs": [],
   "source": [
    "from sklearn.preprocessing import scale"
   ]
  },
  {
   "cell_type": "code",
   "execution_count": 70,
   "id": "94f9b0b0",
   "metadata": {
    "ExecuteTime": {
     "end_time": "2021-05-14T12:51:51.153443Z",
     "start_time": "2021-05-14T12:51:51.134476Z"
    }
   },
   "outputs": [],
   "source": [
    "X_scaled_ = scale(X)"
   ]
  },
  {
   "cell_type": "code",
   "execution_count": 91,
   "id": "d8a0cded",
   "metadata": {
    "ExecuteTime": {
     "end_time": "2021-05-14T13:02:31.275883Z",
     "start_time": "2021-05-14T13:02:30.333149Z"
    }
   },
   "outputs": [
    {
     "data": {
      "text/plain": [
       "GridSearchCV(cv=StratifiedKFold(n_splits=5, random_state=42, shuffle=True),\n",
       "             estimator=KNeighborsClassifier(n_neighbors=50),\n",
       "             param_grid={'n_neighbors': [1, 2, 3, 4, 5, 6, 7, 8, 9, 10, 11, 12,\n",
       "                                         13, 14, 15, 16, 17, 18, 19, 20, 21, 22,\n",
       "                                         23, 24, 25, 26, 27, 28, 29, 30, ...]},\n",
       "             scoring='accuracy')"
      ]
     },
     "execution_count": 91,
     "metadata": {},
     "output_type": "execute_result"
    }
   ],
   "source": [
    "clf_sc = GridSearchCV(knn, parameters, cv=klf, scoring='accuracy')\n",
    "clf_sc.fit(X_scaled_,y)"
   ]
  },
  {
   "cell_type": "code",
   "execution_count": 92,
   "id": "03ba9bd4",
   "metadata": {
    "ExecuteTime": {
     "end_time": "2021-05-14T13:02:31.292013Z",
     "start_time": "2021-05-14T13:02:31.277854Z"
    }
   },
   "outputs": [
    {
     "data": {
      "text/plain": [
       "{'n_neighbors': 13}"
      ]
     },
     "execution_count": 92,
     "metadata": {},
     "output_type": "execute_result"
    }
   ],
   "source": [
    "clf_sc.best_params_"
   ]
  },
  {
   "cell_type": "code",
   "execution_count": 93,
   "id": "13e6ef13",
   "metadata": {
    "ExecuteTime": {
     "end_time": "2021-05-14T13:02:32.642353Z",
     "start_time": "2021-05-14T13:02:32.629313Z"
    }
   },
   "outputs": [
    {
     "data": {
      "text/plain": [
       "0.9776190476190475"
      ]
     },
     "execution_count": 93,
     "metadata": {},
     "output_type": "execute_result"
    }
   ],
   "source": [
    "clf_sc.best_score_"
   ]
  },
  {
   "cell_type": "code",
   "execution_count": null,
   "id": "3f378187",
   "metadata": {},
   "outputs": [],
   "source": []
  },
  {
   "cell_type": "code",
   "execution_count": 95,
   "id": "27e94cde",
   "metadata": {
    "ExecuteTime": {
     "end_time": "2021-05-14T13:04:59.354095Z",
     "start_time": "2021-05-14T13:04:58.311061Z"
    }
   },
   "outputs": [],
   "source": [
    "res = []\n",
    "for i in range(1, 51):\n",
    "    knn = KNeighborsClassifier(n_neighbors=i)\n",
    "    res.append(cross_val_score(knn, X_scaled, y, cv=klf, scoring='accuracy').mean())"
   ]
  },
  {
   "cell_type": "code",
   "execution_count": 96,
   "id": "4fadb5ca",
   "metadata": {
    "ExecuteTime": {
     "end_time": "2021-05-14T13:05:00.123687Z",
     "start_time": "2021-05-14T13:05:00.104686Z"
    }
   },
   "outputs": [
    {
     "data": {
      "text/plain": [
       "0.9776190476190475"
      ]
     },
     "execution_count": 96,
     "metadata": {},
     "output_type": "execute_result"
    }
   ],
   "source": [
    "max(res)"
   ]
  },
  {
   "cell_type": "code",
   "execution_count": 97,
   "id": "306e1652",
   "metadata": {
    "ExecuteTime": {
     "end_time": "2021-05-14T13:05:01.908501Z",
     "start_time": "2021-05-14T13:05:01.894499Z"
    }
   },
   "outputs": [
    {
     "data": {
      "text/plain": [
       "12"
      ]
     },
     "execution_count": 97,
     "metadata": {},
     "output_type": "execute_result"
    }
   ],
   "source": [
    "res.index(max(res))"
   ]
  },
  {
   "cell_type": "code",
   "execution_count": 98,
   "id": "0dae4330",
   "metadata": {
    "ExecuteTime": {
     "end_time": "2021-05-14T13:05:03.325073Z",
     "start_time": "2021-05-14T13:05:03.310108Z"
    }
   },
   "outputs": [],
   "source": [
    "import matplotlib.pyplot as plt"
   ]
  },
  {
   "cell_type": "code",
   "execution_count": 99,
   "id": "4a9dae97",
   "metadata": {
    "ExecuteTime": {
     "end_time": "2021-05-14T13:05:06.132188Z",
     "start_time": "2021-05-14T13:05:06.126151Z"
    }
   },
   "outputs": [
    {
     "name": "stdout",
     "output_type": "stream",
     "text": [
      "13 0.9776190476190475\n",
      "16 0.9776190476190475\n",
      "30 0.9774603174603176\n",
      "31 0.9774603174603176\n",
      "33 0.9774603174603176\n",
      "39 0.9774603174603176\n",
      "43 0.9774603174603176\n",
      "45 0.9774603174603176\n",
      "47 0.9774603174603176\n"
     ]
    }
   ],
   "source": [
    "for i in range(0, 50):\n",
    "    if res[i] >= 0.974:\n",
    "        print(i+1, res[i])"
   ]
  },
  {
   "cell_type": "code",
   "execution_count": 135,
   "id": "31c6eb22",
   "metadata": {
    "ExecuteTime": {
     "end_time": "2021-05-14T13:22:11.548008Z",
     "start_time": "2021-05-14T13:22:11.543986Z"
    }
   },
   "outputs": [],
   "source": [
    "from sklearn.datasets import load_boston"
   ]
  },
  {
   "cell_type": "code",
   "execution_count": 136,
   "id": "5beecf30",
   "metadata": {
    "ExecuteTime": {
     "end_time": "2021-05-14T13:22:12.371972Z",
     "start_time": "2021-05-14T13:22:12.367002Z"
    }
   },
   "outputs": [],
   "source": [
    "from sklearn.neighbors import KNeighborsRegressor"
   ]
  },
  {
   "cell_type": "code",
   "execution_count": 137,
   "id": "78711031",
   "metadata": {
    "ExecuteTime": {
     "end_time": "2021-05-14T13:22:12.619236Z",
     "start_time": "2021-05-14T13:22:12.606238Z"
    }
   },
   "outputs": [],
   "source": [
    "boston_data = load_boston()"
   ]
  },
  {
   "cell_type": "code",
   "execution_count": 138,
   "id": "a2230c1e",
   "metadata": {
    "ExecuteTime": {
     "end_time": "2021-05-14T13:22:12.817722Z",
     "start_time": "2021-05-14T13:22:12.791723Z"
    }
   },
   "outputs": [
    {
     "data": {
      "text/html": [
       "<div>\n",
       "<style scoped>\n",
       "    .dataframe tbody tr th:only-of-type {\n",
       "        vertical-align: middle;\n",
       "    }\n",
       "\n",
       "    .dataframe tbody tr th {\n",
       "        vertical-align: top;\n",
       "    }\n",
       "\n",
       "    .dataframe thead th {\n",
       "        text-align: right;\n",
       "    }\n",
       "</style>\n",
       "<table border=\"1\" class=\"dataframe\">\n",
       "  <thead>\n",
       "    <tr style=\"text-align: right;\">\n",
       "      <th></th>\n",
       "      <th>CRIM</th>\n",
       "      <th>ZN</th>\n",
       "      <th>INDUS</th>\n",
       "      <th>CHAS</th>\n",
       "      <th>NOX</th>\n",
       "      <th>RM</th>\n",
       "      <th>AGE</th>\n",
       "      <th>DIS</th>\n",
       "      <th>RAD</th>\n",
       "      <th>TAX</th>\n",
       "      <th>PTRATIO</th>\n",
       "      <th>B</th>\n",
       "      <th>LSTAT</th>\n",
       "      <th>MEDV</th>\n",
       "    </tr>\n",
       "  </thead>\n",
       "  <tbody>\n",
       "    <tr>\n",
       "      <th>0</th>\n",
       "      <td>0.00632</td>\n",
       "      <td>18.0</td>\n",
       "      <td>2.31</td>\n",
       "      <td>0.0</td>\n",
       "      <td>0.538</td>\n",
       "      <td>6.575</td>\n",
       "      <td>65.2</td>\n",
       "      <td>4.0900</td>\n",
       "      <td>1.0</td>\n",
       "      <td>296.0</td>\n",
       "      <td>15.3</td>\n",
       "      <td>396.90</td>\n",
       "      <td>4.98</td>\n",
       "      <td>24.0</td>\n",
       "    </tr>\n",
       "    <tr>\n",
       "      <th>1</th>\n",
       "      <td>0.02731</td>\n",
       "      <td>0.0</td>\n",
       "      <td>7.07</td>\n",
       "      <td>0.0</td>\n",
       "      <td>0.469</td>\n",
       "      <td>6.421</td>\n",
       "      <td>78.9</td>\n",
       "      <td>4.9671</td>\n",
       "      <td>2.0</td>\n",
       "      <td>242.0</td>\n",
       "      <td>17.8</td>\n",
       "      <td>396.90</td>\n",
       "      <td>9.14</td>\n",
       "      <td>21.6</td>\n",
       "    </tr>\n",
       "    <tr>\n",
       "      <th>2</th>\n",
       "      <td>0.02729</td>\n",
       "      <td>0.0</td>\n",
       "      <td>7.07</td>\n",
       "      <td>0.0</td>\n",
       "      <td>0.469</td>\n",
       "      <td>7.185</td>\n",
       "      <td>61.1</td>\n",
       "      <td>4.9671</td>\n",
       "      <td>2.0</td>\n",
       "      <td>242.0</td>\n",
       "      <td>17.8</td>\n",
       "      <td>392.83</td>\n",
       "      <td>4.03</td>\n",
       "      <td>34.7</td>\n",
       "    </tr>\n",
       "    <tr>\n",
       "      <th>3</th>\n",
       "      <td>0.03237</td>\n",
       "      <td>0.0</td>\n",
       "      <td>2.18</td>\n",
       "      <td>0.0</td>\n",
       "      <td>0.458</td>\n",
       "      <td>6.998</td>\n",
       "      <td>45.8</td>\n",
       "      <td>6.0622</td>\n",
       "      <td>3.0</td>\n",
       "      <td>222.0</td>\n",
       "      <td>18.7</td>\n",
       "      <td>394.63</td>\n",
       "      <td>2.94</td>\n",
       "      <td>33.4</td>\n",
       "    </tr>\n",
       "    <tr>\n",
       "      <th>4</th>\n",
       "      <td>0.06905</td>\n",
       "      <td>0.0</td>\n",
       "      <td>2.18</td>\n",
       "      <td>0.0</td>\n",
       "      <td>0.458</td>\n",
       "      <td>7.147</td>\n",
       "      <td>54.2</td>\n",
       "      <td>6.0622</td>\n",
       "      <td>3.0</td>\n",
       "      <td>222.0</td>\n",
       "      <td>18.7</td>\n",
       "      <td>396.90</td>\n",
       "      <td>5.33</td>\n",
       "      <td>36.2</td>\n",
       "    </tr>\n",
       "  </tbody>\n",
       "</table>\n",
       "</div>"
      ],
      "text/plain": [
       "      CRIM    ZN  INDUS  CHAS    NOX     RM   AGE     DIS  RAD    TAX  \\\n",
       "0  0.00632  18.0   2.31   0.0  0.538  6.575  65.2  4.0900  1.0  296.0   \n",
       "1  0.02731   0.0   7.07   0.0  0.469  6.421  78.9  4.9671  2.0  242.0   \n",
       "2  0.02729   0.0   7.07   0.0  0.469  7.185  61.1  4.9671  2.0  242.0   \n",
       "3  0.03237   0.0   2.18   0.0  0.458  6.998  45.8  6.0622  3.0  222.0   \n",
       "4  0.06905   0.0   2.18   0.0  0.458  7.147  54.2  6.0622  3.0  222.0   \n",
       "\n",
       "   PTRATIO       B  LSTAT  MEDV   \n",
       "0     15.3  396.90   4.98   24.0  \n",
       "1     17.8  396.90   9.14   21.6  \n",
       "2     17.8  392.83   4.03   34.7  \n",
       "3     18.7  394.63   2.94   33.4  \n",
       "4     18.7  396.90   5.33   36.2  "
      ]
     },
     "execution_count": 138,
     "metadata": {},
     "output_type": "execute_result"
    }
   ],
   "source": [
    "boston = pd.DataFrame(boston_data.data, columns=boston_data.feature_names)\n",
    "boston['MEDV '] = boston_data.target\n",
    "boston.head()"
   ]
  },
  {
   "cell_type": "code",
   "execution_count": 139,
   "id": "7a1b9c7b",
   "metadata": {
    "ExecuteTime": {
     "end_time": "2021-05-14T13:22:12.991147Z",
     "start_time": "2021-05-14T13:22:12.975146Z"
    }
   },
   "outputs": [],
   "source": [
    "X = boston.iloc[:,:-1]\n",
    "y = boston.iloc[:,-1]"
   ]
  },
  {
   "cell_type": "code",
   "execution_count": 140,
   "id": "2e1cd348",
   "metadata": {
    "ExecuteTime": {
     "end_time": "2021-05-14T13:22:13.302615Z",
     "start_time": "2021-05-14T13:22:13.280613Z"
    }
   },
   "outputs": [],
   "source": [
    "X_scaled = scaler.fit_transform(X)"
   ]
  },
  {
   "cell_type": "code",
   "execution_count": 141,
   "id": "81de7c5e",
   "metadata": {
    "ExecuteTime": {
     "end_time": "2021-05-14T13:22:13.631191Z",
     "start_time": "2021-05-14T13:22:13.622161Z"
    }
   },
   "outputs": [],
   "source": [
    "parameters = {'p': np.linspace(1, 10, 200)}"
   ]
  },
  {
   "cell_type": "code",
   "execution_count": 148,
   "id": "b2a8c7e3",
   "metadata": {
    "ExecuteTime": {
     "end_time": "2021-05-14T13:26:33.060905Z",
     "start_time": "2021-05-14T13:26:33.054875Z"
    }
   },
   "outputs": [],
   "source": [
    "from sklearn.model_selection import KFold"
   ]
  },
  {
   "cell_type": "code",
   "execution_count": 149,
   "id": "2039be16",
   "metadata": {
    "ExecuteTime": {
     "end_time": "2021-05-14T13:26:37.553664Z",
     "start_time": "2021-05-14T13:26:37.545667Z"
    }
   },
   "outputs": [],
   "source": [
    "kf = KFold(random_state=42, shuffle=True)"
   ]
  },
  {
   "cell_type": "code",
   "execution_count": 150,
   "id": "ed8e7945",
   "metadata": {
    "ExecuteTime": {
     "end_time": "2021-05-14T13:26:39.435334Z",
     "start_time": "2021-05-14T13:26:39.430307Z"
    }
   },
   "outputs": [],
   "source": [
    "knn = KNeighborsRegressor(n_neighbors=5, weights='distance')"
   ]
  },
  {
   "cell_type": "code",
   "execution_count": 151,
   "id": "995864cc",
   "metadata": {
    "ExecuteTime": {
     "end_time": "2021-05-14T13:26:52.511757Z",
     "start_time": "2021-05-14T13:26:39.640576Z"
    }
   },
   "outputs": [
    {
     "data": {
      "text/plain": [
       "GridSearchCV(cv=KFold(n_splits=5, random_state=42, shuffle=True),\n",
       "             estimator=KNeighborsRegressor(weights='distance'),\n",
       "             param_grid={'p': array([ 1.        ,  1.04522613,  1.09045226,  1.13567839,  1.18090452,\n",
       "        1.22613065,  1.27135678,  1.31658291,  1.36180905,  1.40703518,\n",
       "        1.45226131,  1.49748744,  1.54271357,  1.5879397 ,  1.63316583,\n",
       "        1.67839196,  1.72361809,  1.76884422,  1.81407035,  1.85929648,\n",
       "        1.9...\n",
       "        8.68844221,  8.73366834,  8.77889447,  8.8241206 ,  8.86934673,\n",
       "        8.91457286,  8.95979899,  9.00502513,  9.05025126,  9.09547739,\n",
       "        9.14070352,  9.18592965,  9.23115578,  9.27638191,  9.32160804,\n",
       "        9.36683417,  9.4120603 ,  9.45728643,  9.50251256,  9.54773869,\n",
       "        9.59296482,  9.63819095,  9.68341709,  9.72864322,  9.77386935,\n",
       "        9.81909548,  9.86432161,  9.90954774,  9.95477387, 10.        ])},\n",
       "             scoring='neg_mean_squared_error')"
      ]
     },
     "execution_count": 151,
     "metadata": {},
     "output_type": "execute_result"
    }
   ],
   "source": [
    "clf_boston = GridSearchCV(knn, parameters, cv=kf, scoring='neg_mean_squared_error')\n",
    "clf_boston.fit(X_scaled,y)"
   ]
  },
  {
   "cell_type": "code",
   "execution_count": 152,
   "id": "2a2fed5d",
   "metadata": {
    "ExecuteTime": {
     "end_time": "2021-05-14T13:27:25.304779Z",
     "start_time": "2021-05-14T13:27:25.288752Z"
    }
   },
   "outputs": [
    {
     "data": {
      "text/plain": [
       "{'p': 1.0}"
      ]
     },
     "execution_count": 152,
     "metadata": {},
     "output_type": "execute_result"
    }
   ],
   "source": [
    "clf_boston.best_params_"
   ]
  }
 ],
 "metadata": {
  "kernelspec": {
   "display_name": "Python 3",
   "language": "python",
   "name": "python3"
  },
  "language_info": {
   "codemirror_mode": {
    "name": "ipython",
    "version": 3
   },
   "file_extension": ".py",
   "mimetype": "text/x-python",
   "name": "python",
   "nbconvert_exporter": "python",
   "pygments_lexer": "ipython3",
   "version": "3.7.10"
  },
  "toc": {
   "base_numbering": 1,
   "nav_menu": {},
   "number_sections": true,
   "sideBar": true,
   "skip_h1_title": false,
   "title_cell": "Table of Contents",
   "title_sidebar": "Contents",
   "toc_cell": false,
   "toc_position": {},
   "toc_section_display": true,
   "toc_window_display": false
  }
 },
 "nbformat": 4,
 "nbformat_minor": 5
}
