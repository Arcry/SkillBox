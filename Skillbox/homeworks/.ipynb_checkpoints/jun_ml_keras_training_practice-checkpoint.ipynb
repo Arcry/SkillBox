{
 "cells": [
  {
   "cell_type": "markdown",
   "metadata": {
    "id": "6kuM0Ad00gEi"
   },
   "source": [
    "# Практика по обучению моделей\n",
    "\n",
    "В этом практическом задании мы закрепим на практике как обучать модели в tensorflow на синтетических данных. В задачах ниже необходимо получить точность выше 90%. Советуем не сдаваться на этом -- везде реально получить 100%. А в последнем задании можно получить бонусные баллы за модель с минимальным количеством параметров."
   ]
  },
  {
   "cell_type": "code",
   "execution_count": 5,
   "metadata": {
    "ExecuteTime": {
     "end_time": "2021-05-12T13:23:53.239746Z",
     "start_time": "2021-05-12T13:23:53.228716Z"
    },
    "colab": {
     "base_uri": "https://localhost:8080/",
     "height": 35
    },
    "id": "q4nbSbaodI3M",
    "outputId": "80b66bbb-8aab-42d2-b709-44753f439717"
   },
   "outputs": [
    {
     "name": "stdout",
     "output_type": "stream",
     "text": [
      "1.14.0\n"
     ]
    }
   ],
   "source": [
    "import tensorflow as tf\n",
    "import numpy as np\n",
    "tf.enable_eager_execution()\n",
    "print(tf.__version__)"
   ]
  },
  {
   "cell_type": "code",
   "execution_count": 6,
   "metadata": {
    "ExecuteTime": {
     "end_time": "2021-05-12T13:23:53.754117Z",
     "start_time": "2021-05-12T13:23:53.715887Z"
    },
    "cellView": "form",
    "id": "ZHDLtJa_PyWk"
   },
   "outputs": [],
   "source": [
    "#@title\n",
    "import numpy as np\n",
    "import matplotlib.pyplot as plt\n",
    "import matplotlib.cm as cm\n",
    "from matplotlib.colors import ListedColormap, LinearSegmentedColormap, Normalize\n",
    "from sklearn.metrics import accuracy_score\n",
    "\n",
    "\n",
    "%matplotlib inline\n",
    "np.random.seed(10)\n",
    "\n",
    "colors = ['red', \"blue\"]\n",
    "labels_cmap = ListedColormap(colors, 2)\n",
    "colors = [(1, 0, 0), (1, 1, 1), (0, 0, 1)]  # R -> W -> B\n",
    "main_cmap = LinearSegmentedColormap.from_list(\"main_scheme\", colors, N=300)\n",
    "\n",
    "def show_data(X, y):\n",
    "    plt.figure(figsize=(5, 5))\n",
    "    plt.scatter(X[:, 0], X[:, 1], s=120, color=labels_cmap(y))\n",
    "    \n",
    "\n",
    "def show_descision_boundary(clf, limits, binary=False, X=None, y=None, n_lines=10, show_lines=False,\n",
    "                           figsize=(5, 5), ax=None):\n",
    "    if limits is None:\n",
    "        if X is not None:\n",
    "            xs = [X[:, 0].min() - .3, X[:, 0].max() + .3]\n",
    "            ys = [X[:, 1].min() - .3, X[:, 1].max() + .3]\n",
    "        else:\n",
    "            xs = [-1, 1]\n",
    "            ys = [-1, 1]\n",
    "    else:\n",
    "        xs, ys = limits\n",
    "    \n",
    "    x_min, x_max = xs\n",
    "    y_min, y_max = ys\n",
    "    \n",
    "    xx, yy = np.meshgrid(np.arange(x_min, x_max, 0.01),\n",
    "                         np.arange(y_min, y_max, 0.01))\n",
    "    \n",
    "    if ax is None:\n",
    "        fig = plt.figure(figsize=figsize)\n",
    "        ax = fig.add_subplot(1, 1, 1)\n",
    "    \n",
    "    if binary:\n",
    "        Z = clf.predict(np.c_[xx.ravel(), xx.ravel()])\n",
    "        Z = clf.predict(np.c_[xx.ravel(), yy.ravel()])\n",
    "        norm = Normalize(vmin=0.,vmax=1.)\n",
    "    else:\n",
    "        Z = clf(np.c_[xx.ravel(), xx.ravel()])\n",
    "        Z = clf(np.c_[xx.ravel(), yy.ravel()])\n",
    "        #if clf.prob_output:\n",
    "        #    norm = Normalize(vmin=0.,vmax=1.)\n",
    "        #else:\n",
    "        norm = Normalize(vmin=-10.,vmax=10., clip=True)\n",
    "        Z = Z.numpy() \n",
    "    \n",
    "    Z = Z.reshape(xx.shape)\n",
    "    Z = Z.astype(np.float32)\n",
    "    \n",
    "    ax.contourf(xx, yy, Z, n_lines, alpha=0.4, cmap=main_cmap, norm=norm)\n",
    "    if show_lines:\n",
    "        cp = ax.contour(xx, yy, Z, n_lines)\n",
    "        ax.clabel(cp, inline=True, \n",
    "              fontsize=10, colors=\"green\")\n",
    "    \n",
    "    if y is not None:\n",
    "        X = np.array(X)\n",
    "        y = np.array(y)\n",
    "        ax.scatter(X[:, 0], X[:, 1], s=120, color=labels_cmap(y),\n",
    "                   zorder=4)\n",
    "        \n",
    "\n",
    "def eval_model(model, X, y):\n",
    "    accuracy = model.evaluate(X, y)[1]\n",
    "    if accuracy == 1.0:\n",
    "        print(\"Perfect!\")\n",
    "    elif  accuracy > 0.9:\n",
    "        print(\"Well done! Can you make 100%?\")\n",
    "    else:\n",
    "        print(\"Don't give up!\")\n",
    "    return accuracy"
   ]
  },
  {
   "cell_type": "code",
   "execution_count": 7,
   "metadata": {
    "ExecuteTime": {
     "end_time": "2021-05-12T13:23:54.746612Z",
     "start_time": "2021-05-12T13:23:54.731613Z"
    }
   },
   "outputs": [],
   "source": [
    "from tensorflow.keras.layers import Dense"
   ]
  },
  {
   "cell_type": "markdown",
   "metadata": {
    "id": "4Io7wFhHgdXU"
   },
   "source": [
    "**1a**. Начнем с классической задачи -- XOR."
   ]
  },
  {
   "cell_type": "code",
   "execution_count": 8,
   "metadata": {
    "ExecuteTime": {
     "end_time": "2021-05-12T13:23:56.537462Z",
     "start_time": "2021-05-12T13:23:56.508486Z"
    },
    "colab": {
     "base_uri": "https://localhost:8080/",
     "height": 323
    },
    "id": "1MUslBwSPy1y",
    "outputId": "4339b2b9-e865-4646-bf9b-933d6df3e201"
   },
   "outputs": [
    {
     "ename": "IndexError",
     "evalue": "boolean index did not match indexed array along dimension 0; dimension is 5 but corresponding boolean dimension is 200",
     "output_type": "error",
     "traceback": [
      "\u001b[1;31m---------------------------------------------------------------------------\u001b[0m",
      "\u001b[1;31mIndexError\u001b[0m                                Traceback (most recent call last)",
      "\u001b[1;32m<ipython-input-8-65ea732d06f9>\u001b[0m in \u001b[0;36m<module>\u001b[1;34m\u001b[0m\n\u001b[0;32m      2\u001b[0m \u001b[0my\u001b[0m \u001b[1;33m=\u001b[0m \u001b[1;33m(\u001b[0m\u001b[1;33m(\u001b[0m\u001b[0mX\u001b[0m\u001b[1;33m[\u001b[0m\u001b[1;33m:\u001b[0m\u001b[1;33m,\u001b[0m \u001b[1;36m0\u001b[0m\u001b[1;33m]\u001b[0m \u001b[1;33m<\u001b[0m \u001b[1;36m0\u001b[0m\u001b[1;33m)\u001b[0m \u001b[1;33m^\u001b[0m \u001b[1;33m(\u001b[0m\u001b[0mX\u001b[0m\u001b[1;33m[\u001b[0m\u001b[1;33m:\u001b[0m\u001b[1;33m,\u001b[0m \u001b[1;36m1\u001b[0m\u001b[1;33m]\u001b[0m \u001b[1;33m<\u001b[0m \u001b[1;36m0\u001b[0m\u001b[1;33m)\u001b[0m\u001b[1;33m)\u001b[0m\u001b[1;33m\u001b[0m\u001b[1;33m\u001b[0m\u001b[0m\n\u001b[0;32m      3\u001b[0m \u001b[0mX\u001b[0m \u001b[1;33m=\u001b[0m \u001b[0mX\u001b[0m\u001b[1;33m*\u001b[0m\u001b[1;36m2\u001b[0m\u001b[1;33m\u001b[0m\u001b[1;33m\u001b[0m\u001b[0m\n\u001b[1;32m----> 4\u001b[1;33m \u001b[0mshow_data\u001b[0m\u001b[1;33m(\u001b[0m\u001b[0mX\u001b[0m\u001b[1;33m,\u001b[0m \u001b[0my\u001b[0m\u001b[1;33m)\u001b[0m\u001b[1;33m\u001b[0m\u001b[1;33m\u001b[0m\u001b[0m\n\u001b[0m",
      "\u001b[1;32m<ipython-input-6-945b9d38f625>\u001b[0m in \u001b[0;36mshow_data\u001b[1;34m(X, y)\u001b[0m\n\u001b[0;32m     17\u001b[0m \u001b[1;32mdef\u001b[0m \u001b[0mshow_data\u001b[0m\u001b[1;33m(\u001b[0m\u001b[0mX\u001b[0m\u001b[1;33m,\u001b[0m \u001b[0my\u001b[0m\u001b[1;33m)\u001b[0m\u001b[1;33m:\u001b[0m\u001b[1;33m\u001b[0m\u001b[1;33m\u001b[0m\u001b[0m\n\u001b[0;32m     18\u001b[0m     \u001b[0mplt\u001b[0m\u001b[1;33m.\u001b[0m\u001b[0mfigure\u001b[0m\u001b[1;33m(\u001b[0m\u001b[0mfigsize\u001b[0m\u001b[1;33m=\u001b[0m\u001b[1;33m(\u001b[0m\u001b[1;36m5\u001b[0m\u001b[1;33m,\u001b[0m \u001b[1;36m5\u001b[0m\u001b[1;33m)\u001b[0m\u001b[1;33m)\u001b[0m\u001b[1;33m\u001b[0m\u001b[1;33m\u001b[0m\u001b[0m\n\u001b[1;32m---> 19\u001b[1;33m     \u001b[0mplt\u001b[0m\u001b[1;33m.\u001b[0m\u001b[0mscatter\u001b[0m\u001b[1;33m(\u001b[0m\u001b[0mX\u001b[0m\u001b[1;33m[\u001b[0m\u001b[1;33m:\u001b[0m\u001b[1;33m,\u001b[0m \u001b[1;36m0\u001b[0m\u001b[1;33m]\u001b[0m\u001b[1;33m,\u001b[0m \u001b[0mX\u001b[0m\u001b[1;33m[\u001b[0m\u001b[1;33m:\u001b[0m\u001b[1;33m,\u001b[0m \u001b[1;36m1\u001b[0m\u001b[1;33m]\u001b[0m\u001b[1;33m,\u001b[0m \u001b[0ms\u001b[0m\u001b[1;33m=\u001b[0m\u001b[1;36m120\u001b[0m\u001b[1;33m,\u001b[0m \u001b[0mcolor\u001b[0m\u001b[1;33m=\u001b[0m\u001b[0mlabels_cmap\u001b[0m\u001b[1;33m(\u001b[0m\u001b[0my\u001b[0m\u001b[1;33m)\u001b[0m\u001b[1;33m)\u001b[0m\u001b[1;33m\u001b[0m\u001b[1;33m\u001b[0m\u001b[0m\n\u001b[0m\u001b[0;32m     20\u001b[0m \u001b[1;33m\u001b[0m\u001b[0m\n\u001b[0;32m     21\u001b[0m \u001b[1;33m\u001b[0m\u001b[0m\n",
      "\u001b[1;32mc:\\users\\arcry\\anaconda3\\envs\\myenv\\lib\\site-packages\\matplotlib\\colors.py\u001b[0m in \u001b[0;36m__call__\u001b[1;34m(self, X, alpha, bytes)\u001b[0m\n\u001b[0;32m    608\u001b[0m                 \u001b[1;31m# override its alpha just as for any other value.\u001b[0m\u001b[1;33m\u001b[0m\u001b[1;33m\u001b[0m\u001b[1;33m\u001b[0m\u001b[0m\n\u001b[0;32m    609\u001b[0m \u001b[1;33m\u001b[0m\u001b[0m\n\u001b[1;32m--> 610\u001b[1;33m         \u001b[0mrgba\u001b[0m \u001b[1;33m=\u001b[0m \u001b[0mlut\u001b[0m\u001b[1;33m[\u001b[0m\u001b[0mxa\u001b[0m\u001b[1;33m]\u001b[0m\u001b[1;33m\u001b[0m\u001b[1;33m\u001b[0m\u001b[0m\n\u001b[0m\u001b[0;32m    611\u001b[0m         \u001b[1;32mif\u001b[0m \u001b[1;32mnot\u001b[0m \u001b[0mnp\u001b[0m\u001b[1;33m.\u001b[0m\u001b[0miterable\u001b[0m\u001b[1;33m(\u001b[0m\u001b[0mX\u001b[0m\u001b[1;33m)\u001b[0m\u001b[1;33m:\u001b[0m\u001b[1;33m\u001b[0m\u001b[1;33m\u001b[0m\u001b[0m\n\u001b[0;32m    612\u001b[0m             \u001b[1;31m# Return a tuple if the input was a scalar\u001b[0m\u001b[1;33m\u001b[0m\u001b[1;33m\u001b[0m\u001b[1;33m\u001b[0m\u001b[0m\n",
      "\u001b[1;31mIndexError\u001b[0m: boolean index did not match indexed array along dimension 0; dimension is 5 but corresponding boolean dimension is 200"
     ]
    },
    {
     "data": {
      "text/plain": [
       "<Figure size 360x360 with 0 Axes>"
      ]
     },
     "metadata": {},
     "output_type": "display_data"
    }
   ],
   "source": [
    "X = np.random.rand(200, 2) - 0.5\n",
    "y = ((X[:, 0] < 0) ^ (X[:, 1] < 0))\n",
    "X = X*2\n",
    "show_data(X, y)"
   ]
  },
  {
   "cell_type": "code",
   "execution_count": null,
   "metadata": {
    "id": "sEs6b7mlQg5d"
   },
   "outputs": [],
   "source": [
    "model = tf.keras.Sequential()\n",
    "# <YOUR CODE STARTS HERE>\n",
    "# 1. добавьте скрытые слои в модель (в первом из них не забудьте про input_shape)\n",
    "#    ~3 скрытых слоев достаточно\n",
    "# 2. добавьте выходной слой он должен быть без активации\n",
    "# 3. определите оптимизатор \n",
    "# 4. определите лосс (не забудьте указать from_logits=True!!) \n",
    "\n",
    "\n",
    "\n",
    "\n",
    "\n",
    "\n",
    "\n",
    "# <YOUR CODE ENDS HERE>\n",
    "\n",
    "model.compile(optimizer=optimizer, loss=loss, metrics=[\"accuracy\"]) \n",
    "history = model.fit(X, y, epochs=200, verbose=1, batch_size=64, shuffle=True)"
   ]
  },
  {
   "cell_type": "code",
   "execution_count": null,
   "metadata": {
    "id": "P8VXug0TRKl1"
   },
   "outputs": [],
   "source": [
    "limits = [[-0.6, 0.6], [-0.6, 0.6]]\n",
    "eval_model(model, X, y)\n",
    "show_descision_boundary(limits=None, clf=model, binary=False,\n",
    "                                X=X,\n",
    "                                y=y, \n",
    "                                n_lines=50,\n",
    "                                show_lines=False)"
   ]
  },
  {
   "cell_type": "markdown",
   "metadata": {
    "id": "WgU9ZW5vo8NS"
   },
   "source": [
    "**1b**"
   ]
  },
  {
   "cell_type": "code",
   "execution_count": null,
   "metadata": {
    "colab": {
     "base_uri": "https://localhost:8080/",
     "height": 323
    },
    "id": "EDC9kIa6b0KN",
    "outputId": "b76f9848-3bad-41dc-eb90-a9c7e3d7b2b4"
   },
   "outputs": [
    {
     "data": {
      "image/png": "[encoded data removed]",
      "text/plain": [
       "<Figure size 360x360 with 1 Axes>"
      ]
     },
     "metadata": {
      "tags": []
     },
     "output_type": "display_data"
    }
   ],
   "source": [
    "from sklearn.datasets import make_moons\n",
    "\n",
    "X, y = make_moons(noise=0.04)\n",
    "show_data(X, y)"
   ]
  },
  {
   "cell_type": "code",
   "execution_count": null,
   "metadata": {
    "id": "OvRCmDeqS87n"
   },
   "outputs": [],
   "source": [
    "model = tf.keras.Sequential()\n",
    "# <YOUR CODE STARTS HERE>\n",
    "# 1. добавьте скрытые слои в модель (в первом из них не забудьте про input_shape)\n",
    "#    ~3 скрытых слоев достаточно\n",
    "# 2. добавьте выходной слой он должен быть без активации\n",
    "# 3. определите оптимизатор \n",
    "# 4. определите лосс (не забудьте указать from_logits=True!!) \n",
    "\n",
    "\n",
    "\n",
    "\n",
    "\n",
    "\n",
    "\n",
    "\n",
    "\n",
    "# <YOUR CODE ENDS HERE>\n",
    "\n",
    "model.compile(optimizer=optimizer, loss=loss, metrics=[\"accuracy\"]) \n",
    "history = model.fit(X, y, epochs=200, verbose=1, batch_size=64, shuffle=True)"
   ]
  },
  {
   "cell_type": "code",
   "execution_count": null,
   "metadata": {
    "id": "a4IYwbm-jIbI"
   },
   "outputs": [],
   "source": [
    "eval_model(model, X, y)\n",
    "show_descision_boundary(limits=None, clf=model, binary=False,\n",
    "                                X=X,\n",
    "                                y=y, \n",
    "                                n_lines=50,\n",
    "                                show_lines=False)"
   ]
  },
  {
   "cell_type": "markdown",
   "metadata": {
    "id": "aT83SJ8lpFzw"
   },
   "source": [
    "**1c**"
   ]
  },
  {
   "cell_type": "code",
   "execution_count": null,
   "metadata": {
    "colab": {
     "base_uri": "https://localhost:8080/",
     "height": 323
    },
    "id": "GQujffe6jXRo",
    "outputId": "242b035b-88fa-486a-dfbe-314cc257a546"
   },
   "outputs": [
    {
     "data": {
      "image/png": "[encoded data removed]",
      "text/plain": [
       "<Figure size 360x360 with 1 Axes>"
      ]
     },
     "metadata": {
      "tags": []
     },
     "output_type": "display_data"
    }
   ],
   "source": [
    "from sklearn.datasets import make_circles\n",
    "\n",
    "X, y = make_circles(factor=0.5, noise=0.05)\n",
    "show_data(X, y)"
   ]
  },
  {
   "cell_type": "code",
   "execution_count": null,
   "metadata": {
    "id": "ThMesjHJkIkY"
   },
   "outputs": [],
   "source": [
    "model = tf.keras.Sequential()\n",
    "# <YOUR CODE STARTS HERE>\n",
    "# 1. добавьте скрытые слои в модель (в первом из них не забудьте про input_shape)\n",
    "#    Постарайтесь сделать количество слоев и нейронов минимальным.\n",
    "# 2. добавьте выходной слой он должен быть без активации\n",
    "# 3. определите оптимизатор \n",
    "# 4. определите лосс (не забудьте указать from_logits=True!!) \n",
    "\n",
    "\n",
    "\n",
    "\n",
    "\n",
    "\n",
    "\n",
    "\n",
    "# <YOUR CODE ENDS HERE>\n",
    "\n",
    "model.compile(optimizer=optimizer, loss=loss, metrics=[\"accuracy\"]) \n",
    "history = model.fit(X, y, epochs=200, verbose=1, batch_size=64, shuffle=True)"
   ]
  },
  {
   "cell_type": "code",
   "execution_count": null,
   "metadata": {
    "id": "YOXDdx84kMkJ"
   },
   "outputs": [],
   "source": [
    "accuracy = eval_model(model, X, y)\n",
    "if model.count_params() < 18 and accuracy == 1.0:\n",
    "    print(\"Bonus points!\")\n",
    "else:\n",
    "    print(f\"Model has {model.count_params()} parameters\")\n",
    "\n",
    "show_descision_boundary(limits=None, clf=model, binary=False,\n",
    "                                X=X,\n",
    "                                y=y, \n",
    "                                n_lines=50,\n",
    "                                show_lines=False)"
   ]
  }
 ],
 "metadata": {
  "colab": {
   "collapsed_sections": [],
   "name": "keras_training_practice.ipynb",
   "provenance": []
  },
  "kernelspec": {
   "display_name": "Python 3",
   "language": "python",
   "name": "python3"
  },
  "language_info": {
   "codemirror_mode": {
    "name": "ipython",
    "version": 3
   },
   "file_extension": ".py",
   "mimetype": "text/x-python",
   "name": "python",
   "nbconvert_exporter": "python",
   "pygments_lexer": "ipython3",
   "version": "3.7.10"
  },
  "toc": {
   "base_numbering": 1,
   "nav_menu": {},
   "number_sections": true,
   "sideBar": true,
   "skip_h1_title": false,
   "title_cell": "Table of Contents",
   "title_sidebar": "Contents",
   "toc_cell": false,
   "toc_position": {},
   "toc_section_display": true,
   "toc_window_display": false
  }
 },
 "nbformat": 4,
 "nbformat_minor": 1
}
