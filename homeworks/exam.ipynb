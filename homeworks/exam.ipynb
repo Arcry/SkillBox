{
  "nbformat": 4,
  "nbformat_minor": 0,
  "metadata": {
    "colab": {
      "name": "exam.ipynb",
      "provenance": [],
      "collapsed_sections": [
        "1wTXQGb8fhpH",
        "UmIR_gpOfhpR",
        "Gz4hWV3cfhpa",
        "tfgx2MQofhpk",
        "E8j9vHa2fhpt",
        "j9WFSD15fhp1",
        "xkDFtXxLfhp-",
        "0zs9ntOGfhqI",
        "3SFNrkb-fhqQ",
        "U-uH-V9BfhqZ",
        "eHIxsT_Mfhqf",
        "LDLweA0Yfhqj",
        "rzpArrmkfhqq",
        "jlX_adwbfhqw",
        "k7b_70CIfhq2",
        "UyC1iE0nfhq5",
        "2ujHtufofhq8",
        "fiV0QEWJfhrA"
      ]
    },
    "kernelspec": {
      "display_name": "Python 3",
      "language": "python",
      "name": "python3"
    },
    "language_info": {
      "codemirror_mode": {
        "name": "ipython",
        "version": 3
      },
      "file_extension": ".py",
      "mimetype": "text/x-python",
      "name": "python",
      "nbconvert_exporter": "python",
      "pygments_lexer": "ipython3",
      "version": "3.8.5"
    }
  },
  "cells": [
    {
      "cell_type": "code",
      "metadata": {
        "id": "3dg5NLUhlA7j"
      },
      "source": [
        ""
      ],
      "execution_count": 7,
      "outputs": []
    },
    {
      "cell_type": "code",
      "metadata": {
        "id": "1aQpimg8k84N"
      },
      "source": [
        ""
      ],
      "execution_count": 7,
      "outputs": []
    },
    {
      "cell_type": "markdown",
      "metadata": {
        "id": "qRuC9TWzfhnx"
      },
      "source": [
        "# Экзамен по курсу \"Аналитика данных на Python\""
      ]
    },
    {
      "cell_type": "markdown",
      "metadata": {
        "id": "QvAhR3txfhn1"
      },
      "source": [
        "Этот тест проверит Ваши навыки работы с таблицами данных с помощью библиотек pandas и numpy. Задания делятся на простые (⭐️), средние (⭐️⭐️) и сложные (⭐️⭐️⭐️). Решение простых заданий, как правило, требует одной-двух операций с таблицами, тогда как для более сложных может потребоваться несколько последовательных преобразований данных."
      ]
    },
    {
      "cell_type": "markdown",
      "metadata": {
        "id": "Frn9LjCFfhn6"
      },
      "source": [
        "##  Предыстория"
      ]
    },
    {
      "cell_type": "markdown",
      "metadata": {
        "id": "fQ1HxL0Wfhn-"
      },
      "source": [
        "Сегодня Ваш первый день работы в крупном интернет-магазине, который продаёт товары с доставкой по всему миру. Ваша первая задача – проанализировать базу данных покупок, совершённых в магазине за последние несколько лет. База содержит информацию об отдельных транзакциях, про каждую из которых известны номер инвойса (InvoiceNo), дата инвойса(InvoiceDate), код товара (StockCode), описание товара(Description), количество товара в транзакции (Quantity), стоимость единицы товара (UnitPrice), код покупателя (CustomerID), страна покупателя (Country).\n",
        "\n",
        "База выгружена для Вас в формате CSV: файл [```online-retail.csv```](https://drive.google.com/file/d/1O1oJtpEu-u6s6xTu7seQfnNcQjYCt0GF/view?usp=sharing)"
      ]
    },
    {
      "cell_type": "code",
      "metadata": {
        "id": "rueTavqpfhoB"
      },
      "source": [
        "import numpy as np\n",
        "import pandas as pd\n",
        "import matplotlib.pyplot as plt"
      ],
      "execution_count": 8,
      "outputs": []
    },
    {
      "cell_type": "markdown",
      "metadata": {
        "id": "_And5NHkfhoU"
      },
      "source": [
        "## ⭐️ Вопрос 1\n",
        "\n",
        "Загрузите данные из файла online-retail.csv в переменную типа pandas DataFrame\n",
        "\n",
        "Подсказка: Используйте функцию из библиотеки pandas\n",
        "\n",
        "Какой символ-разделитель используется в этом файле?\n",
        "\n",
        "* Запятая \",\"\n",
        "* Двоеточие \":\"\n",
        "* Точка с запятой \";\"\n",
        "* Символ табуляции \"tab\""
      ]
    },
    {
      "cell_type": "markdown",
      "metadata": {
        "id": "l_C6GGXmfhoW"
      },
      "source": [
        "#### Решение"
      ]
    },
    {
      "cell_type": "code",
      "metadata": {
        "colab": {
          "base_uri": "https://localhost:8080/"
        },
        "id": "25VOUt3txCLP",
        "outputId": "a25cc5ef-1225-4c35-d52a-65b8612b648b"
      },
      "source": [
        "from google.colab import drive\r\n",
        "drive.mount('/content/drive')"
      ],
      "execution_count": 9,
      "outputs": [
        {
          "output_type": "stream",
          "text": [
            "Drive already mounted at /content/drive; to attempt to forcibly remount, call drive.mount(\"/content/drive\", force_remount=True).\n"
          ],
          "name": "stdout"
        }
      ]
    },
    {
      "cell_type": "code",
      "metadata": {
        "id": "zabS9-nPfhoZ"
      },
      "source": [
        "#df = pd.read_csv('/Users/Arcry/SkillBox/files/online-retail.csv', sep=';', parse_dates=['InvoiceDate'], dayfirst=True)\n",
        "df = pd.read_csv('/content/drive/MyDrive/SkillBox/online-retail.csv', sep=';', parse_dates=['InvoiceDate'], dayfirst=True)"
      ],
      "execution_count": 10,
      "outputs": []
    },
    {
      "cell_type": "code",
      "metadata": {
        "id": "bECGrxYirqrR"
      },
      "source": [
        "# sep=';'"
      ],
      "execution_count": 11,
      "outputs": []
    },
    {
      "cell_type": "markdown",
      "metadata": {
        "id": "zoiRAf7Yfhon"
      },
      "source": [
        "## ⭐️ Вопрос 2\n",
        "\n",
        "Сколько строк в полученной таблице (не считая заголовков столбцов)?"
      ]
    },
    {
      "cell_type": "markdown",
      "metadata": {
        "id": "aWFyZcI9fhop"
      },
      "source": [
        "#### Решение"
      ]
    },
    {
      "cell_type": "code",
      "metadata": {
        "id": "q86b9euEfhos",
        "colab": {
          "base_uri": "https://localhost:8080/"
        },
        "outputId": "448952ad-17f0-4474-97c9-a81a6d010807"
      },
      "source": [
        "len(df.index)"
      ],
      "execution_count": 12,
      "outputs": [
        {
          "output_type": "execute_result",
          "data": {
            "text/plain": [
              "541911"
            ]
          },
          "metadata": {
            "tags": []
          },
          "execution_count": 12
        }
      ]
    },
    {
      "cell_type": "markdown",
      "metadata": {
        "id": "iqElS4zqfho1"
      },
      "source": [
        "## ⭐️ Вопрос 3\n",
        "\n",
        "Сколько столбцов в полученной таблице (не считая индекса)?"
      ]
    },
    {
      "cell_type": "markdown",
      "metadata": {
        "id": "HmYnaf2afho4"
      },
      "source": [
        "#### Решение"
      ]
    },
    {
      "cell_type": "code",
      "metadata": {
        "id": "8ko0tmeNfho7",
        "colab": {
          "base_uri": "https://localhost:8080/"
        },
        "outputId": "0b387961-3423-4c44-8c49-806c725ed0cf"
      },
      "source": [
        "len(df.columns)"
      ],
      "execution_count": 13,
      "outputs": [
        {
          "output_type": "execute_result",
          "data": {
            "text/plain": [
              "8"
            ]
          },
          "metadata": {
            "tags": []
          },
          "execution_count": 13
        }
      ]
    },
    {
      "cell_type": "markdown",
      "metadata": {
        "id": "YetDAhQzfhpF"
      },
      "source": [
        "## ⭐️ Вопрос 4\n",
        "\n",
        "Как называется столбец с самым коротким названием?"
      ]
    },
    {
      "cell_type": "markdown",
      "metadata": {
        "id": "1wTXQGb8fhpH"
      },
      "source": [
        "#### Решение"
      ]
    },
    {
      "cell_type": "code",
      "metadata": {
        "id": "q3Sim0vXfhpJ",
        "colab": {
          "base_uri": "https://localhost:8080/",
          "height": 35
        },
        "outputId": "7b5dc6ea-dcef-48d5-e358-178899c4c9af"
      },
      "source": [
        "min(df.columns)"
      ],
      "execution_count": 14,
      "outputs": [
        {
          "output_type": "execute_result",
          "data": {
            "application/vnd.google.colaboratory.intrinsic+json": {
              "type": "string"
            },
            "text/plain": [
              "'Country'"
            ]
          },
          "metadata": {
            "tags": []
          },
          "execution_count": 14
        }
      ]
    },
    {
      "cell_type": "markdown",
      "metadata": {
        "id": "qb7eYBMIfhpQ"
      },
      "source": [
        "## ⭐️ Вопрос 5\n",
        "\n",
        "В скольких столбцах встречаются пропущенные значения? (ответ - целое число)"
      ]
    },
    {
      "cell_type": "markdown",
      "metadata": {
        "id": "UmIR_gpOfhpR"
      },
      "source": [
        "#### Решение"
      ]
    },
    {
      "cell_type": "code",
      "metadata": {
        "id": "rUPuUnUOfhpS",
        "colab": {
          "base_uri": "https://localhost:8080/"
        },
        "outputId": "665317aa-485e-4bf4-cbf6-569439b93ae5"
      },
      "source": [
        "df.isna().sum()"
      ],
      "execution_count": 15,
      "outputs": [
        {
          "output_type": "execute_result",
          "data": {
            "text/plain": [
              "InvoiceNo           0\n",
              "StockCode           0\n",
              "Description      1455\n",
              "Quantity            0\n",
              "InvoiceDate         0\n",
              "UnitPrice           0\n",
              "CustomerID     135080\n",
              "Country             0\n",
              "dtype: int64"
            ]
          },
          "metadata": {
            "tags": []
          },
          "execution_count": 15
        }
      ]
    },
    {
      "cell_type": "code",
      "metadata": {
        "id": "Ck8-fVgHrqrX"
      },
      "source": [
        "#2"
      ],
      "execution_count": 16,
      "outputs": []
    },
    {
      "cell_type": "markdown",
      "metadata": {
        "id": "1vTefL-QfhpY"
      },
      "source": [
        "## ⭐️ Вопрос 6\n",
        "\n",
        "Сколько пропущенных значений в столбце CustomerID? (ответ - целое число)"
      ]
    },
    {
      "cell_type": "markdown",
      "metadata": {
        "id": "Gz4hWV3cfhpa"
      },
      "source": [
        "#### Решение"
      ]
    },
    {
      "cell_type": "code",
      "metadata": {
        "id": "yc2USQa2fhpb",
        "colab": {
          "base_uri": "https://localhost:8080/"
        },
        "outputId": "d83c285f-3e04-4b31-8f52-85eb444ac0f3"
      },
      "source": [
        "df['CustomerID'].isna().sum()"
      ],
      "execution_count": 17,
      "outputs": [
        {
          "output_type": "execute_result",
          "data": {
            "text/plain": [
              "135080"
            ]
          },
          "metadata": {
            "tags": []
          },
          "execution_count": 17
        }
      ]
    },
    {
      "cell_type": "markdown",
      "metadata": {
        "id": "R8z3h8U-fhpj"
      },
      "source": [
        "## ⭐️⭐️ Вопрос 7\n",
        "\n",
        "Посмотрим, данные за какой исторический период у нас есть. \n",
        "\n",
        "Данные за какой самый ранний и за какой самый поздний годы содержатся в датасете? В ответе укажите два целых числа через запятую."
      ]
    },
    {
      "cell_type": "markdown",
      "metadata": {
        "id": "tfgx2MQofhpk"
      },
      "source": [
        "#### Решение"
      ]
    },
    {
      "cell_type": "code",
      "metadata": {
        "id": "tSDJk8Amfhpl",
        "colab": {
          "base_uri": "https://localhost:8080/"
        },
        "outputId": "07c551f1-884c-426b-f9e8-47eb8254ba46"
      },
      "source": [
        "pd.DatetimeIndex(df['InvoiceDate']).year.min()"
      ],
      "execution_count": 18,
      "outputs": [
        {
          "output_type": "execute_result",
          "data": {
            "text/plain": [
              "2010"
            ]
          },
          "metadata": {
            "tags": []
          },
          "execution_count": 18
        }
      ]
    },
    {
      "cell_type": "code",
      "metadata": {
        "colab": {
          "base_uri": "https://localhost:8080/"
        },
        "id": "dPC34o1TrqrZ",
        "outputId": "181bf402-34ed-41cc-d007-f2c6b54d4df7"
      },
      "source": [
        "pd.DatetimeIndex(df['InvoiceDate']).year.max()"
      ],
      "execution_count": 19,
      "outputs": [
        {
          "output_type": "execute_result",
          "data": {
            "text/plain": [
              "2011"
            ]
          },
          "metadata": {
            "tags": []
          },
          "execution_count": 19
        }
      ]
    },
    {
      "cell_type": "markdown",
      "metadata": {
        "id": "INuGGvCZfhps"
      },
      "source": [
        "## ⭐️ Вопрос 8\n",
        "\n",
        "Каковы минимальная и максимальная цена товаров (UnitPrice)? Перечислите через запятую. Цена в этом задании может принимать отрицательные значения."
      ]
    },
    {
      "cell_type": "markdown",
      "metadata": {
        "id": "E8j9vHa2fhpt"
      },
      "source": [
        "#### Решение"
      ]
    },
    {
      "cell_type": "code",
      "metadata": {
        "id": "PTFRTpAXfhpu",
        "colab": {
          "base_uri": "https://localhost:8080/"
        },
        "outputId": "a83cf367-c5a8-4527-c292-e2fc565d303e"
      },
      "source": [
        "df['UnitPrice'].min()"
      ],
      "execution_count": 20,
      "outputs": [
        {
          "output_type": "execute_result",
          "data": {
            "text/plain": [
              "-11062.06"
            ]
          },
          "metadata": {
            "tags": []
          },
          "execution_count": 20
        }
      ]
    },
    {
      "cell_type": "code",
      "metadata": {
        "colab": {
          "base_uri": "https://localhost:8080/"
        },
        "id": "i7PFUk1Irqra",
        "outputId": "4667849d-40bb-46a2-821c-e11fb304547e"
      },
      "source": [
        "df['UnitPrice'].max()"
      ],
      "execution_count": 21,
      "outputs": [
        {
          "output_type": "execute_result",
          "data": {
            "text/plain": [
              "38970.0"
            ]
          },
          "metadata": {
            "tags": []
          },
          "execution_count": 21
        }
      ]
    },
    {
      "cell_type": "markdown",
      "metadata": {
        "id": "20rRayIcfhp0"
      },
      "source": [
        "## ⭐️ Вопрос 9\n",
        "\n",
        "В таблице оказались товары с отрицательными ценами! Это явно какая-то ошибка. Какое описание (Description) у таких транзакций? Перечислите все варианты через запятую, отсортировав строки по алфавиту."
      ]
    },
    {
      "cell_type": "markdown",
      "metadata": {
        "id": "j9WFSD15fhp1"
      },
      "source": [
        "#### Решение"
      ]
    },
    {
      "cell_type": "code",
      "metadata": {
        "id": "Vta8JNHKfhp3",
        "colab": {
          "base_uri": "https://localhost:8080/",
          "height": 111
        },
        "outputId": "e5153524-7277-4531-f858-977de85d0448"
      },
      "source": [
        "df[df['UnitPrice'] < 0]"
      ],
      "execution_count": 22,
      "outputs": [
        {
          "output_type": "execute_result",
          "data": {
            "text/html": [
              "<div>\n",
              "<style scoped>\n",
              "    .dataframe tbody tr th:only-of-type {\n",
              "        vertical-align: middle;\n",
              "    }\n",
              "\n",
              "    .dataframe tbody tr th {\n",
              "        vertical-align: top;\n",
              "    }\n",
              "\n",
              "    .dataframe thead th {\n",
              "        text-align: right;\n",
              "    }\n",
              "</style>\n",
              "<table border=\"1\" class=\"dataframe\">\n",
              "  <thead>\n",
              "    <tr style=\"text-align: right;\">\n",
              "      <th></th>\n",
              "      <th>InvoiceNo</th>\n",
              "      <th>StockCode</th>\n",
              "      <th>Description</th>\n",
              "      <th>Quantity</th>\n",
              "      <th>InvoiceDate</th>\n",
              "      <th>UnitPrice</th>\n",
              "      <th>CustomerID</th>\n",
              "      <th>Country</th>\n",
              "    </tr>\n",
              "  </thead>\n",
              "  <tbody>\n",
              "    <tr>\n",
              "      <th>299983</th>\n",
              "      <td>A563186</td>\n",
              "      <td>B</td>\n",
              "      <td>Adjust bad debt</td>\n",
              "      <td>1</td>\n",
              "      <td>2011-08-12 14:51:00</td>\n",
              "      <td>-11062.06</td>\n",
              "      <td>NaN</td>\n",
              "      <td>United Kingdom</td>\n",
              "    </tr>\n",
              "    <tr>\n",
              "      <th>299984</th>\n",
              "      <td>A563187</td>\n",
              "      <td>B</td>\n",
              "      <td>Adjust bad debt</td>\n",
              "      <td>1</td>\n",
              "      <td>2011-08-12 14:52:00</td>\n",
              "      <td>-11062.06</td>\n",
              "      <td>NaN</td>\n",
              "      <td>United Kingdom</td>\n",
              "    </tr>\n",
              "  </tbody>\n",
              "</table>\n",
              "</div>"
            ],
            "text/plain": [
              "       InvoiceNo StockCode  ... CustomerID         Country\n",
              "299983   A563186         B  ...        NaN  United Kingdom\n",
              "299984   A563187         B  ...        NaN  United Kingdom\n",
              "\n",
              "[2 rows x 8 columns]"
            ]
          },
          "metadata": {
            "tags": []
          },
          "execution_count": 22
        }
      ]
    },
    {
      "cell_type": "markdown",
      "metadata": {
        "id": "H1EJKLjAfhp9"
      },
      "source": [
        "## ⭐️ Вопрос 10\n",
        "\n",
        "Поищем ещё возможные проблемы с данными. Как насчёт товаров с нулевыми ценами? \n",
        "\n",
        "Сколько в таблице транзакций с нулевой ценой? А с пропусками на месте цены? \n",
        "\n",
        "Перечислите два целых числа через запятую."
      ]
    },
    {
      "cell_type": "markdown",
      "metadata": {
        "id": "xkDFtXxLfhp-"
      },
      "source": [
        "#### Решение"
      ]
    },
    {
      "cell_type": "code",
      "metadata": {
        "id": "_liV7v63fhp_",
        "colab": {
          "base_uri": "https://localhost:8080/"
        },
        "outputId": "9a51957b-0e65-4be0-f073-92b3b95543a6"
      },
      "source": [
        "df[df['UnitPrice'] == 0].index"
      ],
      "execution_count": 23,
      "outputs": [
        {
          "output_type": "execute_result",
          "data": {
            "text/plain": [
              "Int64Index([   622,   1970,   1971,   1972,   1987,   1988,   2024,   2025,\n",
              "              2026,   2406,\n",
              "            ...\n",
              "            535333, 535334, 535335, 535336, 536908, 536981, 538504, 538505,\n",
              "            538554, 538919],\n",
              "           dtype='int64', length=2515)"
            ]
          },
          "metadata": {
            "tags": []
          },
          "execution_count": 23
        }
      ]
    },
    {
      "cell_type": "code",
      "metadata": {
        "colab": {
          "base_uri": "https://localhost:8080/"
        },
        "id": "fQMndPkZrqrb",
        "outputId": "938ae3b0-9303-4088-c85b-f8b5a33784bf"
      },
      "source": [
        "df.isna().sum()"
      ],
      "execution_count": 24,
      "outputs": [
        {
          "output_type": "execute_result",
          "data": {
            "text/plain": [
              "InvoiceNo           0\n",
              "StockCode           0\n",
              "Description      1455\n",
              "Quantity            0\n",
              "InvoiceDate         0\n",
              "UnitPrice           0\n",
              "CustomerID     135080\n",
              "Country             0\n",
              "dtype: int64"
            ]
          },
          "metadata": {
            "tags": []
          },
          "execution_count": 24
        }
      ]
    },
    {
      "cell_type": "markdown",
      "metadata": {
        "id": "Q08_ueCWfhqH"
      },
      "source": [
        "## ⭐️⭐️ Вопрос 11\n",
        "\n",
        "Для дальнейшего анализа поведения покупателей нам понадобится набор данных, в которых у каждой транзакции корректно указана цена, количество единиц товара (Quantity) и id покупателя (CustomerID). Удалите из таблицы все строки, в которых цена не превосходит 0 или пропущена, или количество единиц товара не превосходит 0 или пропущено, или в которых пропущен id покупателя. \n",
        "\n",
        "Сколько строк осталось?"
      ]
    },
    {
      "cell_type": "markdown",
      "metadata": {
        "id": "0zs9ntOGfhqI"
      },
      "source": [
        "#### Решение"
      ]
    },
    {
      "cell_type": "code",
      "metadata": {
        "id": "46HTX2BJfhqJ"
      },
      "source": [
        "df_clean = df.dropna(subset=['CustomerID'])"
      ],
      "execution_count": 25,
      "outputs": []
    },
    {
      "cell_type": "code",
      "metadata": {
        "colab": {
          "base_uri": "https://localhost:8080/"
        },
        "id": "y3iTTAL2rqrc",
        "outputId": "5017a82a-bfd4-4b45-850a-472204d05026"
      },
      "source": [
        "df_clean.drop(df_clean[df_clean['Quantity']<0].index, inplace=True)"
      ],
      "execution_count": 26,
      "outputs": [
        {
          "output_type": "stream",
          "text": [
            "/usr/local/lib/python3.6/dist-packages/pandas/core/frame.py:4174: SettingWithCopyWarning: \n",
            "A value is trying to be set on a copy of a slice from a DataFrame\n",
            "\n",
            "See the caveats in the documentation: https://pandas.pydata.org/pandas-docs/stable/user_guide/indexing.html#returning-a-view-versus-a-copy\n",
            "  errors=errors,\n"
          ],
          "name": "stderr"
        }
      ]
    },
    {
      "cell_type": "code",
      "metadata": {
        "colab": {
          "base_uri": "https://localhost:8080/"
        },
        "id": "Yp_YoNFCrqrc",
        "outputId": "3d123412-f8e8-463d-8da2-d05f43098cce"
      },
      "source": [
        "df_clean.drop(df_clean[df_clean['UnitPrice']<0].index, inplace=True)"
      ],
      "execution_count": 27,
      "outputs": [
        {
          "output_type": "stream",
          "text": [
            "/usr/local/lib/python3.6/dist-packages/pandas/core/frame.py:4174: SettingWithCopyWarning: \n",
            "A value is trying to be set on a copy of a slice from a DataFrame\n",
            "\n",
            "See the caveats in the documentation: https://pandas.pydata.org/pandas-docs/stable/user_guide/indexing.html#returning-a-view-versus-a-copy\n",
            "  errors=errors,\n"
          ],
          "name": "stderr"
        }
      ]
    },
    {
      "cell_type": "code",
      "metadata": {
        "colab": {
          "base_uri": "https://localhost:8080/"
        },
        "id": "DqgQTFuRrqrd",
        "outputId": "7dc82a31-00f7-4bae-8307-04b620b4deac"
      },
      "source": [
        "len(df_clean.index)"
      ],
      "execution_count": 28,
      "outputs": [
        {
          "output_type": "execute_result",
          "data": {
            "text/plain": [
              "397926"
            ]
          },
          "metadata": {
            "tags": []
          },
          "execution_count": 28
        }
      ]
    },
    {
      "cell_type": "markdown",
      "metadata": {
        "id": "807cvilFfhqO"
      },
      "source": [
        "## Внимание! \n",
        "\n",
        "### Везде далее мы работаем с очищенной таблицей, полученной в Вопросе 11."
      ]
    },
    {
      "cell_type": "markdown",
      "metadata": {
        "id": "4dnjXB-qfhqP"
      },
      "source": [
        "## ⭐️⭐️ Вопрос 12\n",
        "\n",
        "В таблице для каждой транзакции указаны цена за единицу товара (UnitPrice) и количество единиц товара (Quantity). Вычислите для каждой транзакции её **полную стоимость** и сохраните в новом столбце Price, который добавьте в таблицу. \n",
        "\n",
        "Каковы минимальная и максимальная полная стоимость транзакций? Перечислите через запятую, округлив до целых чисел."
      ]
    },
    {
      "cell_type": "markdown",
      "metadata": {
        "id": "3SFNrkb-fhqQ"
      },
      "source": [
        "#### Решение"
      ]
    },
    {
      "cell_type": "code",
      "metadata": {
        "id": "iIIRF_p-fhqS",
        "colab": {
          "base_uri": "https://localhost:8080/"
        },
        "outputId": "98ab96a5-bac0-4635-ae50-a11fbbef8773"
      },
      "source": [
        "df_clean['Price'] = df_clean['UnitPrice']*df_clean['Quantity']"
      ],
      "execution_count": 29,
      "outputs": [
        {
          "output_type": "stream",
          "text": [
            "/usr/local/lib/python3.6/dist-packages/ipykernel_launcher.py:1: SettingWithCopyWarning: \n",
            "A value is trying to be set on a copy of a slice from a DataFrame.\n",
            "Try using .loc[row_indexer,col_indexer] = value instead\n",
            "\n",
            "See the caveats in the documentation: https://pandas.pydata.org/pandas-docs/stable/user_guide/indexing.html#returning-a-view-versus-a-copy\n",
            "  \"\"\"Entry point for launching an IPython kernel.\n"
          ],
          "name": "stderr"
        }
      ]
    },
    {
      "cell_type": "code",
      "metadata": {
        "colab": {
          "base_uri": "https://localhost:8080/",
          "height": 359
        },
        "id": "rkvs-0t_rqre",
        "outputId": "5524485a-e774-437c-d2a7-bb5d34f5804e"
      },
      "source": [
        "df_clean.head(10)"
      ],
      "execution_count": 30,
      "outputs": [
        {
          "output_type": "execute_result",
          "data": {
            "text/html": [
              "<div>\n",
              "<style scoped>\n",
              "    .dataframe tbody tr th:only-of-type {\n",
              "        vertical-align: middle;\n",
              "    }\n",
              "\n",
              "    .dataframe tbody tr th {\n",
              "        vertical-align: top;\n",
              "    }\n",
              "\n",
              "    .dataframe thead th {\n",
              "        text-align: right;\n",
              "    }\n",
              "</style>\n",
              "<table border=\"1\" class=\"dataframe\">\n",
              "  <thead>\n",
              "    <tr style=\"text-align: right;\">\n",
              "      <th></th>\n",
              "      <th>InvoiceNo</th>\n",
              "      <th>StockCode</th>\n",
              "      <th>Description</th>\n",
              "      <th>Quantity</th>\n",
              "      <th>InvoiceDate</th>\n",
              "      <th>UnitPrice</th>\n",
              "      <th>CustomerID</th>\n",
              "      <th>Country</th>\n",
              "      <th>Price</th>\n",
              "    </tr>\n",
              "  </thead>\n",
              "  <tbody>\n",
              "    <tr>\n",
              "      <th>0</th>\n",
              "      <td>536365</td>\n",
              "      <td>85123A</td>\n",
              "      <td>WHITE HANGING HEART T-LIGHT HOLDER</td>\n",
              "      <td>6</td>\n",
              "      <td>2010-12-01 08:26:00</td>\n",
              "      <td>2.55</td>\n",
              "      <td>17850.0</td>\n",
              "      <td>United Kingdom</td>\n",
              "      <td>15.30</td>\n",
              "    </tr>\n",
              "    <tr>\n",
              "      <th>1</th>\n",
              "      <td>536365</td>\n",
              "      <td>71053</td>\n",
              "      <td>WHITE METAL LANTERN</td>\n",
              "      <td>6</td>\n",
              "      <td>2010-12-01 08:26:00</td>\n",
              "      <td>3.39</td>\n",
              "      <td>17850.0</td>\n",
              "      <td>United Kingdom</td>\n",
              "      <td>20.34</td>\n",
              "    </tr>\n",
              "    <tr>\n",
              "      <th>2</th>\n",
              "      <td>536365</td>\n",
              "      <td>84406B</td>\n",
              "      <td>CREAM CUPID HEARTS COAT HANGER</td>\n",
              "      <td>8</td>\n",
              "      <td>2010-12-01 08:26:00</td>\n",
              "      <td>2.75</td>\n",
              "      <td>17850.0</td>\n",
              "      <td>United Kingdom</td>\n",
              "      <td>22.00</td>\n",
              "    </tr>\n",
              "    <tr>\n",
              "      <th>3</th>\n",
              "      <td>536365</td>\n",
              "      <td>84029G</td>\n",
              "      <td>KNITTED UNION FLAG HOT WATER BOTTLE</td>\n",
              "      <td>6</td>\n",
              "      <td>2010-12-01 08:26:00</td>\n",
              "      <td>3.39</td>\n",
              "      <td>17850.0</td>\n",
              "      <td>United Kingdom</td>\n",
              "      <td>20.34</td>\n",
              "    </tr>\n",
              "    <tr>\n",
              "      <th>4</th>\n",
              "      <td>536365</td>\n",
              "      <td>84029E</td>\n",
              "      <td>RED WOOLLY HOTTIE WHITE HEART.</td>\n",
              "      <td>6</td>\n",
              "      <td>2010-12-01 08:26:00</td>\n",
              "      <td>3.39</td>\n",
              "      <td>17850.0</td>\n",
              "      <td>United Kingdom</td>\n",
              "      <td>20.34</td>\n",
              "    </tr>\n",
              "    <tr>\n",
              "      <th>5</th>\n",
              "      <td>536365</td>\n",
              "      <td>22752</td>\n",
              "      <td>SET 7 BABUSHKA NESTING BOXES</td>\n",
              "      <td>2</td>\n",
              "      <td>2010-12-01 08:26:00</td>\n",
              "      <td>7.65</td>\n",
              "      <td>17850.0</td>\n",
              "      <td>United Kingdom</td>\n",
              "      <td>15.30</td>\n",
              "    </tr>\n",
              "    <tr>\n",
              "      <th>6</th>\n",
              "      <td>536365</td>\n",
              "      <td>21730</td>\n",
              "      <td>GLASS STAR FROSTED T-LIGHT HOLDER</td>\n",
              "      <td>6</td>\n",
              "      <td>2010-12-01 08:26:00</td>\n",
              "      <td>4.25</td>\n",
              "      <td>17850.0</td>\n",
              "      <td>United Kingdom</td>\n",
              "      <td>25.50</td>\n",
              "    </tr>\n",
              "    <tr>\n",
              "      <th>7</th>\n",
              "      <td>536366</td>\n",
              "      <td>22633</td>\n",
              "      <td>HAND WARMER UNION JACK</td>\n",
              "      <td>6</td>\n",
              "      <td>2010-12-01 08:28:00</td>\n",
              "      <td>1.85</td>\n",
              "      <td>17850.0</td>\n",
              "      <td>United Kingdom</td>\n",
              "      <td>11.10</td>\n",
              "    </tr>\n",
              "    <tr>\n",
              "      <th>8</th>\n",
              "      <td>536366</td>\n",
              "      <td>22632</td>\n",
              "      <td>HAND WARMER RED POLKA DOT</td>\n",
              "      <td>6</td>\n",
              "      <td>2010-12-01 08:28:00</td>\n",
              "      <td>1.85</td>\n",
              "      <td>17850.0</td>\n",
              "      <td>United Kingdom</td>\n",
              "      <td>11.10</td>\n",
              "    </tr>\n",
              "    <tr>\n",
              "      <th>9</th>\n",
              "      <td>536367</td>\n",
              "      <td>84879</td>\n",
              "      <td>ASSORTED COLOUR BIRD ORNAMENT</td>\n",
              "      <td>32</td>\n",
              "      <td>2010-12-01 08:34:00</td>\n",
              "      <td>1.69</td>\n",
              "      <td>13047.0</td>\n",
              "      <td>United Kingdom</td>\n",
              "      <td>54.08</td>\n",
              "    </tr>\n",
              "  </tbody>\n",
              "</table>\n",
              "</div>"
            ],
            "text/plain": [
              "  InvoiceNo StockCode  ...         Country  Price\n",
              "0    536365    85123A  ...  United Kingdom  15.30\n",
              "1    536365     71053  ...  United Kingdom  20.34\n",
              "2    536365    84406B  ...  United Kingdom  22.00\n",
              "3    536365    84029G  ...  United Kingdom  20.34\n",
              "4    536365    84029E  ...  United Kingdom  20.34\n",
              "5    536365     22752  ...  United Kingdom  15.30\n",
              "6    536365     21730  ...  United Kingdom  25.50\n",
              "7    536366     22633  ...  United Kingdom  11.10\n",
              "8    536366     22632  ...  United Kingdom  11.10\n",
              "9    536367     84879  ...  United Kingdom  54.08\n",
              "\n",
              "[10 rows x 9 columns]"
            ]
          },
          "metadata": {
            "tags": []
          },
          "execution_count": 30
        }
      ]
    },
    {
      "cell_type": "code",
      "metadata": {
        "colab": {
          "base_uri": "https://localhost:8080/"
        },
        "id": "SJrj_GY-rqre",
        "outputId": "76f12b46-72ec-4cf5-c244-6730d188f7cb"
      },
      "source": [
        "df_clean['Price'].max()"
      ],
      "execution_count": 31,
      "outputs": [
        {
          "output_type": "execute_result",
          "data": {
            "text/plain": [
              "168469.6"
            ]
          },
          "metadata": {
            "tags": []
          },
          "execution_count": 31
        }
      ]
    },
    {
      "cell_type": "code",
      "metadata": {
        "colab": {
          "base_uri": "https://localhost:8080/"
        },
        "id": "78C4Nskorqre",
        "outputId": "f3d6a74f-d6f9-48d5-c803-bba32acfcd4f"
      },
      "source": [
        "df_clean['Price'].min()"
      ],
      "execution_count": 32,
      "outputs": [
        {
          "output_type": "execute_result",
          "data": {
            "text/plain": [
              "0.0"
            ]
          },
          "metadata": {
            "tags": []
          },
          "execution_count": 32
        }
      ]
    },
    {
      "cell_type": "markdown",
      "metadata": {
        "id": "iXwEUbpAfhqX"
      },
      "source": [
        "## ⭐️⭐️ Вопрос 13\n",
        "\n",
        "В нашей базе данных каждая покупка представлена одной или несколькими транзакциями. Покупка однозначно определяется своим номером инвойса (InvoiceNo). Транзакции, относящиеся к одной покупке, имеют один и тот же InvoiceNo. \n",
        "\n",
        "Стоимость всей покупки равна сумме полных стоимостей транзакций, входящих в неё. Найдите стоимости трёх самых дорогих покупок. Перечислите через запятую в порядке убывания, округлив до целых чисел."
      ]
    },
    {
      "cell_type": "markdown",
      "metadata": {
        "id": "U-uH-V9BfhqZ"
      },
      "source": [
        "#### Решение"
      ]
    },
    {
      "cell_type": "code",
      "metadata": {
        "id": "7eRtSDp0fhqZ",
        "colab": {
          "base_uri": "https://localhost:8080/",
          "height": 173
        },
        "outputId": "99b2b767-38eb-4bac-f58a-c46a6291bc85"
      },
      "source": [
        "df_clean.groupby('InvoiceNo').sum().sort_values('Price', ascending=False).head(3)"
      ],
      "execution_count": 33,
      "outputs": [
        {
          "output_type": "execute_result",
          "data": {
            "text/html": [
              "<div>\n",
              "<style scoped>\n",
              "    .dataframe tbody tr th:only-of-type {\n",
              "        vertical-align: middle;\n",
              "    }\n",
              "\n",
              "    .dataframe tbody tr th {\n",
              "        vertical-align: top;\n",
              "    }\n",
              "\n",
              "    .dataframe thead th {\n",
              "        text-align: right;\n",
              "    }\n",
              "</style>\n",
              "<table border=\"1\" class=\"dataframe\">\n",
              "  <thead>\n",
              "    <tr style=\"text-align: right;\">\n",
              "      <th></th>\n",
              "      <th>Quantity</th>\n",
              "      <th>UnitPrice</th>\n",
              "      <th>CustomerID</th>\n",
              "      <th>Price</th>\n",
              "    </tr>\n",
              "    <tr>\n",
              "      <th>InvoiceNo</th>\n",
              "      <th></th>\n",
              "      <th></th>\n",
              "      <th></th>\n",
              "      <th></th>\n",
              "    </tr>\n",
              "  </thead>\n",
              "  <tbody>\n",
              "    <tr>\n",
              "      <th>581483</th>\n",
              "      <td>80995</td>\n",
              "      <td>2.08</td>\n",
              "      <td>16446.0</td>\n",
              "      <td>168469.6</td>\n",
              "    </tr>\n",
              "    <tr>\n",
              "      <th>541431</th>\n",
              "      <td>74215</td>\n",
              "      <td>1.04</td>\n",
              "      <td>12346.0</td>\n",
              "      <td>77183.6</td>\n",
              "    </tr>\n",
              "    <tr>\n",
              "      <th>556444</th>\n",
              "      <td>60</td>\n",
              "      <td>649.50</td>\n",
              "      <td>15098.0</td>\n",
              "      <td>38970.0</td>\n",
              "    </tr>\n",
              "  </tbody>\n",
              "</table>\n",
              "</div>"
            ],
            "text/plain": [
              "           Quantity  UnitPrice  CustomerID     Price\n",
              "InvoiceNo                                           \n",
              "581483        80995       2.08     16446.0  168469.6\n",
              "541431        74215       1.04     12346.0   77183.6\n",
              "556444           60     649.50     15098.0   38970.0"
            ]
          },
          "metadata": {
            "tags": []
          },
          "execution_count": 33
        }
      ]
    },
    {
      "cell_type": "markdown",
      "metadata": {
        "id": "OOFeUBI4fhqd"
      },
      "source": [
        "## ⭐️⭐️ Вопрос 14\n",
        "\n",
        "Какой товар составил наибольшую выручку? В ответе укажите описание товара (дословно строку из соответствующего поля в столбце Description)."
      ]
    },
    {
      "cell_type": "markdown",
      "metadata": {
        "id": "eHIxsT_Mfhqf"
      },
      "source": [
        "#### Решение"
      ]
    },
    {
      "cell_type": "code",
      "metadata": {
        "colab": {
          "base_uri": "https://localhost:8080/",
          "height": 419
        },
        "id": "QPvN_vAjrqrg",
        "outputId": "f8e6aee6-88b6-410d-fe02-0ea59d4cfbe2"
      },
      "source": [
        "df_clean.groupby('StockCode').sum().sort_values('Price', ascending=False).reset_index()"
      ],
      "execution_count": 34,
      "outputs": [
        {
          "output_type": "execute_result",
          "data": {
            "text/html": [
              "<div>\n",
              "<style scoped>\n",
              "    .dataframe tbody tr th:only-of-type {\n",
              "        vertical-align: middle;\n",
              "    }\n",
              "\n",
              "    .dataframe tbody tr th {\n",
              "        vertical-align: top;\n",
              "    }\n",
              "\n",
              "    .dataframe thead th {\n",
              "        text-align: right;\n",
              "    }\n",
              "</style>\n",
              "<table border=\"1\" class=\"dataframe\">\n",
              "  <thead>\n",
              "    <tr style=\"text-align: right;\">\n",
              "      <th></th>\n",
              "      <th>StockCode</th>\n",
              "      <th>Quantity</th>\n",
              "      <th>UnitPrice</th>\n",
              "      <th>CustomerID</th>\n",
              "      <th>Price</th>\n",
              "    </tr>\n",
              "  </thead>\n",
              "  <tbody>\n",
              "    <tr>\n",
              "      <th>0</th>\n",
              "      <td>23843</td>\n",
              "      <td>80995</td>\n",
              "      <td>2.080</td>\n",
              "      <td>16446.0</td>\n",
              "      <td>168469.600</td>\n",
              "    </tr>\n",
              "    <tr>\n",
              "      <th>1</th>\n",
              "      <td>22423</td>\n",
              "      <td>12412</td>\n",
              "      <td>21508.900</td>\n",
              "      <td>25806890.0</td>\n",
              "      <td>142592.950</td>\n",
              "    </tr>\n",
              "    <tr>\n",
              "      <th>2</th>\n",
              "      <td>85123A</td>\n",
              "      <td>36782</td>\n",
              "      <td>5887.470</td>\n",
              "      <td>31667793.0</td>\n",
              "      <td>100603.500</td>\n",
              "    </tr>\n",
              "    <tr>\n",
              "      <th>3</th>\n",
              "      <td>85099B</td>\n",
              "      <td>46181</td>\n",
              "      <td>3261.690</td>\n",
              "      <td>24748363.0</td>\n",
              "      <td>85220.780</td>\n",
              "    </tr>\n",
              "    <tr>\n",
              "      <th>4</th>\n",
              "      <td>23166</td>\n",
              "      <td>77916</td>\n",
              "      <td>241.620</td>\n",
              "      <td>3047321.0</td>\n",
              "      <td>81416.730</td>\n",
              "    </tr>\n",
              "    <tr>\n",
              "      <th>...</th>\n",
              "      <td>...</td>\n",
              "      <td>...</td>\n",
              "      <td>...</td>\n",
              "      <td>...</td>\n",
              "      <td>...</td>\n",
              "    </tr>\n",
              "    <tr>\n",
              "      <th>3660</th>\n",
              "      <td>90084</td>\n",
              "      <td>1</td>\n",
              "      <td>0.850</td>\n",
              "      <td>14701.0</td>\n",
              "      <td>0.850</td>\n",
              "    </tr>\n",
              "    <tr>\n",
              "      <th>3661</th>\n",
              "      <td>90104</td>\n",
              "      <td>1</td>\n",
              "      <td>0.850</td>\n",
              "      <td>17961.0</td>\n",
              "      <td>0.850</td>\n",
              "    </tr>\n",
              "    <tr>\n",
              "      <th>3662</th>\n",
              "      <td>21268</td>\n",
              "      <td>2</td>\n",
              "      <td>0.420</td>\n",
              "      <td>15574.0</td>\n",
              "      <td>0.840</td>\n",
              "    </tr>\n",
              "    <tr>\n",
              "      <th>3663</th>\n",
              "      <td>84227</td>\n",
              "      <td>1</td>\n",
              "      <td>0.420</td>\n",
              "      <td>17841.0</td>\n",
              "      <td>0.420</td>\n",
              "    </tr>\n",
              "    <tr>\n",
              "      <th>3664</th>\n",
              "      <td>PADS</td>\n",
              "      <td>4</td>\n",
              "      <td>0.003</td>\n",
              "      <td>61901.0</td>\n",
              "      <td>0.003</td>\n",
              "    </tr>\n",
              "  </tbody>\n",
              "</table>\n",
              "<p>3665 rows × 5 columns</p>\n",
              "</div>"
            ],
            "text/plain": [
              "     StockCode  Quantity  UnitPrice  CustomerID       Price\n",
              "0        23843     80995      2.080     16446.0  168469.600\n",
              "1        22423     12412  21508.900  25806890.0  142592.950\n",
              "2       85123A     36782   5887.470  31667793.0  100603.500\n",
              "3       85099B     46181   3261.690  24748363.0   85220.780\n",
              "4        23166     77916    241.620   3047321.0   81416.730\n",
              "...        ...       ...        ...         ...         ...\n",
              "3660     90084         1      0.850     14701.0       0.850\n",
              "3661     90104         1      0.850     17961.0       0.850\n",
              "3662     21268         2      0.420     15574.0       0.840\n",
              "3663     84227         1      0.420     17841.0       0.420\n",
              "3664      PADS         4      0.003     61901.0       0.003\n",
              "\n",
              "[3665 rows x 5 columns]"
            ]
          },
          "metadata": {
            "tags": []
          },
          "execution_count": 34
        }
      ]
    },
    {
      "cell_type": "code",
      "metadata": {
        "colab": {
          "base_uri": "https://localhost:8080/",
          "height": 114
        },
        "id": "Srs_YonGrqrg",
        "outputId": "448e18bb-32de-4d91-ac51-55b92ff39375"
      },
      "source": [
        "df_clean[df['StockCode'] == '23843']"
      ],
      "execution_count": 35,
      "outputs": [
        {
          "output_type": "stream",
          "text": [
            "/usr/local/lib/python3.6/dist-packages/ipykernel_launcher.py:1: UserWarning: Boolean Series key will be reindexed to match DataFrame index.\n",
            "  \"\"\"Entry point for launching an IPython kernel.\n"
          ],
          "name": "stderr"
        },
        {
          "output_type": "execute_result",
          "data": {
            "text/html": [
              "<div>\n",
              "<style scoped>\n",
              "    .dataframe tbody tr th:only-of-type {\n",
              "        vertical-align: middle;\n",
              "    }\n",
              "\n",
              "    .dataframe tbody tr th {\n",
              "        vertical-align: top;\n",
              "    }\n",
              "\n",
              "    .dataframe thead th {\n",
              "        text-align: right;\n",
              "    }\n",
              "</style>\n",
              "<table border=\"1\" class=\"dataframe\">\n",
              "  <thead>\n",
              "    <tr style=\"text-align: right;\">\n",
              "      <th></th>\n",
              "      <th>InvoiceNo</th>\n",
              "      <th>StockCode</th>\n",
              "      <th>Description</th>\n",
              "      <th>Quantity</th>\n",
              "      <th>InvoiceDate</th>\n",
              "      <th>UnitPrice</th>\n",
              "      <th>CustomerID</th>\n",
              "      <th>Country</th>\n",
              "      <th>Price</th>\n",
              "    </tr>\n",
              "  </thead>\n",
              "  <tbody>\n",
              "    <tr>\n",
              "      <th>540421</th>\n",
              "      <td>581483</td>\n",
              "      <td>23843</td>\n",
              "      <td>PAPER CRAFT , LITTLE BIRDIE</td>\n",
              "      <td>80995</td>\n",
              "      <td>2011-12-09 09:15:00</td>\n",
              "      <td>2.08</td>\n",
              "      <td>16446.0</td>\n",
              "      <td>United Kingdom</td>\n",
              "      <td>168469.6</td>\n",
              "    </tr>\n",
              "  </tbody>\n",
              "</table>\n",
              "</div>"
            ],
            "text/plain": [
              "       InvoiceNo StockCode  ...         Country     Price\n",
              "540421    581483     23843  ...  United Kingdom  168469.6\n",
              "\n",
              "[1 rows x 9 columns]"
            ]
          },
          "metadata": {
            "tags": []
          },
          "execution_count": 35
        }
      ]
    },
    {
      "cell_type": "markdown",
      "metadata": {
        "id": "x7takqgnfhqj"
      },
      "source": [
        "## ⭐️⭐️ Вопрос 15\n",
        "\n",
        "Создайте новую таблицу purchases, в которой каждая строка будет соответствовать отдельной покупке, со столбцами \n",
        "InvoiceNo, InvoiceDate, Price, CustomerID, Country.\n",
        "\n",
        "Поскольку дата InvoiceDate может быть отличаться для разных транзакций внутри одной покупки, при группировке возьмите самую раннюю из дат. Также отсортируйте её по датам по возрастанию.\n",
        "\n",
        "Сколько получилось строк?"
      ]
    },
    {
      "cell_type": "markdown",
      "metadata": {
        "id": "LDLweA0Yfhqj"
      },
      "source": [
        "#### Решение"
      ]
    },
    {
      "cell_type": "code",
      "metadata": {
        "id": "R8Dwf3k8rqrh"
      },
      "source": [
        "purchases = df_clean.groupby('InvoiceNo').agg({'InvoiceDate' : np.min, 'Price': np.sum\\\n",
        "                                               , 'CustomerID': pd.Series.unique\\\n",
        "                                               , 'Country': pd.Series.unique}).reset_index()"
      ],
      "execution_count": 36,
      "outputs": []
    },
    {
      "cell_type": "code",
      "metadata": {
        "colab": {
          "base_uri": "https://localhost:8080/",
          "height": 204
        },
        "id": "hU-pTbdwrqrh",
        "outputId": "c66efaa6-5074-45f2-c3da-49eae1b31efe"
      },
      "source": [
        "purchases.head()"
      ],
      "execution_count": 37,
      "outputs": [
        {
          "output_type": "execute_result",
          "data": {
            "text/html": [
              "<div>\n",
              "<style scoped>\n",
              "    .dataframe tbody tr th:only-of-type {\n",
              "        vertical-align: middle;\n",
              "    }\n",
              "\n",
              "    .dataframe tbody tr th {\n",
              "        vertical-align: top;\n",
              "    }\n",
              "\n",
              "    .dataframe thead th {\n",
              "        text-align: right;\n",
              "    }\n",
              "</style>\n",
              "<table border=\"1\" class=\"dataframe\">\n",
              "  <thead>\n",
              "    <tr style=\"text-align: right;\">\n",
              "      <th></th>\n",
              "      <th>InvoiceNo</th>\n",
              "      <th>InvoiceDate</th>\n",
              "      <th>Price</th>\n",
              "      <th>CustomerID</th>\n",
              "      <th>Country</th>\n",
              "    </tr>\n",
              "  </thead>\n",
              "  <tbody>\n",
              "    <tr>\n",
              "      <th>0</th>\n",
              "      <td>536365</td>\n",
              "      <td>2010-12-01 08:26:00</td>\n",
              "      <td>139.12</td>\n",
              "      <td>17850.0</td>\n",
              "      <td>United Kingdom</td>\n",
              "    </tr>\n",
              "    <tr>\n",
              "      <th>1</th>\n",
              "      <td>536366</td>\n",
              "      <td>2010-12-01 08:28:00</td>\n",
              "      <td>22.20</td>\n",
              "      <td>17850.0</td>\n",
              "      <td>United Kingdom</td>\n",
              "    </tr>\n",
              "    <tr>\n",
              "      <th>2</th>\n",
              "      <td>536367</td>\n",
              "      <td>2010-12-01 08:34:00</td>\n",
              "      <td>278.73</td>\n",
              "      <td>13047.0</td>\n",
              "      <td>United Kingdom</td>\n",
              "    </tr>\n",
              "    <tr>\n",
              "      <th>3</th>\n",
              "      <td>536368</td>\n",
              "      <td>2010-12-01 08:34:00</td>\n",
              "      <td>70.05</td>\n",
              "      <td>13047.0</td>\n",
              "      <td>United Kingdom</td>\n",
              "    </tr>\n",
              "    <tr>\n",
              "      <th>4</th>\n",
              "      <td>536369</td>\n",
              "      <td>2010-12-01 08:35:00</td>\n",
              "      <td>17.85</td>\n",
              "      <td>13047.0</td>\n",
              "      <td>United Kingdom</td>\n",
              "    </tr>\n",
              "  </tbody>\n",
              "</table>\n",
              "</div>"
            ],
            "text/plain": [
              "  InvoiceNo         InvoiceDate   Price  CustomerID         Country\n",
              "0    536365 2010-12-01 08:26:00  139.12     17850.0  United Kingdom\n",
              "1    536366 2010-12-01 08:28:00   22.20     17850.0  United Kingdom\n",
              "2    536367 2010-12-01 08:34:00  278.73     13047.0  United Kingdom\n",
              "3    536368 2010-12-01 08:34:00   70.05     13047.0  United Kingdom\n",
              "4    536369 2010-12-01 08:35:00   17.85     13047.0  United Kingdom"
            ]
          },
          "metadata": {
            "tags": []
          },
          "execution_count": 37
        }
      ]
    },
    {
      "cell_type": "code",
      "metadata": {
        "colab": {
          "base_uri": "https://localhost:8080/"
        },
        "id": "ByyprjN7rqrh",
        "outputId": "f917f437-6ca3-481e-a9a2-4d02b75586e4"
      },
      "source": [
        "len(purchases.index)"
      ],
      "execution_count": 38,
      "outputs": [
        {
          "output_type": "execute_result",
          "data": {
            "text/plain": [
              "18537"
            ]
          },
          "metadata": {
            "tags": []
          },
          "execution_count": 38
        }
      ]
    },
    {
      "cell_type": "markdown",
      "metadata": {
        "id": "wsDjduFpfhqp"
      },
      "source": [
        "## ⭐️⭐️ Вопрос 16\n",
        "\n",
        "Исследуем, растут или убывают покупки наших клиентов после их первой покупки на сайте.\n",
        "Найдите среднюю цену первых покупок клиентов: для каждого клиента возьмите его первую покупку и усредните эти значения. Найдите среднюю цену покупок в целом. Округлите эти числа до целых и перечислите в этом порядке через запятую."
      ]
    },
    {
      "cell_type": "markdown",
      "metadata": {
        "id": "rzpArrmkfhqq"
      },
      "source": [
        "#### Решение"
      ]
    },
    {
      "cell_type": "code",
      "metadata": {
        "colab": {
          "base_uri": "https://localhost:8080/",
          "height": 419
        },
        "id": "QG2DQbkArqri",
        "outputId": "54bfca7f-e99a-4faf-e078-d580264010fb"
      },
      "source": [
        "purchases.groupby('CustomerID').agg({'InvoiceDate' : np.min}).merge(purchases, how='left'\\\n",
        "                                                                    , left_on=['CustomerID'\\\n",
        "                                                                               ,'InvoiceDate']\\\n",
        "                                                                    , right_on=['CustomerID','InvoiceDate'])"
      ],
      "execution_count": 39,
      "outputs": [
        {
          "output_type": "execute_result",
          "data": {
            "text/html": [
              "<div>\n",
              "<style scoped>\n",
              "    .dataframe tbody tr th:only-of-type {\n",
              "        vertical-align: middle;\n",
              "    }\n",
              "\n",
              "    .dataframe tbody tr th {\n",
              "        vertical-align: top;\n",
              "    }\n",
              "\n",
              "    .dataframe thead th {\n",
              "        text-align: right;\n",
              "    }\n",
              "</style>\n",
              "<table border=\"1\" class=\"dataframe\">\n",
              "  <thead>\n",
              "    <tr style=\"text-align: right;\">\n",
              "      <th></th>\n",
              "      <th>CustomerID</th>\n",
              "      <th>InvoiceDate</th>\n",
              "      <th>InvoiceNo</th>\n",
              "      <th>Price</th>\n",
              "      <th>Country</th>\n",
              "    </tr>\n",
              "  </thead>\n",
              "  <tbody>\n",
              "    <tr>\n",
              "      <th>0</th>\n",
              "      <td>12346.0</td>\n",
              "      <td>2011-01-18 10:01:00</td>\n",
              "      <td>541431</td>\n",
              "      <td>77183.60</td>\n",
              "      <td>United Kingdom</td>\n",
              "    </tr>\n",
              "    <tr>\n",
              "      <th>1</th>\n",
              "      <td>12347.0</td>\n",
              "      <td>2010-12-07 14:57:00</td>\n",
              "      <td>537626</td>\n",
              "      <td>711.79</td>\n",
              "      <td>Iceland</td>\n",
              "    </tr>\n",
              "    <tr>\n",
              "      <th>2</th>\n",
              "      <td>12348.0</td>\n",
              "      <td>2010-12-16 19:09:00</td>\n",
              "      <td>539318</td>\n",
              "      <td>892.80</td>\n",
              "      <td>Finland</td>\n",
              "    </tr>\n",
              "    <tr>\n",
              "      <th>3</th>\n",
              "      <td>12349.0</td>\n",
              "      <td>2011-11-21 09:51:00</td>\n",
              "      <td>577609</td>\n",
              "      <td>1757.55</td>\n",
              "      <td>Italy</td>\n",
              "    </tr>\n",
              "    <tr>\n",
              "      <th>4</th>\n",
              "      <td>12350.0</td>\n",
              "      <td>2011-02-02 16:01:00</td>\n",
              "      <td>543037</td>\n",
              "      <td>334.40</td>\n",
              "      <td>Norway</td>\n",
              "    </tr>\n",
              "    <tr>\n",
              "      <th>...</th>\n",
              "      <td>...</td>\n",
              "      <td>...</td>\n",
              "      <td>...</td>\n",
              "      <td>...</td>\n",
              "      <td>...</td>\n",
              "    </tr>\n",
              "    <tr>\n",
              "      <th>4348</th>\n",
              "      <td>18280.0</td>\n",
              "      <td>2011-03-07 09:52:00</td>\n",
              "      <td>545712</td>\n",
              "      <td>180.60</td>\n",
              "      <td>United Kingdom</td>\n",
              "    </tr>\n",
              "    <tr>\n",
              "      <th>4349</th>\n",
              "      <td>18281.0</td>\n",
              "      <td>2011-06-12 10:53:00</td>\n",
              "      <td>556464</td>\n",
              "      <td>80.82</td>\n",
              "      <td>United Kingdom</td>\n",
              "    </tr>\n",
              "    <tr>\n",
              "      <th>4350</th>\n",
              "      <td>18282.0</td>\n",
              "      <td>2011-08-05 13:35:00</td>\n",
              "      <td>562525</td>\n",
              "      <td>100.21</td>\n",
              "      <td>United Kingdom</td>\n",
              "    </tr>\n",
              "    <tr>\n",
              "      <th>4351</th>\n",
              "      <td>18283.0</td>\n",
              "      <td>2011-01-06 14:14:00</td>\n",
              "      <td>540350</td>\n",
              "      <td>108.45</td>\n",
              "      <td>United Kingdom</td>\n",
              "    </tr>\n",
              "    <tr>\n",
              "      <th>4352</th>\n",
              "      <td>18287.0</td>\n",
              "      <td>2011-05-22 10:39:00</td>\n",
              "      <td>554065</td>\n",
              "      <td>765.28</td>\n",
              "      <td>United Kingdom</td>\n",
              "    </tr>\n",
              "  </tbody>\n",
              "</table>\n",
              "<p>4353 rows × 5 columns</p>\n",
              "</div>"
            ],
            "text/plain": [
              "      CustomerID         InvoiceDate InvoiceNo     Price         Country\n",
              "0        12346.0 2011-01-18 10:01:00    541431  77183.60  United Kingdom\n",
              "1        12347.0 2010-12-07 14:57:00    537626    711.79         Iceland\n",
              "2        12348.0 2010-12-16 19:09:00    539318    892.80         Finland\n",
              "3        12349.0 2011-11-21 09:51:00    577609   1757.55           Italy\n",
              "4        12350.0 2011-02-02 16:01:00    543037    334.40          Norway\n",
              "...          ...                 ...       ...       ...             ...\n",
              "4348     18280.0 2011-03-07 09:52:00    545712    180.60  United Kingdom\n",
              "4349     18281.0 2011-06-12 10:53:00    556464     80.82  United Kingdom\n",
              "4350     18282.0 2011-08-05 13:35:00    562525    100.21  United Kingdom\n",
              "4351     18283.0 2011-01-06 14:14:00    540350    108.45  United Kingdom\n",
              "4352     18287.0 2011-05-22 10:39:00    554065    765.28  United Kingdom\n",
              "\n",
              "[4353 rows x 5 columns]"
            ]
          },
          "metadata": {
            "tags": []
          },
          "execution_count": 39
        }
      ]
    },
    {
      "cell_type": "code",
      "metadata": {
        "colab": {
          "base_uri": "https://localhost:8080/"
        },
        "id": "nPPHlPVJrqri",
        "outputId": "787bdb4c-cf14-4d3b-8c23-be152e20d5b7"
      },
      "source": [
        "purchases.groupby('CustomerID').agg({'InvoiceDate' : np.min}).merge(purchases, how='left'\\\n",
        "                                                                    , left_on=['CustomerID'\\\n",
        "                                                                               ,'InvoiceDate']\\\n",
        "                                                                    , right_on=['CustomerID','InvoiceDate'])['Price']\\\n",
        "                                                                    .mean()"
      ],
      "execution_count": 40,
      "outputs": [
        {
          "output_type": "execute_result",
          "data": {
            "text/plain": [
              "424.5775931541458"
            ]
          },
          "metadata": {
            "tags": []
          },
          "execution_count": 40
        }
      ]
    },
    {
      "cell_type": "code",
      "metadata": {
        "colab": {
          "base_uri": "https://localhost:8080/"
        },
        "id": "97JHgyCErqri",
        "outputId": "ef5759c9-3df2-4afc-8e36-fec8e2d11d71"
      },
      "source": [
        "purchases['Price'].mean()"
      ],
      "execution_count": 41,
      "outputs": [
        {
          "output_type": "execute_result",
          "data": {
            "text/plain": [
              "480.7382912013795"
            ]
          },
          "metadata": {
            "tags": []
          },
          "execution_count": 41
        }
      ]
    },
    {
      "cell_type": "markdown",
      "metadata": {
        "id": "Qxcpz-aVfhqv"
      },
      "source": [
        "## ⭐️⭐️⭐️ Вопрос 17\n",
        "\n",
        "В какой день недели было наибольшее число покупок? В ответе укажите русское название дня недели, начинающееся с заглавной буквы.\n",
        "\n",
        "\n",
        "Подсказка: \n",
        "* Преобразуйте тип данных в столбце InvoiceDate таблицы purchases из строк в datetime. \n",
        "* Для каждой покупки вычислите день недели, в который она была совершена. Сохраните в новый столбец.\n",
        "* Сгруппируйте таблицу по дням недели."
      ]
    },
    {
      "cell_type": "markdown",
      "metadata": {
        "id": "jlX_adwbfhqw"
      },
      "source": [
        "#### Решение"
      ]
    },
    {
      "cell_type": "code",
      "metadata": {
        "id": "WTNLys9dfhqw",
        "colab": {
          "base_uri": "https://localhost:8080/",
          "height": 204
        },
        "outputId": "c9f32daa-5a6b-49ad-f232-fd9f9fb4748f"
      },
      "source": [
        "purchases['DayOfWeek'] = pd.DatetimeIndex(purchases['InvoiceDate']).dayofweek\n",
        "purchases.head()"
      ],
      "execution_count": 42,
      "outputs": [
        {
          "output_type": "execute_result",
          "data": {
            "text/html": [
              "<div>\n",
              "<style scoped>\n",
              "    .dataframe tbody tr th:only-of-type {\n",
              "        vertical-align: middle;\n",
              "    }\n",
              "\n",
              "    .dataframe tbody tr th {\n",
              "        vertical-align: top;\n",
              "    }\n",
              "\n",
              "    .dataframe thead th {\n",
              "        text-align: right;\n",
              "    }\n",
              "</style>\n",
              "<table border=\"1\" class=\"dataframe\">\n",
              "  <thead>\n",
              "    <tr style=\"text-align: right;\">\n",
              "      <th></th>\n",
              "      <th>InvoiceNo</th>\n",
              "      <th>InvoiceDate</th>\n",
              "      <th>Price</th>\n",
              "      <th>CustomerID</th>\n",
              "      <th>Country</th>\n",
              "      <th>DayOfWeek</th>\n",
              "    </tr>\n",
              "  </thead>\n",
              "  <tbody>\n",
              "    <tr>\n",
              "      <th>0</th>\n",
              "      <td>536365</td>\n",
              "      <td>2010-12-01 08:26:00</td>\n",
              "      <td>139.12</td>\n",
              "      <td>17850.0</td>\n",
              "      <td>United Kingdom</td>\n",
              "      <td>2</td>\n",
              "    </tr>\n",
              "    <tr>\n",
              "      <th>1</th>\n",
              "      <td>536366</td>\n",
              "      <td>2010-12-01 08:28:00</td>\n",
              "      <td>22.20</td>\n",
              "      <td>17850.0</td>\n",
              "      <td>United Kingdom</td>\n",
              "      <td>2</td>\n",
              "    </tr>\n",
              "    <tr>\n",
              "      <th>2</th>\n",
              "      <td>536367</td>\n",
              "      <td>2010-12-01 08:34:00</td>\n",
              "      <td>278.73</td>\n",
              "      <td>13047.0</td>\n",
              "      <td>United Kingdom</td>\n",
              "      <td>2</td>\n",
              "    </tr>\n",
              "    <tr>\n",
              "      <th>3</th>\n",
              "      <td>536368</td>\n",
              "      <td>2010-12-01 08:34:00</td>\n",
              "      <td>70.05</td>\n",
              "      <td>13047.0</td>\n",
              "      <td>United Kingdom</td>\n",
              "      <td>2</td>\n",
              "    </tr>\n",
              "    <tr>\n",
              "      <th>4</th>\n",
              "      <td>536369</td>\n",
              "      <td>2010-12-01 08:35:00</td>\n",
              "      <td>17.85</td>\n",
              "      <td>13047.0</td>\n",
              "      <td>United Kingdom</td>\n",
              "      <td>2</td>\n",
              "    </tr>\n",
              "  </tbody>\n",
              "</table>\n",
              "</div>"
            ],
            "text/plain": [
              "  InvoiceNo         InvoiceDate   Price  CustomerID         Country  DayOfWeek\n",
              "0    536365 2010-12-01 08:26:00  139.12     17850.0  United Kingdom          2\n",
              "1    536366 2010-12-01 08:28:00   22.20     17850.0  United Kingdom          2\n",
              "2    536367 2010-12-01 08:34:00  278.73     13047.0  United Kingdom          2\n",
              "3    536368 2010-12-01 08:34:00   70.05     13047.0  United Kingdom          2\n",
              "4    536369 2010-12-01 08:35:00   17.85     13047.0  United Kingdom          2"
            ]
          },
          "metadata": {
            "tags": []
          },
          "execution_count": 42
        }
      ]
    },
    {
      "cell_type": "code",
      "metadata": {
        "colab": {
          "base_uri": "https://localhost:8080/"
        },
        "id": "mktgHx8hrqrk",
        "outputId": "f73062c8-a630-42d1-e3b2-c233b1d73d16"
      },
      "source": [
        "purchases.groupby('DayOfWeek')['Price'].count().sort_values(ascending=False)"
      ],
      "execution_count": 43,
      "outputs": [
        {
          "output_type": "execute_result",
          "data": {
            "text/plain": [
              "DayOfWeek\n",
              "3    4033\n",
              "2    3455\n",
              "1    3185\n",
              "0    2863\n",
              "4    2832\n",
              "6    2169\n",
              "Name: Price, dtype: int64"
            ]
          },
          "metadata": {
            "tags": []
          },
          "execution_count": 43
        }
      ]
    },
    {
      "cell_type": "code",
      "metadata": {
        "colab": {
          "base_uri": "https://localhost:8080/"
        },
        "id": "M8mQ28U8rqrk",
        "outputId": "6a4b69ed-e057-4da1-e05e-dd0d2d0fe00b"
      },
      "source": [
        "purchases['DayOfWeek'].value_counts()"
      ],
      "execution_count": 44,
      "outputs": [
        {
          "output_type": "execute_result",
          "data": {
            "text/plain": [
              "3    4033\n",
              "2    3455\n",
              "1    3185\n",
              "0    2863\n",
              "4    2832\n",
              "6    2169\n",
              "Name: DayOfWeek, dtype: int64"
            ]
          },
          "metadata": {
            "tags": []
          },
          "execution_count": 44
        }
      ]
    },
    {
      "cell_type": "code",
      "metadata": {
        "id": "VYa9UY27rqrl"
      },
      "source": [
        "#Четверг"
      ],
      "execution_count": 45,
      "outputs": []
    },
    {
      "cell_type": "markdown",
      "metadata": {
        "id": "G84tAqVTfhq1"
      },
      "source": [
        "## ⭐️⭐️⭐️ Вопрос 18\n",
        "\n",
        "В какой год и месяц выручка была максимальной?\n",
        "\n",
        "Подсказка: \n",
        "* Преобразуйте тип данных в столбце InvoiceDate таблицы purchases из строк в datetime. \n",
        "* Для каждой покупки вычислите год и месяц, в которые она была совершена. Сохраните в новые столбцы.\n",
        "* Сгруппируйте таблицу по новым столбцам\n",
        "\n",
        "В ответе укажите два целых числа через запятую: год, месяц"
      ]
    },
    {
      "cell_type": "markdown",
      "metadata": {
        "id": "k7b_70CIfhq2"
      },
      "source": [
        "#### Решение"
      ]
    },
    {
      "cell_type": "code",
      "metadata": {
        "id": "C7YosvXBfhq2",
        "colab": {
          "base_uri": "https://localhost:8080/",
          "height": 204
        },
        "outputId": "9654b250-ceb1-45f0-ad54-1509c8564540"
      },
      "source": [
        "purchases['Month'] = pd.DatetimeIndex(purchases['InvoiceDate']).month\n",
        "purchases['Year'] = pd.DatetimeIndex(purchases['InvoiceDate']).year\n",
        "purchases.head()"
      ],
      "execution_count": 46,
      "outputs": [
        {
          "output_type": "execute_result",
          "data": {
            "text/html": [
              "<div>\n",
              "<style scoped>\n",
              "    .dataframe tbody tr th:only-of-type {\n",
              "        vertical-align: middle;\n",
              "    }\n",
              "\n",
              "    .dataframe tbody tr th {\n",
              "        vertical-align: top;\n",
              "    }\n",
              "\n",
              "    .dataframe thead th {\n",
              "        text-align: right;\n",
              "    }\n",
              "</style>\n",
              "<table border=\"1\" class=\"dataframe\">\n",
              "  <thead>\n",
              "    <tr style=\"text-align: right;\">\n",
              "      <th></th>\n",
              "      <th>InvoiceNo</th>\n",
              "      <th>InvoiceDate</th>\n",
              "      <th>Price</th>\n",
              "      <th>CustomerID</th>\n",
              "      <th>Country</th>\n",
              "      <th>DayOfWeek</th>\n",
              "      <th>Month</th>\n",
              "      <th>Year</th>\n",
              "    </tr>\n",
              "  </thead>\n",
              "  <tbody>\n",
              "    <tr>\n",
              "      <th>0</th>\n",
              "      <td>536365</td>\n",
              "      <td>2010-12-01 08:26:00</td>\n",
              "      <td>139.12</td>\n",
              "      <td>17850.0</td>\n",
              "      <td>United Kingdom</td>\n",
              "      <td>2</td>\n",
              "      <td>12</td>\n",
              "      <td>2010</td>\n",
              "    </tr>\n",
              "    <tr>\n",
              "      <th>1</th>\n",
              "      <td>536366</td>\n",
              "      <td>2010-12-01 08:28:00</td>\n",
              "      <td>22.20</td>\n",
              "      <td>17850.0</td>\n",
              "      <td>United Kingdom</td>\n",
              "      <td>2</td>\n",
              "      <td>12</td>\n",
              "      <td>2010</td>\n",
              "    </tr>\n",
              "    <tr>\n",
              "      <th>2</th>\n",
              "      <td>536367</td>\n",
              "      <td>2010-12-01 08:34:00</td>\n",
              "      <td>278.73</td>\n",
              "      <td>13047.0</td>\n",
              "      <td>United Kingdom</td>\n",
              "      <td>2</td>\n",
              "      <td>12</td>\n",
              "      <td>2010</td>\n",
              "    </tr>\n",
              "    <tr>\n",
              "      <th>3</th>\n",
              "      <td>536368</td>\n",
              "      <td>2010-12-01 08:34:00</td>\n",
              "      <td>70.05</td>\n",
              "      <td>13047.0</td>\n",
              "      <td>United Kingdom</td>\n",
              "      <td>2</td>\n",
              "      <td>12</td>\n",
              "      <td>2010</td>\n",
              "    </tr>\n",
              "    <tr>\n",
              "      <th>4</th>\n",
              "      <td>536369</td>\n",
              "      <td>2010-12-01 08:35:00</td>\n",
              "      <td>17.85</td>\n",
              "      <td>13047.0</td>\n",
              "      <td>United Kingdom</td>\n",
              "      <td>2</td>\n",
              "      <td>12</td>\n",
              "      <td>2010</td>\n",
              "    </tr>\n",
              "  </tbody>\n",
              "</table>\n",
              "</div>"
            ],
            "text/plain": [
              "  InvoiceNo         InvoiceDate   Price  ...  DayOfWeek Month  Year\n",
              "0    536365 2010-12-01 08:26:00  139.12  ...          2    12  2010\n",
              "1    536366 2010-12-01 08:28:00   22.20  ...          2    12  2010\n",
              "2    536367 2010-12-01 08:34:00  278.73  ...          2    12  2010\n",
              "3    536368 2010-12-01 08:34:00   70.05  ...          2    12  2010\n",
              "4    536369 2010-12-01 08:35:00   17.85  ...          2    12  2010\n",
              "\n",
              "[5 rows x 8 columns]"
            ]
          },
          "metadata": {
            "tags": []
          },
          "execution_count": 46
        }
      ]
    },
    {
      "cell_type": "code",
      "metadata": {
        "colab": {
          "base_uri": "https://localhost:8080/",
          "height": 452
        },
        "id": "UMF9yEo1rqrm",
        "outputId": "4208f582-f135-4501-f7fc-494d6e729218"
      },
      "source": [
        "purchases.groupby(['Year','Month']).max('Price').sort_values('Price', ascending=False).reset_index()"
      ],
      "execution_count": 47,
      "outputs": [
        {
          "output_type": "execute_result",
          "data": {
            "text/html": [
              "<div>\n",
              "<style scoped>\n",
              "    .dataframe tbody tr th:only-of-type {\n",
              "        vertical-align: middle;\n",
              "    }\n",
              "\n",
              "    .dataframe tbody tr th {\n",
              "        vertical-align: top;\n",
              "    }\n",
              "\n",
              "    .dataframe thead th {\n",
              "        text-align: right;\n",
              "    }\n",
              "</style>\n",
              "<table border=\"1\" class=\"dataframe\">\n",
              "  <thead>\n",
              "    <tr style=\"text-align: right;\">\n",
              "      <th></th>\n",
              "      <th>Year</th>\n",
              "      <th>Month</th>\n",
              "      <th>Price</th>\n",
              "      <th>CustomerID</th>\n",
              "      <th>DayOfWeek</th>\n",
              "    </tr>\n",
              "  </thead>\n",
              "  <tbody>\n",
              "    <tr>\n",
              "      <th>0</th>\n",
              "      <td>2011</td>\n",
              "      <td>12</td>\n",
              "      <td>168469.60</td>\n",
              "      <td>18283.0</td>\n",
              "      <td>6</td>\n",
              "    </tr>\n",
              "    <tr>\n",
              "      <th>1</th>\n",
              "      <td>2011</td>\n",
              "      <td>1</td>\n",
              "      <td>77183.60</td>\n",
              "      <td>18283.0</td>\n",
              "      <td>6</td>\n",
              "    </tr>\n",
              "    <tr>\n",
              "      <th>2</th>\n",
              "      <td>2011</td>\n",
              "      <td>6</td>\n",
              "      <td>38970.00</td>\n",
              "      <td>18283.0</td>\n",
              "      <td>6</td>\n",
              "    </tr>\n",
              "    <tr>\n",
              "      <th>3</th>\n",
              "      <td>2011</td>\n",
              "      <td>9</td>\n",
              "      <td>31698.16</td>\n",
              "      <td>18283.0</td>\n",
              "      <td>6</td>\n",
              "    </tr>\n",
              "    <tr>\n",
              "      <th>4</th>\n",
              "      <td>2011</td>\n",
              "      <td>10</td>\n",
              "      <td>22206.00</td>\n",
              "      <td>18287.0</td>\n",
              "      <td>6</td>\n",
              "    </tr>\n",
              "    <tr>\n",
              "      <th>5</th>\n",
              "      <td>2011</td>\n",
              "      <td>8</td>\n",
              "      <td>21880.44</td>\n",
              "      <td>18282.0</td>\n",
              "      <td>6</td>\n",
              "    </tr>\n",
              "    <tr>\n",
              "      <th>6</th>\n",
              "      <td>2011</td>\n",
              "      <td>4</td>\n",
              "      <td>21535.90</td>\n",
              "      <td>18283.0</td>\n",
              "      <td>6</td>\n",
              "    </tr>\n",
              "    <tr>\n",
              "      <th>7</th>\n",
              "      <td>2011</td>\n",
              "      <td>3</td>\n",
              "      <td>16726.84</td>\n",
              "      <td>18280.0</td>\n",
              "      <td>6</td>\n",
              "    </tr>\n",
              "    <tr>\n",
              "      <th>8</th>\n",
              "      <td>2010</td>\n",
              "      <td>12</td>\n",
              "      <td>15885.49</td>\n",
              "      <td>18269.0</td>\n",
              "      <td>6</td>\n",
              "    </tr>\n",
              "    <tr>\n",
              "      <th>9</th>\n",
              "      <td>2011</td>\n",
              "      <td>5</td>\n",
              "      <td>14415.74</td>\n",
              "      <td>18287.0</td>\n",
              "      <td>6</td>\n",
              "    </tr>\n",
              "    <tr>\n",
              "      <th>10</th>\n",
              "      <td>2011</td>\n",
              "      <td>2</td>\n",
              "      <td>14022.92</td>\n",
              "      <td>18283.0</td>\n",
              "      <td>6</td>\n",
              "    </tr>\n",
              "    <tr>\n",
              "      <th>11</th>\n",
              "      <td>2011</td>\n",
              "      <td>7</td>\n",
              "      <td>13464.26</td>\n",
              "      <td>18283.0</td>\n",
              "      <td>6</td>\n",
              "    </tr>\n",
              "    <tr>\n",
              "      <th>12</th>\n",
              "      <td>2011</td>\n",
              "      <td>11</td>\n",
              "      <td>10584.77</td>\n",
              "      <td>18283.0</td>\n",
              "      <td>6</td>\n",
              "    </tr>\n",
              "  </tbody>\n",
              "</table>\n",
              "</div>"
            ],
            "text/plain": [
              "    Year  Month      Price  CustomerID  DayOfWeek\n",
              "0   2011     12  168469.60     18283.0          6\n",
              "1   2011      1   77183.60     18283.0          6\n",
              "2   2011      6   38970.00     18283.0          6\n",
              "3   2011      9   31698.16     18283.0          6\n",
              "4   2011     10   22206.00     18287.0          6\n",
              "5   2011      8   21880.44     18282.0          6\n",
              "6   2011      4   21535.90     18283.0          6\n",
              "7   2011      3   16726.84     18280.0          6\n",
              "8   2010     12   15885.49     18269.0          6\n",
              "9   2011      5   14415.74     18287.0          6\n",
              "10  2011      2   14022.92     18283.0          6\n",
              "11  2011      7   13464.26     18283.0          6\n",
              "12  2011     11   10584.77     18283.0          6"
            ]
          },
          "metadata": {
            "tags": []
          },
          "execution_count": 47
        }
      ]
    },
    {
      "cell_type": "code",
      "metadata": {
        "id": "2B4PFODvrqrm"
      },
      "source": [
        "#2011,12"
      ],
      "execution_count": 48,
      "outputs": []
    },
    {
      "cell_type": "markdown",
      "metadata": {
        "id": "sU7-9E2nfhq4"
      },
      "source": [
        "## ⭐️⭐️⭐️ Вопрос 19\n",
        "\n",
        "Магазин продаёт товары покупателям из разных стран (Country). В какой стране был наибольший процентный рост месячных продаж, если сравнить март 2011 и сентябрь 2011? Сколько процентов составил этот рост? В расчёт брать только страны, в которых были ненулевые продажи в обоих этих месяцах. В ответе укажите через запятую название страны и целое число (процентный рост, округлённый до целого числа)."
      ]
    },
    {
      "cell_type": "markdown",
      "metadata": {
        "id": "UyC1iE0nfhq5"
      },
      "source": [
        "#### Решение"
      ]
    },
    {
      "cell_type": "code",
      "metadata": {
        "colab": {
          "base_uri": "https://localhost:8080/",
          "height": 419
        },
        "id": "8IXY7fVWrqrn",
        "outputId": "1bbba711-e9d7-4dda-d504-3377c5ea806c"
      },
      "source": [
        "purchases_nn = purchases.groupby(['Country','Year','Month']).agg({'Price': np.sum}).reset_index()\n",
        "purchases_nn"
      ],
      "execution_count": 59,
      "outputs": [
        {
          "output_type": "execute_result",
          "data": {
            "text/html": [
              "<div>\n",
              "<style scoped>\n",
              "    .dataframe tbody tr th:only-of-type {\n",
              "        vertical-align: middle;\n",
              "    }\n",
              "\n",
              "    .dataframe tbody tr th {\n",
              "        vertical-align: top;\n",
              "    }\n",
              "\n",
              "    .dataframe thead th {\n",
              "        text-align: right;\n",
              "    }\n",
              "</style>\n",
              "<table border=\"1\" class=\"dataframe\">\n",
              "  <thead>\n",
              "    <tr style=\"text-align: right;\">\n",
              "      <th></th>\n",
              "      <th>Country</th>\n",
              "      <th>Year</th>\n",
              "      <th>Month</th>\n",
              "      <th>Price</th>\n",
              "    </tr>\n",
              "  </thead>\n",
              "  <tbody>\n",
              "    <tr>\n",
              "      <th>0</th>\n",
              "      <td>Australia</td>\n",
              "      <td>2010</td>\n",
              "      <td>12</td>\n",
              "      <td>1032.85</td>\n",
              "    </tr>\n",
              "    <tr>\n",
              "      <th>1</th>\n",
              "      <td>Australia</td>\n",
              "      <td>2011</td>\n",
              "      <td>1</td>\n",
              "      <td>9017.71</td>\n",
              "    </tr>\n",
              "    <tr>\n",
              "      <th>2</th>\n",
              "      <td>Australia</td>\n",
              "      <td>2011</td>\n",
              "      <td>2</td>\n",
              "      <td>14695.42</td>\n",
              "    </tr>\n",
              "    <tr>\n",
              "      <th>3</th>\n",
              "      <td>Australia</td>\n",
              "      <td>2011</td>\n",
              "      <td>3</td>\n",
              "      <td>17223.99</td>\n",
              "    </tr>\n",
              "    <tr>\n",
              "      <th>4</th>\n",
              "      <td>Australia</td>\n",
              "      <td>2011</td>\n",
              "      <td>4</td>\n",
              "      <td>771.60</td>\n",
              "    </tr>\n",
              "    <tr>\n",
              "      <th>...</th>\n",
              "      <td>...</td>\n",
              "      <td>...</td>\n",
              "      <td>...</td>\n",
              "      <td>...</td>\n",
              "    </tr>\n",
              "    <tr>\n",
              "      <th>282</th>\n",
              "      <td>Unspecified</td>\n",
              "      <td>2011</td>\n",
              "      <td>4</td>\n",
              "      <td>299.10</td>\n",
              "    </tr>\n",
              "    <tr>\n",
              "      <th>283</th>\n",
              "      <td>Unspecified</td>\n",
              "      <td>2011</td>\n",
              "      <td>5</td>\n",
              "      <td>852.68</td>\n",
              "    </tr>\n",
              "    <tr>\n",
              "      <th>284</th>\n",
              "      <td>Unspecified</td>\n",
              "      <td>2011</td>\n",
              "      <td>6</td>\n",
              "      <td>185.78</td>\n",
              "    </tr>\n",
              "    <tr>\n",
              "      <th>285</th>\n",
              "      <td>Unspecified</td>\n",
              "      <td>2011</td>\n",
              "      <td>7</td>\n",
              "      <td>798.48</td>\n",
              "    </tr>\n",
              "    <tr>\n",
              "      <th>286</th>\n",
              "      <td>Unspecified</td>\n",
              "      <td>2011</td>\n",
              "      <td>8</td>\n",
              "      <td>531.03</td>\n",
              "    </tr>\n",
              "  </tbody>\n",
              "</table>\n",
              "<p>287 rows × 4 columns</p>\n",
              "</div>"
            ],
            "text/plain": [
              "         Country  Year  Month     Price\n",
              "0      Australia  2010     12   1032.85\n",
              "1      Australia  2011      1   9017.71\n",
              "2      Australia  2011      2  14695.42\n",
              "3      Australia  2011      3  17223.99\n",
              "4      Australia  2011      4    771.60\n",
              "..           ...   ...    ...       ...\n",
              "282  Unspecified  2011      4    299.10\n",
              "283  Unspecified  2011      5    852.68\n",
              "284  Unspecified  2011      6    185.78\n",
              "285  Unspecified  2011      7    798.48\n",
              "286  Unspecified  2011      8    531.03\n",
              "\n",
              "[287 rows x 4 columns]"
            ]
          },
          "metadata": {
            "tags": []
          },
          "execution_count": 59
        }
      ]
    },
    {
      "cell_type": "code",
      "metadata": {
        "id": "BB0tn1a_fhq5"
      },
      "source": [
        "purchases_nn = purchases_nn[purchases_nn['Price'] > 0]\n",
        "purch = purchases_nn[purchases_nn['Month'] == 3].merge(purchases_nn[purchases_nn['Month'] == 9], how='left', on='Country')"
      ],
      "execution_count": 60,
      "outputs": []
    },
    {
      "cell_type": "code",
      "metadata": {
        "colab": {
          "base_uri": "https://localhost:8080/",
          "height": 638
        },
        "id": "G1n_f36Prqrn",
        "outputId": "474e29d1-50f5-4f5f-ca9b-25066a48bb95"
      },
      "source": [
        "purch['perc'] = purch['Price_y']/purch['Price_x']*100\n",
        "purch.dropna(inplace=True)\n",
        "purch.sort_values('perc', ascending=False)\n"
      ],
      "execution_count": 61,
      "outputs": [
        {
          "output_type": "execute_result",
          "data": {
            "text/html": [
              "<div>\n",
              "<style scoped>\n",
              "    .dataframe tbody tr th:only-of-type {\n",
              "        vertical-align: middle;\n",
              "    }\n",
              "\n",
              "    .dataframe tbody tr th {\n",
              "        vertical-align: top;\n",
              "    }\n",
              "\n",
              "    .dataframe thead th {\n",
              "        text-align: right;\n",
              "    }\n",
              "</style>\n",
              "<table border=\"1\" class=\"dataframe\">\n",
              "  <thead>\n",
              "    <tr style=\"text-align: right;\">\n",
              "      <th></th>\n",
              "      <th>Country</th>\n",
              "      <th>Year_x</th>\n",
              "      <th>Month_x</th>\n",
              "      <th>Price_x</th>\n",
              "      <th>Year_y</th>\n",
              "      <th>Month_y</th>\n",
              "      <th>Price_y</th>\n",
              "      <th>perc</th>\n",
              "    </tr>\n",
              "  </thead>\n",
              "  <tbody>\n",
              "    <tr>\n",
              "      <th>15</th>\n",
              "      <td>Norway</td>\n",
              "      <td>2011</td>\n",
              "      <td>3</td>\n",
              "      <td>1265.31</td>\n",
              "      <td>2011.0</td>\n",
              "      <td>9.0</td>\n",
              "      <td>8678.940</td>\n",
              "      <td>685.914124</td>\n",
              "    </tr>\n",
              "    <tr>\n",
              "      <th>20</th>\n",
              "      <td>Switzerland</td>\n",
              "      <td>2011</td>\n",
              "      <td>3</td>\n",
              "      <td>1870.23</td>\n",
              "      <td>2011.0</td>\n",
              "      <td>9.0</td>\n",
              "      <td>8284.860</td>\n",
              "      <td>442.986157</td>\n",
              "    </tr>\n",
              "    <tr>\n",
              "      <th>13</th>\n",
              "      <td>Japan</td>\n",
              "      <td>2011</td>\n",
              "      <td>3</td>\n",
              "      <td>48.90</td>\n",
              "      <td>2011.0</td>\n",
              "      <td>9.0</td>\n",
              "      <td>112.080</td>\n",
              "      <td>229.202454</td>\n",
              "    </tr>\n",
              "    <tr>\n",
              "      <th>7</th>\n",
              "      <td>EIRE</td>\n",
              "      <td>2011</td>\n",
              "      <td>3</td>\n",
              "      <td>21674.36</td>\n",
              "      <td>2011.0</td>\n",
              "      <td>9.0</td>\n",
              "      <td>40995.490</td>\n",
              "      <td>189.142794</td>\n",
              "    </tr>\n",
              "    <tr>\n",
              "      <th>21</th>\n",
              "      <td>United Kingdom</td>\n",
              "      <td>2011</td>\n",
              "      <td>3</td>\n",
              "      <td>467198.59</td>\n",
              "      <td>2011.0</td>\n",
              "      <td>9.0</td>\n",
              "      <td>796780.272</td>\n",
              "      <td>170.544237</td>\n",
              "    </tr>\n",
              "    <tr>\n",
              "      <th>16</th>\n",
              "      <td>Poland</td>\n",
              "      <td>2011</td>\n",
              "      <td>3</td>\n",
              "      <td>317.78</td>\n",
              "      <td>2011.0</td>\n",
              "      <td>9.0</td>\n",
              "      <td>529.250</td>\n",
              "      <td>166.546038</td>\n",
              "    </tr>\n",
              "    <tr>\n",
              "      <th>9</th>\n",
              "      <td>France</td>\n",
              "      <td>2011</td>\n",
              "      <td>3</td>\n",
              "      <td>14589.55</td>\n",
              "      <td>2011.0</td>\n",
              "      <td>9.0</td>\n",
              "      <td>23428.040</td>\n",
              "      <td>160.580964</td>\n",
              "    </tr>\n",
              "    <tr>\n",
              "      <th>10</th>\n",
              "      <td>Germany</td>\n",
              "      <td>2011</td>\n",
              "      <td>3</td>\n",
              "      <td>14392.69</td>\n",
              "      <td>2011.0</td>\n",
              "      <td>9.0</td>\n",
              "      <td>18091.220</td>\n",
              "      <td>125.697281</td>\n",
              "    </tr>\n",
              "    <tr>\n",
              "      <th>2</th>\n",
              "      <td>Belgium</td>\n",
              "      <td>2011</td>\n",
              "      <td>3</td>\n",
              "      <td>3351.98</td>\n",
              "      <td>2011.0</td>\n",
              "      <td>9.0</td>\n",
              "      <td>4208.020</td>\n",
              "      <td>125.538339</td>\n",
              "    </tr>\n",
              "    <tr>\n",
              "      <th>14</th>\n",
              "      <td>Netherlands</td>\n",
              "      <td>2011</td>\n",
              "      <td>3</td>\n",
              "      <td>22416.49</td>\n",
              "      <td>2011.0</td>\n",
              "      <td>9.0</td>\n",
              "      <td>26937.260</td>\n",
              "      <td>120.167163</td>\n",
              "    </tr>\n",
              "    <tr>\n",
              "      <th>6</th>\n",
              "      <td>Denmark</td>\n",
              "      <td>2011</td>\n",
              "      <td>3</td>\n",
              "      <td>3978.99</td>\n",
              "      <td>2011.0</td>\n",
              "      <td>9.0</td>\n",
              "      <td>4570.160</td>\n",
              "      <td>114.857288</td>\n",
              "    </tr>\n",
              "    <tr>\n",
              "      <th>19</th>\n",
              "      <td>Sweden</td>\n",
              "      <td>2011</td>\n",
              "      <td>3</td>\n",
              "      <td>4720.58</td>\n",
              "      <td>2011.0</td>\n",
              "      <td>9.0</td>\n",
              "      <td>4575.210</td>\n",
              "      <td>96.920506</td>\n",
              "    </tr>\n",
              "    <tr>\n",
              "      <th>18</th>\n",
              "      <td>Spain</td>\n",
              "      <td>2011</td>\n",
              "      <td>3</td>\n",
              "      <td>5363.15</td>\n",
              "      <td>2011.0</td>\n",
              "      <td>9.0</td>\n",
              "      <td>5189.240</td>\n",
              "      <td>96.757316</td>\n",
              "    </tr>\n",
              "    <tr>\n",
              "      <th>17</th>\n",
              "      <td>Portugal</td>\n",
              "      <td>2011</td>\n",
              "      <td>3</td>\n",
              "      <td>2660.85</td>\n",
              "      <td>2011.0</td>\n",
              "      <td>9.0</td>\n",
              "      <td>1433.220</td>\n",
              "      <td>53.863239</td>\n",
              "    </tr>\n",
              "    <tr>\n",
              "      <th>4</th>\n",
              "      <td>Channel Islands</td>\n",
              "      <td>2011</td>\n",
              "      <td>3</td>\n",
              "      <td>3509.33</td>\n",
              "      <td>2011.0</td>\n",
              "      <td>9.0</td>\n",
              "      <td>1323.750</td>\n",
              "      <td>37.720875</td>\n",
              "    </tr>\n",
              "    <tr>\n",
              "      <th>0</th>\n",
              "      <td>Australia</td>\n",
              "      <td>2011</td>\n",
              "      <td>3</td>\n",
              "      <td>17223.99</td>\n",
              "      <td>2011.0</td>\n",
              "      <td>9.0</td>\n",
              "      <td>5106.730</td>\n",
              "      <td>29.648937</td>\n",
              "    </tr>\n",
              "    <tr>\n",
              "      <th>5</th>\n",
              "      <td>Cyprus</td>\n",
              "      <td>2011</td>\n",
              "      <td>3</td>\n",
              "      <td>938.39</td>\n",
              "      <td>2011.0</td>\n",
              "      <td>9.0</td>\n",
              "      <td>196.350</td>\n",
              "      <td>20.924136</td>\n",
              "    </tr>\n",
              "    <tr>\n",
              "      <th>8</th>\n",
              "      <td>Finland</td>\n",
              "      <td>2011</td>\n",
              "      <td>3</td>\n",
              "      <td>5936.82</td>\n",
              "      <td>2011.0</td>\n",
              "      <td>9.0</td>\n",
              "      <td>1105.450</td>\n",
              "      <td>18.620238</td>\n",
              "    </tr>\n",
              "    <tr>\n",
              "      <th>12</th>\n",
              "      <td>Italy</td>\n",
              "      <td>2011</td>\n",
              "      <td>3</td>\n",
              "      <td>1806.81</td>\n",
              "      <td>2011.0</td>\n",
              "      <td>9.0</td>\n",
              "      <td>279.800</td>\n",
              "      <td>15.485856</td>\n",
              "    </tr>\n",
              "  </tbody>\n",
              "</table>\n",
              "</div>"
            ],
            "text/plain": [
              "            Country  Year_x  Month_x  ...  Month_y     Price_y        perc\n",
              "15           Norway    2011        3  ...      9.0    8678.940  685.914124\n",
              "20      Switzerland    2011        3  ...      9.0    8284.860  442.986157\n",
              "13            Japan    2011        3  ...      9.0     112.080  229.202454\n",
              "7              EIRE    2011        3  ...      9.0   40995.490  189.142794\n",
              "21   United Kingdom    2011        3  ...      9.0  796780.272  170.544237\n",
              "16           Poland    2011        3  ...      9.0     529.250  166.546038\n",
              "9            France    2011        3  ...      9.0   23428.040  160.580964\n",
              "10          Germany    2011        3  ...      9.0   18091.220  125.697281\n",
              "2           Belgium    2011        3  ...      9.0    4208.020  125.538339\n",
              "14      Netherlands    2011        3  ...      9.0   26937.260  120.167163\n",
              "6           Denmark    2011        3  ...      9.0    4570.160  114.857288\n",
              "19           Sweden    2011        3  ...      9.0    4575.210   96.920506\n",
              "18            Spain    2011        3  ...      9.0    5189.240   96.757316\n",
              "17         Portugal    2011        3  ...      9.0    1433.220   53.863239\n",
              "4   Channel Islands    2011        3  ...      9.0    1323.750   37.720875\n",
              "0         Australia    2011        3  ...      9.0    5106.730   29.648937\n",
              "5            Cyprus    2011        3  ...      9.0     196.350   20.924136\n",
              "8           Finland    2011        3  ...      9.0    1105.450   18.620238\n",
              "12            Italy    2011        3  ...      9.0     279.800   15.485856\n",
              "\n",
              "[19 rows x 8 columns]"
            ]
          },
          "metadata": {
            "tags": []
          },
          "execution_count": 61
        }
      ]
    },
    {
      "cell_type": "code",
      "metadata": {
        "id": "yM42Fopurqrn"
      },
      "source": [
        "#Norway, 686"
      ],
      "execution_count": 52,
      "outputs": []
    },
    {
      "cell_type": "markdown",
      "metadata": {
        "id": "ZvCX0qZufhq7"
      },
      "source": [
        "## ⭐️⭐️⭐️ Вопрос 20\n",
        "\n",
        "Большинство клиентов все свои покупки делают из одной и той же страны. Выясним, однако, насколько велика доля путешественников среди клиентов. \n",
        "Сколько клиентов сделали покупки по крайней мере из двух разных стран? (ответ - целое число)"
      ]
    },
    {
      "cell_type": "markdown",
      "metadata": {
        "id": "2ujHtufofhq8"
      },
      "source": [
        "#### Решение"
      ]
    },
    {
      "cell_type": "code",
      "metadata": {
        "id": "2AhOPHJQfhq8",
        "colab": {
          "base_uri": "https://localhost:8080/",
          "height": 979
        },
        "outputId": "a0d0d730-b618-4ebd-d5ac-b97e14a5b4e8"
      },
      "source": [
        "purch_country = purchases.groupby('CustomerID').agg({'Country' : pd.Series.unique}).reset_index()\n",
        "purch_country.head(30)"
      ],
      "execution_count": 53,
      "outputs": [
        {
          "output_type": "execute_result",
          "data": {
            "text/html": [
              "<div>\n",
              "<style scoped>\n",
              "    .dataframe tbody tr th:only-of-type {\n",
              "        vertical-align: middle;\n",
              "    }\n",
              "\n",
              "    .dataframe tbody tr th {\n",
              "        vertical-align: top;\n",
              "    }\n",
              "\n",
              "    .dataframe thead th {\n",
              "        text-align: right;\n",
              "    }\n",
              "</style>\n",
              "<table border=\"1\" class=\"dataframe\">\n",
              "  <thead>\n",
              "    <tr style=\"text-align: right;\">\n",
              "      <th></th>\n",
              "      <th>CustomerID</th>\n",
              "      <th>Country</th>\n",
              "    </tr>\n",
              "  </thead>\n",
              "  <tbody>\n",
              "    <tr>\n",
              "      <th>0</th>\n",
              "      <td>12346.0</td>\n",
              "      <td>United Kingdom</td>\n",
              "    </tr>\n",
              "    <tr>\n",
              "      <th>1</th>\n",
              "      <td>12347.0</td>\n",
              "      <td>Iceland</td>\n",
              "    </tr>\n",
              "    <tr>\n",
              "      <th>2</th>\n",
              "      <td>12348.0</td>\n",
              "      <td>Finland</td>\n",
              "    </tr>\n",
              "    <tr>\n",
              "      <th>3</th>\n",
              "      <td>12349.0</td>\n",
              "      <td>Italy</td>\n",
              "    </tr>\n",
              "    <tr>\n",
              "      <th>4</th>\n",
              "      <td>12350.0</td>\n",
              "      <td>Norway</td>\n",
              "    </tr>\n",
              "    <tr>\n",
              "      <th>5</th>\n",
              "      <td>12352.0</td>\n",
              "      <td>Norway</td>\n",
              "    </tr>\n",
              "    <tr>\n",
              "      <th>6</th>\n",
              "      <td>12353.0</td>\n",
              "      <td>Bahrain</td>\n",
              "    </tr>\n",
              "    <tr>\n",
              "      <th>7</th>\n",
              "      <td>12354.0</td>\n",
              "      <td>Spain</td>\n",
              "    </tr>\n",
              "    <tr>\n",
              "      <th>8</th>\n",
              "      <td>12355.0</td>\n",
              "      <td>Bahrain</td>\n",
              "    </tr>\n",
              "    <tr>\n",
              "      <th>9</th>\n",
              "      <td>12356.0</td>\n",
              "      <td>Portugal</td>\n",
              "    </tr>\n",
              "    <tr>\n",
              "      <th>10</th>\n",
              "      <td>12357.0</td>\n",
              "      <td>Switzerland</td>\n",
              "    </tr>\n",
              "    <tr>\n",
              "      <th>11</th>\n",
              "      <td>12358.0</td>\n",
              "      <td>Austria</td>\n",
              "    </tr>\n",
              "    <tr>\n",
              "      <th>12</th>\n",
              "      <td>12359.0</td>\n",
              "      <td>Cyprus</td>\n",
              "    </tr>\n",
              "    <tr>\n",
              "      <th>13</th>\n",
              "      <td>12360.0</td>\n",
              "      <td>Austria</td>\n",
              "    </tr>\n",
              "    <tr>\n",
              "      <th>14</th>\n",
              "      <td>12361.0</td>\n",
              "      <td>Belgium</td>\n",
              "    </tr>\n",
              "    <tr>\n",
              "      <th>15</th>\n",
              "      <td>12362.0</td>\n",
              "      <td>Belgium</td>\n",
              "    </tr>\n",
              "    <tr>\n",
              "      <th>16</th>\n",
              "      <td>12363.0</td>\n",
              "      <td>Unspecified</td>\n",
              "    </tr>\n",
              "    <tr>\n",
              "      <th>17</th>\n",
              "      <td>12364.0</td>\n",
              "      <td>Belgium</td>\n",
              "    </tr>\n",
              "    <tr>\n",
              "      <th>18</th>\n",
              "      <td>12365.0</td>\n",
              "      <td>Cyprus</td>\n",
              "    </tr>\n",
              "    <tr>\n",
              "      <th>19</th>\n",
              "      <td>12367.0</td>\n",
              "      <td>Denmark</td>\n",
              "    </tr>\n",
              "    <tr>\n",
              "      <th>20</th>\n",
              "      <td>12370.0</td>\n",
              "      <td>[Cyprus, Austria]</td>\n",
              "    </tr>\n",
              "    <tr>\n",
              "      <th>21</th>\n",
              "      <td>12371.0</td>\n",
              "      <td>Switzerland</td>\n",
              "    </tr>\n",
              "    <tr>\n",
              "      <th>22</th>\n",
              "      <td>12372.0</td>\n",
              "      <td>Denmark</td>\n",
              "    </tr>\n",
              "    <tr>\n",
              "      <th>23</th>\n",
              "      <td>12373.0</td>\n",
              "      <td>Austria</td>\n",
              "    </tr>\n",
              "    <tr>\n",
              "      <th>24</th>\n",
              "      <td>12374.0</td>\n",
              "      <td>Austria</td>\n",
              "    </tr>\n",
              "    <tr>\n",
              "      <th>25</th>\n",
              "      <td>12375.0</td>\n",
              "      <td>Finland</td>\n",
              "    </tr>\n",
              "    <tr>\n",
              "      <th>26</th>\n",
              "      <td>12377.0</td>\n",
              "      <td>Switzerland</td>\n",
              "    </tr>\n",
              "    <tr>\n",
              "      <th>27</th>\n",
              "      <td>12378.0</td>\n",
              "      <td>Switzerland</td>\n",
              "    </tr>\n",
              "    <tr>\n",
              "      <th>28</th>\n",
              "      <td>12379.0</td>\n",
              "      <td>Belgium</td>\n",
              "    </tr>\n",
              "    <tr>\n",
              "      <th>29</th>\n",
              "      <td>12380.0</td>\n",
              "      <td>Belgium</td>\n",
              "    </tr>\n",
              "  </tbody>\n",
              "</table>\n",
              "</div>"
            ],
            "text/plain": [
              "    CustomerID            Country\n",
              "0      12346.0     United Kingdom\n",
              "1      12347.0            Iceland\n",
              "2      12348.0            Finland\n",
              "3      12349.0              Italy\n",
              "4      12350.0             Norway\n",
              "5      12352.0             Norway\n",
              "6      12353.0            Bahrain\n",
              "7      12354.0              Spain\n",
              "8      12355.0            Bahrain\n",
              "9      12356.0           Portugal\n",
              "10     12357.0        Switzerland\n",
              "11     12358.0            Austria\n",
              "12     12359.0             Cyprus\n",
              "13     12360.0            Austria\n",
              "14     12361.0            Belgium\n",
              "15     12362.0            Belgium\n",
              "16     12363.0        Unspecified\n",
              "17     12364.0            Belgium\n",
              "18     12365.0             Cyprus\n",
              "19     12367.0            Denmark\n",
              "20     12370.0  [Cyprus, Austria]\n",
              "21     12371.0        Switzerland\n",
              "22     12372.0            Denmark\n",
              "23     12373.0            Austria\n",
              "24     12374.0            Austria\n",
              "25     12375.0            Finland\n",
              "26     12377.0        Switzerland\n",
              "27     12378.0        Switzerland\n",
              "28     12379.0            Belgium\n",
              "29     12380.0            Belgium"
            ]
          },
          "metadata": {
            "tags": []
          },
          "execution_count": 53
        }
      ]
    },
    {
      "cell_type": "code",
      "metadata": {
        "colab": {
          "base_uri": "https://localhost:8080/"
        },
        "id": "PC16nmT2rqro",
        "outputId": "317d7638-eacd-4f26-93bb-8c40b3177196"
      },
      "source": [
        "purch_country['Country'].apply(pd.Series).dropna()[1].count()"
      ],
      "execution_count": 54,
      "outputs": [
        {
          "output_type": "execute_result",
          "data": {
            "text/plain": [
              "8"
            ]
          },
          "metadata": {
            "tags": []
          },
          "execution_count": 54
        }
      ]
    },
    {
      "cell_type": "markdown",
      "metadata": {
        "id": "pQrKQuPEfhrA"
      },
      "source": [
        "## ⭐️⭐️⭐️ Вопрос 21\n",
        "\n",
        "Мы запускаем в Италии рекомендательную систему \"С этим товаром часто покупают...\", и для этого хотим узнать, какие различные товары чаще всего встречаются в одной покупке из этой страны. Определите, какая пара различных товаров чаще всего встречается в различных покупках с ```Country=='Italy'```, и в скольких покупках это происходит. Одинаковые товары или нет, проверяйте по равенству поля Description. \n",
        "\n",
        "(ответ: название (Description) первого товара, название (Description) второго товара, целое число)"
      ]
    },
    {
      "cell_type": "markdown",
      "metadata": {
        "id": "fiV0QEWJfhrA"
      },
      "source": [
        "#### Решение"
      ]
    },
    {
      "cell_type": "code",
      "metadata": {
        "id": "HDa1ruzgfhrA"
      },
      "source": [
        ""
      ],
      "execution_count": 54,
      "outputs": []
    }
  ]
}