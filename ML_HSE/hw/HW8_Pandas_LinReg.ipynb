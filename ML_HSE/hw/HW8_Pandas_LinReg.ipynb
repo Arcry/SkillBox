{
 "cells": [
  {
   "cell_type": "code",
   "execution_count": 45,
   "id": "3812a55c",
   "metadata": {
    "ExecuteTime": {
     "end_time": "2021-05-20T10:42:02.916854Z",
     "start_time": "2021-05-20T10:42:02.908824Z"
    }
   },
   "outputs": [],
   "source": [
    "import pandas as pd\n",
    "import numpy as np\n",
    "import matplotlib.pyplot as plt\n",
    "import scipy"
   ]
  },
  {
   "cell_type": "code",
   "execution_count": 24,
   "id": "ae42c99f",
   "metadata": {
    "ExecuteTime": {
     "end_time": "2021-05-20T10:22:23.185555Z",
     "start_time": "2021-05-20T10:22:21.749539Z"
    }
   },
   "outputs": [],
   "source": [
    "data = pd.read_csv('C:/Users/Arcry/SkillBox/ML_HSE/files/salary-train.csv')\n",
    "data_test = pd.read_csv('C:/Users/Arcry/SkillBox/ML_HSE/files/salary-test-mini.csv')"
   ]
  },
  {
   "cell_type": "code",
   "execution_count": 4,
   "id": "e437a44c",
   "metadata": {
    "ExecuteTime": {
     "end_time": "2021-05-20T10:10:57.587588Z",
     "start_time": "2021-05-20T10:10:57.557559Z"
    }
   },
   "outputs": [
    {
     "data": {
      "text/html": [
       "<div>\n",
       "<style scoped>\n",
       "    .dataframe tbody tr th:only-of-type {\n",
       "        vertical-align: middle;\n",
       "    }\n",
       "\n",
       "    .dataframe tbody tr th {\n",
       "        vertical-align: top;\n",
       "    }\n",
       "\n",
       "    .dataframe thead th {\n",
       "        text-align: right;\n",
       "    }\n",
       "</style>\n",
       "<table border=\"1\" class=\"dataframe\">\n",
       "  <thead>\n",
       "    <tr style=\"text-align: right;\">\n",
       "      <th></th>\n",
       "      <th>FullDescription</th>\n",
       "      <th>LocationNormalized</th>\n",
       "      <th>ContractTime</th>\n",
       "      <th>SalaryNormalized</th>\n",
       "    </tr>\n",
       "  </thead>\n",
       "  <tbody>\n",
       "    <tr>\n",
       "      <th>0</th>\n",
       "      <td>International Sales Manager London ****k  ****...</td>\n",
       "      <td>London</td>\n",
       "      <td>permanent</td>\n",
       "      <td>33000</td>\n",
       "    </tr>\n",
       "    <tr>\n",
       "      <th>1</th>\n",
       "      <td>An ideal opportunity for an individual that ha...</td>\n",
       "      <td>London</td>\n",
       "      <td>permanent</td>\n",
       "      <td>50000</td>\n",
       "    </tr>\n",
       "    <tr>\n",
       "      <th>2</th>\n",
       "      <td>Online Content and Brand Manager// Luxury Reta...</td>\n",
       "      <td>South East London</td>\n",
       "      <td>permanent</td>\n",
       "      <td>40000</td>\n",
       "    </tr>\n",
       "    <tr>\n",
       "      <th>3</th>\n",
       "      <td>A great local marketleader is seeking a perman...</td>\n",
       "      <td>Dereham</td>\n",
       "      <td>permanent</td>\n",
       "      <td>22500</td>\n",
       "    </tr>\n",
       "    <tr>\n",
       "      <th>4</th>\n",
       "      <td>Registered Nurse / RGN  Nursing Home for Young...</td>\n",
       "      <td>Sutton Coldfield</td>\n",
       "      <td>NaN</td>\n",
       "      <td>20355</td>\n",
       "    </tr>\n",
       "  </tbody>\n",
       "</table>\n",
       "</div>"
      ],
      "text/plain": [
       "                                     FullDescription LocationNormalized  \\\n",
       "0  International Sales Manager London ****k  ****...             London   \n",
       "1  An ideal opportunity for an individual that ha...             London   \n",
       "2  Online Content and Brand Manager// Luxury Reta...  South East London   \n",
       "3  A great local marketleader is seeking a perman...            Dereham   \n",
       "4  Registered Nurse / RGN  Nursing Home for Young...   Sutton Coldfield   \n",
       "\n",
       "  ContractTime  SalaryNormalized  \n",
       "0    permanent             33000  \n",
       "1    permanent             50000  \n",
       "2    permanent             40000  \n",
       "3    permanent             22500  \n",
       "4          NaN             20355  "
      ]
     },
     "execution_count": 4,
     "metadata": {},
     "output_type": "execute_result"
    }
   ],
   "source": [
    "data.head()"
   ]
  },
  {
   "cell_type": "code",
   "execution_count": 25,
   "id": "ec8b3a45",
   "metadata": {
    "ExecuteTime": {
     "end_time": "2021-05-20T10:22:28.810616Z",
     "start_time": "2021-05-20T10:22:28.787614Z"
    }
   },
   "outputs": [
    {
     "data": {
      "text/html": [
       "<div>\n",
       "<style scoped>\n",
       "    .dataframe tbody tr th:only-of-type {\n",
       "        vertical-align: middle;\n",
       "    }\n",
       "\n",
       "    .dataframe tbody tr th {\n",
       "        vertical-align: top;\n",
       "    }\n",
       "\n",
       "    .dataframe thead th {\n",
       "        text-align: right;\n",
       "    }\n",
       "</style>\n",
       "<table border=\"1\" class=\"dataframe\">\n",
       "  <thead>\n",
       "    <tr style=\"text-align: right;\">\n",
       "      <th></th>\n",
       "      <th>FullDescription</th>\n",
       "      <th>LocationNormalized</th>\n",
       "      <th>ContractTime</th>\n",
       "      <th>SalaryNormalized</th>\n",
       "    </tr>\n",
       "  </thead>\n",
       "  <tbody>\n",
       "    <tr>\n",
       "      <th>0</th>\n",
       "      <td>We currently have a vacancy for an HR Project ...</td>\n",
       "      <td>Milton Keynes</td>\n",
       "      <td>contract</td>\n",
       "      <td>NaN</td>\n",
       "    </tr>\n",
       "    <tr>\n",
       "      <th>1</th>\n",
       "      <td>A Web developer opportunity has arisen with an...</td>\n",
       "      <td>Manchester</td>\n",
       "      <td>permanent</td>\n",
       "      <td>NaN</td>\n",
       "    </tr>\n",
       "  </tbody>\n",
       "</table>\n",
       "</div>"
      ],
      "text/plain": [
       "                                     FullDescription LocationNormalized  \\\n",
       "0  We currently have a vacancy for an HR Project ...      Milton Keynes   \n",
       "1  A Web developer opportunity has arisen with an...         Manchester   \n",
       "\n",
       "  ContractTime  SalaryNormalized  \n",
       "0     contract               NaN  \n",
       "1    permanent               NaN  "
      ]
     },
     "execution_count": 25,
     "metadata": {},
     "output_type": "execute_result"
    }
   ],
   "source": [
    "data_test.head()"
   ]
  },
  {
   "cell_type": "code",
   "execution_count": 8,
   "id": "632dda81",
   "metadata": {
    "ExecuteTime": {
     "end_time": "2021-05-20T10:16:27.722616Z",
     "start_time": "2021-05-20T10:16:27.699585Z"
    }
   },
   "outputs": [],
   "source": [
    "X_train = data.iloc[:,:-1]\n",
    "y_train = data.iloc[:,-1]"
   ]
  },
  {
   "cell_type": "code",
   "execution_count": 26,
   "id": "b9972277",
   "metadata": {
    "ExecuteTime": {
     "end_time": "2021-05-20T10:24:35.185998Z",
     "start_time": "2021-05-20T10:24:35.173002Z"
    }
   },
   "outputs": [],
   "source": [
    "X_test = data_test.iloc[:,:-1]"
   ]
  },
  {
   "cell_type": "code",
   "execution_count": 14,
   "id": "2e29544c",
   "metadata": {
    "ExecuteTime": {
     "end_time": "2021-05-20T10:19:10.354961Z",
     "start_time": "2021-05-20T10:19:04.923929Z"
    }
   },
   "outputs": [],
   "source": [
    "X_train['FullDescription'] = X_train['FullDescription'].replace('[^a-zA-Z0-9]', ' ', regex = True)"
   ]
  },
  {
   "cell_type": "code",
   "execution_count": 18,
   "id": "67858f18",
   "metadata": {
    "ExecuteTime": {
     "end_time": "2021-05-20T10:20:52.378280Z",
     "start_time": "2021-05-20T10:20:52.356281Z"
    }
   },
   "outputs": [],
   "source": [
    "X_train = X_train.fillna('nan')"
   ]
  },
  {
   "cell_type": "code",
   "execution_count": 21,
   "id": "5126ea86",
   "metadata": {
    "ExecuteTime": {
     "end_time": "2021-05-20T10:21:03.248826Z",
     "start_time": "2021-05-20T10:21:03.220824Z"
    }
   },
   "outputs": [
    {
     "data": {
      "text/plain": [
       "FullDescription       0\n",
       "LocationNormalized    0\n",
       "ContractTime          0\n",
       "dtype: int64"
      ]
     },
     "execution_count": 21,
     "metadata": {},
     "output_type": "execute_result"
    }
   ],
   "source": [
    "X_train.isna().sum()"
   ]
  },
  {
   "cell_type": "code",
   "execution_count": 23,
   "id": "fac6594a",
   "metadata": {
    "ExecuteTime": {
     "end_time": "2021-05-20T10:21:12.660884Z",
     "start_time": "2021-05-20T10:21:12.461672Z"
    }
   },
   "outputs": [],
   "source": [
    "X_train = X_train.applymap(lambda x: x.lower())"
   ]
  },
  {
   "cell_type": "code",
   "execution_count": 29,
   "id": "0baf7505",
   "metadata": {
    "ExecuteTime": {
     "end_time": "2021-05-20T10:31:08.807108Z",
     "start_time": "2021-05-20T10:31:08.789089Z"
    }
   },
   "outputs": [],
   "source": [
    "from  sklearn.feature_extraction.text import TfidfVectorizer\n",
    "from sklearn.feature_extraction import DictVectorizer\n"
   ]
  },
  {
   "cell_type": "code",
   "execution_count": 30,
   "id": "219d5567",
   "metadata": {
    "ExecuteTime": {
     "end_time": "2021-05-20T10:31:42.380185Z",
     "start_time": "2021-05-20T10:31:42.372184Z"
    }
   },
   "outputs": [],
   "source": [
    "enc = DictVectorizer()\n",
    "vect = TfidfVectorizer(min_df=5)"
   ]
  },
  {
   "cell_type": "code",
   "execution_count": 33,
   "id": "14b74f24",
   "metadata": {
    "ExecuteTime": {
     "end_time": "2021-05-20T10:34:33.370986Z",
     "start_time": "2021-05-20T10:34:20.565987Z"
    }
   },
   "outputs": [],
   "source": [
    "X_train_vec = vect.fit_transform(X_train['FullDescription'])\n",
    "X_test_vec = vect.transform(X_test['FullDescription'])"
   ]
  },
  {
   "cell_type": "code",
   "execution_count": 37,
   "id": "0ef96bfd",
   "metadata": {
    "ExecuteTime": {
     "end_time": "2021-05-20T10:37:09.508875Z",
     "start_time": "2021-05-20T10:37:09.158850Z"
    }
   },
   "outputs": [],
   "source": [
    "X_train_enc = enc.fit_transform(X_train[['LocationNormalized', 'ContractTime']].to_dict('records'))\n",
    "X_test_enc = enc.transform(X_test[['LocationNormalized', 'ContractTime']].to_dict('records'))"
   ]
  },
  {
   "cell_type": "code",
   "execution_count": 46,
   "id": "626c9200",
   "metadata": {
    "ExecuteTime": {
     "end_time": "2021-05-20T10:42:05.908918Z",
     "start_time": "2021-05-20T10:42:05.676919Z"
    }
   },
   "outputs": [],
   "source": [
    "X_train_new = scipy.sparse.hstack([X_train_enc, X_train_vec])\n",
    "X_test_new = scipy.sparse.hstack([X_test_enc, X_test_vec])"
   ]
  },
  {
   "cell_type": "code",
   "execution_count": 42,
   "id": "1f6a7643",
   "metadata": {
    "ExecuteTime": {
     "end_time": "2021-05-20T10:40:29.593718Z",
     "start_time": "2021-05-20T10:40:29.580706Z"
    }
   },
   "outputs": [],
   "source": [
    "from sklearn.linear_model import Ridge"
   ]
  },
  {
   "cell_type": "code",
   "execution_count": 43,
   "id": "f4de250d",
   "metadata": {
    "ExecuteTime": {
     "end_time": "2021-05-20T10:40:59.654976Z",
     "start_time": "2021-05-20T10:40:59.645977Z"
    }
   },
   "outputs": [],
   "source": [
    "ridge = Ridge(alpha=1, random_state=241)"
   ]
  },
  {
   "cell_type": "code",
   "execution_count": 47,
   "id": "64169fd4",
   "metadata": {
    "ExecuteTime": {
     "end_time": "2021-05-20T10:42:10.708082Z",
     "start_time": "2021-05-20T10:42:07.756867Z"
    }
   },
   "outputs": [
    {
     "data": {
      "text/plain": [
       "Ridge(alpha=1, random_state=241)"
      ]
     },
     "execution_count": 47,
     "metadata": {},
     "output_type": "execute_result"
    }
   ],
   "source": [
    "ridge.fit(X_train_new, y_train)"
   ]
  },
  {
   "cell_type": "code",
   "execution_count": 49,
   "id": "36db002b",
   "metadata": {
    "ExecuteTime": {
     "end_time": "2021-05-20T10:42:49.800762Z",
     "start_time": "2021-05-20T10:42:49.789764Z"
    }
   },
   "outputs": [
    {
     "data": {
      "text/plain": [
       "array([55868.77843178, 37144.82255568])"
      ]
     },
     "execution_count": 49,
     "metadata": {},
     "output_type": "execute_result"
    }
   ],
   "source": [
    "ridge.predict(X_test_new)"
   ]
  }
 ],
 "metadata": {
  "kernelspec": {
   "display_name": "Python 3",
   "language": "python",
   "name": "python3"
  },
  "language_info": {
   "codemirror_mode": {
    "name": "ipython",
    "version": 3
   },
   "file_extension": ".py",
   "mimetype": "text/x-python",
   "name": "python",
   "nbconvert_exporter": "python",
   "pygments_lexer": "ipython3",
   "version": "3.7.10"
  },
  "toc": {
   "base_numbering": 1,
   "nav_menu": {},
   "number_sections": true,
   "sideBar": true,
   "skip_h1_title": false,
   "title_cell": "Table of Contents",
   "title_sidebar": "Contents",
   "toc_cell": false,
   "toc_position": {},
   "toc_section_display": true,
   "toc_window_display": false
  }
 },
 "nbformat": 4,
 "nbformat_minor": 5
}
