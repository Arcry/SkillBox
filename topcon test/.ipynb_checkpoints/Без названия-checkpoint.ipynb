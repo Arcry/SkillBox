{
 "cells": [
  {
   "cell_type": "code",
   "execution_count": 41,
   "id": "4df57624",
   "metadata": {
    "ExecuteTime": {
     "end_time": "2021-06-10T16:38:15.256526Z",
     "start_time": "2021-06-10T16:38:15.248920Z"
    }
   },
   "outputs": [
    {
     "ename": "TypeError",
     "evalue": "string argument without an encoding",
     "output_type": "error",
     "traceback": [
      "\u001b[0;31m---------------------------------------------------------------------------\u001b[0m",
      "\u001b[0;31mTypeError\u001b[0m                                 Traceback (most recent call last)",
      "\u001b[0;32m<ipython-input-41-1f2486fe1bbe>\u001b[0m in \u001b[0;36m<module>\u001b[0;34m\u001b[0m\n\u001b[1;32m      3\u001b[0m \u001b[0mchunk\u001b[0m \u001b[0;34m=\u001b[0m \u001b[0mf\u001b[0m\u001b[0;34m.\u001b[0m\u001b[0mreadline\u001b[0m\u001b[0;34m(\u001b[0m\u001b[0;34m)\u001b[0m\u001b[0;34m\u001b[0m\u001b[0;34m\u001b[0m\u001b[0m\n\u001b[1;32m      4\u001b[0m \u001b[0;32mif\u001b[0m \u001b[0mlen\u001b[0m\u001b[0;34m(\u001b[0m\u001b[0mchunk\u001b[0m\u001b[0;34m)\u001b[0m\u001b[0;34m<\u001b[0m\u001b[0;36m100\u001b[0m\u001b[0;34m:\u001b[0m\u001b[0;34m\u001b[0m\u001b[0;34m\u001b[0m\u001b[0m\n\u001b[0;32m----> 5\u001b[0;31m     \u001b[0mchunk\u001b[0m \u001b[0;34m=\u001b[0m \u001b[0mbytearray\u001b[0m\u001b[0;34m(\u001b[0m\u001b[0;34m(\u001b[0m\u001b[0;36m100\u001b[0m \u001b[0;34m-\u001b[0m \u001b[0mlen\u001b[0m\u001b[0;34m(\u001b[0m\u001b[0mchunk\u001b[0m\u001b[0;34m)\u001b[0m\u001b[0;34m)\u001b[0m \u001b[0;34m*\u001b[0m \u001b[0;34m'0'\u001b[0m\u001b[0;34m)\u001b[0m \u001b[0;34m+\u001b[0m \u001b[0mchunk\u001b[0m\u001b[0;34m\u001b[0m\u001b[0;34m\u001b[0m\u001b[0m\n\u001b[0m\u001b[1;32m      6\u001b[0m \u001b[0mf1\u001b[0m\u001b[0;34m.\u001b[0m\u001b[0mwrite\u001b[0m\u001b[0;34m(\u001b[0m\u001b[0mchunk\u001b[0m\u001b[0;34m)\u001b[0m\u001b[0;34m\u001b[0m\u001b[0;34m\u001b[0m\u001b[0m\n\u001b[1;32m      7\u001b[0m \u001b[0;31m# print(chunk)\u001b[0m\u001b[0;34m\u001b[0m\u001b[0;34m\u001b[0m\u001b[0;34m\u001b[0m\u001b[0m\n",
      "\u001b[0;31mTypeError\u001b[0m: string argument without an encoding"
     ]
    }
   ],
   "source": [
    "f = open('/home/arcry/python/zadanie/NMEA_GGA.tps', 'r')\n",
    "f1 = open('/home/arcry/python/zadanie/NMEA_GGA1.txt', 'wb')\n",
    "chunk = f.readline()\n",
    "if len(chunk)<100:\n",
    "    chunk = bytearray((100 - len(chunk)) * '0') + chunk\n",
    "f1.write(chunk)\n",
    "# print(chunk)\n",
    "i = 0\n",
    "while chunk: #loop until the chunk is empty (the file is exhausted)\n",
    "# \tsend_chunk_to_space(chunk)\n",
    "    print(chunk)\n",
    "    chunk = f.readline()\n",
    "    if len(chunk)<100:\n",
    "        chunk =  bytearray((100 - len(chunk)) * '0') + chunk\n",
    "    f1.write(chunk)#read the next chunk\n",
    "#     i += 1    \n",
    "#     print(i)\n",
    "\n",
    "f.close()\n",
    "f1.close()\n",
    "\n"
   ]
  },
  {
   "cell_type": "code",
   "execution_count": 67,
   "id": "df3fa982",
   "metadata": {
    "ExecuteTime": {
     "end_time": "2021-06-10T18:11:55.471782Z",
     "start_time": "2021-06-10T18:11:55.469736Z"
    }
   },
   "outputs": [],
   "source": [
    "f = open('/home/arcry/python/zadanie/NMEA_GGA.tps', 'rb')\n",
    "chunk = f.readline()\n",
    "f.close()\n",
    "\n",
    "\n",
    "\n",
    "\n"
   ]
  },
  {
   "cell_type": "code",
   "execution_count": 68,
   "id": "745f4d5a",
   "metadata": {
    "ExecuteTime": {
     "end_time": "2021-06-10T18:11:57.122819Z",
     "start_time": "2021-06-10T18:11:57.120473Z"
    }
   },
   "outputs": [
    {
     "data": {
      "text/plain": [
       "b'$GPGGA,210134.00,5551.2945845,N,03758.8719241,E,1,16,0.68,163.3308,M,14.1508,M,,*5B\\r\\n'"
      ]
     },
     "execution_count": 68,
     "metadata": {},
     "output_type": "execute_result"
    }
   ],
   "source": [
    "#!/usr/bin/env python\n",
    "# -*- coding: utf-8 -*-\n",
    "\n",
    "import socket\n",
    "\n",
    "sock = socket.socket()\n",
    "sock.connect(('127.0.0.1', 9090))\n",
    "\n",
    "sock.send(bytearray('ready', 'utf-8'))\n",
    "\n",
    "\n",
    "data = sock.recv(5)\n",
    "if data == b'ready':\n",
    "    print('server_ready')\n",
    "    f = open('/home/arcry/python/zadanie/NMEA_GGA3.txt', 'wb')\n",
    "    while True:\n",
    "\n",
    "        data = sock.recv(100)\n",
    "\n",
    "        # print(data)\n",
    "        if data.decode(\"utf-8\").find('end') != -1:\n",
    "            data = data.replace(b'end', b'')\n",
    "            f.write(data)\n",
    "            print('load_over')\n",
    "            break\n",
    "        else:\n",
    "            # print('loading')\n",
    "            # nums.append(data)\n",
    "            f.write(data)\n",
    "    else:\n",
    "        f.close()\n",
    "else:\n",
    "    print(data)\n",
    "\n",
    "\n",
    "sock.close()\n",
    "\n",
    "\n",
    "print(\"closed_connection\")\n",
    "\n",
    "for n in nums:\n",
    "    print(int(n))"
   ]
  },
  {
   "cell_type": "code",
   "execution_count": 90,
   "id": "8941d5ba",
   "metadata": {
    "ExecuteTime": {
     "end_time": "2021-06-10T21:05:30.472971Z",
     "start_time": "2021-06-10T21:05:30.470464Z"
    }
   },
   "outputs": [
    {
     "data": {
      "text/plain": [
       "13"
      ]
     },
     "execution_count": 90,
     "metadata": {},
     "output_type": "execute_result"
    }
   ],
   "source": [
    "b'\\r\\n'"
   ]
  },
  {
   "cell_type": "code",
   "execution_count": 95,
   "id": "e7b28255",
   "metadata": {
    "ExecuteTime": {
     "end_time": "2021-06-10T21:06:30.503644Z",
     "start_time": "2021-06-10T21:06:30.501079Z"
    }
   },
   "outputs": [
    {
     "data": {
      "text/plain": [
       "True"
      ]
     },
     "execution_count": 95,
     "metadata": {},
     "output_type": "execute_result"
    }
   ],
   "source": [
    "chunk[-2:] == b'\\r\\n'"
   ]
  },
  {
   "cell_type": "code",
   "execution_count": 101,
   "id": "e6052630",
   "metadata": {
    "ExecuteTime": {
     "end_time": "2021-06-10T21:15:19.407945Z",
     "start_time": "2021-06-10T21:15:19.405535Z"
    }
   },
   "outputs": [],
   "source": [
    "def md5sum(path):\n",
    "    md5_hash = hashlib.md5()\n",
    "\n",
    "    with open(path,\"rb\") as f:\n",
    "        content = f.read()\n",
    "        md5_hash.update(content)\n",
    "        digest = md5_hash.hexdigest()\n",
    "    return(digest)"
   ]
  },
  {
   "cell_type": "code",
   "execution_count": 126,
   "id": "53a16b26",
   "metadata": {
    "ExecuteTime": {
     "end_time": "2021-06-10T22:06:20.092572Z",
     "start_time": "2021-06-10T22:06:20.083008Z"
    }
   },
   "outputs": [
    {
     "data": {
      "text/plain": [
       "'0b836ab63f9a042137b8a5d27099f9ad'"
      ]
     },
     "execution_count": 126,
     "metadata": {},
     "output_type": "execute_result"
    }
   ],
   "source": [
    "md5_for_file('/home/arcry/python/zadanie/NMEA_GGA3.tps')"
   ]
  },
  {
   "cell_type": "code",
   "execution_count": 116,
   "id": "8b6c154d",
   "metadata": {
    "ExecuteTime": {
     "end_time": "2021-06-10T21:40:08.328068Z",
     "start_time": "2021-06-10T21:40:08.318469Z"
    }
   },
   "outputs": [
    {
     "name": "stdout",
     "output_type": "stream",
     "text": [
      "-7672745251169440582\n",
      "0b836ab63f9a042137b8a5d27099f9ad\n"
     ]
    }
   ],
   "source": [
    "import hashlib\n",
    " \n",
    "md5_hash = hashlib.md5()\n",
    "\n",
    "a_file = open('/home/arcry/python/zadanie/NMEA_GGA.tps', \"rb\")\n",
    "content = a_file.read()\n",
    "md5_hash.update(content)\n",
    "\n",
    "digest = md5_hash.hexdigest()\n",
    "print(hash(content))\n",
    "print(digest)\n",
    "a_file.close()"
   ]
  },
  {
   "cell_type": "code",
   "execution_count": 122,
   "id": "4b141a01",
   "metadata": {
    "ExecuteTime": {
     "end_time": "2021-06-10T21:56:39.536370Z",
     "start_time": "2021-06-10T21:56:39.534258Z"
    }
   },
   "outputs": [],
   "source": [
    "def md5_for_file(path, block_size=2**20):\n",
    "    md5 = hashlib.md5()\n",
    "    with open(path,\"rb\") as f:\n",
    "        while True:\n",
    "            data = f.read(block_size)\n",
    "            if not data:\n",
    "                break\n",
    "            md5.update(data)\n",
    "    return md5.digest()"
   ]
  },
  {
   "cell_type": "code",
   "execution_count": 98,
   "id": "17efa5ab",
   "metadata": {
    "ExecuteTime": {
     "end_time": "2021-06-10T21:08:30.596182Z",
     "start_time": "2021-06-10T21:08:30.591881Z"
    }
   },
   "outputs": [
    {
     "data": {
      "text/plain": [
       "True"
      ]
     },
     "execution_count": 98,
     "metadata": {},
     "output_type": "execute_result"
    }
   ],
   "source": [
    "import filecmp\n",
    "filecmp.cmp('/home/arcry/python/zadanie/NMEA_GGA.tps', '/home/arcry/python/zadanie/NMEA_GGA3.tps')"
   ]
  },
  {
   "cell_type": "code",
   "execution_count": 45,
   "id": "b67b6bd3",
   "metadata": {
    "ExecuteTime": {
     "end_time": "2021-06-10T17:26:33.301102Z",
     "start_time": "2021-06-10T17:26:33.299070Z"
    }
   },
   "outputs": [],
   "source": [
    "if len(chunk)<100:\n",
    "    chunk = (100 - len(chunk)) * '0' + chunk"
   ]
  },
  {
   "cell_type": "code",
   "execution_count": 48,
   "id": "921995f8",
   "metadata": {
    "ExecuteTime": {
     "end_time": "2021-06-10T17:28:38.401697Z",
     "start_time": "2021-06-10T17:28:38.396023Z"
    }
   },
   "outputs": [
    {
     "data": {
      "text/plain": [
       "'GPGGA,210134.00,5551.2945845,N,03758.8719241,E,1,16,0.68,163.3308,M,14.1508,M,,*5B\\n'"
      ]
     },
     "execution_count": 48,
     "metadata": {},
     "output_type": "execute_result"
    }
   ],
   "source": [
    "chunk.split('$')[1]"
   ]
  },
  {
   "cell_type": "code",
   "execution_count": 11,
   "id": "460df37d",
   "metadata": {
    "ExecuteTime": {
     "end_time": "2021-06-10T15:37:53.023018Z",
     "start_time": "2021-06-10T15:37:53.020690Z"
    }
   },
   "outputs": [
    {
     "data": {
      "text/plain": [
       "29996.5"
      ]
     },
     "execution_count": 11,
     "metadata": {},
     "output_type": "execute_result"
    }
   ],
   "source": [
    "2999650 / 100"
   ]
  },
  {
   "cell_type": "code",
   "execution_count": 9,
   "id": "6fcd464d",
   "metadata": {
    "ExecuteTime": {
     "end_time": "2021-06-10T15:37:37.645032Z",
     "start_time": "2021-06-10T15:37:37.642511Z"
    }
   },
   "outputs": [
    {
     "data": {
      "text/plain": [
       "2999650"
      ]
     },
     "execution_count": 9,
     "metadata": {},
     "output_type": "execute_result"
    }
   ],
   "source": [
    "len(chunk)"
   ]
  },
  {
   "cell_type": "code",
   "execution_count": 17,
   "id": "784bf8bf",
   "metadata": {
    "ExecuteTime": {
     "end_time": "2021-06-10T16:08:08.846228Z",
     "start_time": "2021-06-10T16:08:08.844218Z"
    }
   },
   "outputs": [],
   "source": [
    "import os\n",
    "size = os.path.getsize('/home/arcry/python/zadanie/NMEA_GGA.tps')"
   ]
  },
  {
   "cell_type": "code",
   "execution_count": 21,
   "id": "8e2db55b",
   "metadata": {
    "ExecuteTime": {
     "end_time": "2021-06-10T16:09:12.933877Z",
     "start_time": "2021-06-10T16:09:12.932044Z"
    }
   },
   "outputs": [],
   "source": [
    "import math"
   ]
  },
  {
   "cell_type": "code",
   "execution_count": 23,
   "id": "9c202b26",
   "metadata": {
    "ExecuteTime": {
     "end_time": "2021-06-10T16:10:53.555564Z",
     "start_time": "2021-06-10T16:10:53.553390Z"
    }
   },
   "outputs": [],
   "source": [
    "lenth = math.ceil(size / 100)"
   ]
  },
  {
   "cell_type": "code",
   "execution_count": 33,
   "id": "66b9e49d",
   "metadata": {
    "ExecuteTime": {
     "end_time": "2021-06-10T16:14:12.792475Z",
     "start_time": "2021-06-10T16:14:12.790661Z"
    }
   },
   "outputs": [],
   "source": [
    "btln = lenth.to_bytes(5, 'little')"
   ]
  },
  {
   "cell_type": "code",
   "execution_count": 34,
   "id": "96c18ac6",
   "metadata": {
    "ExecuteTime": {
     "end_time": "2021-06-10T16:14:14.331039Z",
     "start_time": "2021-06-10T16:14:14.328156Z"
    }
   },
   "outputs": [
    {
     "data": {
      "text/plain": [
       "29997"
      ]
     },
     "execution_count": 34,
     "metadata": {},
     "output_type": "execute_result"
    }
   ],
   "source": [
    "int.from_bytes(btln, byteorder='little')"
   ]
  },
  {
   "cell_type": "code",
   "execution_count": 53,
   "id": "44ba1b50",
   "metadata": {
    "ExecuteTime": {
     "end_time": "2021-06-10T18:02:52.030453Z",
     "start_time": "2021-06-10T18:02:52.026649Z"
    }
   },
   "outputs": [
    {
     "ename": "TypeError",
     "evalue": "a bytes-like object is required, not 'str'",
     "output_type": "error",
     "traceback": [
      "\u001b[0;31m---------------------------------------------------------------------------\u001b[0m",
      "\u001b[0;31mTypeError\u001b[0m                                 Traceback (most recent call last)",
      "\u001b[0;32m<ipython-input-53-fb9d65dd36f2>\u001b[0m in \u001b[0;36m<module>\u001b[0;34m\u001b[0m\n\u001b[0;32m----> 1\u001b[0;31m \u001b[0mbytearray\u001b[0m\u001b[0;34m(\u001b[0m\u001b[0;34m'end'\u001b[0m\u001b[0;34m,\u001b[0m \u001b[0;34m'utf-8'\u001b[0m\u001b[0;34m)\u001b[0m\u001b[0;34m.\u001b[0m\u001b[0mreplace\u001b[0m\u001b[0;34m(\u001b[0m\u001b[0;34m'end'\u001b[0m\u001b[0;34m,\u001b[0m \u001b[0;34m''\u001b[0m\u001b[0;34m)\u001b[0m\u001b[0;34m\u001b[0m\u001b[0;34m\u001b[0m\u001b[0m\n\u001b[0m",
      "\u001b[0;31mTypeError\u001b[0m: a bytes-like object is required, not 'str'"
     ]
    }
   ],
   "source": [
    "bytearray('end', 'utf-8').replace('end', '')"
   ]
  }
 ],
 "metadata": {
  "kernelspec": {
   "display_name": "Python 3",
   "language": "python",
   "name": "python3"
  },
  "language_info": {
   "codemirror_mode": {
    "name": "ipython",
    "version": 3
   },
   "file_extension": ".py",
   "mimetype": "text/x-python",
   "name": "python",
   "nbconvert_exporter": "python",
   "pygments_lexer": "ipython3",
   "version": "3.9.2"
  },
  "toc": {
   "base_numbering": 1,
   "nav_menu": {},
   "number_sections": true,
   "sideBar": true,
   "skip_h1_title": false,
   "title_cell": "Table of Contents",
   "title_sidebar": "Contents",
   "toc_cell": false,
   "toc_position": {},
   "toc_section_display": true,
   "toc_window_display": false
  },
  "varInspector": {
   "cols": {
    "lenName": 16,
    "lenType": 16,
    "lenVar": 40
   },
   "kernels_config": {
    "python": {
     "delete_cmd_postfix": "",
     "delete_cmd_prefix": "del ",
     "library": "var_list.py",
     "varRefreshCmd": "print(var_dic_list())"
    },
    "r": {
     "delete_cmd_postfix": ") ",
     "delete_cmd_prefix": "rm(",
     "library": "var_list.r",
     "varRefreshCmd": "cat(var_dic_list()) "
    }
   },
   "types_to_exclude": [
    "module",
    "function",
    "builtin_function_or_method",
    "instance",
    "_Feature"
   ],
   "window_display": false
  }
 },
 "nbformat": 4,
 "nbformat_minor": 5
}
