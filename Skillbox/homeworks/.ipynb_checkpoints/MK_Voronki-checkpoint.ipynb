{
 "cells": [
  {
   "cell_type": "code",
   "execution_count": 76,
   "metadata": {
    "colab": {
     "base_uri": "https://localhost:8080/"
    },
    "executionInfo": {
     "elapsed": 1544,
     "status": "ok",
     "timestamp": 1610628859169,
     "user": {
      "displayName": "Андрей Щербинин",
      "photoUrl": "",
      "userId": "12257454032092519749"
     },
     "user_tz": -180
    },
    "id": "oFsQKVBrmlGc",
    "outputId": "9ade865e-2205-4d74-c0bf-622aaafabd5d"
   },
   "outputs": [
    {
     "name": "stdout",
     "output_type": "stream",
     "text": [
      "Drive already mounted at /content/drive; to attempt to forcibly remount, call drive.mount(\"/content/drive\", force_remount=True).\n"
     ]
    }
   ],
   "source": [
    "from google.colab import drive\n",
    "drive.mount('/content/drive')"
   ]
  },
  {
   "cell_type": "code",
   "execution_count": 77,
   "metadata": {
    "colab": {
     "base_uri": "https://localhost:8080/"
    },
    "executionInfo": {
     "elapsed": 4711,
     "status": "ok",
     "timestamp": 1610628862340,
     "user": {
      "displayName": "Андрей Щербинин",
      "photoUrl": "",
      "userId": "12257454032092519749"
     },
     "user_tz": -180
    },
    "id": "4jgjgGwVgk0M",
    "outputId": "8dfbe3d5-d177-4aa9-d94a-b60af533875d"
   },
   "outputs": [
    {
     "name": "stdout",
     "output_type": "stream",
     "text": [
      "Requirement already satisfied: beautifultable in /usr/local/lib/python3.6/dist-packages (1.0.0)\n",
      "Requirement already satisfied: wcwidth in /usr/local/lib/python3.6/dist-packages (from beautifultable) (0.2.5)\n"
     ]
    }
   ],
   "source": [
    "!pip install beautifultable "
   ]
  },
  {
   "cell_type": "code",
   "execution_count": 78,
   "metadata": {
    "executionInfo": {
     "elapsed": 4710,
     "status": "ok",
     "timestamp": 1610628862341,
     "user": {
      "displayName": "Андрей Щербинин",
      "photoUrl": "",
      "userId": "12257454032092519749"
     },
     "user_tz": -180
    },
    "id": "GF6BoglGga7l"
   },
   "outputs": [],
   "source": [
    "from beautifultable import BeautifulTable\n",
    "import csv\n",
    "from plotly import graph_objects as go"
   ]
  },
  {
   "cell_type": "markdown",
   "metadata": {
    "id": "CIIhCNtxAYG-"
   },
   "source": [
    "## Урок 1 - Воронка по страницам\n",
    "Загрузите данные кликстрима из файла click_stream.csv себе в Jupyter и рассчитайте, сколько клиентов на какой стадии воронки находится. "
   ]
  },
  {
   "cell_type": "markdown",
   "metadata": {
    "id": "XxflIkrHAX9X"
   },
   "source": []
  },
  {
   "cell_type": "code",
   "execution_count": 79,
   "metadata": {
    "colab": {
     "base_uri": "https://localhost:8080/"
    },
    "executionInfo": {
     "elapsed": 5428,
     "status": "ok",
     "timestamp": 1610628863061,
     "user": {
      "displayName": "Андрей Щербинин",
      "photoUrl": "",
      "userId": "12257454032092519749"
     },
     "user_tz": -180
    },
    "id": "uBCo6ukdfrIs",
    "outputId": "fa9244d9-3b9d-4ce6-9830-6636851ba0f0"
   },
   "outputs": [
    {
     "data": {
      "text/plain": [
       "{'1_home_page': 90400,\n",
       " '2_search_page': 45200,\n",
       " '3_payment_page': 6030,\n",
       " '4_payment_confirmation_page': 452}"
      ]
     },
     "execution_count": 79,
     "metadata": {
      "tags": []
     },
     "output_type": "execute_result"
    }
   ],
   "source": [
    "# name.csv ниже нужно заменить на название csv файла, который вы хотите открыть\n",
    "file_path = 'click_stream.csv'\n",
    "with open('/content/drive/MyDrive/click_stream.csv', 'r') as csv_file: # открываем файл\n",
    "    csv_reader = csv.DictReader(csv_file, fieldnames=['ID','page','date']) # читаем файл\n",
    "    counter = {}\n",
    "\n",
    "    for row in csv_reader: # считаем пользователей\n",
    "        page = list(row.items())[1][1]\n",
    "        if page not in counter:\n",
    "            counter[page] = 1\n",
    "        else:\n",
    "            counter[page] += 1\n",
    "\n",
    "counter\n",
    "\n"
   ]
  },
  {
   "cell_type": "code",
   "execution_count": 80,
   "metadata": {
    "colab": {
     "base_uri": "https://localhost:8080/",
     "height": 0
    },
    "executionInfo": {
     "elapsed": 5729,
     "status": "ok",
     "timestamp": 1610628863363,
     "user": {
      "displayName": "Андрей Щербинин",
      "photoUrl": "",
      "userId": "12257454032092519749"
     },
     "user_tz": -180
    },
    "id": "-Cqjl4ldhkYs",
    "outputId": "7e063fef-b3d0-4e46-b077-a45715f797e3"
   },
   "outputs": [
    {
     "name": "stdout",
     "output_type": "stream",
     "text": [
      "+-------------------+----------------------+\n",
      "|  Page (страница)  | Кол-во пользователей |\n",
      "+-------------------+----------------------+\n",
      "|     Home_page     |        90400         |\n",
      "+-------------------+----------------------+\n",
      "|    Search_page    |        45200         |\n",
      "+-------------------+----------------------+\n",
      "|   Payment_page    |         6030         |\n",
      "+-------------------+----------------------+\n",
      "| Confirmation_page |         452          |\n",
      "+-------------------+----------------------+\n",
      "+-------------------+--------------+\n",
      "|  Page (страница)  | Конверсия, % |\n",
      "+-------------------+--------------+\n",
      "|     Home_page     |    100.0     |\n",
      "+-------------------+--------------+\n",
      "|    Search_page    |     50.0     |\n",
      "+-------------------+--------------+\n",
      "|   Payment_page    |     6.67     |\n",
      "+-------------------+--------------+\n",
      "| Confirmation_page |     0.5      |\n",
      "+-------------------+--------------+\n"
     ]
    },
    {
     "data": {
      "text/html": [
       "<html>\n",
       "<head><meta charset=\"utf-8\" /></head>\n",
       "<body>\n",
       "    <div>\n",
       "            <script src=\"https://cdnjs.cloudflare.com/ajax/libs/mathjax/2.7.5/MathJax.js?config=TeX-AMS-MML_SVG\"></script><script type=\"text/javascript\">if (window.MathJax) {MathJax.Hub.Config({SVG: {font: \"STIX-Web\"}});}</script>\n",
       "                <script type=\"text/javascript\">window.PlotlyConfig = {MathJaxConfig: 'local'};</script>\n",
       "        <script src=\"https://cdn.plot.ly/plotly-latest.min.js\"></script>    \n",
       "            <div id=\"32217b8f-3af1-42c1-892e-86cfcf903401\" class=\"plotly-graph-div\" style=\"height:525px; width:100%;\"></div>\n",
       "            <script type=\"text/javascript\">\n",
       "                \n",
       "                    window.PLOTLYENV=window.PLOTLYENV || {};\n",
       "                    \n",
       "                if (document.getElementById(\"32217b8f-3af1-42c1-892e-86cfcf903401\")) {\n",
       "                    Plotly.newPlot(\n",
       "                        '32217b8f-3af1-42c1-892e-86cfcf903401',\n",
       "                        [{\"type\": \"funnel\", \"x\": [100.0, 50.0, 6.670353982300885, 0.5], \"y\": [\"Home_page\", \"Search_page\", \"Payment_page\", \"Confirmation_page\"]}],\n",
       "                        {\"template\": {\"data\": {\"bar\": [{\"error_x\": {\"color\": \"#2a3f5f\"}, \"error_y\": {\"color\": \"#2a3f5f\"}, \"marker\": {\"line\": {\"color\": \"#E5ECF6\", \"width\": 0.5}}, \"type\": \"bar\"}], \"barpolar\": [{\"marker\": {\"line\": {\"color\": \"#E5ECF6\", \"width\": 0.5}}, \"type\": \"barpolar\"}], \"carpet\": [{\"aaxis\": {\"endlinecolor\": \"#2a3f5f\", \"gridcolor\": \"white\", \"linecolor\": \"white\", \"minorgridcolor\": \"white\", \"startlinecolor\": \"#2a3f5f\"}, \"baxis\": {\"endlinecolor\": \"#2a3f5f\", \"gridcolor\": \"white\", \"linecolor\": \"white\", \"minorgridcolor\": \"white\", \"startlinecolor\": \"#2a3f5f\"}, \"type\": \"carpet\"}], \"choropleth\": [{\"colorbar\": {\"outlinewidth\": 0, \"ticks\": \"\"}, \"type\": \"choropleth\"}], \"contour\": [{\"colorbar\": {\"outlinewidth\": 0, \"ticks\": \"\"}, \"colorscale\": [[0.0, \"#0d0887\"], [0.1111111111111111, \"#46039f\"], [0.2222222222222222, \"#7201a8\"], [0.3333333333333333, \"#9c179e\"], [0.4444444444444444, \"#bd3786\"], [0.5555555555555556, \"#d8576b\"], [0.6666666666666666, \"#ed7953\"], [0.7777777777777778, \"#fb9f3a\"], [0.8888888888888888, \"#fdca26\"], [1.0, \"#f0f921\"]], \"type\": \"contour\"}], \"contourcarpet\": [{\"colorbar\": {\"outlinewidth\": 0, \"ticks\": \"\"}, \"type\": \"contourcarpet\"}], \"heatmap\": [{\"colorbar\": {\"outlinewidth\": 0, \"ticks\": \"\"}, \"colorscale\": [[0.0, \"#0d0887\"], [0.1111111111111111, \"#46039f\"], [0.2222222222222222, \"#7201a8\"], [0.3333333333333333, \"#9c179e\"], [0.4444444444444444, \"#bd3786\"], [0.5555555555555556, \"#d8576b\"], [0.6666666666666666, \"#ed7953\"], [0.7777777777777778, \"#fb9f3a\"], [0.8888888888888888, \"#fdca26\"], [1.0, \"#f0f921\"]], \"type\": \"heatmap\"}], \"heatmapgl\": [{\"colorbar\": {\"outlinewidth\": 0, \"ticks\": \"\"}, \"colorscale\": [[0.0, \"#0d0887\"], [0.1111111111111111, \"#46039f\"], [0.2222222222222222, \"#7201a8\"], [0.3333333333333333, \"#9c179e\"], [0.4444444444444444, \"#bd3786\"], [0.5555555555555556, \"#d8576b\"], [0.6666666666666666, \"#ed7953\"], [0.7777777777777778, \"#fb9f3a\"], [0.8888888888888888, \"#fdca26\"], [1.0, \"#f0f921\"]], \"type\": \"heatmapgl\"}], \"histogram\": [{\"marker\": {\"colorbar\": {\"outlinewidth\": 0, \"ticks\": \"\"}}, \"type\": \"histogram\"}], \"histogram2d\": [{\"colorbar\": {\"outlinewidth\": 0, \"ticks\": \"\"}, \"colorscale\": [[0.0, \"#0d0887\"], [0.1111111111111111, \"#46039f\"], [0.2222222222222222, \"#7201a8\"], [0.3333333333333333, \"#9c179e\"], [0.4444444444444444, \"#bd3786\"], [0.5555555555555556, \"#d8576b\"], [0.6666666666666666, \"#ed7953\"], [0.7777777777777778, \"#fb9f3a\"], [0.8888888888888888, \"#fdca26\"], [1.0, \"#f0f921\"]], \"type\": \"histogram2d\"}], \"histogram2dcontour\": [{\"colorbar\": {\"outlinewidth\": 0, \"ticks\": \"\"}, \"colorscale\": [[0.0, \"#0d0887\"], [0.1111111111111111, \"#46039f\"], [0.2222222222222222, \"#7201a8\"], [0.3333333333333333, \"#9c179e\"], [0.4444444444444444, \"#bd3786\"], [0.5555555555555556, \"#d8576b\"], [0.6666666666666666, \"#ed7953\"], [0.7777777777777778, \"#fb9f3a\"], [0.8888888888888888, \"#fdca26\"], [1.0, \"#f0f921\"]], \"type\": \"histogram2dcontour\"}], \"mesh3d\": [{\"colorbar\": {\"outlinewidth\": 0, \"ticks\": \"\"}, \"type\": \"mesh3d\"}], \"parcoords\": [{\"line\": {\"colorbar\": {\"outlinewidth\": 0, \"ticks\": \"\"}}, \"type\": \"parcoords\"}], \"pie\": [{\"automargin\": true, \"type\": \"pie\"}], \"scatter\": [{\"marker\": {\"colorbar\": {\"outlinewidth\": 0, \"ticks\": \"\"}}, \"type\": \"scatter\"}], \"scatter3d\": [{\"line\": {\"colorbar\": {\"outlinewidth\": 0, \"ticks\": \"\"}}, \"marker\": {\"colorbar\": {\"outlinewidth\": 0, \"ticks\": \"\"}}, \"type\": \"scatter3d\"}], \"scattercarpet\": [{\"marker\": {\"colorbar\": {\"outlinewidth\": 0, \"ticks\": \"\"}}, \"type\": \"scattercarpet\"}], \"scattergeo\": [{\"marker\": {\"colorbar\": {\"outlinewidth\": 0, \"ticks\": \"\"}}, \"type\": \"scattergeo\"}], \"scattergl\": [{\"marker\": {\"colorbar\": {\"outlinewidth\": 0, \"ticks\": \"\"}}, \"type\": \"scattergl\"}], \"scattermapbox\": [{\"marker\": {\"colorbar\": {\"outlinewidth\": 0, \"ticks\": \"\"}}, \"type\": \"scattermapbox\"}], \"scatterpolar\": [{\"marker\": {\"colorbar\": {\"outlinewidth\": 0, \"ticks\": \"\"}}, \"type\": \"scatterpolar\"}], \"scatterpolargl\": [{\"marker\": {\"colorbar\": {\"outlinewidth\": 0, \"ticks\": \"\"}}, \"type\": \"scatterpolargl\"}], \"scatterternary\": [{\"marker\": {\"colorbar\": {\"outlinewidth\": 0, \"ticks\": \"\"}}, \"type\": \"scatterternary\"}], \"surface\": [{\"colorbar\": {\"outlinewidth\": 0, \"ticks\": \"\"}, \"colorscale\": [[0.0, \"#0d0887\"], [0.1111111111111111, \"#46039f\"], [0.2222222222222222, \"#7201a8\"], [0.3333333333333333, \"#9c179e\"], [0.4444444444444444, \"#bd3786\"], [0.5555555555555556, \"#d8576b\"], [0.6666666666666666, \"#ed7953\"], [0.7777777777777778, \"#fb9f3a\"], [0.8888888888888888, \"#fdca26\"], [1.0, \"#f0f921\"]], \"type\": \"surface\"}], \"table\": [{\"cells\": {\"fill\": {\"color\": \"#EBF0F8\"}, \"line\": {\"color\": \"white\"}}, \"header\": {\"fill\": {\"color\": \"#C8D4E3\"}, \"line\": {\"color\": \"white\"}}, \"type\": \"table\"}]}, \"layout\": {\"annotationdefaults\": {\"arrowcolor\": \"#2a3f5f\", \"arrowhead\": 0, \"arrowwidth\": 1}, \"coloraxis\": {\"colorbar\": {\"outlinewidth\": 0, \"ticks\": \"\"}}, \"colorscale\": {\"diverging\": [[0, \"#8e0152\"], [0.1, \"#c51b7d\"], [0.2, \"#de77ae\"], [0.3, \"#f1b6da\"], [0.4, \"#fde0ef\"], [0.5, \"#f7f7f7\"], [0.6, \"#e6f5d0\"], [0.7, \"#b8e186\"], [0.8, \"#7fbc41\"], [0.9, \"#4d9221\"], [1, \"#276419\"]], \"sequential\": [[0.0, \"#0d0887\"], [0.1111111111111111, \"#46039f\"], [0.2222222222222222, \"#7201a8\"], [0.3333333333333333, \"#9c179e\"], [0.4444444444444444, \"#bd3786\"], [0.5555555555555556, \"#d8576b\"], [0.6666666666666666, \"#ed7953\"], [0.7777777777777778, \"#fb9f3a\"], [0.8888888888888888, \"#fdca26\"], [1.0, \"#f0f921\"]], \"sequentialminus\": [[0.0, \"#0d0887\"], [0.1111111111111111, \"#46039f\"], [0.2222222222222222, \"#7201a8\"], [0.3333333333333333, \"#9c179e\"], [0.4444444444444444, \"#bd3786\"], [0.5555555555555556, \"#d8576b\"], [0.6666666666666666, \"#ed7953\"], [0.7777777777777778, \"#fb9f3a\"], [0.8888888888888888, \"#fdca26\"], [1.0, \"#f0f921\"]]}, \"colorway\": [\"#636efa\", \"#EF553B\", \"#00cc96\", \"#ab63fa\", \"#FFA15A\", \"#19d3f3\", \"#FF6692\", \"#B6E880\", \"#FF97FF\", \"#FECB52\"], \"font\": {\"color\": \"#2a3f5f\"}, \"geo\": {\"bgcolor\": \"white\", \"lakecolor\": \"white\", \"landcolor\": \"#E5ECF6\", \"showlakes\": true, \"showland\": true, \"subunitcolor\": \"white\"}, \"hoverlabel\": {\"align\": \"left\"}, \"hovermode\": \"closest\", \"mapbox\": {\"style\": \"light\"}, \"paper_bgcolor\": \"white\", \"plot_bgcolor\": \"#E5ECF6\", \"polar\": {\"angularaxis\": {\"gridcolor\": \"white\", \"linecolor\": \"white\", \"ticks\": \"\"}, \"bgcolor\": \"#E5ECF6\", \"radialaxis\": {\"gridcolor\": \"white\", \"linecolor\": \"white\", \"ticks\": \"\"}}, \"scene\": {\"xaxis\": {\"backgroundcolor\": \"#E5ECF6\", \"gridcolor\": \"white\", \"gridwidth\": 2, \"linecolor\": \"white\", \"showbackground\": true, \"ticks\": \"\", \"zerolinecolor\": \"white\"}, \"yaxis\": {\"backgroundcolor\": \"#E5ECF6\", \"gridcolor\": \"white\", \"gridwidth\": 2, \"linecolor\": \"white\", \"showbackground\": true, \"ticks\": \"\", \"zerolinecolor\": \"white\"}, \"zaxis\": {\"backgroundcolor\": \"#E5ECF6\", \"gridcolor\": \"white\", \"gridwidth\": 2, \"linecolor\": \"white\", \"showbackground\": true, \"ticks\": \"\", \"zerolinecolor\": \"white\"}}, \"shapedefaults\": {\"line\": {\"color\": \"#2a3f5f\"}}, \"ternary\": {\"aaxis\": {\"gridcolor\": \"white\", \"linecolor\": \"white\", \"ticks\": \"\"}, \"baxis\": {\"gridcolor\": \"white\", \"linecolor\": \"white\", \"ticks\": \"\"}, \"bgcolor\": \"#E5ECF6\", \"caxis\": {\"gridcolor\": \"white\", \"linecolor\": \"white\", \"ticks\": \"\"}}, \"title\": {\"x\": 0.05}, \"xaxis\": {\"automargin\": true, \"gridcolor\": \"white\", \"linecolor\": \"white\", \"ticks\": \"\", \"title\": {\"standoff\": 15}, \"zerolinecolor\": \"white\", \"zerolinewidth\": 2}, \"yaxis\": {\"automargin\": true, \"gridcolor\": \"white\", \"linecolor\": \"white\", \"ticks\": \"\", \"title\": {\"standoff\": 15}, \"zerolinecolor\": \"white\", \"zerolinewidth\": 2}}}},\n",
       "                        {\"responsive\": true}\n",
       "                    ).then(function(){\n",
       "                            \n",
       "var gd = document.getElementById('32217b8f-3af1-42c1-892e-86cfcf903401');\n",
       "var x = new MutationObserver(function (mutations, observer) {{\n",
       "        var display = window.getComputedStyle(gd).display;\n",
       "        if (!display || display === 'none') {{\n",
       "            console.log([gd, 'removed!']);\n",
       "            Plotly.purge(gd);\n",
       "            observer.disconnect();\n",
       "        }}\n",
       "}});\n",
       "\n",
       "// Listen for the removal of the full notebook cells\n",
       "var notebookContainer = gd.closest('#notebook-container');\n",
       "if (notebookContainer) {{\n",
       "    x.observe(notebookContainer, {childList: true});\n",
       "}}\n",
       "\n",
       "// Listen for the clearing of the current output cell\n",
       "var outputEl = gd.closest('.output');\n",
       "if (outputEl) {{\n",
       "    x.observe(outputEl, {childList: true});\n",
       "}}\n",
       "\n",
       "                        })\n",
       "                };\n",
       "                \n",
       "            </script>\n",
       "        </div>\n",
       "</body>\n",
       "</html>"
      ]
     },
     "metadata": {
      "tags": []
     },
     "output_type": "display_data"
    },
    {
     "data": {
      "text/html": [
       "<html>\n",
       "<head><meta charset=\"utf-8\" /></head>\n",
       "<body>\n",
       "    <div>\n",
       "            <script src=\"https://cdnjs.cloudflare.com/ajax/libs/mathjax/2.7.5/MathJax.js?config=TeX-AMS-MML_SVG\"></script><script type=\"text/javascript\">if (window.MathJax) {MathJax.Hub.Config({SVG: {font: \"STIX-Web\"}});}</script>\n",
       "                <script type=\"text/javascript\">window.PlotlyConfig = {MathJaxConfig: 'local'};</script>\n",
       "        <script src=\"https://cdn.plot.ly/plotly-latest.min.js\"></script>    \n",
       "            <div id=\"1ab0f4f1-0a4a-48f3-ab45-6a19455acb60\" class=\"plotly-graph-div\" style=\"height:525px; width:100%;\"></div>\n",
       "            <script type=\"text/javascript\">\n",
       "                \n",
       "                    window.PLOTLYENV=window.PLOTLYENV || {};\n",
       "                    \n",
       "                if (document.getElementById(\"1ab0f4f1-0a4a-48f3-ab45-6a19455acb60\")) {\n",
       "                    Plotly.newPlot(\n",
       "                        '1ab0f4f1-0a4a-48f3-ab45-6a19455acb60',\n",
       "                        [{\"type\": \"bar\", \"x\": [\"1_home_page\", \"2_search_page\", \"3_payment_page\", \"4_payment_confirmation_page\"], \"y\": [90400, 45200, 6030, 452]}],\n",
       "                        {\"template\": {\"data\": {\"bar\": [{\"error_x\": {\"color\": \"#2a3f5f\"}, \"error_y\": {\"color\": \"#2a3f5f\"}, \"marker\": {\"line\": {\"color\": \"#E5ECF6\", \"width\": 0.5}}, \"type\": \"bar\"}], \"barpolar\": [{\"marker\": {\"line\": {\"color\": \"#E5ECF6\", \"width\": 0.5}}, \"type\": \"barpolar\"}], \"carpet\": [{\"aaxis\": {\"endlinecolor\": \"#2a3f5f\", \"gridcolor\": \"white\", \"linecolor\": \"white\", \"minorgridcolor\": \"white\", \"startlinecolor\": \"#2a3f5f\"}, \"baxis\": {\"endlinecolor\": \"#2a3f5f\", \"gridcolor\": \"white\", \"linecolor\": \"white\", \"minorgridcolor\": \"white\", \"startlinecolor\": \"#2a3f5f\"}, \"type\": \"carpet\"}], \"choropleth\": [{\"colorbar\": {\"outlinewidth\": 0, \"ticks\": \"\"}, \"type\": \"choropleth\"}], \"contour\": [{\"colorbar\": {\"outlinewidth\": 0, \"ticks\": \"\"}, \"colorscale\": [[0.0, \"#0d0887\"], [0.1111111111111111, \"#46039f\"], [0.2222222222222222, \"#7201a8\"], [0.3333333333333333, \"#9c179e\"], [0.4444444444444444, \"#bd3786\"], [0.5555555555555556, \"#d8576b\"], [0.6666666666666666, \"#ed7953\"], [0.7777777777777778, \"#fb9f3a\"], [0.8888888888888888, \"#fdca26\"], [1.0, \"#f0f921\"]], \"type\": \"contour\"}], \"contourcarpet\": [{\"colorbar\": {\"outlinewidth\": 0, \"ticks\": \"\"}, \"type\": \"contourcarpet\"}], \"heatmap\": [{\"colorbar\": {\"outlinewidth\": 0, \"ticks\": \"\"}, \"colorscale\": [[0.0, \"#0d0887\"], [0.1111111111111111, \"#46039f\"], [0.2222222222222222, \"#7201a8\"], [0.3333333333333333, \"#9c179e\"], [0.4444444444444444, \"#bd3786\"], [0.5555555555555556, \"#d8576b\"], [0.6666666666666666, \"#ed7953\"], [0.7777777777777778, \"#fb9f3a\"], [0.8888888888888888, \"#fdca26\"], [1.0, \"#f0f921\"]], \"type\": \"heatmap\"}], \"heatmapgl\": [{\"colorbar\": {\"outlinewidth\": 0, \"ticks\": \"\"}, \"colorscale\": [[0.0, \"#0d0887\"], [0.1111111111111111, \"#46039f\"], [0.2222222222222222, \"#7201a8\"], [0.3333333333333333, \"#9c179e\"], [0.4444444444444444, \"#bd3786\"], [0.5555555555555556, \"#d8576b\"], [0.6666666666666666, \"#ed7953\"], [0.7777777777777778, \"#fb9f3a\"], [0.8888888888888888, \"#fdca26\"], [1.0, \"#f0f921\"]], \"type\": \"heatmapgl\"}], \"histogram\": [{\"marker\": {\"colorbar\": {\"outlinewidth\": 0, \"ticks\": \"\"}}, \"type\": \"histogram\"}], \"histogram2d\": [{\"colorbar\": {\"outlinewidth\": 0, \"ticks\": \"\"}, \"colorscale\": [[0.0, \"#0d0887\"], [0.1111111111111111, \"#46039f\"], [0.2222222222222222, \"#7201a8\"], [0.3333333333333333, \"#9c179e\"], [0.4444444444444444, \"#bd3786\"], [0.5555555555555556, \"#d8576b\"], [0.6666666666666666, \"#ed7953\"], [0.7777777777777778, \"#fb9f3a\"], [0.8888888888888888, \"#fdca26\"], [1.0, \"#f0f921\"]], \"type\": \"histogram2d\"}], \"histogram2dcontour\": [{\"colorbar\": {\"outlinewidth\": 0, \"ticks\": \"\"}, \"colorscale\": [[0.0, \"#0d0887\"], [0.1111111111111111, \"#46039f\"], [0.2222222222222222, \"#7201a8\"], [0.3333333333333333, \"#9c179e\"], [0.4444444444444444, \"#bd3786\"], [0.5555555555555556, \"#d8576b\"], [0.6666666666666666, \"#ed7953\"], [0.7777777777777778, \"#fb9f3a\"], [0.8888888888888888, \"#fdca26\"], [1.0, \"#f0f921\"]], \"type\": \"histogram2dcontour\"}], \"mesh3d\": [{\"colorbar\": {\"outlinewidth\": 0, \"ticks\": \"\"}, \"type\": \"mesh3d\"}], \"parcoords\": [{\"line\": {\"colorbar\": {\"outlinewidth\": 0, \"ticks\": \"\"}}, \"type\": \"parcoords\"}], \"pie\": [{\"automargin\": true, \"type\": \"pie\"}], \"scatter\": [{\"marker\": {\"colorbar\": {\"outlinewidth\": 0, \"ticks\": \"\"}}, \"type\": \"scatter\"}], \"scatter3d\": [{\"line\": {\"colorbar\": {\"outlinewidth\": 0, \"ticks\": \"\"}}, \"marker\": {\"colorbar\": {\"outlinewidth\": 0, \"ticks\": \"\"}}, \"type\": \"scatter3d\"}], \"scattercarpet\": [{\"marker\": {\"colorbar\": {\"outlinewidth\": 0, \"ticks\": \"\"}}, \"type\": \"scattercarpet\"}], \"scattergeo\": [{\"marker\": {\"colorbar\": {\"outlinewidth\": 0, \"ticks\": \"\"}}, \"type\": \"scattergeo\"}], \"scattergl\": [{\"marker\": {\"colorbar\": {\"outlinewidth\": 0, \"ticks\": \"\"}}, \"type\": \"scattergl\"}], \"scattermapbox\": [{\"marker\": {\"colorbar\": {\"outlinewidth\": 0, \"ticks\": \"\"}}, \"type\": \"scattermapbox\"}], \"scatterpolar\": [{\"marker\": {\"colorbar\": {\"outlinewidth\": 0, \"ticks\": \"\"}}, \"type\": \"scatterpolar\"}], \"scatterpolargl\": [{\"marker\": {\"colorbar\": {\"outlinewidth\": 0, \"ticks\": \"\"}}, \"type\": \"scatterpolargl\"}], \"scatterternary\": [{\"marker\": {\"colorbar\": {\"outlinewidth\": 0, \"ticks\": \"\"}}, \"type\": \"scatterternary\"}], \"surface\": [{\"colorbar\": {\"outlinewidth\": 0, \"ticks\": \"\"}, \"colorscale\": [[0.0, \"#0d0887\"], [0.1111111111111111, \"#46039f\"], [0.2222222222222222, \"#7201a8\"], [0.3333333333333333, \"#9c179e\"], [0.4444444444444444, \"#bd3786\"], [0.5555555555555556, \"#d8576b\"], [0.6666666666666666, \"#ed7953\"], [0.7777777777777778, \"#fb9f3a\"], [0.8888888888888888, \"#fdca26\"], [1.0, \"#f0f921\"]], \"type\": \"surface\"}], \"table\": [{\"cells\": {\"fill\": {\"color\": \"#EBF0F8\"}, \"line\": {\"color\": \"white\"}}, \"header\": {\"fill\": {\"color\": \"#C8D4E3\"}, \"line\": {\"color\": \"white\"}}, \"type\": \"table\"}]}, \"layout\": {\"annotationdefaults\": {\"arrowcolor\": \"#2a3f5f\", \"arrowhead\": 0, \"arrowwidth\": 1}, \"coloraxis\": {\"colorbar\": {\"outlinewidth\": 0, \"ticks\": \"\"}}, \"colorscale\": {\"diverging\": [[0, \"#8e0152\"], [0.1, \"#c51b7d\"], [0.2, \"#de77ae\"], [0.3, \"#f1b6da\"], [0.4, \"#fde0ef\"], [0.5, \"#f7f7f7\"], [0.6, \"#e6f5d0\"], [0.7, \"#b8e186\"], [0.8, \"#7fbc41\"], [0.9, \"#4d9221\"], [1, \"#276419\"]], \"sequential\": [[0.0, \"#0d0887\"], [0.1111111111111111, \"#46039f\"], [0.2222222222222222, \"#7201a8\"], [0.3333333333333333, \"#9c179e\"], [0.4444444444444444, \"#bd3786\"], [0.5555555555555556, \"#d8576b\"], [0.6666666666666666, \"#ed7953\"], [0.7777777777777778, \"#fb9f3a\"], [0.8888888888888888, \"#fdca26\"], [1.0, \"#f0f921\"]], \"sequentialminus\": [[0.0, \"#0d0887\"], [0.1111111111111111, \"#46039f\"], [0.2222222222222222, \"#7201a8\"], [0.3333333333333333, \"#9c179e\"], [0.4444444444444444, \"#bd3786\"], [0.5555555555555556, \"#d8576b\"], [0.6666666666666666, \"#ed7953\"], [0.7777777777777778, \"#fb9f3a\"], [0.8888888888888888, \"#fdca26\"], [1.0, \"#f0f921\"]]}, \"colorway\": [\"#636efa\", \"#EF553B\", \"#00cc96\", \"#ab63fa\", \"#FFA15A\", \"#19d3f3\", \"#FF6692\", \"#B6E880\", \"#FF97FF\", \"#FECB52\"], \"font\": {\"color\": \"#2a3f5f\"}, \"geo\": {\"bgcolor\": \"white\", \"lakecolor\": \"white\", \"landcolor\": \"#E5ECF6\", \"showlakes\": true, \"showland\": true, \"subunitcolor\": \"white\"}, \"hoverlabel\": {\"align\": \"left\"}, \"hovermode\": \"closest\", \"mapbox\": {\"style\": \"light\"}, \"paper_bgcolor\": \"white\", \"plot_bgcolor\": \"#E5ECF6\", \"polar\": {\"angularaxis\": {\"gridcolor\": \"white\", \"linecolor\": \"white\", \"ticks\": \"\"}, \"bgcolor\": \"#E5ECF6\", \"radialaxis\": {\"gridcolor\": \"white\", \"linecolor\": \"white\", \"ticks\": \"\"}}, \"scene\": {\"xaxis\": {\"backgroundcolor\": \"#E5ECF6\", \"gridcolor\": \"white\", \"gridwidth\": 2, \"linecolor\": \"white\", \"showbackground\": true, \"ticks\": \"\", \"zerolinecolor\": \"white\"}, \"yaxis\": {\"backgroundcolor\": \"#E5ECF6\", \"gridcolor\": \"white\", \"gridwidth\": 2, \"linecolor\": \"white\", \"showbackground\": true, \"ticks\": \"\", \"zerolinecolor\": \"white\"}, \"zaxis\": {\"backgroundcolor\": \"#E5ECF6\", \"gridcolor\": \"white\", \"gridwidth\": 2, \"linecolor\": \"white\", \"showbackground\": true, \"ticks\": \"\", \"zerolinecolor\": \"white\"}}, \"shapedefaults\": {\"line\": {\"color\": \"#2a3f5f\"}}, \"ternary\": {\"aaxis\": {\"gridcolor\": \"white\", \"linecolor\": \"white\", \"ticks\": \"\"}, \"baxis\": {\"gridcolor\": \"white\", \"linecolor\": \"white\", \"ticks\": \"\"}, \"bgcolor\": \"#E5ECF6\", \"caxis\": {\"gridcolor\": \"white\", \"linecolor\": \"white\", \"ticks\": \"\"}}, \"title\": {\"x\": 0.05}, \"xaxis\": {\"automargin\": true, \"gridcolor\": \"white\", \"linecolor\": \"white\", \"ticks\": \"\", \"title\": {\"standoff\": 15}, \"zerolinecolor\": \"white\", \"zerolinewidth\": 2}, \"yaxis\": {\"automargin\": true, \"gridcolor\": \"white\", \"linecolor\": \"white\", \"ticks\": \"\", \"title\": {\"standoff\": 15}, \"zerolinecolor\": \"white\", \"zerolinewidth\": 2}}}},\n",
       "                        {\"responsive\": true}\n",
       "                    ).then(function(){\n",
       "                            \n",
       "var gd = document.getElementById('1ab0f4f1-0a4a-48f3-ab45-6a19455acb60');\n",
       "var x = new MutationObserver(function (mutations, observer) {{\n",
       "        var display = window.getComputedStyle(gd).display;\n",
       "        if (!display || display === 'none') {{\n",
       "            console.log([gd, 'removed!']);\n",
       "            Plotly.purge(gd);\n",
       "            observer.disconnect();\n",
       "        }}\n",
       "}});\n",
       "\n",
       "// Listen for the removal of the full notebook cells\n",
       "var notebookContainer = gd.closest('#notebook-container');\n",
       "if (notebookContainer) {{\n",
       "    x.observe(notebookContainer, {childList: true});\n",
       "}}\n",
       "\n",
       "// Listen for the clearing of the current output cell\n",
       "var outputEl = gd.closest('.output');\n",
       "if (outputEl) {{\n",
       "    x.observe(outputEl, {childList: true});\n",
       "}}\n",
       "\n",
       "                        })\n",
       "                };\n",
       "                \n",
       "            </script>\n",
       "        </div>\n",
       "</body>\n",
       "</html>"
      ]
     },
     "metadata": {
      "tags": []
     },
     "output_type": "display_data"
    }
   ],
   "source": [
    "table_1 = BeautifulTable()\n",
    "table_1.columns.header = ['Page (страница)', 'Кол-во пользователей']\n",
    "table_1.rows.append(['Home_page', counter['1_home_page']])\n",
    "table_1.rows.append(['Search_page', counter['2_search_page']])\n",
    "table_1.rows.append(['Payment_page', counter['3_payment_page']])\n",
    "table_1.rows.append(['Confirmation_page', counter['4_payment_confirmation_page']])\n",
    "print(table_1)\n",
    "\n",
    "table_1_conv = BeautifulTable()\n",
    "table_1_conv.columns.header = ['Page (страница)', 'Конверсия, %']\n",
    "table_1_conv.rows.append(['Home_page', counter['1_home_page'] / counter['1_home_page'] * 100])\n",
    "table_1_conv.rows.append(['Search_page', counter['2_search_page'] / counter['1_home_page'] * 100])\n",
    "table_1_conv.rows.append(['Payment_page', counter['3_payment_page'] / counter['1_home_page'] * 100])\n",
    "table_1_conv.rows.append(['Confirmation_page', counter['4_payment_confirmation_page'] / counter['1_home_page'] * 100])\n",
    "print(table_1_conv)\n",
    "\n",
    "fig_1_conv = go.Figure(go.Funnel(\n",
    "    y = [\"Home_page\", \"Search_page\", \"Payment_page\",  \"Confirmation_page\"],\n",
    "    x = [counter['1_home_page'] / counter['1_home_page'] * 100,\n",
    "         counter['2_search_page'] / counter['1_home_page'] * 100, \n",
    "         counter['3_payment_page'] / counter['1_home_page'] * 100,\n",
    "         counter['4_payment_confirmation_page'] / counter['1_home_page'] * 100]))\n",
    "\n",
    "fig_1_conv.show()\n",
    "\n",
    "fig_1_bar = go.Figure([go.Bar(x=list(counter.keys()), y=list(counter.values()))])\n",
    "fig_1_bar.show()"
   ]
  },
  {
   "cell_type": "markdown",
   "metadata": {
    "id": "I3DZM8LBAeCB"
   },
   "source": [
    "## Урок 2 - Эволюция воронки со временем\n",
    "Загрузите данные из файла click_stream.csv. Постройте воронку по каждому доступному месяцу. Сравните воронки. Они одинаковые, или меняются?  Проведите только рассчет, визуализировать воронку не обязательно. "
   ]
  },
  {
   "cell_type": "code",
   "execution_count": 81,
   "metadata": {
    "executionInfo": {
     "elapsed": 6402,
     "status": "ok",
     "timestamp": 1610628864038,
     "user": {
      "displayName": "Андрей Щербинин",
      "photoUrl": "",
      "userId": "12257454032092519749"
     },
     "user_tz": -180
    },
    "id": "A9zaHpJP70AM"
   },
   "outputs": [],
   "source": [
    "# Определение количества пользователей по месяцам\n",
    "counter_event = {'1_home_page':0, '2_search_page':0, '3_payment_page':0, '4_payment_confirmation_page':0}\n",
    "counter_date = {}\n",
    "\n",
    "# name.csv ниже нужно заменить на название csv файла, который вы хотите открыть\n",
    "file_path = 'click_stream.csv'\n",
    "with open('/content/drive/MyDrive/click_stream.csv', 'r') as csv_file: # открываем файл\n",
    "    csv_reader = csv.DictReader(csv_file, fieldnames=['ID','page','date']) # читаем файл\n",
    "    for row in csv_reader: \n",
    "        page = list(row.items())[1][1]\n",
    "        date = list(row.items())[2][1][:-3]\n",
    "        if date not in counter_date:\n",
    "            counter_date[date] = counter_event.copy()\n",
    "        if page == '1_home_page':\n",
    "            counter_date[date]['1_home_page'] += 1\n",
    "        elif page == '2_search_page':\n",
    "            counter_date[date]['2_search_page'] += 1\n",
    "        elif page == '3_payment_page':\n",
    "            counter_date[date]['3_payment_page'] += 1\n",
    "        else:\n",
    "            counter_date[date]['4_payment_confirmation_page'] += 1\n",
    "\n"
   ]
  },
  {
   "cell_type": "code",
   "execution_count": 82,
   "metadata": {
    "colab": {
     "base_uri": "https://localhost:8080/"
    },
    "executionInfo": {
     "elapsed": 6402,
     "status": "ok",
     "timestamp": 1610628864039,
     "user": {
      "displayName": "Андрей Щербинин",
      "photoUrl": "",
      "userId": "12257454032092519749"
     },
     "user_tz": -180
    },
    "id": "rZK41z714sfe",
    "outputId": "f02f84a2-3d71-4b06-e7ce-8d8e8f2a9b5d"
   },
   "outputs": [
    {
     "name": "stdout",
     "output_type": "stream",
     "text": [
      "+-------------------+---------+---------+---------+---------+\n",
      "|       Page        | 2015-01 | 2015-02 | 2015-03 | 2015-04 |\n",
      "+-------------------+---------+---------+---------+---------+\n",
      "|     Home_page     |  22600  |  22600  |  22600  |  22600  |\n",
      "+-------------------+---------+---------+---------+---------+\n",
      "|    Search_page    |  13554  |  13687  |  8879   |  9080   |\n",
      "+-------------------+---------+---------+---------+---------+\n",
      "|   Payment_page    |  2390   |  2412   |   631   |   597   |\n",
      "+-------------------+---------+---------+---------+---------+\n",
      "| Confirmation_page |   189   |   173   |   44    |   46    |\n",
      "+-------------------+---------+---------+---------+---------+\n",
      "+-------------------+---------+---------+---------+---------+\n",
      "|       Page        | 2015-01 | 2015-02 | 2015-03 | 2015-04 |\n",
      "+-------------------+---------+---------+---------+---------+\n",
      "|     Home_page     |  100.0  |  100.0  |  100.0  |  100.0  |\n",
      "+-------------------+---------+---------+---------+---------+\n",
      "|    Search_page    | 59.973  | 60.562  | 39.288  | 40.177  |\n",
      "+-------------------+---------+---------+---------+---------+\n",
      "|   Payment_page    | 10.575  | 10.673  |  2.792  |  2.642  |\n",
      "+-------------------+---------+---------+---------+---------+\n",
      "| Confirmation_page |  0.836  |  0.765  |  0.195  |  0.204  |\n",
      "+-------------------+---------+---------+---------+---------+\n",
      "+-------------------+---------+---------+---------+---------+\n",
      "|       Page        | 2015-01 | 2015-02 | 2015-03 | 2015-04 |\n",
      "+-------------------+---------+---------+---------+---------+\n",
      "|    Search_page    |  100.0  |  100.0  |  100.0  |  100.0  |\n",
      "+-------------------+---------+---------+---------+---------+\n",
      "|   Payment_page    | 17.633  | 17.623  |  7.107  |  6.575  |\n",
      "+-------------------+---------+---------+---------+---------+\n",
      "| Confirmation_page |  1.394  |  1.264  |  0.496  |  0.507  |\n",
      "+-------------------+---------+---------+---------+---------+\n"
     ]
    }
   ],
   "source": [
    "table_2 = BeautifulTable() # Таблица для оценки колическтва пользователей по месяцам\n",
    "table_2.columns.header = ['Page', '2015-01', '2015-02', '2015-03', '2015-04']\n",
    "table_2.rows.append(['Home_page', counter_date['2015-01']['1_home_page'], counter_date['2015-02']['1_home_page'],\n",
    "                     counter_date['2015-03']['1_home_page'], counter_date['2015-04']['1_home_page']])\n",
    "table_2.rows.append(['Search_page', counter_date['2015-01']['2_search_page'], counter_date['2015-02']['2_search_page'], \n",
    "                     counter_date['2015-03']['2_search_page'], counter_date['2015-04']['2_search_page']])\n",
    "table_2.rows.append(['Payment_page', counter_date['2015-01']['3_payment_page'], counter_date['2015-02']['3_payment_page'],\n",
    "                     counter_date['2015-03']['3_payment_page'], counter_date['2015-04']['3_payment_page']])\n",
    "table_2.rows.append(['Confirmation_page', counter_date['2015-01']['4_payment_confirmation_page'], \n",
    "                     counter_date['2015-02']['4_payment_confirmation_page'],\n",
    "                     counter_date['2015-03']['4_payment_confirmation_page'], \n",
    "                     counter_date['2015-04']['4_payment_confirmation_page']])\n",
    "print(table_2)\n",
    "\n",
    "table_2_conv = BeautifulTable() # Таблица для оценки конверсии пользователей относительно домашней страницы\n",
    "table_2_conv.columns.header = ['Page', '2015-01', '2015-02', '2015-03', '2015-04']\n",
    "table_2_conv.rows.append(['Home_page', counter_date['2015-01']['1_home_page'] / counter_date['2015-01']['1_home_page'] *100, \n",
    "                          counter_date['2015-02']['1_home_page'] / counter_date['2015-02']['1_home_page'] *100, \n",
    "                          counter_date['2015-03']['1_home_page'] / counter_date['2015-03']['1_home_page'] *100, \n",
    "                          counter_date['2015-04']['1_home_page'] / counter_date['2015-04']['1_home_page'] *100])\n",
    "table_2_conv.rows.append(['Search_page', counter_date['2015-01']['2_search_page'] / counter_date['2015-01']['1_home_page'] *100, \n",
    "                          counter_date['2015-02']['2_search_page'] / counter_date['2015-02']['1_home_page'] *100,\n",
    "                          counter_date['2015-03']['2_search_page'] / counter_date['2015-03']['1_home_page'] *100, \n",
    "                          counter_date['2015-04']['2_search_page'] / counter_date['2015-04']['1_home_page'] *100])\n",
    "table_2_conv.rows.append(['Payment_page', counter_date['2015-01']['3_payment_page'] / counter_date['2015-01']['1_home_page'] *100, \n",
    "                          counter_date['2015-02']['3_payment_page'] / counter_date['2015-02']['1_home_page'] *100,\n",
    "                          counter_date['2015-03']['3_payment_page'] / counter_date['2015-03']['1_home_page'] *100, \n",
    "                          counter_date['2015-04']['3_payment_page'] / counter_date['2015-04']['1_home_page'] *100])\n",
    "table_2_conv.rows.append(['Confirmation_page', counter_date['2015-01']['4_payment_confirmation_page'] / counter_date['2015-01']['1_home_page'] *100, \n",
    "                     counter_date['2015-02']['4_payment_confirmation_page'] / counter_date['2015-02']['1_home_page'] *100,\n",
    "                     counter_date['2015-03']['4_payment_confirmation_page'] / counter_date['2015-03']['1_home_page'] *100, \n",
    "                     counter_date['2015-04']['4_payment_confirmation_page'] / counter_date['2015-04']['1_home_page'] *100])\n",
    "print(table_2_conv)\n",
    "\n",
    "table_2_conv_search = BeautifulTable() # Таблица для оценки конверсии пользователей относительно страницы поиска\n",
    "table_2_conv_search.columns.header = ['Page', '2015-01', '2015-02', '2015-03', '2015-04']\n",
    "table_2_conv_search.rows.append(['Search_page', counter_date['2015-01']['2_search_page'] / counter_date['2015-01']['2_search_page'] *100, \n",
    "                          counter_date['2015-02']['2_search_page'] / counter_date['2015-02']['2_search_page'] *100,\n",
    "                          counter_date['2015-03']['2_search_page'] / counter_date['2015-03']['2_search_page'] *100, \n",
    "                          counter_date['2015-04']['2_search_page'] / counter_date['2015-04']['2_search_page'] *100])\n",
    "table_2_conv_search.rows.append(['Payment_page', counter_date['2015-01']['3_payment_page'] / counter_date['2015-01']['2_search_page'] *100, \n",
    "                          counter_date['2015-02']['3_payment_page'] / counter_date['2015-02']['2_search_page'] *100,\n",
    "                          counter_date['2015-03']['3_payment_page'] / counter_date['2015-03']['2_search_page'] *100, \n",
    "                          counter_date['2015-04']['3_payment_page'] / counter_date['2015-04']['2_search_page'] *100])\n",
    "table_2_conv_search.rows.append(['Confirmation_page', counter_date['2015-01']['4_payment_confirmation_page'] / counter_date['2015-01']['2_search_page'] *100, \n",
    "                     counter_date['2015-02']['4_payment_confirmation_page'] / counter_date['2015-02']['2_search_page'] *100,\n",
    "                     counter_date['2015-03']['4_payment_confirmation_page'] / counter_date['2015-03']['2_search_page'] *100, \n",
    "                     counter_date['2015-04']['4_payment_confirmation_page'] / counter_date['2015-04']['2_search_page'] *100])\n",
    "print(table_2_conv_search)\n"
   ]
  },
  {
   "cell_type": "code",
   "execution_count": 83,
   "metadata": {
    "colab": {
     "base_uri": "https://localhost:8080/",
     "height": 0
    },
    "executionInfo": {
     "elapsed": 6401,
     "status": "ok",
     "timestamp": 1610628864040,
     "user": {
      "displayName": "Андрей Щербинин",
      "photoUrl": "",
      "userId": "12257454032092519749"
     },
     "user_tz": -180
    },
    "id": "mGrTAAScDIWa",
    "outputId": "7955d39c-5cfe-4cb4-c250-ae648c144503"
   },
   "outputs": [
    {
     "data": {
      "text/html": [
       "<html>\n",
       "<head><meta charset=\"utf-8\" /></head>\n",
       "<body>\n",
       "    <div>\n",
       "            <script src=\"https://cdnjs.cloudflare.com/ajax/libs/mathjax/2.7.5/MathJax.js?config=TeX-AMS-MML_SVG\"></script><script type=\"text/javascript\">if (window.MathJax) {MathJax.Hub.Config({SVG: {font: \"STIX-Web\"}});}</script>\n",
       "                <script type=\"text/javascript\">window.PlotlyConfig = {MathJaxConfig: 'local'};</script>\n",
       "        <script src=\"https://cdn.plot.ly/plotly-latest.min.js\"></script>    \n",
       "            <div id=\"f646d4b7-f6f5-47dd-ab14-2e273220932f\" class=\"plotly-graph-div\" style=\"height:525px; width:100%;\"></div>\n",
       "            <script type=\"text/javascript\">\n",
       "                \n",
       "                    window.PLOTLYENV=window.PLOTLYENV || {};\n",
       "                    \n",
       "                if (document.getElementById(\"f646d4b7-f6f5-47dd-ab14-2e273220932f\")) {\n",
       "                    Plotly.newPlot(\n",
       "                        'f646d4b7-f6f5-47dd-ab14-2e273220932f',\n",
       "                        [{\"name\": \"Home_page\", \"type\": \"bar\", \"x\": [\"january\", \"february\", \"march\", \"april\"], \"y\": [22600, 22600, 22600, 22600]}, {\"name\": \"Search_page\", \"type\": \"bar\", \"x\": [\"january\", \"february\", \"march\", \"april\"], \"y\": [13554, 13687, 8879, 9080]}, {\"name\": \"Payment_page \", \"type\": \"bar\", \"x\": [\"january\", \"february\", \"march\", \"april\"], \"y\": [2390, 2412, 631, 597]}, {\"name\": \"Confirmation_page  \", \"type\": \"bar\", \"x\": [\"january\", \"february\", \"march\", \"april\"], \"y\": [189, 173, 44, 46]}],\n",
       "                        {\"barmode\": \"group\", \"template\": {\"data\": {\"bar\": [{\"error_x\": {\"color\": \"#2a3f5f\"}, \"error_y\": {\"color\": \"#2a3f5f\"}, \"marker\": {\"line\": {\"color\": \"#E5ECF6\", \"width\": 0.5}}, \"type\": \"bar\"}], \"barpolar\": [{\"marker\": {\"line\": {\"color\": \"#E5ECF6\", \"width\": 0.5}}, \"type\": \"barpolar\"}], \"carpet\": [{\"aaxis\": {\"endlinecolor\": \"#2a3f5f\", \"gridcolor\": \"white\", \"linecolor\": \"white\", \"minorgridcolor\": \"white\", \"startlinecolor\": \"#2a3f5f\"}, \"baxis\": {\"endlinecolor\": \"#2a3f5f\", \"gridcolor\": \"white\", \"linecolor\": \"white\", \"minorgridcolor\": \"white\", \"startlinecolor\": \"#2a3f5f\"}, \"type\": \"carpet\"}], \"choropleth\": [{\"colorbar\": {\"outlinewidth\": 0, \"ticks\": \"\"}, \"type\": \"choropleth\"}], \"contour\": [{\"colorbar\": {\"outlinewidth\": 0, \"ticks\": \"\"}, \"colorscale\": [[0.0, \"#0d0887\"], [0.1111111111111111, \"#46039f\"], [0.2222222222222222, \"#7201a8\"], [0.3333333333333333, \"#9c179e\"], [0.4444444444444444, \"#bd3786\"], [0.5555555555555556, \"#d8576b\"], [0.6666666666666666, \"#ed7953\"], [0.7777777777777778, \"#fb9f3a\"], [0.8888888888888888, \"#fdca26\"], [1.0, \"#f0f921\"]], \"type\": \"contour\"}], \"contourcarpet\": [{\"colorbar\": {\"outlinewidth\": 0, \"ticks\": \"\"}, \"type\": \"contourcarpet\"}], \"heatmap\": [{\"colorbar\": {\"outlinewidth\": 0, \"ticks\": \"\"}, \"colorscale\": [[0.0, \"#0d0887\"], [0.1111111111111111, \"#46039f\"], [0.2222222222222222, \"#7201a8\"], [0.3333333333333333, \"#9c179e\"], [0.4444444444444444, \"#bd3786\"], [0.5555555555555556, \"#d8576b\"], [0.6666666666666666, \"#ed7953\"], [0.7777777777777778, \"#fb9f3a\"], [0.8888888888888888, \"#fdca26\"], [1.0, \"#f0f921\"]], \"type\": \"heatmap\"}], \"heatmapgl\": [{\"colorbar\": {\"outlinewidth\": 0, \"ticks\": \"\"}, \"colorscale\": [[0.0, \"#0d0887\"], [0.1111111111111111, \"#46039f\"], [0.2222222222222222, \"#7201a8\"], [0.3333333333333333, \"#9c179e\"], [0.4444444444444444, \"#bd3786\"], [0.5555555555555556, \"#d8576b\"], [0.6666666666666666, \"#ed7953\"], [0.7777777777777778, \"#fb9f3a\"], [0.8888888888888888, \"#fdca26\"], [1.0, \"#f0f921\"]], \"type\": \"heatmapgl\"}], \"histogram\": [{\"marker\": {\"colorbar\": {\"outlinewidth\": 0, \"ticks\": \"\"}}, \"type\": \"histogram\"}], \"histogram2d\": [{\"colorbar\": {\"outlinewidth\": 0, \"ticks\": \"\"}, \"colorscale\": [[0.0, \"#0d0887\"], [0.1111111111111111, \"#46039f\"], [0.2222222222222222, \"#7201a8\"], [0.3333333333333333, \"#9c179e\"], [0.4444444444444444, \"#bd3786\"], [0.5555555555555556, \"#d8576b\"], [0.6666666666666666, \"#ed7953\"], [0.7777777777777778, \"#fb9f3a\"], [0.8888888888888888, \"#fdca26\"], [1.0, \"#f0f921\"]], \"type\": \"histogram2d\"}], \"histogram2dcontour\": [{\"colorbar\": {\"outlinewidth\": 0, \"ticks\": \"\"}, \"colorscale\": [[0.0, \"#0d0887\"], [0.1111111111111111, \"#46039f\"], [0.2222222222222222, \"#7201a8\"], [0.3333333333333333, \"#9c179e\"], [0.4444444444444444, \"#bd3786\"], [0.5555555555555556, \"#d8576b\"], [0.6666666666666666, \"#ed7953\"], [0.7777777777777778, \"#fb9f3a\"], [0.8888888888888888, \"#fdca26\"], [1.0, \"#f0f921\"]], \"type\": \"histogram2dcontour\"}], \"mesh3d\": [{\"colorbar\": {\"outlinewidth\": 0, \"ticks\": \"\"}, \"type\": \"mesh3d\"}], \"parcoords\": [{\"line\": {\"colorbar\": {\"outlinewidth\": 0, \"ticks\": \"\"}}, \"type\": \"parcoords\"}], \"pie\": [{\"automargin\": true, \"type\": \"pie\"}], \"scatter\": [{\"marker\": {\"colorbar\": {\"outlinewidth\": 0, \"ticks\": \"\"}}, \"type\": \"scatter\"}], \"scatter3d\": [{\"line\": {\"colorbar\": {\"outlinewidth\": 0, \"ticks\": \"\"}}, \"marker\": {\"colorbar\": {\"outlinewidth\": 0, \"ticks\": \"\"}}, \"type\": \"scatter3d\"}], \"scattercarpet\": [{\"marker\": {\"colorbar\": {\"outlinewidth\": 0, \"ticks\": \"\"}}, \"type\": \"scattercarpet\"}], \"scattergeo\": [{\"marker\": {\"colorbar\": {\"outlinewidth\": 0, \"ticks\": \"\"}}, \"type\": \"scattergeo\"}], \"scattergl\": [{\"marker\": {\"colorbar\": {\"outlinewidth\": 0, \"ticks\": \"\"}}, \"type\": \"scattergl\"}], \"scattermapbox\": [{\"marker\": {\"colorbar\": {\"outlinewidth\": 0, \"ticks\": \"\"}}, \"type\": \"scattermapbox\"}], \"scatterpolar\": [{\"marker\": {\"colorbar\": {\"outlinewidth\": 0, \"ticks\": \"\"}}, \"type\": \"scatterpolar\"}], \"scatterpolargl\": [{\"marker\": {\"colorbar\": {\"outlinewidth\": 0, \"ticks\": \"\"}}, \"type\": \"scatterpolargl\"}], \"scatterternary\": [{\"marker\": {\"colorbar\": {\"outlinewidth\": 0, \"ticks\": \"\"}}, \"type\": \"scatterternary\"}], \"surface\": [{\"colorbar\": {\"outlinewidth\": 0, \"ticks\": \"\"}, \"colorscale\": [[0.0, \"#0d0887\"], [0.1111111111111111, \"#46039f\"], [0.2222222222222222, \"#7201a8\"], [0.3333333333333333, \"#9c179e\"], [0.4444444444444444, \"#bd3786\"], [0.5555555555555556, \"#d8576b\"], [0.6666666666666666, \"#ed7953\"], [0.7777777777777778, \"#fb9f3a\"], [0.8888888888888888, \"#fdca26\"], [1.0, \"#f0f921\"]], \"type\": \"surface\"}], \"table\": [{\"cells\": {\"fill\": {\"color\": \"#EBF0F8\"}, \"line\": {\"color\": \"white\"}}, \"header\": {\"fill\": {\"color\": \"#C8D4E3\"}, \"line\": {\"color\": \"white\"}}, \"type\": \"table\"}]}, \"layout\": {\"annotationdefaults\": {\"arrowcolor\": \"#2a3f5f\", \"arrowhead\": 0, \"arrowwidth\": 1}, \"coloraxis\": {\"colorbar\": {\"outlinewidth\": 0, \"ticks\": \"\"}}, \"colorscale\": {\"diverging\": [[0, \"#8e0152\"], [0.1, \"#c51b7d\"], [0.2, \"#de77ae\"], [0.3, \"#f1b6da\"], [0.4, \"#fde0ef\"], [0.5, \"#f7f7f7\"], [0.6, \"#e6f5d0\"], [0.7, \"#b8e186\"], [0.8, \"#7fbc41\"], [0.9, \"#4d9221\"], [1, \"#276419\"]], \"sequential\": [[0.0, \"#0d0887\"], [0.1111111111111111, \"#46039f\"], [0.2222222222222222, \"#7201a8\"], [0.3333333333333333, \"#9c179e\"], [0.4444444444444444, \"#bd3786\"], [0.5555555555555556, \"#d8576b\"], [0.6666666666666666, \"#ed7953\"], [0.7777777777777778, \"#fb9f3a\"], [0.8888888888888888, \"#fdca26\"], [1.0, \"#f0f921\"]], \"sequentialminus\": [[0.0, \"#0d0887\"], [0.1111111111111111, \"#46039f\"], [0.2222222222222222, \"#7201a8\"], [0.3333333333333333, \"#9c179e\"], [0.4444444444444444, \"#bd3786\"], [0.5555555555555556, \"#d8576b\"], [0.6666666666666666, \"#ed7953\"], [0.7777777777777778, \"#fb9f3a\"], [0.8888888888888888, \"#fdca26\"], [1.0, \"#f0f921\"]]}, \"colorway\": [\"#636efa\", \"#EF553B\", \"#00cc96\", \"#ab63fa\", \"#FFA15A\", \"#19d3f3\", \"#FF6692\", \"#B6E880\", \"#FF97FF\", \"#FECB52\"], \"font\": {\"color\": \"#2a3f5f\"}, \"geo\": {\"bgcolor\": \"white\", \"lakecolor\": \"white\", \"landcolor\": \"#E5ECF6\", \"showlakes\": true, \"showland\": true, \"subunitcolor\": \"white\"}, \"hoverlabel\": {\"align\": \"left\"}, \"hovermode\": \"closest\", \"mapbox\": {\"style\": \"light\"}, \"paper_bgcolor\": \"white\", \"plot_bgcolor\": \"#E5ECF6\", \"polar\": {\"angularaxis\": {\"gridcolor\": \"white\", \"linecolor\": \"white\", \"ticks\": \"\"}, \"bgcolor\": \"#E5ECF6\", \"radialaxis\": {\"gridcolor\": \"white\", \"linecolor\": \"white\", \"ticks\": \"\"}}, \"scene\": {\"xaxis\": {\"backgroundcolor\": \"#E5ECF6\", \"gridcolor\": \"white\", \"gridwidth\": 2, \"linecolor\": \"white\", \"showbackground\": true, \"ticks\": \"\", \"zerolinecolor\": \"white\"}, \"yaxis\": {\"backgroundcolor\": \"#E5ECF6\", \"gridcolor\": \"white\", \"gridwidth\": 2, \"linecolor\": \"white\", \"showbackground\": true, \"ticks\": \"\", \"zerolinecolor\": \"white\"}, \"zaxis\": {\"backgroundcolor\": \"#E5ECF6\", \"gridcolor\": \"white\", \"gridwidth\": 2, \"linecolor\": \"white\", \"showbackground\": true, \"ticks\": \"\", \"zerolinecolor\": \"white\"}}, \"shapedefaults\": {\"line\": {\"color\": \"#2a3f5f\"}}, \"ternary\": {\"aaxis\": {\"gridcolor\": \"white\", \"linecolor\": \"white\", \"ticks\": \"\"}, \"baxis\": {\"gridcolor\": \"white\", \"linecolor\": \"white\", \"ticks\": \"\"}, \"bgcolor\": \"#E5ECF6\", \"caxis\": {\"gridcolor\": \"white\", \"linecolor\": \"white\", \"ticks\": \"\"}}, \"title\": {\"x\": 0.05}, \"xaxis\": {\"automargin\": true, \"gridcolor\": \"white\", \"linecolor\": \"white\", \"ticks\": \"\", \"title\": {\"standoff\": 15}, \"zerolinecolor\": \"white\", \"zerolinewidth\": 2}, \"yaxis\": {\"automargin\": true, \"gridcolor\": \"white\", \"linecolor\": \"white\", \"ticks\": \"\", \"title\": {\"standoff\": 15}, \"zerolinecolor\": \"white\", \"zerolinewidth\": 2}}}},\n",
       "                        {\"responsive\": true}\n",
       "                    ).then(function(){\n",
       "                            \n",
       "var gd = document.getElementById('f646d4b7-f6f5-47dd-ab14-2e273220932f');\n",
       "var x = new MutationObserver(function (mutations, observer) {{\n",
       "        var display = window.getComputedStyle(gd).display;\n",
       "        if (!display || display === 'none') {{\n",
       "            console.log([gd, 'removed!']);\n",
       "            Plotly.purge(gd);\n",
       "            observer.disconnect();\n",
       "        }}\n",
       "}});\n",
       "\n",
       "// Listen for the removal of the full notebook cells\n",
       "var notebookContainer = gd.closest('#notebook-container');\n",
       "if (notebookContainer) {{\n",
       "    x.observe(notebookContainer, {childList: true});\n",
       "}}\n",
       "\n",
       "// Listen for the clearing of the current output cell\n",
       "var outputEl = gd.closest('.output');\n",
       "if (outputEl) {{\n",
       "    x.observe(outputEl, {childList: true});\n",
       "}}\n",
       "\n",
       "                        })\n",
       "                };\n",
       "                \n",
       "            </script>\n",
       "        </div>\n",
       "</body>\n",
       "</html>"
      ]
     },
     "metadata": {
      "tags": []
     },
     "output_type": "display_data"
    }
   ],
   "source": [
    "months = ['january', 'february', 'march', 'april'] # Построим диаграмму, чтобы визуально оценить, как меняется количество пользователей на разных страницах\n",
    "fig_2_bar = go.Figure(data=[\n",
    "    go.Bar(name='Home_page', x=months, y=[counter_date['2015-01']['1_home_page'],\n",
    "                                                counter_date['2015-02']['1_home_page'],\n",
    "                                                counter_date['2015-03']['1_home_page'],\n",
    "                                                counter_date['2015-04']['1_home_page']]),\n",
    "    go.Bar(name='Search_page', x=months, y=[counter_date['2015-01']['2_search_page'], \n",
    "                                                        counter_date['2015-02']['2_search_page'],\n",
    "                                                        counter_date['2015-03']['2_search_page'],\n",
    "                                                        counter_date['2015-04']['2_search_page']]),\n",
    "    go.Bar(name='Payment_page ', x=months, y=[counter_date['2015-01']['3_payment_page'], \n",
    "                                                        counter_date['2015-02']['3_payment_page'],\n",
    "                                                        counter_date['2015-03']['3_payment_page'],\n",
    "                                                        counter_date['2015-04']['3_payment_page']]),\n",
    "    go.Bar(name='Confirmation_page  ', x=months, y=[counter_date['2015-01']['4_payment_confirmation_page'], \n",
    "                                                        counter_date['2015-02']['4_payment_confirmation_page'],\n",
    "                                                        counter_date['2015-03']['4_payment_confirmation_page'],\n",
    "                                                        counter_date['2015-04']['4_payment_confirmation_page']])\n",
    "                                                        \n",
    "    #go.Bar(name='LA Zoo', x=animals, y=[12, 18, 29])\n",
    "])\n",
    "# Change the bar mode\n",
    "fig_2_bar.update_layout(barmode='group')\n",
    "fig_2_bar.show()"
   ]
  },
  {
   "cell_type": "markdown",
   "metadata": {
    "id": "rTEMDy38tfRZ"
   },
   "source": [
    "Конверсия из  домашней страницы в поиск падает с 60% до 40%, конверсия страницы платежа падает с 17% до 7%, а конверсия покупателей падает до 0,2%, примерно в 4 раза.\n",
    "\n",
    "Конверсия из поиска в дальнейшие шаги:\n",
    "- не только конверсия в поиск упала\n",
    "- упала конверия из поиска в платеж\n",
    "- проблема не только в поиске, но и во всех частях воронки."
   ]
  },
  {
   "cell_type": "markdown",
   "metadata": {
    "id": "Tw4KGHOPAiXc"
   },
   "source": [
    "## Урок 3 - Детализация воронки до типа устройства\n",
    "По ссылке click_stream2.csv доступны старые данные клистрима с одним новым столбцом: Device. Загрузите эти данные и постарайтесь понять, на каком типе устройств локализована проблема, возникшая между февралем и мартом. "
   ]
  },
  {
   "cell_type": "code",
   "execution_count": 84,
   "metadata": {
    "executionInfo": {
     "elapsed": 7767,
     "status": "ok",
     "timestamp": 1610628865407,
     "user": {
      "displayName": "Андрей Щербинин",
      "photoUrl": "",
      "userId": "12257454032092519749"
     },
     "user_tz": -180
    },
    "id": "59VRK3fCAjdL"
   },
   "outputs": [],
   "source": [
    "counter_event = {'1_home_page':0, '2_search_page':0, '3_payment_page':0, '4_payment_confirmation_page':0}\n",
    "counter_date = {'2015-01': None, '2015-02': None, '2015-03': None, '2015-04': None,}\n",
    "counter_device = {}\n",
    "\n",
    "# name.csv ниже нужно заменить на название csv файла, который вы хотите открыть\n",
    "file_path = 'click_stream.csv'\n",
    "with open('/content/drive/MyDrive/click_stream2.csv', 'r') as csv_file: # открываем файл\n",
    "    csv_reader = csv.DictReader(csv_file, fieldnames=['ID','page','date','device']) # читаем файл\n",
    "    for row in csv_reader: \n",
    "        page = list(row.items())[1][1]\n",
    "        date = list(row.items())[2][1][:-3]\n",
    "        device = list(row.items())[3][1]\n",
    "        if device not in counter_device:\n",
    "            counter_device[device] = counter_date.copy()\n",
    "        if counter_device[device][date] is None:\n",
    "            counter_device[device][date] = counter_event.copy()\n",
    "        counter_device[device][date][page] += 1"
   ]
  },
  {
   "cell_type": "code",
   "execution_count": 85,
   "metadata": {
    "colab": {
     "base_uri": "https://localhost:8080/"
    },
    "executionInfo": {
     "elapsed": 7767,
     "status": "ok",
     "timestamp": 1610628865408,
     "user": {
      "displayName": "Андрей Щербинин",
      "photoUrl": "",
      "userId": "12257454032092519749"
     },
     "user_tz": -180
    },
    "id": "zXqGPbMkzfDe",
    "outputId": "13aa92e8-f058-450d-8710-6f408245c591"
   },
   "outputs": [
    {
     "name": "stdout",
     "output_type": "stream",
     "text": [
      "+-------------------+---------+---------+---------+---------+\n",
      "|      Mobile       |         |         |         |         |\n",
      "+-------------------+---------+---------+---------+---------+\n",
      "|       Pages       | 2015-01 | 2015-02 | 2015-03 | 2015-04 |\n",
      "+-------------------+---------+---------+---------+---------+\n",
      "|     Home_page     |  7550   |  7550   |  7550   |  7550   |\n",
      "+-------------------+---------+---------+---------+---------+\n",
      "|    Search_page    |  6025   |  6055   |  1509   |  1511   |\n",
      "+-------------------+---------+---------+---------+---------+\n",
      "|   Payment_page    |  1169   |  1221   |   335   |   295   |\n",
      "+-------------------+---------+---------+---------+---------+\n",
      "| Confirmation_page |   129   |   119   |   30    |   24    |\n",
      "+-------------------+---------+---------+---------+---------+\n",
      "+-------------------+---------+---------+---------+---------+\n",
      "|      Desktop      |         |         |         |         |\n",
      "+-------------------+---------+---------+---------+---------+\n",
      "|       Pages       | 2015-01 | 2015-02 | 2015-03 | 2015-04 |\n",
      "+-------------------+---------+---------+---------+---------+\n",
      "|     Home_page     |  15050  |  15050  |  15050  |  15050  |\n",
      "+-------------------+---------+---------+---------+---------+\n",
      "|    Search_page    |  7529   |  7632   |  7370   |  7569   |\n",
      "+-------------------+---------+---------+---------+---------+\n",
      "|   Payment_page    |  1221   |  1191   |   296   |   302   |\n",
      "+-------------------+---------+---------+---------+---------+\n",
      "| Confirmation_page |   60    |   54    |   14    |   22    |\n",
      "+-------------------+---------+---------+---------+---------+\n"
     ]
    }
   ],
   "source": [
    "table_3_mob = BeautifulTable() # Таблица для оценки количества пользователей мобильной версии\n",
    "table_3_mob.columns.header = ['Mobile', '', '', '', '']\n",
    "table_3_mob.rows.append(['Pages', '2015-01', '2015-02', '2015-03', '2015-04'])\n",
    "table_3_mob.rows.append(['Home_page', counter_device['Mobile']['2015-01']['1_home_page'], \n",
    "                         counter_device['Mobile']['2015-02']['1_home_page'],\n",
    "                         counter_device['Mobile']['2015-03']['1_home_page'], \n",
    "                         counter_device['Mobile']['2015-04']['1_home_page']])\n",
    "table_3_mob.rows.append(['Search_page', counter_device['Mobile']['2015-01']['2_search_page'], \n",
    "                         counter_device['Mobile']['2015-02']['2_search_page'], \n",
    "                         counter_device['Mobile']['2015-03']['2_search_page'], \n",
    "                         counter_device['Mobile']['2015-04']['2_search_page']])\n",
    "table_3_mob.rows.append(['Payment_page', counter_device['Mobile']['2015-01']['3_payment_page'], \n",
    "                         counter_device['Mobile']['2015-02']['3_payment_page'],\n",
    "                         counter_device['Mobile']['2015-03']['3_payment_page'], \n",
    "                         counter_device['Mobile']['2015-04']['3_payment_page']])\n",
    "table_3_mob.rows.append(['Confirmation_page', counter_device['Mobile']['2015-01']['4_payment_confirmation_page'], \n",
    "                     counter_device['Mobile']['2015-02']['4_payment_confirmation_page'],\n",
    "                     counter_device['Mobile']['2015-03']['4_payment_confirmation_page'], \n",
    "                     counter_device['Mobile']['2015-04']['4_payment_confirmation_page']])\n",
    "print(table_3_mob)\n",
    "\n",
    "table_3_desk = BeautifulTable() # Таблица для оценки количества пользователей десктопной версии\n",
    "table_3_desk.columns.header = ['Desktop', '', '', '', '']\n",
    "table_3_desk.rows.append(['Pages', '2015-01', '2015-02', '2015-03', '2015-04'])\n",
    "table_3_desk.rows.append(['Home_page', counter_device['Desktop']['2015-01']['1_home_page'], \n",
    "                         counter_device['Desktop']['2015-02']['1_home_page'],\n",
    "                         counter_device['Desktop']['2015-03']['1_home_page'], \n",
    "                         counter_device['Desktop']['2015-04']['1_home_page']])\n",
    "table_3_desk.rows.append(['Search_page', counter_device['Desktop']['2015-01']['2_search_page'], \n",
    "                         counter_device['Desktop']['2015-02']['2_search_page'], \n",
    "                         counter_device['Desktop']['2015-03']['2_search_page'], \n",
    "                         counter_device['Desktop']['2015-04']['2_search_page']])\n",
    "table_3_desk.rows.append(['Payment_page', counter_device['Desktop']['2015-01']['3_payment_page'], \n",
    "                         counter_device['Desktop']['2015-02']['3_payment_page'],\n",
    "                         counter_device['Desktop']['2015-03']['3_payment_page'], \n",
    "                         counter_device['Desktop']['2015-04']['3_payment_page']])\n",
    "table_3_desk.rows.append(['Confirmation_page', counter_device['Desktop']['2015-01']['4_payment_confirmation_page'], \n",
    "                     counter_device['Desktop']['2015-02']['4_payment_confirmation_page'],\n",
    "                     counter_device['Desktop']['2015-03']['4_payment_confirmation_page'], \n",
    "                     counter_device['Desktop']['2015-04']['4_payment_confirmation_page']])\n",
    "print(table_3_desk)"
   ]
  },
  {
   "cell_type": "markdown",
   "metadata": {
    "id": "06Q31TTz2kZj"
   },
   "source": [
    "Для мобильной версии:\n",
    "- с марта в 4 раза упало количество пользователей мобильной версии, переходящих с домашней страницы на страницу поиска\n",
    "- также упало в 4 раза количество подтвержденных оплат\n",
    "\n",
    "Для десктопной версии:\n",
    "- с марта в 4 раза упало количество пользователей десктопной версии, переходящих со страницы поиска на страницу оплаты\n",
    "- также упало в 4 раза количество подтвержденных оплат\n",
    "\n",
    "В обеих версиях обнаружены проблемы, однако они находятся в разных местах."
   ]
  },
  {
   "cell_type": "code",
   "execution_count": 86,
   "metadata": {
    "cellView": "form",
    "executionInfo": {
     "elapsed": 8075,
     "status": "ok",
     "timestamp": 1610628865717,
     "user": {
      "displayName": "Андрей Щербинин",
      "photoUrl": "",
      "userId": "12257454032092519749"
     },
     "user_tz": -180
    },
    "id": "isDGH_nYOV-L"
   },
   "outputs": [],
   "source": [
    "#@title Вариант без использования вложенных словарей\n",
    "#вариант без использования вложенных словарей\n",
    "file_path = 'click_stream2.csv'\n",
    "with open('/content/drive/MyDrive/click_stream2.csv', 'r') as csv_file: # открываем файл\n",
    "    csv_reader = csv.DictReader(csv_file, fieldnames=['ID','page','date','device']) # читаем файл\n",
    "    for row in csv_reader: \n",
    "        page = list(row.items())[1][1]\n",
    "        date = list(row.items())[2][1][:-3]\n",
    "        device = list(row.items())[3][1]\n",
    "        act = f\"{device}_{date}_{page}\"\n",
    "        if act in counter_device:\n",
    "            counter_device[act] += 1\n",
    "        else:\n",
    "            counter_device[act] = 1"
   ]
  },
  {
   "cell_type": "markdown",
   "metadata": {
    "id": "sENs1CGh5QR4"
   },
   "source": [
    "# Домашнее задание - детализация воронки по полу посетителей\n",
    "Мы уже изучили, как меняет понимание данных добавление информации об устройстве (Device). Теперь в новый файл с данными click_stream3.csv был добавлен еще один столбец, Gender (пол).\n",
    "\n",
    "Попытайтесь понять и обосновать, как меняется воронка по месяцам, если учесть еще и пол посетителей. "
   ]
  },
  {
   "cell_type": "markdown",
   "metadata": {
    "id": "mQxHgpsN6e6D"
   },
   "source": [
    "### Подсчет пользователей"
   ]
  },
  {
   "cell_type": "code",
   "execution_count": 87,
   "metadata": {
    "executionInfo": {
     "elapsed": 10036,
     "status": "ok",
     "timestamp": 1610628867679,
     "user": {
      "displayName": "Андрей Щербинин",
      "photoUrl": "",
      "userId": "12257454032092519749"
     },
     "user_tz": -180
    },
    "id": "OYbPBcEJZ-SO"
   },
   "outputs": [],
   "source": [
    "# Проведем подсчет пользователей обоих полов, использующих мобильную и десктопную\n",
    "# версии по месяцам\n",
    "counter = {}\n",
    "with open('/content/drive/MyDrive/click_stream3.csv', 'r') as csv_file: # открываем файл\n",
    "    csv_reader = csv.DictReader(csv_file, fieldnames=['ID','page','date','device', 'gender']) # читаем файл\n",
    "    for row in csv_reader: \n",
    "        items = list(row.items())\n",
    "        page, date = items[1][1], items[2][1][:-3]\n",
    "        device, gender = items[3][1], items[4][1]\n",
    "        counter\\\n",
    "            .setdefault(gender, dict())\\\n",
    "            .setdefault(device, dict())\\\n",
    "            .setdefault(date, dict())\\\n",
    "            .setdefault(page, 0)\n",
    "        counter[gender][device][date][page] += 1"
   ]
  },
  {
   "cell_type": "markdown",
   "metadata": {
    "id": "uBhOxIto6x9Y"
   },
   "source": [
    "### Построение таблиц, для оценки конверсии количества пользователей относительно домашней страницы"
   ]
  },
  {
   "cell_type": "code",
   "execution_count": 88,
   "metadata": {
    "executionInfo": {
     "elapsed": 10035,
     "status": "ok",
     "timestamp": 1610628867679,
     "user": {
      "displayName": "Андрей Щербинин",
      "photoUrl": "",
      "userId": "12257454032092519749"
     },
     "user_tz": -180
    },
    "id": "7xVedKE7KIWg"
   },
   "outputs": [],
   "source": [
    "# Таблица для оценки количества мужчин, использующих мобильную и десктопную \n",
    "# версии\n",
    "male_table = BeautifulTable()\n",
    "male_subtable_mob = BeautifulTable()\n",
    "male_subtable_desk = BeautifulTable()\n",
    "\n",
    "male_subtable_mob.rows.header = ['Month', 'Home_page','Search_page', 'Payment_page', 'Confirmation_page']\n",
    "male_subtable_desk.rows.header = ['Month', 'Home_page','Search_page', 'Payment_page', 'Confirmation_page']\n",
    "\n",
    "male_subtable_mob.rows[0] = ['2015-01', '2015-02', '2015-03', '2015-04']\n",
    "male_subtable_mob.rows[1] = [counter['Male']['Mobile']['2015-01']['1_home_page'] / counter['Male']['Mobile']['2015-01']['1_home_page'] *100, \n",
    "                         counter['Male']['Mobile']['2015-02']['1_home_page'] / counter['Male']['Mobile']['2015-02']['1_home_page'] *100,\n",
    "                         counter['Male']['Mobile']['2015-03']['1_home_page'] / counter['Male']['Mobile']['2015-03']['1_home_page'] *100, \n",
    "                         counter['Male']['Mobile']['2015-04']['1_home_page'] / counter['Male']['Mobile']['2015-04']['1_home_page'] *100]\n",
    "male_subtable_mob.rows[2] = [counter['Male']['Mobile']['2015-01']['2_search_page'] / counter['Male']['Mobile']['2015-01']['1_home_page'] *100, \n",
    "                         counter['Male']['Mobile']['2015-02']['2_search_page'] / counter['Male']['Mobile']['2015-02']['1_home_page'] *100,\n",
    "                         counter['Male']['Mobile']['2015-03']['2_search_page'] / counter['Male']['Mobile']['2015-03']['1_home_page'] *100, \n",
    "                         counter['Male']['Mobile']['2015-04']['2_search_page'] / counter['Male']['Mobile']['2015-04']['1_home_page'] *100]\n",
    "male_subtable_mob.rows[3] = [counter['Male']['Mobile']['2015-01']['3_payment_page'] / counter['Male']['Mobile']['2015-01']['1_home_page'] *100, \n",
    "                         counter['Male']['Mobile']['2015-02']['3_payment_page'] / counter['Male']['Mobile']['2015-02']['1_home_page'] *100,\n",
    "                         counter['Male']['Mobile']['2015-03']['3_payment_page'] / counter['Male']['Mobile']['2015-03']['1_home_page'] *100, \n",
    "                         counter['Male']['Mobile']['2015-04']['3_payment_page'] / counter['Male']['Mobile']['2015-04']['1_home_page'] *100]\n",
    "male_subtable_mob.rows[4] = [counter['Male']['Mobile']['2015-01']['4_payment_confirmation_page'] / counter['Male']['Mobile']['2015-01']['1_home_page'] *100, \n",
    "                         counter['Male']['Mobile']['2015-02']['4_payment_confirmation_page'] / counter['Male']['Mobile']['2015-01']['1_home_page'] *100,\n",
    "                         counter['Male']['Mobile']['2015-03']['4_payment_confirmation_page'] / counter['Male']['Mobile']['2015-01']['1_home_page'] *100, \n",
    "                         counter['Male']['Mobile']['2015-04']['4_payment_confirmation_page'] / counter['Male']['Mobile']['2015-01']['1_home_page'] *100]\n",
    "male_subtable_desk.rows[0] = ['2015-01', '2015-02', '2015-03', '2015-04']\n",
    "male_subtable_desk.rows[1] = [counter['Male']['Desktop']['2015-01']['1_home_page'] / counter['Male']['Desktop']['2015-01']['1_home_page'] *100, \n",
    "                         counter['Male']['Desktop']['2015-02']['1_home_page'] / counter['Male']['Desktop']['2015-02']['1_home_page'] *100,\n",
    "                         counter['Male']['Desktop']['2015-03']['1_home_page'] / counter['Male']['Desktop']['2015-03']['1_home_page'] *100, \n",
    "                         counter['Male']['Desktop']['2015-04']['1_home_page'] / counter['Male']['Desktop']['2015-04']['1_home_page'] *100]\n",
    "male_subtable_desk.rows[2] = [counter['Male']['Desktop']['2015-01']['2_search_page'] / counter['Male']['Desktop']['2015-01']['1_home_page'] *100, \n",
    "                         counter['Male']['Desktop']['2015-02']['2_search_page'] / counter['Male']['Desktop']['2015-02']['1_home_page'] *100,\n",
    "                         counter['Male']['Desktop']['2015-03']['2_search_page'] / counter['Male']['Desktop']['2015-03']['1_home_page'] *100, \n",
    "                         counter['Male']['Desktop']['2015-04']['2_search_page'] / counter['Male']['Desktop']['2015-04']['1_home_page'] *100]\n",
    "male_subtable_desk.rows[3] = [counter['Male']['Desktop']['2015-01']['3_payment_page'] / counter['Male']['Desktop']['2015-01']['1_home_page'] *100, \n",
    "                         counter['Male']['Desktop']['2015-02']['3_payment_page'] / counter['Male']['Desktop']['2015-02']['1_home_page'] *100,\n",
    "                         counter['Male']['Desktop']['2015-03']['3_payment_page'] / counter['Male']['Desktop']['2015-03']['1_home_page'] *100, \n",
    "                         counter['Male']['Desktop']['2015-04']['3_payment_page'] / counter['Male']['Desktop']['2015-04']['1_home_page'] *100]\n",
    "male_subtable_desk.rows[4] = [counter['Male']['Desktop']['2015-01']['4_payment_confirmation_page'] / counter['Male']['Desktop']['2015-01']['1_home_page'] *100, \n",
    "                         counter['Male']['Desktop']['2015-02']['4_payment_confirmation_page'] / counter['Male']['Desktop']['2015-02']['1_home_page'] *100,\n",
    "                         counter['Male']['Desktop']['2015-03']['4_payment_confirmation_page'] / counter['Male']['Desktop']['2015-03']['1_home_page'] *100, \n",
    "                         counter['Male']['Desktop']['2015-04']['4_payment_confirmation_page'] / counter['Male']['Desktop']['2015-04']['1_home_page'] *100]\n",
    "\n",
    "\n",
    "male_table.columns.header = ['Mobile', 'Desktop']\n",
    "male_table.rows.append([male_subtable_mob, male_subtable_desk])"
   ]
  },
  {
   "cell_type": "code",
   "execution_count": 89,
   "metadata": {
    "executionInfo": {
     "elapsed": 10031,
     "status": "ok",
     "timestamp": 1610628867680,
     "user": {
      "displayName": "Андрей Щербинин",
      "photoUrl": "",
      "userId": "12257454032092519749"
     },
     "user_tz": -180
    },
    "id": "G_syDSjmZ_6B"
   },
   "outputs": [],
   "source": [
    "# Таблица для оценки количества женщин, использующих мобильную и десктопную \n",
    "# версии\n",
    "female_table = BeautifulTable()\n",
    "female_subtable_mob = BeautifulTable()\n",
    "female_subtable_desk = BeautifulTable()\n",
    "\n",
    "female_subtable_mob.rows.header = ['Month', 'Home_page','Search_page', 'Payment_page', 'Confirmation_page']\n",
    "female_subtable_desk.rows.header = ['Month', 'Home_page','Search_page', 'Payment_page', 'Confirmation_page']\n",
    "\n",
    "female_subtable_mob.rows[0] = ['2015-01', '2015-02', '2015-03', '2015-04']\n",
    "female_subtable_mob.rows[1] = [counter['Female']['Mobile']['2015-01']['1_home_page'] / counter['Female']['Mobile']['2015-01']['1_home_page'] *100, \n",
    "                         counter['Female']['Mobile']['2015-02']['1_home_page'] / counter['Female']['Mobile']['2015-02']['1_home_page'] *100,\n",
    "                         counter['Female']['Mobile']['2015-03']['1_home_page'] / counter['Female']['Mobile']['2015-03']['1_home_page'] *100, \n",
    "                         counter['Female']['Mobile']['2015-04']['1_home_page'] / counter['Female']['Mobile']['2015-04']['1_home_page'] *100]\n",
    "female_subtable_mob.rows[2] = [counter['Female']['Mobile']['2015-01']['2_search_page'] / counter['Female']['Mobile']['2015-01']['1_home_page'] *100, \n",
    "                         counter['Female']['Mobile']['2015-02']['2_search_page'] / counter['Female']['Mobile']['2015-02']['1_home_page'] *100,\n",
    "                         counter['Female']['Mobile']['2015-03']['2_search_page'] / counter['Female']['Mobile']['2015-03']['1_home_page'] *100, \n",
    "                         counter['Female']['Mobile']['2015-04']['2_search_page'] / counter['Female']['Mobile']['2015-04']['1_home_page'] *100]\n",
    "female_subtable_mob.rows[3] = [counter['Female']['Mobile']['2015-01']['3_payment_page'] / counter['Female']['Mobile']['2015-01']['1_home_page'] *100, \n",
    "                         counter['Female']['Mobile']['2015-02']['3_payment_page'] / counter['Female']['Mobile']['2015-02']['1_home_page'] *100,\n",
    "                         counter['Female']['Mobile']['2015-03']['3_payment_page'] / counter['Female']['Mobile']['2015-03']['1_home_page'] *100, \n",
    "                         counter['Female']['Mobile']['2015-04']['3_payment_page'] / counter['Female']['Mobile']['2015-04']['1_home_page'] *100]\n",
    "female_subtable_mob.rows[4] = [counter['Female']['Mobile']['2015-01']['4_payment_confirmation_page'] / counter['Female']['Mobile']['2015-01']['1_home_page'] *100, \n",
    "                         counter['Female']['Mobile']['2015-02']['4_payment_confirmation_page'] / counter['Female']['Mobile']['2015-01']['1_home_page'] *100,\n",
    "                         counter['Female']['Mobile']['2015-03']['4_payment_confirmation_page'] / counter['Female']['Mobile']['2015-01']['1_home_page'] *100, \n",
    "                         counter['Female']['Mobile']['2015-04']['4_payment_confirmation_page'] / counter['Female']['Mobile']['2015-01']['1_home_page'] *100]\n",
    "female_subtable_desk.rows[0] = ['2015-01', '2015-02', '2015-03', '2015-04']\n",
    "female_subtable_desk.rows[1] = [counter['Female']['Desktop']['2015-01']['1_home_page'] / counter['Female']['Desktop']['2015-01']['1_home_page'] *100, \n",
    "                         counter['Female']['Desktop']['2015-02']['1_home_page'] / counter['Female']['Desktop']['2015-02']['1_home_page'] *100,\n",
    "                         counter['Female']['Desktop']['2015-03']['1_home_page'] / counter['Female']['Desktop']['2015-03']['1_home_page'] *100, \n",
    "                         counter['Female']['Desktop']['2015-04']['1_home_page'] / counter['Female']['Desktop']['2015-04']['1_home_page'] *100]\n",
    "female_subtable_desk.rows[2] = [counter['Female']['Desktop']['2015-01']['2_search_page'] / counter['Female']['Desktop']['2015-01']['1_home_page'] *100, \n",
    "                         counter['Female']['Desktop']['2015-02']['2_search_page'] / counter['Female']['Desktop']['2015-02']['1_home_page'] *100,\n",
    "                         counter['Female']['Desktop']['2015-03']['2_search_page'] / counter['Female']['Desktop']['2015-03']['1_home_page'] *100, \n",
    "                         counter['Female']['Desktop']['2015-04']['2_search_page'] / counter['Female']['Desktop']['2015-04']['1_home_page'] *100]\n",
    "female_subtable_desk.rows[3] = [counter['Female']['Desktop']['2015-01']['3_payment_page'] / counter['Female']['Desktop']['2015-01']['1_home_page'] *100, \n",
    "                         counter['Female']['Desktop']['2015-02']['3_payment_page'] / counter['Female']['Desktop']['2015-02']['1_home_page'] *100,\n",
    "                         counter['Female']['Desktop']['2015-03']['3_payment_page'] / counter['Female']['Desktop']['2015-03']['1_home_page'] *100, \n",
    "                         counter['Female']['Desktop']['2015-04']['3_payment_page'] / counter['Female']['Desktop']['2015-04']['1_home_page'] *100]\n",
    "female_subtable_desk.rows[4] = [counter['Female']['Desktop']['2015-01']['4_payment_confirmation_page'] / counter['Female']['Desktop']['2015-01']['1_home_page'] *100, \n",
    "                         counter['Female']['Desktop']['2015-02']['4_payment_confirmation_page'] / counter['Female']['Desktop']['2015-02']['1_home_page'] *100,\n",
    "                         counter['Female']['Desktop']['2015-03']['4_payment_confirmation_page'] / counter['Female']['Desktop']['2015-03']['1_home_page'] *100, \n",
    "                         counter['Female']['Desktop']['2015-04']['4_payment_confirmation_page'] / counter['Female']['Desktop']['2015-04']['1_home_page'] *100]\n",
    "\n",
    "\n",
    "female_table.columns.header = ['Mobile', 'Desktop']\n",
    "female_table.rows.append([female_subtable_mob, female_subtable_desk])\n"
   ]
  },
  {
   "cell_type": "markdown",
   "metadata": {
    "id": "t19DbI7560va"
   },
   "source": [
    "### Построение диаграмм, для оценки количества пользователей"
   ]
  },
  {
   "cell_type": "code",
   "execution_count": 90,
   "metadata": {
    "executionInfo": {
     "elapsed": 10029,
     "status": "ok",
     "timestamp": 1610628867680,
     "user": {
      "displayName": "Андрей Щербинин",
      "photoUrl": "",
      "userId": "12257454032092519749"
     },
     "user_tz": -180
    },
    "id": "JKxrbdcce73h"
   },
   "outputs": [],
   "source": [
    "months = ['january', 'february', 'march', 'april'] # Построим диаграммы, чтобы визуально оценить, как меняется количество пользователей женщин на разных страницах\n",
    "female_mob_bar = go.Figure(data=[\n",
    "    go.Bar(name='Home_page', x=months, y=[counter['Female']['Mobile']['2015-01']['1_home_page'], \n",
    "                         counter['Female']['Mobile']['2015-02']['1_home_page'],\n",
    "                         counter['Female']['Mobile']['2015-03']['1_home_page'], \n",
    "                         counter['Female']['Mobile']['2015-04']['1_home_page']]),\n",
    "    go.Bar(name='Search_page', x=months, y=[counter['Female']['Mobile']['2015-01']['2_search_page'], \n",
    "                         counter['Female']['Mobile']['2015-02']['2_search_page'],\n",
    "                         counter['Female']['Mobile']['2015-03']['2_search_page'], \n",
    "                         counter['Female']['Mobile']['2015-04']['2_search_page']]),\n",
    "    go.Bar(name='Payment_page ', x=months, y=[counter['Female']['Mobile']['2015-01']['3_payment_page'], \n",
    "                         counter['Female']['Mobile']['2015-02']['3_payment_page'],\n",
    "                         counter['Female']['Mobile']['2015-03']['3_payment_page'], \n",
    "                         counter['Female']['Mobile']['2015-04']['3_payment_page']]),\n",
    "    go.Bar(name='Confirmation_page  ', x=months, y=[counter['Female']['Mobile']['2015-01']['4_payment_confirmation_page'], \n",
    "                         counter['Female']['Mobile']['2015-02']['4_payment_confirmation_page'],\n",
    "                         counter['Female']['Mobile']['2015-03']['4_payment_confirmation_page'], \n",
    "                         counter['Female']['Mobile']['2015-04']['4_payment_confirmation_page']])\n",
    "])\n",
    "\n",
    "\n",
    "female_desk_bar = go.Figure(data=[\n",
    "    go.Bar(name='Home_page', x=months, y=[counter['Female']['Desktop']['2015-01']['1_home_page'], \n",
    "                         counter['Female']['Desktop']['2015-02']['1_home_page'],\n",
    "                         counter['Female']['Desktop']['2015-03']['1_home_page'], \n",
    "                         counter['Female']['Desktop']['2015-04']['1_home_page']]),\n",
    "    go.Bar(name='Search_page', x=months, y=[counter['Female']['Desktop']['2015-01']['2_search_page'], \n",
    "                         counter['Female']['Desktop']['2015-02']['2_search_page'],\n",
    "                         counter['Female']['Desktop']['2015-03']['2_search_page'], \n",
    "                         counter['Female']['Desktop']['2015-04']['2_search_page']]),\n",
    "    go.Bar(name='Payment_page ', x=months, y=[counter['Female']['Desktop']['2015-01']['3_payment_page'], \n",
    "                         counter['Female']['Desktop']['2015-02']['3_payment_page'],\n",
    "                         counter['Female']['Desktop']['2015-03']['3_payment_page'], \n",
    "                         counter['Female']['Desktop']['2015-04']['3_payment_page']]),\n",
    "    go.Bar(name='Confirmation_page  ', x=months, y=[counter['Female']['Desktop']['2015-01']['4_payment_confirmation_page'], \n",
    "                         counter['Female']['Desktop']['2015-02']['4_payment_confirmation_page'],\n",
    "                         counter['Female']['Desktop']['2015-03']['4_payment_confirmation_page'], \n",
    "                         counter['Female']['Desktop']['2015-04']['4_payment_confirmation_page']])\n",
    "])\n",
    "\n"
   ]
  },
  {
   "cell_type": "code",
   "execution_count": 91,
   "metadata": {
    "executionInfo": {
     "elapsed": 10029,
     "status": "ok",
     "timestamp": 1610628867681,
     "user": {
      "displayName": "Андрей Щербинин",
      "photoUrl": "",
      "userId": "12257454032092519749"
     },
     "user_tz": -180
    },
    "id": "eC5Crlywi4LC"
   },
   "outputs": [],
   "source": [
    "# Построим диаграммы, чтобы визуально оценить, как меняется количество пользователей мужчин на разных страницах\n",
    "male_mob_bar = go.Figure(data=[\n",
    "    go.Bar(name='Home_page', x=months, y=[counter['Male']['Mobile']['2015-01']['1_home_page'], \n",
    "                         counter['Male']['Mobile']['2015-02']['1_home_page'],\n",
    "                         counter['Male']['Mobile']['2015-03']['1_home_page'], \n",
    "                         counter['Male']['Mobile']['2015-04']['1_home_page']]),\n",
    "    go.Bar(name='Search_page', x=months, y=[counter['Male']['Mobile']['2015-01']['2_search_page'], \n",
    "                         counter['Male']['Mobile']['2015-02']['2_search_page'],\n",
    "                         counter['Male']['Mobile']['2015-03']['2_search_page'], \n",
    "                         counter['Male']['Mobile']['2015-04']['2_search_page']]),\n",
    "    go.Bar(name='Payment_page ', x=months, y=[counter['Male']['Mobile']['2015-01']['3_payment_page'], \n",
    "                         counter['Male']['Mobile']['2015-02']['3_payment_page'],\n",
    "                         counter['Male']['Mobile']['2015-03']['3_payment_page'], \n",
    "                         counter['Male']['Mobile']['2015-04']['3_payment_page']]),\n",
    "    go.Bar(name='Confirmation_page  ', x=months, y=[counter['Male']['Mobile']['2015-01']['4_payment_confirmation_page'], \n",
    "                         counter['Male']['Mobile']['2015-02']['4_payment_confirmation_page'],\n",
    "                         counter['Male']['Mobile']['2015-03']['4_payment_confirmation_page'], \n",
    "                         counter['Male']['Mobile']['2015-04']['4_payment_confirmation_page']])\n",
    "])\n",
    "\n",
    "\n",
    "male_desk_bar = go.Figure(data=[\n",
    "    go.Bar(name='Home_page', x=months, y=[counter['Male']['Desktop']['2015-01']['1_home_page'], \n",
    "                         counter['Male']['Desktop']['2015-02']['1_home_page'],\n",
    "                         counter['Male']['Desktop']['2015-03']['1_home_page'], \n",
    "                         counter['Male']['Desktop']['2015-04']['1_home_page']]),\n",
    "    go.Bar(name='Search_page', x=months, y=[counter['Male']['Desktop']['2015-01']['2_search_page'], \n",
    "                         counter['Male']['Desktop']['2015-02']['2_search_page'],\n",
    "                         counter['Male']['Desktop']['2015-03']['2_search_page'], \n",
    "                         counter['Male']['Desktop']['2015-04']['2_search_page']]),\n",
    "    go.Bar(name='Payment_page ', x=months, y=[counter['Male']['Desktop']['2015-01']['3_payment_page'], \n",
    "                         counter['Male']['Desktop']['2015-02']['3_payment_page'],\n",
    "                         counter['Male']['Desktop']['2015-03']['3_payment_page'], \n",
    "                         counter['Male']['Desktop']['2015-04']['3_payment_page']]),\n",
    "    go.Bar(name='Confirmation_page  ', x=months, y=[counter['Male']['Desktop']['2015-01']['4_payment_confirmation_page'], \n",
    "                         counter['Male']['Desktop']['2015-02']['4_payment_confirmation_page'],\n",
    "                         counter['Male']['Desktop']['2015-03']['4_payment_confirmation_page'], \n",
    "                         counter['Male']['Desktop']['2015-04']['4_payment_confirmation_page']])\n",
    "])"
   ]
  },
  {
   "cell_type": "markdown",
   "metadata": {
    "id": "zMh8JsUg7CGk"
   },
   "source": [
    "### Вывод таблиц и диаграмм для проведения анализа"
   ]
  },
  {
   "cell_type": "code",
   "execution_count": 92,
   "metadata": {
    "colab": {
     "base_uri": "https://localhost:8080/",
     "height": 1000
    },
    "executionInfo": {
     "elapsed": 10934,
     "status": "ok",
     "timestamp": 1610628868594,
     "user": {
      "displayName": "Андрей Щербинин",
      "photoUrl": "",
      "userId": "12257454032092519749"
     },
     "user_tz": -180
    },
    "id": "ldOFsseMU5hP",
    "outputId": "afc691ec-fc3c-4cb3-ef52-29507d26ff4e"
   },
   "outputs": [
    {
     "name": "stdout",
     "output_type": "stream",
     "text": [
      "Female\n",
      "+---------------------------------------+--------------------------------------+\n",
      "|                Mobile                 |               Desktop                |\n",
      "+---------------------------------------+--------------------------------------+\n",
      "| +----------+------+-----+-----+-----+ | +----------+-----+-----+-----+-----+ |\n",
      "| |  Month   | 2015 | 201 | 201 | 201 | | |  Month   | 201 | 201 | 201 | 201 | |\n",
      "| |          | -01  | 5-0 | 5-0 | 5-0 | | |          | 5-0 | 5-0 | 5-0 | 5-0 | |\n",
      "| |          |      |  2  |  3  |  4  | | |          |  1  |  2  |  3  |  4  | |\n",
      "| +----------+------+-----+-----+-----+ | +----------+-----+-----+-----+-----+ |\n",
      "| | Home_pag | 100. | 100 | 100 | 100 | | | Home_pag | 100 | 100 | 100 | 100 | |\n",
      "| |    e     |  0   | .0  | .0  | .0  | | |    e     | .0  | .0  | .0  | .0  | |\n",
      "| +----------+------+-----+-----+-----+ | +----------+-----+-----+-----+-----+ |\n",
      "| | Search_p | 79.1 | 80. | 19. | 20. | | | Search_p | 51. | 51. | 49. | 49. | |\n",
      "| |   age    |  62  | 512 | 984 | 317 | | |   age    | 034 | 02  | 348 | 833 | |\n",
      "| +----------+------+-----+-----+-----+ | +----------+-----+-----+-----+-----+ |\n",
      "| | Payment_ | 15.9 | 16. | 4.6 | 3.9 | | | Payment_ | 8.2 | 8.1 | 2.1 | 1.8 | |\n",
      "| |   page   |  77  | 796 | 82  | 51  | | |   page   | 83  | 23  | 57  | 42  | |\n",
      "| +----------+------+-----+-----+-----+ | +----------+-----+-----+-----+-----+ |\n",
      "| | Confirma | 1.96 | 1.5 | 0.5 | 0.2 | | | Confirma | 0.4 | 0.3 | 0.0 | 0.1 | |\n",
      "| | tion_pag |  5   | 51  | 17  | 84  | | | tion_pag | 37  | 49  |  8  |  2  | |\n",
      "| |    e     |      |     |     |     | | |    e     |     |     |     |     | |\n",
      "| +----------+------+-----+-----+-----+ | +----------+-----+-----+-----+-----+ |\n",
      "+---------------------------------------+--------------------------------------+\n",
      "\n",
      "Male\n",
      "+---------------------------------------+--------------------------------------+\n",
      "|                Mobile                 |               Desktop                |\n",
      "+---------------------------------------+--------------------------------------+\n",
      "| +----------+------+-----+-----+-----+ | +----------+-----+-----+-----+-----+ |\n",
      "| |  Month   | 2015 | 201 | 201 | 201 | | |  Month   | 201 | 201 | 201 | 201 | |\n",
      "| |          | -01  | 5-0 | 5-0 | 5-0 | | |          | 5-0 | 5-0 | 5-0 | 5-0 | |\n",
      "| |          |      |  2  |  3  |  4  | | |          |  1  |  2  |  3  |  4  | |\n",
      "| +----------+------+-----+-----+-----+ | +----------+-----+-----+-----+-----+ |\n",
      "| | Home_pag | 100. | 100 | 100 | 100 | | | Home_pag | 100 | 100 | 100 | 100 | |\n",
      "| |    e     |  0   | .0  | .0  | .0  | | |    e     | .0  | .0  | .0  | .0  | |\n",
      "| +----------+------+-----+-----+-----+ | +----------+-----+-----+-----+-----+ |\n",
      "| | Search_p | 80.4 | 79. | 19. | 19. | | | Search_p | 49. | 50. | 48. | 50. | |\n",
      "| |   age    |  73  | 889 | 99  | 718 | | |   age    | 014 | 408 | 594 | 747 | |\n",
      "| +----------+------+-----+-----+-----+ | +----------+-----+-----+-----+-----+ |\n",
      "| | Payment_ | 14.9 | 15. | 4.1 | 3.8 | | | Payment_ | 7.9 | 7.7 | 1.7 | 2.1 | |\n",
      "| |   page   |  65  | 557 | 97  | 65  | | |   page   | 42  | 08  | 78  |  7  | |\n",
      "| +----------+------+-----+-----+-----+ | +----------+-----+-----+-----+-----+ |\n",
      "| | Confirma | 1.43 | 1.6 | 0.2 | 0.3 | | | Confirma | 0.3 | 0.3 | 0.1 | 0.1 | |\n",
      "| | tion_pag |  9   | 02  | 72  | 53  | | | tion_pag |  6  | 68  | 06  | 72  | |\n",
      "| |    e     |      |     |     |     | | |    e     |     |     |     |     | |\n",
      "| +----------+------+-----+-----+-----+ | +----------+-----+-----+-----+-----+ |\n",
      "+---------------------------------------+--------------------------------------+\n",
      "\n"
     ]
    },
    {
     "data": {
      "text/html": [
       "<html>\n",
       "<head><meta charset=\"utf-8\" /></head>\n",
       "<body>\n",
       "    <div>\n",
       "            <script src=\"https://cdnjs.cloudflare.com/ajax/libs/mathjax/2.7.5/MathJax.js?config=TeX-AMS-MML_SVG\"></script><script type=\"text/javascript\">if (window.MathJax) {MathJax.Hub.Config({SVG: {font: \"STIX-Web\"}});}</script>\n",
       "                <script type=\"text/javascript\">window.PlotlyConfig = {MathJaxConfig: 'local'};</script>\n",
       "        <script src=\"https://cdn.plot.ly/plotly-latest.min.js\"></script>    \n",
       "            <div id=\"82bda984-ca51-4c40-977d-52da8318f124\" class=\"plotly-graph-div\" style=\"height:525px; width:100%;\"></div>\n",
       "            <script type=\"text/javascript\">\n",
       "                \n",
       "                    window.PLOTLYENV=window.PLOTLYENV || {};\n",
       "                    \n",
       "                if (document.getElementById(\"82bda984-ca51-4c40-977d-52da8318f124\")) {\n",
       "                    Plotly.newPlot(\n",
       "                        '82bda984-ca51-4c40-977d-52da8318f124',\n",
       "                        [{\"name\": \"Home_page\", \"type\": \"bar\", \"x\": [\"january\", \"february\", \"march\", \"april\"], \"y\": [3868, 3751, 3738, 3721]}, {\"name\": \"Search_page\", \"type\": \"bar\", \"x\": [\"january\", \"february\", \"march\", \"april\"], \"y\": [3062, 3020, 747, 756]}, {\"name\": \"Payment_page \", \"type\": \"bar\", \"x\": [\"january\", \"february\", \"march\", \"april\"], \"y\": [618, 630, 175, 147]}, {\"name\": \"Confirmation_page  \", \"type\": \"bar\", \"x\": [\"january\", \"february\", \"march\", \"april\"], \"y\": [76, 60, 20, 11]}],\n",
       "                        {\"barmode\": \"group\", \"template\": {\"data\": {\"bar\": [{\"error_x\": {\"color\": \"#2a3f5f\"}, \"error_y\": {\"color\": \"#2a3f5f\"}, \"marker\": {\"line\": {\"color\": \"#E5ECF6\", \"width\": 0.5}}, \"type\": \"bar\"}], \"barpolar\": [{\"marker\": {\"line\": {\"color\": \"#E5ECF6\", \"width\": 0.5}}, \"type\": \"barpolar\"}], \"carpet\": [{\"aaxis\": {\"endlinecolor\": \"#2a3f5f\", \"gridcolor\": \"white\", \"linecolor\": \"white\", \"minorgridcolor\": \"white\", \"startlinecolor\": \"#2a3f5f\"}, \"baxis\": {\"endlinecolor\": \"#2a3f5f\", \"gridcolor\": \"white\", \"linecolor\": \"white\", \"minorgridcolor\": \"white\", \"startlinecolor\": \"#2a3f5f\"}, \"type\": \"carpet\"}], \"choropleth\": [{\"colorbar\": {\"outlinewidth\": 0, \"ticks\": \"\"}, \"type\": \"choropleth\"}], \"contour\": [{\"colorbar\": {\"outlinewidth\": 0, \"ticks\": \"\"}, \"colorscale\": [[0.0, \"#0d0887\"], [0.1111111111111111, \"#46039f\"], [0.2222222222222222, \"#7201a8\"], [0.3333333333333333, \"#9c179e\"], [0.4444444444444444, \"#bd3786\"], [0.5555555555555556, \"#d8576b\"], [0.6666666666666666, \"#ed7953\"], [0.7777777777777778, \"#fb9f3a\"], [0.8888888888888888, \"#fdca26\"], [1.0, \"#f0f921\"]], \"type\": \"contour\"}], \"contourcarpet\": [{\"colorbar\": {\"outlinewidth\": 0, \"ticks\": \"\"}, \"type\": \"contourcarpet\"}], \"heatmap\": [{\"colorbar\": {\"outlinewidth\": 0, \"ticks\": \"\"}, \"colorscale\": [[0.0, \"#0d0887\"], [0.1111111111111111, \"#46039f\"], [0.2222222222222222, \"#7201a8\"], [0.3333333333333333, \"#9c179e\"], [0.4444444444444444, \"#bd3786\"], [0.5555555555555556, \"#d8576b\"], [0.6666666666666666, \"#ed7953\"], [0.7777777777777778, \"#fb9f3a\"], [0.8888888888888888, \"#fdca26\"], [1.0, \"#f0f921\"]], \"type\": \"heatmap\"}], \"heatmapgl\": [{\"colorbar\": {\"outlinewidth\": 0, \"ticks\": \"\"}, \"colorscale\": [[0.0, \"#0d0887\"], [0.1111111111111111, \"#46039f\"], [0.2222222222222222, \"#7201a8\"], [0.3333333333333333, \"#9c179e\"], [0.4444444444444444, \"#bd3786\"], [0.5555555555555556, \"#d8576b\"], [0.6666666666666666, \"#ed7953\"], [0.7777777777777778, \"#fb9f3a\"], [0.8888888888888888, \"#fdca26\"], [1.0, \"#f0f921\"]], \"type\": \"heatmapgl\"}], \"histogram\": [{\"marker\": {\"colorbar\": {\"outlinewidth\": 0, \"ticks\": \"\"}}, \"type\": \"histogram\"}], \"histogram2d\": [{\"colorbar\": {\"outlinewidth\": 0, \"ticks\": \"\"}, \"colorscale\": [[0.0, \"#0d0887\"], [0.1111111111111111, \"#46039f\"], [0.2222222222222222, \"#7201a8\"], [0.3333333333333333, \"#9c179e\"], [0.4444444444444444, \"#bd3786\"], [0.5555555555555556, \"#d8576b\"], [0.6666666666666666, \"#ed7953\"], [0.7777777777777778, \"#fb9f3a\"], [0.8888888888888888, \"#fdca26\"], [1.0, \"#f0f921\"]], \"type\": \"histogram2d\"}], \"histogram2dcontour\": [{\"colorbar\": {\"outlinewidth\": 0, \"ticks\": \"\"}, \"colorscale\": [[0.0, \"#0d0887\"], [0.1111111111111111, \"#46039f\"], [0.2222222222222222, \"#7201a8\"], [0.3333333333333333, \"#9c179e\"], [0.4444444444444444, \"#bd3786\"], [0.5555555555555556, \"#d8576b\"], [0.6666666666666666, \"#ed7953\"], [0.7777777777777778, \"#fb9f3a\"], [0.8888888888888888, \"#fdca26\"], [1.0, \"#f0f921\"]], \"type\": \"histogram2dcontour\"}], \"mesh3d\": [{\"colorbar\": {\"outlinewidth\": 0, \"ticks\": \"\"}, \"type\": \"mesh3d\"}], \"parcoords\": [{\"line\": {\"colorbar\": {\"outlinewidth\": 0, \"ticks\": \"\"}}, \"type\": \"parcoords\"}], \"pie\": [{\"automargin\": true, \"type\": \"pie\"}], \"scatter\": [{\"marker\": {\"colorbar\": {\"outlinewidth\": 0, \"ticks\": \"\"}}, \"type\": \"scatter\"}], \"scatter3d\": [{\"line\": {\"colorbar\": {\"outlinewidth\": 0, \"ticks\": \"\"}}, \"marker\": {\"colorbar\": {\"outlinewidth\": 0, \"ticks\": \"\"}}, \"type\": \"scatter3d\"}], \"scattercarpet\": [{\"marker\": {\"colorbar\": {\"outlinewidth\": 0, \"ticks\": \"\"}}, \"type\": \"scattercarpet\"}], \"scattergeo\": [{\"marker\": {\"colorbar\": {\"outlinewidth\": 0, \"ticks\": \"\"}}, \"type\": \"scattergeo\"}], \"scattergl\": [{\"marker\": {\"colorbar\": {\"outlinewidth\": 0, \"ticks\": \"\"}}, \"type\": \"scattergl\"}], \"scattermapbox\": [{\"marker\": {\"colorbar\": {\"outlinewidth\": 0, \"ticks\": \"\"}}, \"type\": \"scattermapbox\"}], \"scatterpolar\": [{\"marker\": {\"colorbar\": {\"outlinewidth\": 0, \"ticks\": \"\"}}, \"type\": \"scatterpolar\"}], \"scatterpolargl\": [{\"marker\": {\"colorbar\": {\"outlinewidth\": 0, \"ticks\": \"\"}}, \"type\": \"scatterpolargl\"}], \"scatterternary\": [{\"marker\": {\"colorbar\": {\"outlinewidth\": 0, \"ticks\": \"\"}}, \"type\": \"scatterternary\"}], \"surface\": [{\"colorbar\": {\"outlinewidth\": 0, \"ticks\": \"\"}, \"colorscale\": [[0.0, \"#0d0887\"], [0.1111111111111111, \"#46039f\"], [0.2222222222222222, \"#7201a8\"], [0.3333333333333333, \"#9c179e\"], [0.4444444444444444, \"#bd3786\"], [0.5555555555555556, \"#d8576b\"], [0.6666666666666666, \"#ed7953\"], [0.7777777777777778, \"#fb9f3a\"], [0.8888888888888888, \"#fdca26\"], [1.0, \"#f0f921\"]], \"type\": \"surface\"}], \"table\": [{\"cells\": {\"fill\": {\"color\": \"#EBF0F8\"}, \"line\": {\"color\": \"white\"}}, \"header\": {\"fill\": {\"color\": \"#C8D4E3\"}, \"line\": {\"color\": \"white\"}}, \"type\": \"table\"}]}, \"layout\": {\"annotationdefaults\": {\"arrowcolor\": \"#2a3f5f\", \"arrowhead\": 0, \"arrowwidth\": 1}, \"coloraxis\": {\"colorbar\": {\"outlinewidth\": 0, \"ticks\": \"\"}}, \"colorscale\": {\"diverging\": [[0, \"#8e0152\"], [0.1, \"#c51b7d\"], [0.2, \"#de77ae\"], [0.3, \"#f1b6da\"], [0.4, \"#fde0ef\"], [0.5, \"#f7f7f7\"], [0.6, \"#e6f5d0\"], [0.7, \"#b8e186\"], [0.8, \"#7fbc41\"], [0.9, \"#4d9221\"], [1, \"#276419\"]], \"sequential\": [[0.0, \"#0d0887\"], [0.1111111111111111, \"#46039f\"], [0.2222222222222222, \"#7201a8\"], [0.3333333333333333, \"#9c179e\"], [0.4444444444444444, \"#bd3786\"], [0.5555555555555556, \"#d8576b\"], [0.6666666666666666, \"#ed7953\"], [0.7777777777777778, \"#fb9f3a\"], [0.8888888888888888, \"#fdca26\"], [1.0, \"#f0f921\"]], \"sequentialminus\": [[0.0, \"#0d0887\"], [0.1111111111111111, \"#46039f\"], [0.2222222222222222, \"#7201a8\"], [0.3333333333333333, \"#9c179e\"], [0.4444444444444444, \"#bd3786\"], [0.5555555555555556, \"#d8576b\"], [0.6666666666666666, \"#ed7953\"], [0.7777777777777778, \"#fb9f3a\"], [0.8888888888888888, \"#fdca26\"], [1.0, \"#f0f921\"]]}, \"colorway\": [\"#636efa\", \"#EF553B\", \"#00cc96\", \"#ab63fa\", \"#FFA15A\", \"#19d3f3\", \"#FF6692\", \"#B6E880\", \"#FF97FF\", \"#FECB52\"], \"font\": {\"color\": \"#2a3f5f\"}, \"geo\": {\"bgcolor\": \"white\", \"lakecolor\": \"white\", \"landcolor\": \"#E5ECF6\", \"showlakes\": true, \"showland\": true, \"subunitcolor\": \"white\"}, \"hoverlabel\": {\"align\": \"left\"}, \"hovermode\": \"closest\", \"mapbox\": {\"style\": \"light\"}, \"paper_bgcolor\": \"white\", \"plot_bgcolor\": \"#E5ECF6\", \"polar\": {\"angularaxis\": {\"gridcolor\": \"white\", \"linecolor\": \"white\", \"ticks\": \"\"}, \"bgcolor\": \"#E5ECF6\", \"radialaxis\": {\"gridcolor\": \"white\", \"linecolor\": \"white\", \"ticks\": \"\"}}, \"scene\": {\"xaxis\": {\"backgroundcolor\": \"#E5ECF6\", \"gridcolor\": \"white\", \"gridwidth\": 2, \"linecolor\": \"white\", \"showbackground\": true, \"ticks\": \"\", \"zerolinecolor\": \"white\"}, \"yaxis\": {\"backgroundcolor\": \"#E5ECF6\", \"gridcolor\": \"white\", \"gridwidth\": 2, \"linecolor\": \"white\", \"showbackground\": true, \"ticks\": \"\", \"zerolinecolor\": \"white\"}, \"zaxis\": {\"backgroundcolor\": \"#E5ECF6\", \"gridcolor\": \"white\", \"gridwidth\": 2, \"linecolor\": \"white\", \"showbackground\": true, \"ticks\": \"\", \"zerolinecolor\": \"white\"}}, \"shapedefaults\": {\"line\": {\"color\": \"#2a3f5f\"}}, \"ternary\": {\"aaxis\": {\"gridcolor\": \"white\", \"linecolor\": \"white\", \"ticks\": \"\"}, \"baxis\": {\"gridcolor\": \"white\", \"linecolor\": \"white\", \"ticks\": \"\"}, \"bgcolor\": \"#E5ECF6\", \"caxis\": {\"gridcolor\": \"white\", \"linecolor\": \"white\", \"ticks\": \"\"}}, \"title\": {\"x\": 0.05}, \"xaxis\": {\"automargin\": true, \"gridcolor\": \"white\", \"linecolor\": \"white\", \"ticks\": \"\", \"title\": {\"standoff\": 15}, \"zerolinecolor\": \"white\", \"zerolinewidth\": 2}, \"yaxis\": {\"automargin\": true, \"gridcolor\": \"white\", \"linecolor\": \"white\", \"ticks\": \"\", \"title\": {\"standoff\": 15}, \"zerolinecolor\": \"white\", \"zerolinewidth\": 2}}}, \"title\": {\"text\": \"Female using Mobile version\"}},\n",
       "                        {\"responsive\": true}\n",
       "                    ).then(function(){\n",
       "                            \n",
       "var gd = document.getElementById('82bda984-ca51-4c40-977d-52da8318f124');\n",
       "var x = new MutationObserver(function (mutations, observer) {{\n",
       "        var display = window.getComputedStyle(gd).display;\n",
       "        if (!display || display === 'none') {{\n",
       "            console.log([gd, 'removed!']);\n",
       "            Plotly.purge(gd);\n",
       "            observer.disconnect();\n",
       "        }}\n",
       "}});\n",
       "\n",
       "// Listen for the removal of the full notebook cells\n",
       "var notebookContainer = gd.closest('#notebook-container');\n",
       "if (notebookContainer) {{\n",
       "    x.observe(notebookContainer, {childList: true});\n",
       "}}\n",
       "\n",
       "// Listen for the clearing of the current output cell\n",
       "var outputEl = gd.closest('.output');\n",
       "if (outputEl) {{\n",
       "    x.observe(outputEl, {childList: true});\n",
       "}}\n",
       "\n",
       "                        })\n",
       "                };\n",
       "                \n",
       "            </script>\n",
       "        </div>\n",
       "</body>\n",
       "</html>"
      ]
     },
     "metadata": {
      "tags": []
     },
     "output_type": "display_data"
    },
    {
     "data": {
      "text/html": [
       "<html>\n",
       "<head><meta charset=\"utf-8\" /></head>\n",
       "<body>\n",
       "    <div>\n",
       "            <script src=\"https://cdnjs.cloudflare.com/ajax/libs/mathjax/2.7.5/MathJax.js?config=TeX-AMS-MML_SVG\"></script><script type=\"text/javascript\">if (window.MathJax) {MathJax.Hub.Config({SVG: {font: \"STIX-Web\"}});}</script>\n",
       "                <script type=\"text/javascript\">window.PlotlyConfig = {MathJaxConfig: 'local'};</script>\n",
       "        <script src=\"https://cdn.plot.ly/plotly-latest.min.js\"></script>    \n",
       "            <div id=\"5d0712d9-9fd3-4c89-960e-abe7384a2175\" class=\"plotly-graph-div\" style=\"height:525px; width:100%;\"></div>\n",
       "            <script type=\"text/javascript\">\n",
       "                \n",
       "                    window.PLOTLYENV=window.PLOTLYENV || {};\n",
       "                    \n",
       "                if (document.getElementById(\"5d0712d9-9fd3-4c89-960e-abe7384a2175\")) {\n",
       "                    Plotly.newPlot(\n",
       "                        '5d0712d9-9fd3-4c89-960e-abe7384a2175',\n",
       "                        [{\"name\": \"Home_page\", \"type\": \"bar\", \"x\": [\"january\", \"february\", \"march\", \"april\"], \"y\": [3682, 3799, 3812, 3829]}, {\"name\": \"Search_page\", \"type\": \"bar\", \"x\": [\"january\", \"february\", \"march\", \"april\"], \"y\": [2963, 3035, 762, 755]}, {\"name\": \"Payment_page \", \"type\": \"bar\", \"x\": [\"january\", \"february\", \"march\", \"april\"], \"y\": [551, 591, 160, 148]}, {\"name\": \"Confirmation_page  \", \"type\": \"bar\", \"x\": [\"january\", \"february\", \"march\", \"april\"], \"y\": [53, 59, 10, 13]}],\n",
       "                        {\"barmode\": \"group\", \"template\": {\"data\": {\"bar\": [{\"error_x\": {\"color\": \"#2a3f5f\"}, \"error_y\": {\"color\": \"#2a3f5f\"}, \"marker\": {\"line\": {\"color\": \"#E5ECF6\", \"width\": 0.5}}, \"type\": \"bar\"}], \"barpolar\": [{\"marker\": {\"line\": {\"color\": \"#E5ECF6\", \"width\": 0.5}}, \"type\": \"barpolar\"}], \"carpet\": [{\"aaxis\": {\"endlinecolor\": \"#2a3f5f\", \"gridcolor\": \"white\", \"linecolor\": \"white\", \"minorgridcolor\": \"white\", \"startlinecolor\": \"#2a3f5f\"}, \"baxis\": {\"endlinecolor\": \"#2a3f5f\", \"gridcolor\": \"white\", \"linecolor\": \"white\", \"minorgridcolor\": \"white\", \"startlinecolor\": \"#2a3f5f\"}, \"type\": \"carpet\"}], \"choropleth\": [{\"colorbar\": {\"outlinewidth\": 0, \"ticks\": \"\"}, \"type\": \"choropleth\"}], \"contour\": [{\"colorbar\": {\"outlinewidth\": 0, \"ticks\": \"\"}, \"colorscale\": [[0.0, \"#0d0887\"], [0.1111111111111111, \"#46039f\"], [0.2222222222222222, \"#7201a8\"], [0.3333333333333333, \"#9c179e\"], [0.4444444444444444, \"#bd3786\"], [0.5555555555555556, \"#d8576b\"], [0.6666666666666666, \"#ed7953\"], [0.7777777777777778, \"#fb9f3a\"], [0.8888888888888888, \"#fdca26\"], [1.0, \"#f0f921\"]], \"type\": \"contour\"}], \"contourcarpet\": [{\"colorbar\": {\"outlinewidth\": 0, \"ticks\": \"\"}, \"type\": \"contourcarpet\"}], \"heatmap\": [{\"colorbar\": {\"outlinewidth\": 0, \"ticks\": \"\"}, \"colorscale\": [[0.0, \"#0d0887\"], [0.1111111111111111, \"#46039f\"], [0.2222222222222222, \"#7201a8\"], [0.3333333333333333, \"#9c179e\"], [0.4444444444444444, \"#bd3786\"], [0.5555555555555556, \"#d8576b\"], [0.6666666666666666, \"#ed7953\"], [0.7777777777777778, \"#fb9f3a\"], [0.8888888888888888, \"#fdca26\"], [1.0, \"#f0f921\"]], \"type\": \"heatmap\"}], \"heatmapgl\": [{\"colorbar\": {\"outlinewidth\": 0, \"ticks\": \"\"}, \"colorscale\": [[0.0, \"#0d0887\"], [0.1111111111111111, \"#46039f\"], [0.2222222222222222, \"#7201a8\"], [0.3333333333333333, \"#9c179e\"], [0.4444444444444444, \"#bd3786\"], [0.5555555555555556, \"#d8576b\"], [0.6666666666666666, \"#ed7953\"], [0.7777777777777778, \"#fb9f3a\"], [0.8888888888888888, \"#fdca26\"], [1.0, \"#f0f921\"]], \"type\": \"heatmapgl\"}], \"histogram\": [{\"marker\": {\"colorbar\": {\"outlinewidth\": 0, \"ticks\": \"\"}}, \"type\": \"histogram\"}], \"histogram2d\": [{\"colorbar\": {\"outlinewidth\": 0, \"ticks\": \"\"}, \"colorscale\": [[0.0, \"#0d0887\"], [0.1111111111111111, \"#46039f\"], [0.2222222222222222, \"#7201a8\"], [0.3333333333333333, \"#9c179e\"], [0.4444444444444444, \"#bd3786\"], [0.5555555555555556, \"#d8576b\"], [0.6666666666666666, \"#ed7953\"], [0.7777777777777778, \"#fb9f3a\"], [0.8888888888888888, \"#fdca26\"], [1.0, \"#f0f921\"]], \"type\": \"histogram2d\"}], \"histogram2dcontour\": [{\"colorbar\": {\"outlinewidth\": 0, \"ticks\": \"\"}, \"colorscale\": [[0.0, \"#0d0887\"], [0.1111111111111111, \"#46039f\"], [0.2222222222222222, \"#7201a8\"], [0.3333333333333333, \"#9c179e\"], [0.4444444444444444, \"#bd3786\"], [0.5555555555555556, \"#d8576b\"], [0.6666666666666666, \"#ed7953\"], [0.7777777777777778, \"#fb9f3a\"], [0.8888888888888888, \"#fdca26\"], [1.0, \"#f0f921\"]], \"type\": \"histogram2dcontour\"}], \"mesh3d\": [{\"colorbar\": {\"outlinewidth\": 0, \"ticks\": \"\"}, \"type\": \"mesh3d\"}], \"parcoords\": [{\"line\": {\"colorbar\": {\"outlinewidth\": 0, \"ticks\": \"\"}}, \"type\": \"parcoords\"}], \"pie\": [{\"automargin\": true, \"type\": \"pie\"}], \"scatter\": [{\"marker\": {\"colorbar\": {\"outlinewidth\": 0, \"ticks\": \"\"}}, \"type\": \"scatter\"}], \"scatter3d\": [{\"line\": {\"colorbar\": {\"outlinewidth\": 0, \"ticks\": \"\"}}, \"marker\": {\"colorbar\": {\"outlinewidth\": 0, \"ticks\": \"\"}}, \"type\": \"scatter3d\"}], \"scattercarpet\": [{\"marker\": {\"colorbar\": {\"outlinewidth\": 0, \"ticks\": \"\"}}, \"type\": \"scattercarpet\"}], \"scattergeo\": [{\"marker\": {\"colorbar\": {\"outlinewidth\": 0, \"ticks\": \"\"}}, \"type\": \"scattergeo\"}], \"scattergl\": [{\"marker\": {\"colorbar\": {\"outlinewidth\": 0, \"ticks\": \"\"}}, \"type\": \"scattergl\"}], \"scattermapbox\": [{\"marker\": {\"colorbar\": {\"outlinewidth\": 0, \"ticks\": \"\"}}, \"type\": \"scattermapbox\"}], \"scatterpolar\": [{\"marker\": {\"colorbar\": {\"outlinewidth\": 0, \"ticks\": \"\"}}, \"type\": \"scatterpolar\"}], \"scatterpolargl\": [{\"marker\": {\"colorbar\": {\"outlinewidth\": 0, \"ticks\": \"\"}}, \"type\": \"scatterpolargl\"}], \"scatterternary\": [{\"marker\": {\"colorbar\": {\"outlinewidth\": 0, \"ticks\": \"\"}}, \"type\": \"scatterternary\"}], \"surface\": [{\"colorbar\": {\"outlinewidth\": 0, \"ticks\": \"\"}, \"colorscale\": [[0.0, \"#0d0887\"], [0.1111111111111111, \"#46039f\"], [0.2222222222222222, \"#7201a8\"], [0.3333333333333333, \"#9c179e\"], [0.4444444444444444, \"#bd3786\"], [0.5555555555555556, \"#d8576b\"], [0.6666666666666666, \"#ed7953\"], [0.7777777777777778, \"#fb9f3a\"], [0.8888888888888888, \"#fdca26\"], [1.0, \"#f0f921\"]], \"type\": \"surface\"}], \"table\": [{\"cells\": {\"fill\": {\"color\": \"#EBF0F8\"}, \"line\": {\"color\": \"white\"}}, \"header\": {\"fill\": {\"color\": \"#C8D4E3\"}, \"line\": {\"color\": \"white\"}}, \"type\": \"table\"}]}, \"layout\": {\"annotationdefaults\": {\"arrowcolor\": \"#2a3f5f\", \"arrowhead\": 0, \"arrowwidth\": 1}, \"coloraxis\": {\"colorbar\": {\"outlinewidth\": 0, \"ticks\": \"\"}}, \"colorscale\": {\"diverging\": [[0, \"#8e0152\"], [0.1, \"#c51b7d\"], [0.2, \"#de77ae\"], [0.3, \"#f1b6da\"], [0.4, \"#fde0ef\"], [0.5, \"#f7f7f7\"], [0.6, \"#e6f5d0\"], [0.7, \"#b8e186\"], [0.8, \"#7fbc41\"], [0.9, \"#4d9221\"], [1, \"#276419\"]], \"sequential\": [[0.0, \"#0d0887\"], [0.1111111111111111, \"#46039f\"], [0.2222222222222222, \"#7201a8\"], [0.3333333333333333, \"#9c179e\"], [0.4444444444444444, \"#bd3786\"], [0.5555555555555556, \"#d8576b\"], [0.6666666666666666, \"#ed7953\"], [0.7777777777777778, \"#fb9f3a\"], [0.8888888888888888, \"#fdca26\"], [1.0, \"#f0f921\"]], \"sequentialminus\": [[0.0, \"#0d0887\"], [0.1111111111111111, \"#46039f\"], [0.2222222222222222, \"#7201a8\"], [0.3333333333333333, \"#9c179e\"], [0.4444444444444444, \"#bd3786\"], [0.5555555555555556, \"#d8576b\"], [0.6666666666666666, \"#ed7953\"], [0.7777777777777778, \"#fb9f3a\"], [0.8888888888888888, \"#fdca26\"], [1.0, \"#f0f921\"]]}, \"colorway\": [\"#636efa\", \"#EF553B\", \"#00cc96\", \"#ab63fa\", \"#FFA15A\", \"#19d3f3\", \"#FF6692\", \"#B6E880\", \"#FF97FF\", \"#FECB52\"], \"font\": {\"color\": \"#2a3f5f\"}, \"geo\": {\"bgcolor\": \"white\", \"lakecolor\": \"white\", \"landcolor\": \"#E5ECF6\", \"showlakes\": true, \"showland\": true, \"subunitcolor\": \"white\"}, \"hoverlabel\": {\"align\": \"left\"}, \"hovermode\": \"closest\", \"mapbox\": {\"style\": \"light\"}, \"paper_bgcolor\": \"white\", \"plot_bgcolor\": \"#E5ECF6\", \"polar\": {\"angularaxis\": {\"gridcolor\": \"white\", \"linecolor\": \"white\", \"ticks\": \"\"}, \"bgcolor\": \"#E5ECF6\", \"radialaxis\": {\"gridcolor\": \"white\", \"linecolor\": \"white\", \"ticks\": \"\"}}, \"scene\": {\"xaxis\": {\"backgroundcolor\": \"#E5ECF6\", \"gridcolor\": \"white\", \"gridwidth\": 2, \"linecolor\": \"white\", \"showbackground\": true, \"ticks\": \"\", \"zerolinecolor\": \"white\"}, \"yaxis\": {\"backgroundcolor\": \"#E5ECF6\", \"gridcolor\": \"white\", \"gridwidth\": 2, \"linecolor\": \"white\", \"showbackground\": true, \"ticks\": \"\", \"zerolinecolor\": \"white\"}, \"zaxis\": {\"backgroundcolor\": \"#E5ECF6\", \"gridcolor\": \"white\", \"gridwidth\": 2, \"linecolor\": \"white\", \"showbackground\": true, \"ticks\": \"\", \"zerolinecolor\": \"white\"}}, \"shapedefaults\": {\"line\": {\"color\": \"#2a3f5f\"}}, \"ternary\": {\"aaxis\": {\"gridcolor\": \"white\", \"linecolor\": \"white\", \"ticks\": \"\"}, \"baxis\": {\"gridcolor\": \"white\", \"linecolor\": \"white\", \"ticks\": \"\"}, \"bgcolor\": \"#E5ECF6\", \"caxis\": {\"gridcolor\": \"white\", \"linecolor\": \"white\", \"ticks\": \"\"}}, \"title\": {\"x\": 0.05}, \"xaxis\": {\"automargin\": true, \"gridcolor\": \"white\", \"linecolor\": \"white\", \"ticks\": \"\", \"title\": {\"standoff\": 15}, \"zerolinecolor\": \"white\", \"zerolinewidth\": 2}, \"yaxis\": {\"automargin\": true, \"gridcolor\": \"white\", \"linecolor\": \"white\", \"ticks\": \"\", \"title\": {\"standoff\": 15}, \"zerolinecolor\": \"white\", \"zerolinewidth\": 2}}}, \"title\": {\"text\": \"Male using Mobile version\"}},\n",
       "                        {\"responsive\": true}\n",
       "                    ).then(function(){\n",
       "                            \n",
       "var gd = document.getElementById('5d0712d9-9fd3-4c89-960e-abe7384a2175');\n",
       "var x = new MutationObserver(function (mutations, observer) {{\n",
       "        var display = window.getComputedStyle(gd).display;\n",
       "        if (!display || display === 'none') {{\n",
       "            console.log([gd, 'removed!']);\n",
       "            Plotly.purge(gd);\n",
       "            observer.disconnect();\n",
       "        }}\n",
       "}});\n",
       "\n",
       "// Listen for the removal of the full notebook cells\n",
       "var notebookContainer = gd.closest('#notebook-container');\n",
       "if (notebookContainer) {{\n",
       "    x.observe(notebookContainer, {childList: true});\n",
       "}}\n",
       "\n",
       "// Listen for the clearing of the current output cell\n",
       "var outputEl = gd.closest('.output');\n",
       "if (outputEl) {{\n",
       "    x.observe(outputEl, {childList: true});\n",
       "}}\n",
       "\n",
       "                        })\n",
       "                };\n",
       "                \n",
       "            </script>\n",
       "        </div>\n",
       "</body>\n",
       "</html>"
      ]
     },
     "metadata": {
      "tags": []
     },
     "output_type": "display_data"
    },
    {
     "data": {
      "text/html": [
       "<html>\n",
       "<head><meta charset=\"utf-8\" /></head>\n",
       "<body>\n",
       "    <div>\n",
       "            <script src=\"https://cdnjs.cloudflare.com/ajax/libs/mathjax/2.7.5/MathJax.js?config=TeX-AMS-MML_SVG\"></script><script type=\"text/javascript\">if (window.MathJax) {MathJax.Hub.Config({SVG: {font: \"STIX-Web\"}});}</script>\n",
       "                <script type=\"text/javascript\">window.PlotlyConfig = {MathJaxConfig: 'local'};</script>\n",
       "        <script src=\"https://cdn.plot.ly/plotly-latest.min.js\"></script>    \n",
       "            <div id=\"bde5b6b1-4b9d-4d87-8f09-32661e761917\" class=\"plotly-graph-div\" style=\"height:525px; width:100%;\"></div>\n",
       "            <script type=\"text/javascript\">\n",
       "                \n",
       "                    window.PLOTLYENV=window.PLOTLYENV || {};\n",
       "                    \n",
       "                if (document.getElementById(\"bde5b6b1-4b9d-4d87-8f09-32661e761917\")) {\n",
       "                    Plotly.newPlot(\n",
       "                        'bde5b6b1-4b9d-4d87-8f09-32661e761917',\n",
       "                        [{\"name\": \"Home_page\", \"type\": \"bar\", \"x\": [\"january\", \"february\", \"march\", \"april\"], \"y\": [7546, 7448, 7512, 7491]}, {\"name\": \"Search_page\", \"type\": \"bar\", \"x\": [\"january\", \"february\", \"march\", \"april\"], \"y\": [3851, 3800, 3707, 3733]}, {\"name\": \"Payment_page \", \"type\": \"bar\", \"x\": [\"january\", \"february\", \"march\", \"april\"], \"y\": [625, 605, 162, 138]}, {\"name\": \"Confirmation_page  \", \"type\": \"bar\", \"x\": [\"january\", \"february\", \"march\", \"april\"], \"y\": [33, 26, 6, 9]}],\n",
       "                        {\"barmode\": \"group\", \"template\": {\"data\": {\"bar\": [{\"error_x\": {\"color\": \"#2a3f5f\"}, \"error_y\": {\"color\": \"#2a3f5f\"}, \"marker\": {\"line\": {\"color\": \"#E5ECF6\", \"width\": 0.5}}, \"type\": \"bar\"}], \"barpolar\": [{\"marker\": {\"line\": {\"color\": \"#E5ECF6\", \"width\": 0.5}}, \"type\": \"barpolar\"}], \"carpet\": [{\"aaxis\": {\"endlinecolor\": \"#2a3f5f\", \"gridcolor\": \"white\", \"linecolor\": \"white\", \"minorgridcolor\": \"white\", \"startlinecolor\": \"#2a3f5f\"}, \"baxis\": {\"endlinecolor\": \"#2a3f5f\", \"gridcolor\": \"white\", \"linecolor\": \"white\", \"minorgridcolor\": \"white\", \"startlinecolor\": \"#2a3f5f\"}, \"type\": \"carpet\"}], \"choropleth\": [{\"colorbar\": {\"outlinewidth\": 0, \"ticks\": \"\"}, \"type\": \"choropleth\"}], \"contour\": [{\"colorbar\": {\"outlinewidth\": 0, \"ticks\": \"\"}, \"colorscale\": [[0.0, \"#0d0887\"], [0.1111111111111111, \"#46039f\"], [0.2222222222222222, \"#7201a8\"], [0.3333333333333333, \"#9c179e\"], [0.4444444444444444, \"#bd3786\"], [0.5555555555555556, \"#d8576b\"], [0.6666666666666666, \"#ed7953\"], [0.7777777777777778, \"#fb9f3a\"], [0.8888888888888888, \"#fdca26\"], [1.0, \"#f0f921\"]], \"type\": \"contour\"}], \"contourcarpet\": [{\"colorbar\": {\"outlinewidth\": 0, \"ticks\": \"\"}, \"type\": \"contourcarpet\"}], \"heatmap\": [{\"colorbar\": {\"outlinewidth\": 0, \"ticks\": \"\"}, \"colorscale\": [[0.0, \"#0d0887\"], [0.1111111111111111, \"#46039f\"], [0.2222222222222222, \"#7201a8\"], [0.3333333333333333, \"#9c179e\"], [0.4444444444444444, \"#bd3786\"], [0.5555555555555556, \"#d8576b\"], [0.6666666666666666, \"#ed7953\"], [0.7777777777777778, \"#fb9f3a\"], [0.8888888888888888, \"#fdca26\"], [1.0, \"#f0f921\"]], \"type\": \"heatmap\"}], \"heatmapgl\": [{\"colorbar\": {\"outlinewidth\": 0, \"ticks\": \"\"}, \"colorscale\": [[0.0, \"#0d0887\"], [0.1111111111111111, \"#46039f\"], [0.2222222222222222, \"#7201a8\"], [0.3333333333333333, \"#9c179e\"], [0.4444444444444444, \"#bd3786\"], [0.5555555555555556, \"#d8576b\"], [0.6666666666666666, \"#ed7953\"], [0.7777777777777778, \"#fb9f3a\"], [0.8888888888888888, \"#fdca26\"], [1.0, \"#f0f921\"]], \"type\": \"heatmapgl\"}], \"histogram\": [{\"marker\": {\"colorbar\": {\"outlinewidth\": 0, \"ticks\": \"\"}}, \"type\": \"histogram\"}], \"histogram2d\": [{\"colorbar\": {\"outlinewidth\": 0, \"ticks\": \"\"}, \"colorscale\": [[0.0, \"#0d0887\"], [0.1111111111111111, \"#46039f\"], [0.2222222222222222, \"#7201a8\"], [0.3333333333333333, \"#9c179e\"], [0.4444444444444444, \"#bd3786\"], [0.5555555555555556, \"#d8576b\"], [0.6666666666666666, \"#ed7953\"], [0.7777777777777778, \"#fb9f3a\"], [0.8888888888888888, \"#fdca26\"], [1.0, \"#f0f921\"]], \"type\": \"histogram2d\"}], \"histogram2dcontour\": [{\"colorbar\": {\"outlinewidth\": 0, \"ticks\": \"\"}, \"colorscale\": [[0.0, \"#0d0887\"], [0.1111111111111111, \"#46039f\"], [0.2222222222222222, \"#7201a8\"], [0.3333333333333333, \"#9c179e\"], [0.4444444444444444, \"#bd3786\"], [0.5555555555555556, \"#d8576b\"], [0.6666666666666666, \"#ed7953\"], [0.7777777777777778, \"#fb9f3a\"], [0.8888888888888888, \"#fdca26\"], [1.0, \"#f0f921\"]], \"type\": \"histogram2dcontour\"}], \"mesh3d\": [{\"colorbar\": {\"outlinewidth\": 0, \"ticks\": \"\"}, \"type\": \"mesh3d\"}], \"parcoords\": [{\"line\": {\"colorbar\": {\"outlinewidth\": 0, \"ticks\": \"\"}}, \"type\": \"parcoords\"}], \"pie\": [{\"automargin\": true, \"type\": \"pie\"}], \"scatter\": [{\"marker\": {\"colorbar\": {\"outlinewidth\": 0, \"ticks\": \"\"}}, \"type\": \"scatter\"}], \"scatter3d\": [{\"line\": {\"colorbar\": {\"outlinewidth\": 0, \"ticks\": \"\"}}, \"marker\": {\"colorbar\": {\"outlinewidth\": 0, \"ticks\": \"\"}}, \"type\": \"scatter3d\"}], \"scattercarpet\": [{\"marker\": {\"colorbar\": {\"outlinewidth\": 0, \"ticks\": \"\"}}, \"type\": \"scattercarpet\"}], \"scattergeo\": [{\"marker\": {\"colorbar\": {\"outlinewidth\": 0, \"ticks\": \"\"}}, \"type\": \"scattergeo\"}], \"scattergl\": [{\"marker\": {\"colorbar\": {\"outlinewidth\": 0, \"ticks\": \"\"}}, \"type\": \"scattergl\"}], \"scattermapbox\": [{\"marker\": {\"colorbar\": {\"outlinewidth\": 0, \"ticks\": \"\"}}, \"type\": \"scattermapbox\"}], \"scatterpolar\": [{\"marker\": {\"colorbar\": {\"outlinewidth\": 0, \"ticks\": \"\"}}, \"type\": \"scatterpolar\"}], \"scatterpolargl\": [{\"marker\": {\"colorbar\": {\"outlinewidth\": 0, \"ticks\": \"\"}}, \"type\": \"scatterpolargl\"}], \"scatterternary\": [{\"marker\": {\"colorbar\": {\"outlinewidth\": 0, \"ticks\": \"\"}}, \"type\": \"scatterternary\"}], \"surface\": [{\"colorbar\": {\"outlinewidth\": 0, \"ticks\": \"\"}, \"colorscale\": [[0.0, \"#0d0887\"], [0.1111111111111111, \"#46039f\"], [0.2222222222222222, \"#7201a8\"], [0.3333333333333333, \"#9c179e\"], [0.4444444444444444, \"#bd3786\"], [0.5555555555555556, \"#d8576b\"], [0.6666666666666666, \"#ed7953\"], [0.7777777777777778, \"#fb9f3a\"], [0.8888888888888888, \"#fdca26\"], [1.0, \"#f0f921\"]], \"type\": \"surface\"}], \"table\": [{\"cells\": {\"fill\": {\"color\": \"#EBF0F8\"}, \"line\": {\"color\": \"white\"}}, \"header\": {\"fill\": {\"color\": \"#C8D4E3\"}, \"line\": {\"color\": \"white\"}}, \"type\": \"table\"}]}, \"layout\": {\"annotationdefaults\": {\"arrowcolor\": \"#2a3f5f\", \"arrowhead\": 0, \"arrowwidth\": 1}, \"coloraxis\": {\"colorbar\": {\"outlinewidth\": 0, \"ticks\": \"\"}}, \"colorscale\": {\"diverging\": [[0, \"#8e0152\"], [0.1, \"#c51b7d\"], [0.2, \"#de77ae\"], [0.3, \"#f1b6da\"], [0.4, \"#fde0ef\"], [0.5, \"#f7f7f7\"], [0.6, \"#e6f5d0\"], [0.7, \"#b8e186\"], [0.8, \"#7fbc41\"], [0.9, \"#4d9221\"], [1, \"#276419\"]], \"sequential\": [[0.0, \"#0d0887\"], [0.1111111111111111, \"#46039f\"], [0.2222222222222222, \"#7201a8\"], [0.3333333333333333, \"#9c179e\"], [0.4444444444444444, \"#bd3786\"], [0.5555555555555556, \"#d8576b\"], [0.6666666666666666, \"#ed7953\"], [0.7777777777777778, \"#fb9f3a\"], [0.8888888888888888, \"#fdca26\"], [1.0, \"#f0f921\"]], \"sequentialminus\": [[0.0, \"#0d0887\"], [0.1111111111111111, \"#46039f\"], [0.2222222222222222, \"#7201a8\"], [0.3333333333333333, \"#9c179e\"], [0.4444444444444444, \"#bd3786\"], [0.5555555555555556, \"#d8576b\"], [0.6666666666666666, \"#ed7953\"], [0.7777777777777778, \"#fb9f3a\"], [0.8888888888888888, \"#fdca26\"], [1.0, \"#f0f921\"]]}, \"colorway\": [\"#636efa\", \"#EF553B\", \"#00cc96\", \"#ab63fa\", \"#FFA15A\", \"#19d3f3\", \"#FF6692\", \"#B6E880\", \"#FF97FF\", \"#FECB52\"], \"font\": {\"color\": \"#2a3f5f\"}, \"geo\": {\"bgcolor\": \"white\", \"lakecolor\": \"white\", \"landcolor\": \"#E5ECF6\", \"showlakes\": true, \"showland\": true, \"subunitcolor\": \"white\"}, \"hoverlabel\": {\"align\": \"left\"}, \"hovermode\": \"closest\", \"mapbox\": {\"style\": \"light\"}, \"paper_bgcolor\": \"white\", \"plot_bgcolor\": \"#E5ECF6\", \"polar\": {\"angularaxis\": {\"gridcolor\": \"white\", \"linecolor\": \"white\", \"ticks\": \"\"}, \"bgcolor\": \"#E5ECF6\", \"radialaxis\": {\"gridcolor\": \"white\", \"linecolor\": \"white\", \"ticks\": \"\"}}, \"scene\": {\"xaxis\": {\"backgroundcolor\": \"#E5ECF6\", \"gridcolor\": \"white\", \"gridwidth\": 2, \"linecolor\": \"white\", \"showbackground\": true, \"ticks\": \"\", \"zerolinecolor\": \"white\"}, \"yaxis\": {\"backgroundcolor\": \"#E5ECF6\", \"gridcolor\": \"white\", \"gridwidth\": 2, \"linecolor\": \"white\", \"showbackground\": true, \"ticks\": \"\", \"zerolinecolor\": \"white\"}, \"zaxis\": {\"backgroundcolor\": \"#E5ECF6\", \"gridcolor\": \"white\", \"gridwidth\": 2, \"linecolor\": \"white\", \"showbackground\": true, \"ticks\": \"\", \"zerolinecolor\": \"white\"}}, \"shapedefaults\": {\"line\": {\"color\": \"#2a3f5f\"}}, \"ternary\": {\"aaxis\": {\"gridcolor\": \"white\", \"linecolor\": \"white\", \"ticks\": \"\"}, \"baxis\": {\"gridcolor\": \"white\", \"linecolor\": \"white\", \"ticks\": \"\"}, \"bgcolor\": \"#E5ECF6\", \"caxis\": {\"gridcolor\": \"white\", \"linecolor\": \"white\", \"ticks\": \"\"}}, \"title\": {\"x\": 0.05}, \"xaxis\": {\"automargin\": true, \"gridcolor\": \"white\", \"linecolor\": \"white\", \"ticks\": \"\", \"title\": {\"standoff\": 15}, \"zerolinecolor\": \"white\", \"zerolinewidth\": 2}, \"yaxis\": {\"automargin\": true, \"gridcolor\": \"white\", \"linecolor\": \"white\", \"ticks\": \"\", \"title\": {\"standoff\": 15}, \"zerolinecolor\": \"white\", \"zerolinewidth\": 2}}}, \"title\": {\"text\": \"Female using Desktop version\"}},\n",
       "                        {\"responsive\": true}\n",
       "                    ).then(function(){\n",
       "                            \n",
       "var gd = document.getElementById('bde5b6b1-4b9d-4d87-8f09-32661e761917');\n",
       "var x = new MutationObserver(function (mutations, observer) {{\n",
       "        var display = window.getComputedStyle(gd).display;\n",
       "        if (!display || display === 'none') {{\n",
       "            console.log([gd, 'removed!']);\n",
       "            Plotly.purge(gd);\n",
       "            observer.disconnect();\n",
       "        }}\n",
       "}});\n",
       "\n",
       "// Listen for the removal of the full notebook cells\n",
       "var notebookContainer = gd.closest('#notebook-container');\n",
       "if (notebookContainer) {{\n",
       "    x.observe(notebookContainer, {childList: true});\n",
       "}}\n",
       "\n",
       "// Listen for the clearing of the current output cell\n",
       "var outputEl = gd.closest('.output');\n",
       "if (outputEl) {{\n",
       "    x.observe(outputEl, {childList: true});\n",
       "}}\n",
       "\n",
       "                        })\n",
       "                };\n",
       "                \n",
       "            </script>\n",
       "        </div>\n",
       "</body>\n",
       "</html>"
      ]
     },
     "metadata": {
      "tags": []
     },
     "output_type": "display_data"
    },
    {
     "data": {
      "text/html": [
       "<html>\n",
       "<head><meta charset=\"utf-8\" /></head>\n",
       "<body>\n",
       "    <div>\n",
       "            <script src=\"https://cdnjs.cloudflare.com/ajax/libs/mathjax/2.7.5/MathJax.js?config=TeX-AMS-MML_SVG\"></script><script type=\"text/javascript\">if (window.MathJax) {MathJax.Hub.Config({SVG: {font: \"STIX-Web\"}});}</script>\n",
       "                <script type=\"text/javascript\">window.PlotlyConfig = {MathJaxConfig: 'local'};</script>\n",
       "        <script src=\"https://cdn.plot.ly/plotly-latest.min.js\"></script>    \n",
       "            <div id=\"636b2e48-4177-426d-bb83-d3472a4a66ab\" class=\"plotly-graph-div\" style=\"height:525px; width:100%;\"></div>\n",
       "            <script type=\"text/javascript\">\n",
       "                \n",
       "                    window.PLOTLYENV=window.PLOTLYENV || {};\n",
       "                    \n",
       "                if (document.getElementById(\"636b2e48-4177-426d-bb83-d3472a4a66ab\")) {\n",
       "                    Plotly.newPlot(\n",
       "                        '636b2e48-4177-426d-bb83-d3472a4a66ab',\n",
       "                        [{\"name\": \"Home_page\", \"type\": \"bar\", \"x\": [\"january\", \"february\", \"march\", \"april\"], \"y\": [7504, 7602, 7538, 7559]}, {\"name\": \"Search_page\", \"type\": \"bar\", \"x\": [\"january\", \"february\", \"march\", \"april\"], \"y\": [3678, 3832, 3663, 3836]}, {\"name\": \"Payment_page \", \"type\": \"bar\", \"x\": [\"january\", \"february\", \"march\", \"april\"], \"y\": [596, 586, 134, 164]}, {\"name\": \"Confirmation_page  \", \"type\": \"bar\", \"x\": [\"january\", \"february\", \"march\", \"april\"], \"y\": [27, 28, 8, 13]}],\n",
       "                        {\"barmode\": \"group\", \"template\": {\"data\": {\"bar\": [{\"error_x\": {\"color\": \"#2a3f5f\"}, \"error_y\": {\"color\": \"#2a3f5f\"}, \"marker\": {\"line\": {\"color\": \"#E5ECF6\", \"width\": 0.5}}, \"type\": \"bar\"}], \"barpolar\": [{\"marker\": {\"line\": {\"color\": \"#E5ECF6\", \"width\": 0.5}}, \"type\": \"barpolar\"}], \"carpet\": [{\"aaxis\": {\"endlinecolor\": \"#2a3f5f\", \"gridcolor\": \"white\", \"linecolor\": \"white\", \"minorgridcolor\": \"white\", \"startlinecolor\": \"#2a3f5f\"}, \"baxis\": {\"endlinecolor\": \"#2a3f5f\", \"gridcolor\": \"white\", \"linecolor\": \"white\", \"minorgridcolor\": \"white\", \"startlinecolor\": \"#2a3f5f\"}, \"type\": \"carpet\"}], \"choropleth\": [{\"colorbar\": {\"outlinewidth\": 0, \"ticks\": \"\"}, \"type\": \"choropleth\"}], \"contour\": [{\"colorbar\": {\"outlinewidth\": 0, \"ticks\": \"\"}, \"colorscale\": [[0.0, \"#0d0887\"], [0.1111111111111111, \"#46039f\"], [0.2222222222222222, \"#7201a8\"], [0.3333333333333333, \"#9c179e\"], [0.4444444444444444, \"#bd3786\"], [0.5555555555555556, \"#d8576b\"], [0.6666666666666666, \"#ed7953\"], [0.7777777777777778, \"#fb9f3a\"], [0.8888888888888888, \"#fdca26\"], [1.0, \"#f0f921\"]], \"type\": \"contour\"}], \"contourcarpet\": [{\"colorbar\": {\"outlinewidth\": 0, \"ticks\": \"\"}, \"type\": \"contourcarpet\"}], \"heatmap\": [{\"colorbar\": {\"outlinewidth\": 0, \"ticks\": \"\"}, \"colorscale\": [[0.0, \"#0d0887\"], [0.1111111111111111, \"#46039f\"], [0.2222222222222222, \"#7201a8\"], [0.3333333333333333, \"#9c179e\"], [0.4444444444444444, \"#bd3786\"], [0.5555555555555556, \"#d8576b\"], [0.6666666666666666, \"#ed7953\"], [0.7777777777777778, \"#fb9f3a\"], [0.8888888888888888, \"#fdca26\"], [1.0, \"#f0f921\"]], \"type\": \"heatmap\"}], \"heatmapgl\": [{\"colorbar\": {\"outlinewidth\": 0, \"ticks\": \"\"}, \"colorscale\": [[0.0, \"#0d0887\"], [0.1111111111111111, \"#46039f\"], [0.2222222222222222, \"#7201a8\"], [0.3333333333333333, \"#9c179e\"], [0.4444444444444444, \"#bd3786\"], [0.5555555555555556, \"#d8576b\"], [0.6666666666666666, \"#ed7953\"], [0.7777777777777778, \"#fb9f3a\"], [0.8888888888888888, \"#fdca26\"], [1.0, \"#f0f921\"]], \"type\": \"heatmapgl\"}], \"histogram\": [{\"marker\": {\"colorbar\": {\"outlinewidth\": 0, \"ticks\": \"\"}}, \"type\": \"histogram\"}], \"histogram2d\": [{\"colorbar\": {\"outlinewidth\": 0, \"ticks\": \"\"}, \"colorscale\": [[0.0, \"#0d0887\"], [0.1111111111111111, \"#46039f\"], [0.2222222222222222, \"#7201a8\"], [0.3333333333333333, \"#9c179e\"], [0.4444444444444444, \"#bd3786\"], [0.5555555555555556, \"#d8576b\"], [0.6666666666666666, \"#ed7953\"], [0.7777777777777778, \"#fb9f3a\"], [0.8888888888888888, \"#fdca26\"], [1.0, \"#f0f921\"]], \"type\": \"histogram2d\"}], \"histogram2dcontour\": [{\"colorbar\": {\"outlinewidth\": 0, \"ticks\": \"\"}, \"colorscale\": [[0.0, \"#0d0887\"], [0.1111111111111111, \"#46039f\"], [0.2222222222222222, \"#7201a8\"], [0.3333333333333333, \"#9c179e\"], [0.4444444444444444, \"#bd3786\"], [0.5555555555555556, \"#d8576b\"], [0.6666666666666666, \"#ed7953\"], [0.7777777777777778, \"#fb9f3a\"], [0.8888888888888888, \"#fdca26\"], [1.0, \"#f0f921\"]], \"type\": \"histogram2dcontour\"}], \"mesh3d\": [{\"colorbar\": {\"outlinewidth\": 0, \"ticks\": \"\"}, \"type\": \"mesh3d\"}], \"parcoords\": [{\"line\": {\"colorbar\": {\"outlinewidth\": 0, \"ticks\": \"\"}}, \"type\": \"parcoords\"}], \"pie\": [{\"automargin\": true, \"type\": \"pie\"}], \"scatter\": [{\"marker\": {\"colorbar\": {\"outlinewidth\": 0, \"ticks\": \"\"}}, \"type\": \"scatter\"}], \"scatter3d\": [{\"line\": {\"colorbar\": {\"outlinewidth\": 0, \"ticks\": \"\"}}, \"marker\": {\"colorbar\": {\"outlinewidth\": 0, \"ticks\": \"\"}}, \"type\": \"scatter3d\"}], \"scattercarpet\": [{\"marker\": {\"colorbar\": {\"outlinewidth\": 0, \"ticks\": \"\"}}, \"type\": \"scattercarpet\"}], \"scattergeo\": [{\"marker\": {\"colorbar\": {\"outlinewidth\": 0, \"ticks\": \"\"}}, \"type\": \"scattergeo\"}], \"scattergl\": [{\"marker\": {\"colorbar\": {\"outlinewidth\": 0, \"ticks\": \"\"}}, \"type\": \"scattergl\"}], \"scattermapbox\": [{\"marker\": {\"colorbar\": {\"outlinewidth\": 0, \"ticks\": \"\"}}, \"type\": \"scattermapbox\"}], \"scatterpolar\": [{\"marker\": {\"colorbar\": {\"outlinewidth\": 0, \"ticks\": \"\"}}, \"type\": \"scatterpolar\"}], \"scatterpolargl\": [{\"marker\": {\"colorbar\": {\"outlinewidth\": 0, \"ticks\": \"\"}}, \"type\": \"scatterpolargl\"}], \"scatterternary\": [{\"marker\": {\"colorbar\": {\"outlinewidth\": 0, \"ticks\": \"\"}}, \"type\": \"scatterternary\"}], \"surface\": [{\"colorbar\": {\"outlinewidth\": 0, \"ticks\": \"\"}, \"colorscale\": [[0.0, \"#0d0887\"], [0.1111111111111111, \"#46039f\"], [0.2222222222222222, \"#7201a8\"], [0.3333333333333333, \"#9c179e\"], [0.4444444444444444, \"#bd3786\"], [0.5555555555555556, \"#d8576b\"], [0.6666666666666666, \"#ed7953\"], [0.7777777777777778, \"#fb9f3a\"], [0.8888888888888888, \"#fdca26\"], [1.0, \"#f0f921\"]], \"type\": \"surface\"}], \"table\": [{\"cells\": {\"fill\": {\"color\": \"#EBF0F8\"}, \"line\": {\"color\": \"white\"}}, \"header\": {\"fill\": {\"color\": \"#C8D4E3\"}, \"line\": {\"color\": \"white\"}}, \"type\": \"table\"}]}, \"layout\": {\"annotationdefaults\": {\"arrowcolor\": \"#2a3f5f\", \"arrowhead\": 0, \"arrowwidth\": 1}, \"coloraxis\": {\"colorbar\": {\"outlinewidth\": 0, \"ticks\": \"\"}}, \"colorscale\": {\"diverging\": [[0, \"#8e0152\"], [0.1, \"#c51b7d\"], [0.2, \"#de77ae\"], [0.3, \"#f1b6da\"], [0.4, \"#fde0ef\"], [0.5, \"#f7f7f7\"], [0.6, \"#e6f5d0\"], [0.7, \"#b8e186\"], [0.8, \"#7fbc41\"], [0.9, \"#4d9221\"], [1, \"#276419\"]], \"sequential\": [[0.0, \"#0d0887\"], [0.1111111111111111, \"#46039f\"], [0.2222222222222222, \"#7201a8\"], [0.3333333333333333, \"#9c179e\"], [0.4444444444444444, \"#bd3786\"], [0.5555555555555556, \"#d8576b\"], [0.6666666666666666, \"#ed7953\"], [0.7777777777777778, \"#fb9f3a\"], [0.8888888888888888, \"#fdca26\"], [1.0, \"#f0f921\"]], \"sequentialminus\": [[0.0, \"#0d0887\"], [0.1111111111111111, \"#46039f\"], [0.2222222222222222, \"#7201a8\"], [0.3333333333333333, \"#9c179e\"], [0.4444444444444444, \"#bd3786\"], [0.5555555555555556, \"#d8576b\"], [0.6666666666666666, \"#ed7953\"], [0.7777777777777778, \"#fb9f3a\"], [0.8888888888888888, \"#fdca26\"], [1.0, \"#f0f921\"]]}, \"colorway\": [\"#636efa\", \"#EF553B\", \"#00cc96\", \"#ab63fa\", \"#FFA15A\", \"#19d3f3\", \"#FF6692\", \"#B6E880\", \"#FF97FF\", \"#FECB52\"], \"font\": {\"color\": \"#2a3f5f\"}, \"geo\": {\"bgcolor\": \"white\", \"lakecolor\": \"white\", \"landcolor\": \"#E5ECF6\", \"showlakes\": true, \"showland\": true, \"subunitcolor\": \"white\"}, \"hoverlabel\": {\"align\": \"left\"}, \"hovermode\": \"closest\", \"mapbox\": {\"style\": \"light\"}, \"paper_bgcolor\": \"white\", \"plot_bgcolor\": \"#E5ECF6\", \"polar\": {\"angularaxis\": {\"gridcolor\": \"white\", \"linecolor\": \"white\", \"ticks\": \"\"}, \"bgcolor\": \"#E5ECF6\", \"radialaxis\": {\"gridcolor\": \"white\", \"linecolor\": \"white\", \"ticks\": \"\"}}, \"scene\": {\"xaxis\": {\"backgroundcolor\": \"#E5ECF6\", \"gridcolor\": \"white\", \"gridwidth\": 2, \"linecolor\": \"white\", \"showbackground\": true, \"ticks\": \"\", \"zerolinecolor\": \"white\"}, \"yaxis\": {\"backgroundcolor\": \"#E5ECF6\", \"gridcolor\": \"white\", \"gridwidth\": 2, \"linecolor\": \"white\", \"showbackground\": true, \"ticks\": \"\", \"zerolinecolor\": \"white\"}, \"zaxis\": {\"backgroundcolor\": \"#E5ECF6\", \"gridcolor\": \"white\", \"gridwidth\": 2, \"linecolor\": \"white\", \"showbackground\": true, \"ticks\": \"\", \"zerolinecolor\": \"white\"}}, \"shapedefaults\": {\"line\": {\"color\": \"#2a3f5f\"}}, \"ternary\": {\"aaxis\": {\"gridcolor\": \"white\", \"linecolor\": \"white\", \"ticks\": \"\"}, \"baxis\": {\"gridcolor\": \"white\", \"linecolor\": \"white\", \"ticks\": \"\"}, \"bgcolor\": \"#E5ECF6\", \"caxis\": {\"gridcolor\": \"white\", \"linecolor\": \"white\", \"ticks\": \"\"}}, \"title\": {\"x\": 0.05}, \"xaxis\": {\"automargin\": true, \"gridcolor\": \"white\", \"linecolor\": \"white\", \"ticks\": \"\", \"title\": {\"standoff\": 15}, \"zerolinecolor\": \"white\", \"zerolinewidth\": 2}, \"yaxis\": {\"automargin\": true, \"gridcolor\": \"white\", \"linecolor\": \"white\", \"ticks\": \"\", \"title\": {\"standoff\": 15}, \"zerolinecolor\": \"white\", \"zerolinewidth\": 2}}}, \"title\": {\"text\": \"Male using Desktop version\"}},\n",
       "                        {\"responsive\": true}\n",
       "                    ).then(function(){\n",
       "                            \n",
       "var gd = document.getElementById('636b2e48-4177-426d-bb83-d3472a4a66ab');\n",
       "var x = new MutationObserver(function (mutations, observer) {{\n",
       "        var display = window.getComputedStyle(gd).display;\n",
       "        if (!display || display === 'none') {{\n",
       "            console.log([gd, 'removed!']);\n",
       "            Plotly.purge(gd);\n",
       "            observer.disconnect();\n",
       "        }}\n",
       "}});\n",
       "\n",
       "// Listen for the removal of the full notebook cells\n",
       "var notebookContainer = gd.closest('#notebook-container');\n",
       "if (notebookContainer) {{\n",
       "    x.observe(notebookContainer, {childList: true});\n",
       "}}\n",
       "\n",
       "// Listen for the clearing of the current output cell\n",
       "var outputEl = gd.closest('.output');\n",
       "if (outputEl) {{\n",
       "    x.observe(outputEl, {childList: true});\n",
       "}}\n",
       "\n",
       "                        })\n",
       "                };\n",
       "                \n",
       "            </script>\n",
       "        </div>\n",
       "</body>\n",
       "</html>"
      ]
     },
     "metadata": {
      "tags": []
     },
     "output_type": "display_data"
    }
   ],
   "source": [
    "print('Female')\n",
    "print(female_table) # Таблица конверсии женщин в % относительно домашней страницы\n",
    "print()\n",
    "print('Male')\n",
    "print(male_table) # Таблица конверсии мужчин в % относительно домашней страницы\n",
    "print()\n",
    "female_mob_bar.update_layout(barmode='group', title_text='Female using Mobile version')\n",
    "female_mob_bar.show() # Вывод диаграммы, показывающей распределение количества женщин,\n",
    "# использующих мобильную версию по месяцам на разных страницах\n",
    "male_mob_bar.update_layout(barmode='group', title_text='Male using Mobile version')\n",
    "male_mob_bar.show() # Вывод диаграммы, показывающей распределение количества мужчин,\n",
    "# использующих мобильную версию по месяцам на разных страницах\n",
    "female_desk_bar.update_layout(barmode='group', title_text='Female using Desktop version')\n",
    "female_desk_bar.show() # Вывод диаграммы, показывающей распределение количества женщин,\n",
    "# использующих десктопную версию по месяцам на разных страницах\n",
    "male_desk_bar.update_layout(barmode='group', title_text='Male using Desktop version')\n",
    "male_desk_bar.show()  # Вывод диаграммы, показывающей распределение количества мужчин,\n",
    "# использующих десктопную версию по месяцам на разных страницах"
   ]
  },
  {
   "cell_type": "markdown",
   "metadata": {
    "id": "2XGQY4kbr0pK"
   },
   "source": [
    "## Анализ \n",
    "\n",
    "Для мобильной версии:\n",
    "- с марта в 4 раза упало количество пользователей мобильной версии как мужского, так и женского пола, переходящих с домашней страницы на страницу поиска;\n",
    "- также упало в 4 раза количество переходов со страницы поиска на страницу оплаты;\n",
    "- если на страницу поиска и страницу оплаты переходили практически одинаковое количество мужчин и женщин, то на странице с подтвержденной оплатой мужчин оказалось практически в 2 раза меньше.\n",
    "\n",
    "Основная проблема в мобильной версии с марта находится на странице поиска, возможно на ней возникают ошибки, либо она не работает. Также была вявлена проблема, что мужчины переходят на страницу подтвержденной оплаты реже, чем женщины, и на это стоит обратить внимание.\n",
    "\n",
    "Для десктопной версии:\n",
    "- с марта в 4 раза упало количество пользователей десктопной версии как мужского, так и женского пола, переходящих со страницы поиска на страницу\n",
    "оплаты;\n",
    "- также упало в 4 раза количество подтвержденных оплат пользователей;\n",
    "\n",
    "Основная проблема в десктопной версии с марта находится на странице оплаты, возможно на ней возникают ошибки, либо она не работает.\n",
    "В десктопной версии не наблюдаеся ощутимых различий между количеством мужчин и женщин, переходящих по страницам.\n",
    "\n",
    "В обеих версиях обнаружены проблемы, однако они находятся в разных местах."
   ]
  }
 ],
 "metadata": {
  "colab": {
   "collapsed_sections": [
    "CIIhCNtxAYG-",
    "I3DZM8LBAeCB",
    "Tw4KGHOPAiXc",
    "mQxHgpsN6e6D",
    "uBhOxIto6x9Y",
    "t19DbI7560va"
   ],
   "name": "Воронки.ipynb",
   "provenance": [
    {
     "file_id": "152_cbYpSGzNoNhlkfrx6jeIHdnaNzJ-9",
     "timestamp": 1610455003794
    }
   ]
  },
  "kernelspec": {
   "display_name": "Python 3",
   "language": "python",
   "name": "python3"
  },
  "language_info": {
   "codemirror_mode": {
    "name": "ipython",
    "version": 3
   },
   "file_extension": ".py",
   "mimetype": "text/x-python",
   "name": "python",
   "nbconvert_exporter": "python",
   "pygments_lexer": "ipython3",
   "version": "3.8.5"
  }
 },
 "nbformat": 4,
 "nbformat_minor": 1
}
