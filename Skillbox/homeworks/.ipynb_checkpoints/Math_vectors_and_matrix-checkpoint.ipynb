{
 "cells": [
  {
   "cell_type": "code",
   "execution_count": 3,
   "metadata": {},
   "outputs": [],
   "source": [
    "import numpy as np\n",
    "from sympy import *"
   ]
  },
  {
   "cell_type": "markdown",
   "metadata": {},
   "source": [
    "### 1. Вычислите значения выражений:\n",
    "![pic1.png](https://i.ibb.co/SK2Wmrh/gjhm.jpg)"
   ]
  },
  {
   "cell_type": "code",
   "execution_count": 137,
   "metadata": {},
   "outputs": [
    {
     "data": {
      "text/plain": [
       "1632"
      ]
     },
     "execution_count": 137,
     "metadata": {},
     "output_type": "execute_result"
    }
   ],
   "source": [
    "A = np.array([2, 5, 0, 6, 8, 10, 6, 7, 5, 7]) #Задание 1\n",
    "B = np.array([8, 6, 7, 9, 6, 6, 2, 3, 2, 3])\n",
    "np.dot(A, B) * 3 * 2"
   ]
  },
  {
   "cell_type": "code",
   "execution_count": 140,
   "metadata": {},
   "outputs": [
    {
     "data": {
      "text/plain": [
       "4950"
      ]
     },
     "execution_count": 140,
     "metadata": {},
     "output_type": "execute_result"
    }
   ],
   "source": [
    "A = np.array([9, 6, 7, 7, 0, 1, 6, 8, 1, 2]) #Задание 2\n",
    "B = np.array([0, 2, 2, 6, 7, 8, 8, 3, 1, 8])\n",
    "np.dot(A, B) * 6 * 5"
   ]
  },
  {
   "cell_type": "code",
   "execution_count": 142,
   "metadata": {},
   "outputs": [
    {
     "data": {
      "text/plain": [
       "272"
      ]
     },
     "execution_count": 142,
     "metadata": {},
     "output_type": "execute_result"
    }
   ],
   "source": [
    "A = np.array([2, 5, 0, 6, 8, 10, 6, 7, 5, 7]) #Задание 3\n",
    "B = np.array([8, 6, 7, 9, 6, 6, 2, 3, 2, 3])\n",
    "np.dot(A, B)"
   ]
  },
  {
   "cell_type": "code",
   "execution_count": 141,
   "metadata": {},
   "outputs": [
    {
     "data": {
      "text/plain": [
       "165"
      ]
     },
     "execution_count": 141,
     "metadata": {},
     "output_type": "execute_result"
    }
   ],
   "source": [
    "A = np.array([9, 6, 7, 7, 0, 1, 6, 8, 1, 2]) #Задание 4\n",
    "B = np.array([0, 2, 2, 6, 7, 8, 8, 3, 1, 8])\n",
    "np.dot(A, B)"
   ]
  },
  {
   "cell_type": "markdown",
   "metadata": {},
   "source": [
    "### 2.  Для следующих заданий сделайте в Python функцию, реализующую транспонирование матрицы произвольной размерности, пользуясь данным в модуле определением. Функция должна принимать и возвращать либо numpy.array, либо двумерный список (list). С помощью написанной вами функции выполните следующие задания:\n",
    "\n",
    "\n",
    "![pic2.png](https://i.ibb.co/gDGs1gx/12314.png)"
   ]
  },
  {
   "cell_type": "code",
   "execution_count": 143,
   "metadata": {},
   "outputs": [],
   "source": [
    "def tranp(A): # функция транспонирования\n",
    "    A_tr = np.empty((A.shape[1], A.shape[0]))\n",
    "    for i in range(A.shape[0]):\n",
    "        for j in range(A.shape[1]):\n",
    "            A_tr[j,i] = A[i,j]\n",
    "    return A_tr"
   ]
  },
  {
   "cell_type": "code",
   "execution_count": 45,
   "metadata": {},
   "outputs": [],
   "source": [
    "A = np.array([[2, 1, 7, 4],\\\n",
    "            [5, 6, 7, 3],\\\n",
    "            [9, 8, 2, 12],\\\n",
    "            [11, 14, 15, 15]])"
   ]
  },
  {
   "cell_type": "code",
   "execution_count": 48,
   "metadata": {},
   "outputs": [
    {
     "data": {
      "text/plain": [
       "array([[ 2,  5,  9, 11],\n",
       "       [ 1,  6,  8, 14],\n",
       "       [ 7,  7,  2, 15],\n",
       "       [ 4,  3, 12, 15]])"
      ]
     },
     "execution_count": 48,
     "metadata": {},
     "output_type": "execute_result"
    }
   ],
   "source": [
    "A_tr = tranp(A).astype(int)\n",
    "A_tr"
   ]
  },
  {
   "cell_type": "code",
   "execution_count": 50,
   "metadata": {},
   "outputs": [
    {
     "data": {
      "text/plain": [
       "array([[ 2,  5,  9, 11],\n",
       "       [ 1,  6,  8, 14],\n",
       "       [ 7,  7,  2, 15],\n",
       "       [ 4,  3, 12, 15]])"
      ]
     },
     "execution_count": 50,
     "metadata": {},
     "output_type": "execute_result"
    }
   ],
   "source": [
    "A.T"
   ]
  },
  {
   "cell_type": "code",
   "execution_count": 52,
   "metadata": {},
   "outputs": [
    {
     "data": {
      "text/plain": [
       "True"
      ]
     },
     "execution_count": 52,
     "metadata": {},
     "output_type": "execute_result"
    }
   ],
   "source": [
    "np.array_equal(A.T, A_tr)"
   ]
  },
  {
   "cell_type": "code",
   "execution_count": 53,
   "metadata": {},
   "outputs": [],
   "source": [
    "B = np.array([[3, 7, 8, 3, 6], \\\n",
    "              [2, 5, 9, 4, 13]])"
   ]
  },
  {
   "cell_type": "code",
   "execution_count": 55,
   "metadata": {},
   "outputs": [
    {
     "data": {
      "text/plain": [
       "array([[ 3,  2],\n",
       "       [ 7,  5],\n",
       "       [ 8,  9],\n",
       "       [ 3,  4],\n",
       "       [ 6, 13]])"
      ]
     },
     "execution_count": 55,
     "metadata": {},
     "output_type": "execute_result"
    }
   ],
   "source": [
    "B_tr = tranp(B).astype(int)\n",
    "B_tr"
   ]
  },
  {
   "cell_type": "code",
   "execution_count": 57,
   "metadata": {},
   "outputs": [
    {
     "data": {
      "text/plain": [
       "array([[ 3,  2],\n",
       "       [ 7,  5],\n",
       "       [ 8,  9],\n",
       "       [ 3,  4],\n",
       "       [ 6, 13]])"
      ]
     },
     "execution_count": 57,
     "metadata": {},
     "output_type": "execute_result"
    }
   ],
   "source": [
    "B.T"
   ]
  },
  {
   "cell_type": "code",
   "execution_count": 59,
   "metadata": {},
   "outputs": [
    {
     "data": {
      "text/plain": [
       "True"
      ]
     },
     "execution_count": 59,
     "metadata": {},
     "output_type": "execute_result"
    }
   ],
   "source": [
    "np.array_equal(B.T, B_tr)"
   ]
  },
  {
   "cell_type": "markdown",
   "metadata": {},
   "source": [
    "### 3. Завершите начатый в последнем уроке градиентный спуск. Вы можете решать эту задачу с помощью SymPy или вручную. Двигайтесь из точки в точку в направлении антиградиента, размер шага оставьте равным 0.01. Обратите внимание, что в каждой новой точке антиградиент будет разным. Добейтесь величины MSE меньше 6,36. Сколько шагов градиентного спуска вам потребовалось для этого?"
   ]
  },
  {
   "cell_type": "code",
   "execution_count": 86,
   "metadata": {},
   "outputs": [],
   "source": [
    "a2, a1, x, y = symbols('a2, a1, x , y')"
   ]
  },
  {
   "cell_type": "code",
   "execution_count": 91,
   "metadata": {},
   "outputs": [],
   "source": [
    "MSE = 1/4 * ((1*a1 + 2*a2 - 5)**2 + \\\n",
    "             (5*a1 + 3*a2 - 6)**2 + \\\n",
    "             (2*a1 + 4*a2 - 10)**2 + \\\n",
    "             (3*a1 + 7*a2 - 8)**2)"
   ]
  },
  {
   "cell_type": "code",
   "execution_count": 144,
   "metadata": {},
   "outputs": [
    {
     "name": "stdout",
     "output_type": "stream",
     "text": [
      "MSE= 56.2500000000000\n",
      "MSE= 16.8572437500000\n",
      "MSE= 8.59365482859375\n",
      "MSE= 6.85191449679269\n",
      "MSE= 6.47725148826285\n",
      "MSE= 6.38978037646670\n",
      "MSE= 6.36322055427526\n",
      "MSE= 6.35010849011797\n",
      "Количество итераций равно  8\n"
     ]
    }
   ],
   "source": [
    "x_coord = 0\n",
    "y_coord = 0\n",
    "cnt = 0\n",
    "while MSE.subs({a1: x_coord, a2: y_coord}) > 6.35:\n",
    "    print('MSE=', MSE.subs({a1: x_coord, a2: y_coord}))\n",
    "    x_coord, y_coord = x_coord + (-0.01*grad_MSE[0].subs({a1: x_coord, a2: y_coord})), \\\n",
    "    y_coord + (-0.01*grad_MSE[1].subs({a1: x_coord, a2: y_coord}))\n",
    "    cnt += 1\n",
    "print('Количество итераций равно ', cnt)"
   ]
  },
  {
   "cell_type": "code",
   "execution_count": null,
   "metadata": {},
   "outputs": [],
   "source": []
  }
 ],
 "metadata": {
  "kernelspec": {
   "display_name": "Python 3",
   "language": "python",
   "name": "python3"
  },
  "language_info": {
   "codemirror_mode": {
    "name": "ipython",
    "version": 3
   },
   "file_extension": ".py",
   "mimetype": "text/x-python",
   "name": "python",
   "nbconvert_exporter": "python",
   "pygments_lexer": "ipython3",
   "version": "3.9.1"
  },
  "toc": {
   "base_numbering": 1,
   "nav_menu": {},
   "number_sections": true,
   "sideBar": true,
   "skip_h1_title": false,
   "title_cell": "Table of Contents",
   "title_sidebar": "Contents",
   "toc_cell": false,
   "toc_position": {},
   "toc_section_display": true,
   "toc_window_display": false
  },
  "varInspector": {
   "cols": {
    "lenName": 16,
    "lenType": 16,
    "lenVar": 40
   },
   "kernels_config": {
    "python": {
     "delete_cmd_postfix": "",
     "delete_cmd_prefix": "del ",
     "library": "var_list.py",
     "varRefreshCmd": "print(var_dic_list())"
    },
    "r": {
     "delete_cmd_postfix": ") ",
     "delete_cmd_prefix": "rm(",
     "library": "var_list.r",
     "varRefreshCmd": "cat(var_dic_list()) "
    }
   },
   "types_to_exclude": [
    "module",
    "function",
    "builtin_function_or_method",
    "instance",
    "_Feature"
   ],
   "window_display": false
  }
 },
 "nbformat": 4,
 "nbformat_minor": 4
}
