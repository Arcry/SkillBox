{
 "cells": [
  {
   "cell_type": "code",
   "execution_count": 4,
   "id": "solar-palestine",
   "metadata": {
    "ExecuteTime": {
     "end_time": "2021-02-25T17:59:57.319307Z",
     "start_time": "2021-02-25T17:59:57.316839Z"
    }
   },
   "outputs": [],
   "source": [
    "from sympy import *"
   ]
  },
  {
   "cell_type": "code",
   "execution_count": 23,
   "id": "composite-report",
   "metadata": {
    "ExecuteTime": {
     "end_time": "2021-02-25T18:15:40.534797Z",
     "start_time": "2021-02-25T18:15:40.532993Z"
    }
   },
   "outputs": [],
   "source": [
    "x, y, z = symbols('x y z')"
   ]
  },
  {
   "cell_type": "markdown",
   "id": "honest-magic",
   "metadata": {
    "ExecuteTime": {
     "end_time": "2021-02-25T18:00:10.575166Z",
     "start_time": "2021-02-25T18:00:10.569439Z"
    }
   },
   "source": [
    "### Решите методом обратных матриц матричные уравнения. Проверьте себя с помощью sympy.\n"
   ]
  },
  {
   "cell_type": "code",
   "execution_count": 15,
   "id": "liquid-issue",
   "metadata": {
    "ExecuteTime": {
     "end_time": "2021-02-25T18:03:40.252314Z",
     "start_time": "2021-02-25T18:03:40.249201Z"
    }
   },
   "outputs": [
    {
     "data": {
      "text/latex": [
       "$\\displaystyle \\left[\\begin{matrix}4\\\\-2\\end{matrix}\\right]$"
      ],
      "text/plain": [
       "Matrix([\n",
       "[ 4],\n",
       "[-2]])"
      ]
     },
     "execution_count": 15,
     "metadata": {},
     "output_type": "execute_result"
    }
   ],
   "source": [
    "A = Matrix([[2, 3], [1, 0]])\n",
    "B = Matrix([2, 4])\n",
    "x = A**(-1) * B\n",
    "x"
   ]
  },
  {
   "cell_type": "code",
   "execution_count": null,
   "id": "supposed-crowd",
   "metadata": {
    "ExecuteTime": {
     "end_time": "2021-02-25T18:02:36.048259Z",
     "start_time": "2021-02-25T18:02:36.016739Z"
    }
   },
   "outputs": [],
   "source": []
  },
  {
   "cell_type": "code",
   "execution_count": 16,
   "id": "upset-treasurer",
   "metadata": {
    "ExecuteTime": {
     "end_time": "2021-02-25T18:04:24.985867Z",
     "start_time": "2021-02-25T18:04:24.981333Z"
    }
   },
   "outputs": [
    {
     "data": {
      "text/latex": [
       "$\\displaystyle \\left[\\begin{matrix}-12\\\\3\\end{matrix}\\right]$"
      ],
      "text/plain": [
       "Matrix([\n",
       "[-12],\n",
       "[  3]])"
      ]
     },
     "execution_count": 16,
     "metadata": {},
     "output_type": "execute_result"
    }
   ],
   "source": [
    "A = Matrix([[1, 5], [0, 3]])\n",
    "B = Matrix([3, 9])\n",
    "x = A**(-1) * B\n",
    "x"
   ]
  },
  {
   "cell_type": "code",
   "execution_count": null,
   "id": "essential-passage",
   "metadata": {},
   "outputs": [],
   "source": []
  },
  {
   "cell_type": "code",
   "execution_count": 18,
   "id": "convinced-brooks",
   "metadata": {
    "ExecuteTime": {
     "end_time": "2021-02-25T18:05:26.982676Z",
     "start_time": "2021-02-25T18:05:26.977461Z"
    }
   },
   "outputs": [
    {
     "data": {
      "text/latex": [
       "$\\displaystyle \\left[\\begin{matrix}1\\\\1\\\\3\\end{matrix}\\right]$"
      ],
      "text/plain": [
       "Matrix([\n",
       "[1],\n",
       "[1],\n",
       "[3]])"
      ]
     },
     "execution_count": 18,
     "metadata": {},
     "output_type": "execute_result"
    }
   ],
   "source": [
    "A = Matrix([[2, 3, -1], [0, 1, 1], [1, -1, 2]])\n",
    "B = Matrix([2, 4, 6])\n",
    "x = A**(-1) * B\n",
    "x"
   ]
  },
  {
   "cell_type": "code",
   "execution_count": null,
   "id": "fourth-onion",
   "metadata": {},
   "outputs": [],
   "source": []
  },
  {
   "cell_type": "code",
   "execution_count": 20,
   "id": "elder-marker",
   "metadata": {
    "ExecuteTime": {
     "end_time": "2021-02-25T18:06:51.458156Z",
     "start_time": "2021-02-25T18:06:51.452628Z"
    }
   },
   "outputs": [
    {
     "data": {
      "text/latex": [
       "$\\displaystyle \\left[\\begin{matrix}-15\\\\5\\\\1\\end{matrix}\\right]$"
      ],
      "text/plain": [
       "Matrix([\n",
       "[-15],\n",
       "[  5],\n",
       "[  1]])"
      ]
     },
     "execution_count": 20,
     "metadata": {},
     "output_type": "execute_result"
    }
   ],
   "source": [
    "A = Matrix([[1, 5, -2], [0, 3, 1], [-4, -6, 2]])\n",
    "B = Matrix([8, 16, 32])\n",
    "x = A**(-1) * B\n",
    "x"
   ]
  },
  {
   "cell_type": "code",
   "execution_count": null,
   "id": "cutting-somewhere",
   "metadata": {},
   "outputs": [],
   "source": []
  },
  {
   "cell_type": "markdown",
   "id": "parliamentary-vault",
   "metadata": {},
   "source": [
    "### Решите задачу аппроксимации из домашнего задания 9 модуля (Часть №3) с помощью псевдообратной матрицы, а не градиентного спуска, используя для вычислений sympy. Насколько более точным получилось решение?"
   ]
  },
  {
   "cell_type": "code",
   "execution_count": 25,
   "id": "forty-penguin",
   "metadata": {
    "ExecuteTime": {
     "end_time": "2021-02-25T18:16:07.935555Z",
     "start_time": "2021-02-25T18:16:07.931586Z"
    }
   },
   "outputs": [],
   "source": [
    "x, y, z = symbols('x y z')"
   ]
  },
  {
   "cell_type": "code",
   "execution_count": 24,
   "id": "structured-physiology",
   "metadata": {
    "ExecuteTime": {
     "end_time": "2021-02-25T18:15:43.265626Z",
     "start_time": "2021-02-25T18:15:43.261985Z"
    }
   },
   "outputs": [],
   "source": [
    "MSE = 1/4 * ((1*x + 2*y - 5)**2 + \\\n",
    "             (5*x + 3*y - 6)**2 + \\\n",
    "             (2*x + 4*y - 10)**2 + \\\n",
    "             (3*x + 7*y - 8)**2)"
   ]
  },
  {
   "cell_type": "code",
   "execution_count": 27,
   "id": "mighty-taiwan",
   "metadata": {
    "ExecuteTime": {
     "end_time": "2021-02-25T18:19:21.904799Z",
     "start_time": "2021-02-25T18:19:21.902837Z"
    }
   },
   "outputs": [],
   "source": [
    "X = Matrix([[1, 2],\\\n",
    "           [5, 3],\\\n",
    "           [2, 4],\\\n",
    "           [3, 7]])\n",
    "B = Matrix([5, 6, 10, 8])"
   ]
  },
  {
   "cell_type": "code",
   "execution_count": 30,
   "id": "intelligent-tract",
   "metadata": {
    "ExecuteTime": {
     "end_time": "2021-02-25T18:20:07.381427Z",
     "start_time": "2021-02-25T18:20:07.377636Z"
    }
   },
   "outputs": [
    {
     "data": {
      "text/latex": [
       "$\\displaystyle \\left[\\begin{matrix}- \\frac{7}{463} & \\frac{126}{463} & - \\frac{14}{463} & - \\frac{44}{463}\\\\\\frac{16}{463} & - \\frac{113}{926} & \\frac{32}{463} & \\frac{135}{926}\\end{matrix}\\right]$"
      ],
      "text/plain": [
       "Matrix([\n",
       "[-7/463,  126/463, -14/463, -44/463],\n",
       "[16/463, -113/926,  32/463, 135/926]])"
      ]
     },
     "execution_count": 30,
     "metadata": {},
     "output_type": "execute_result"
    }
   ],
   "source": [
    "X_psevd_inv = (X.T * X)**(-1) * X.T\n",
    "X_psevd_inv"
   ]
  },
  {
   "cell_type": "code",
   "execution_count": 32,
   "id": "operational-queen",
   "metadata": {
    "ExecuteTime": {
     "end_time": "2021-02-25T18:20:55.265788Z",
     "start_time": "2021-02-25T18:20:55.258162Z"
    }
   },
   "outputs": [
    {
     "data": {
      "text/latex": [
       "$\\displaystyle \\left[\\begin{matrix}\\frac{229}{463}\\\\\\frac{601}{463}\\end{matrix}\\right]$"
      ],
      "text/plain": [
       "Matrix([\n",
       "[229/463],\n",
       "[601/463]])"
      ]
     },
     "execution_count": 32,
     "metadata": {},
     "output_type": "execute_result"
    }
   ],
   "source": [
    "point = X_psevd_inv * B\n",
    "point"
   ]
  },
  {
   "cell_type": "code",
   "execution_count": 33,
   "id": "helpful-saudi",
   "metadata": {
    "ExecuteTime": {
     "end_time": "2021-02-25T18:21:48.078078Z",
     "start_time": "2021-02-25T18:21:48.071354Z"
    }
   },
   "outputs": [
    {
     "data": {
      "text/latex": [
       "$\\displaystyle 6.24190064794816$"
      ],
      "text/plain": [
       "6.24190064794816"
      ]
     },
     "execution_count": 33,
     "metadata": {},
     "output_type": "execute_result"
    }
   ],
   "source": [
    "MSE.subs({x: point[0], y: point[1]})"
   ]
  }
 ],
 "metadata": {
  "kernelspec": {
   "display_name": "Python 3",
   "language": "python",
   "name": "python3"
  },
  "language_info": {
   "codemirror_mode": {
    "name": "ipython",
    "version": 3
   },
   "file_extension": ".py",
   "mimetype": "text/x-python",
   "name": "python",
   "nbconvert_exporter": "python",
   "pygments_lexer": "ipython3",
   "version": "3.9.1"
  },
  "toc": {
   "base_numbering": 1,
   "nav_menu": {},
   "number_sections": true,
   "sideBar": true,
   "skip_h1_title": false,
   "title_cell": "Table of Contents",
   "title_sidebar": "Contents",
   "toc_cell": false,
   "toc_position": {},
   "toc_section_display": true,
   "toc_window_display": false
  },
  "varInspector": {
   "cols": {
    "lenName": 16,
    "lenType": 16,
    "lenVar": 40
   },
   "kernels_config": {
    "python": {
     "delete_cmd_postfix": "",
     "delete_cmd_prefix": "del ",
     "library": "var_list.py",
     "varRefreshCmd": "print(var_dic_list())"
    },
    "r": {
     "delete_cmd_postfix": ") ",
     "delete_cmd_prefix": "rm(",
     "library": "var_list.r",
     "varRefreshCmd": "cat(var_dic_list()) "
    }
   },
   "types_to_exclude": [
    "module",
    "function",
    "builtin_function_or_method",
    "instance",
    "_Feature"
   ],
   "window_display": false
  }
 },
 "nbformat": 4,
 "nbformat_minor": 5
}
