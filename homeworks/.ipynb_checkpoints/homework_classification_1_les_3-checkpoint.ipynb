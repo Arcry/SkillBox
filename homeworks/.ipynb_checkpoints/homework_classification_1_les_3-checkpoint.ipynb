{
 "cells": [
  {
   "cell_type": "markdown",
   "metadata": {
    "id": "hMSwqgHPMNr-"
   },
   "source": [
    "# Урок 3. kNN\n",
    "\n",
    "В уроке мы разобрали построение модели kNN на базовом наборе данных Iris. Для лучшего понимания, как работает алгоритм, мы использовали только два признака - длину и ширину лепестка. \n",
    "\n",
    "Однако другие признаки тоже могли быть важны для получения моделью более детальной информации об объектах и, соответственно, построения более точных прогнозов. "
   ]
  },
  {
   "cell_type": "markdown",
   "metadata": {
    "id": "zV5GeXavMNr_"
   },
   "source": [
    "### 1.\n",
    "Поочередно добавьте к признакам (petal length, petal width) из урока  оставшиеся признаки, чтобы получилось: 1) (sepal length, petal length, petal width); 2) (sepal width, petal length, petal width)."
   ]
  },
  {
   "cell_type": "markdown",
   "metadata": {
    "id": "Mhpjfhv0MNsA"
   },
   "source": [
    "*Примечание: признаки могут быть расположены в любом порядке.*"
   ]
  },
  {
   "cell_type": "code",
   "execution_count": 8,
   "metadata": {
    "ExecuteTime": {
     "end_time": "2021-04-05T14:21:51.527102Z",
     "start_time": "2021-04-05T14:21:51.283844Z"
    },
    "id": "ueOCcIq2ZXB0"
   },
   "outputs": [],
   "source": [
    "import numpy as np\n",
    "import pandas as pd\n",
    "from matplotlib import pyplot as plt"
   ]
  },
  {
   "cell_type": "code",
   "execution_count": 2,
   "metadata": {
    "ExecuteTime": {
     "end_time": "2021-04-05T14:20:39.744331Z",
     "start_time": "2021-04-05T14:20:39.522725Z"
    },
    "id": "OoyytuX6MNsA"
   },
   "outputs": [],
   "source": [
    "from sklearn.datasets import load_iris"
   ]
  },
  {
   "cell_type": "markdown",
   "metadata": {
    "id": "reZ8jculMNsD"
   },
   "source": [
    "Напомним порядок расположения признаков в массиве данных"
   ]
  },
  {
   "cell_type": "code",
   "execution_count": 3,
   "metadata": {
    "ExecuteTime": {
     "end_time": "2021-04-05T14:20:40.446897Z",
     "start_time": "2021-04-05T14:20:40.427107Z"
    },
    "id": "3b_a4W0lMNsD",
    "outputId": "72bb59e6-9d2e-45e5-edac-cb7060ced8cd"
   },
   "outputs": [
    {
     "data": {
      "text/plain": [
       "['sepal length (cm)',\n",
       " 'sepal width (cm)',\n",
       " 'petal length (cm)',\n",
       " 'petal width (cm)']"
      ]
     },
     "execution_count": 3,
     "metadata": {},
     "output_type": "execute_result"
    }
   ],
   "source": [
    "iris_dataset = load_iris()\n",
    "iris_dataset['feature_names']"
   ]
  },
  {
   "cell_type": "markdown",
   "metadata": {
    "id": "E7YmgFGrMNsG"
   },
   "source": [
    "Для формирования массива новых признаков проще воспользоваться не срезами, как мы делали в уроке - iris_dataset.data[:, 2:4] (здесь мы показываем, что выбираем только со 2го по 4й столбец, причем не включая 2й), а просто удалить один из ненужных нам столбцов с помощью функции библиотеки *numpy.delete*\n",
    "\n",
    "**Пример**"
   ]
  },
  {
   "cell_type": "code",
   "execution_count": 4,
   "metadata": {
    "ExecuteTime": {
     "end_time": "2021-04-05T14:20:45.313332Z",
     "start_time": "2021-04-05T14:20:45.311518Z"
    },
    "id": "ViJBhLZoMNsG"
   },
   "outputs": [],
   "source": [
    "import numpy as np"
   ]
  },
  {
   "cell_type": "code",
   "execution_count": 5,
   "metadata": {
    "ExecuteTime": {
     "end_time": "2021-04-05T14:20:45.639207Z",
     "start_time": "2021-04-05T14:20:45.631682Z"
    },
    "id": "XHp-0ksFMNsJ",
    "outputId": "56896392-8d71-4e68-8838-7dd3ca2f8ef8"
   },
   "outputs": [
    {
     "data": {
      "text/plain": [
       "array([[ 1,  2,  3],\n",
       "       [ 5,  6,  7],\n",
       "       [ 9, 10, 11],\n",
       "       [13, 14, 15]])"
      ]
     },
     "execution_count": 5,
     "metadata": {},
     "output_type": "execute_result"
    }
   ],
   "source": [
    "a = np.array([[ 0,  1,  2,  3],\n",
    "               [ 4,  5,  6,  7],\n",
    "               [ 8,  9, 10, 11],\n",
    "               [12, 13, 14, 15]])\n",
    "\n",
    "a_new = np.delete(a, 0, axis=1)\n",
    "a_new"
   ]
  },
  {
   "cell_type": "code",
   "execution_count": 15,
   "metadata": {
    "ExecuteTime": {
     "end_time": "2021-04-05T14:22:53.956427Z",
     "start_time": "2021-04-05T14:22:53.950271Z"
    }
   },
   "outputs": [
    {
     "data": {
      "text/html": [
       "<div>\n",
       "<style scoped>\n",
       "    .dataframe tbody tr th:only-of-type {\n",
       "        vertical-align: middle;\n",
       "    }\n",
       "\n",
       "    .dataframe tbody tr th {\n",
       "        vertical-align: top;\n",
       "    }\n",
       "\n",
       "    .dataframe thead th {\n",
       "        text-align: right;\n",
       "    }\n",
       "</style>\n",
       "<table border=\"1\" class=\"dataframe\">\n",
       "  <thead>\n",
       "    <tr style=\"text-align: right;\">\n",
       "      <th></th>\n",
       "      <th>sepal length (cm)</th>\n",
       "      <th>sepal width (cm)</th>\n",
       "      <th>petal length (cm)</th>\n",
       "      <th>petal width (cm)</th>\n",
       "    </tr>\n",
       "  </thead>\n",
       "  <tbody>\n",
       "    <tr>\n",
       "      <th>0</th>\n",
       "      <td>5.1</td>\n",
       "      <td>3.5</td>\n",
       "      <td>1.4</td>\n",
       "      <td>0.2</td>\n",
       "    </tr>\n",
       "    <tr>\n",
       "      <th>1</th>\n",
       "      <td>4.9</td>\n",
       "      <td>3.0</td>\n",
       "      <td>1.4</td>\n",
       "      <td>0.2</td>\n",
       "    </tr>\n",
       "    <tr>\n",
       "      <th>2</th>\n",
       "      <td>4.7</td>\n",
       "      <td>3.2</td>\n",
       "      <td>1.3</td>\n",
       "      <td>0.2</td>\n",
       "    </tr>\n",
       "    <tr>\n",
       "      <th>3</th>\n",
       "      <td>4.6</td>\n",
       "      <td>3.1</td>\n",
       "      <td>1.5</td>\n",
       "      <td>0.2</td>\n",
       "    </tr>\n",
       "    <tr>\n",
       "      <th>4</th>\n",
       "      <td>5.0</td>\n",
       "      <td>3.6</td>\n",
       "      <td>1.4</td>\n",
       "      <td>0.2</td>\n",
       "    </tr>\n",
       "  </tbody>\n",
       "</table>\n",
       "</div>"
      ],
      "text/plain": [
       "   sepal length (cm)  sepal width (cm)  petal length (cm)  petal width (cm)\n",
       "0                5.1               3.5                1.4               0.2\n",
       "1                4.9               3.0                1.4               0.2\n",
       "2                4.7               3.2                1.3               0.2\n",
       "3                4.6               3.1                1.5               0.2\n",
       "4                5.0               3.6                1.4               0.2"
      ]
     },
     "execution_count": 15,
     "metadata": {},
     "output_type": "execute_result"
    }
   ],
   "source": [
    "iris_data = pd.DataFrame(iris_dataset['data'], columns=iris_dataset['feature_names'])\n",
    "iris_data.head()"
   ]
  },
  {
   "cell_type": "code",
   "execution_count": 17,
   "metadata": {
    "ExecuteTime": {
     "end_time": "2021-04-05T14:24:34.041468Z",
     "start_time": "2021-04-05T14:24:34.033597Z"
    }
   },
   "outputs": [
    {
     "data": {
      "text/html": [
       "<div>\n",
       "<style scoped>\n",
       "    .dataframe tbody tr th:only-of-type {\n",
       "        vertical-align: middle;\n",
       "    }\n",
       "\n",
       "    .dataframe tbody tr th {\n",
       "        vertical-align: top;\n",
       "    }\n",
       "\n",
       "    .dataframe thead th {\n",
       "        text-align: right;\n",
       "    }\n",
       "</style>\n",
       "<table border=\"1\" class=\"dataframe\">\n",
       "  <thead>\n",
       "    <tr style=\"text-align: right;\">\n",
       "      <th></th>\n",
       "      <th>sepal length (cm)</th>\n",
       "      <th>petal length (cm)</th>\n",
       "      <th>petal width (cm)</th>\n",
       "    </tr>\n",
       "  </thead>\n",
       "  <tbody>\n",
       "    <tr>\n",
       "      <th>0</th>\n",
       "      <td>5.1</td>\n",
       "      <td>1.4</td>\n",
       "      <td>0.2</td>\n",
       "    </tr>\n",
       "    <tr>\n",
       "      <th>1</th>\n",
       "      <td>4.9</td>\n",
       "      <td>1.4</td>\n",
       "      <td>0.2</td>\n",
       "    </tr>\n",
       "    <tr>\n",
       "      <th>2</th>\n",
       "      <td>4.7</td>\n",
       "      <td>1.3</td>\n",
       "      <td>0.2</td>\n",
       "    </tr>\n",
       "    <tr>\n",
       "      <th>3</th>\n",
       "      <td>4.6</td>\n",
       "      <td>1.5</td>\n",
       "      <td>0.2</td>\n",
       "    </tr>\n",
       "    <tr>\n",
       "      <th>4</th>\n",
       "      <td>5.0</td>\n",
       "      <td>1.4</td>\n",
       "      <td>0.2</td>\n",
       "    </tr>\n",
       "    <tr>\n",
       "      <th>...</th>\n",
       "      <td>...</td>\n",
       "      <td>...</td>\n",
       "      <td>...</td>\n",
       "    </tr>\n",
       "    <tr>\n",
       "      <th>145</th>\n",
       "      <td>6.7</td>\n",
       "      <td>5.2</td>\n",
       "      <td>2.3</td>\n",
       "    </tr>\n",
       "    <tr>\n",
       "      <th>146</th>\n",
       "      <td>6.3</td>\n",
       "      <td>5.0</td>\n",
       "      <td>1.9</td>\n",
       "    </tr>\n",
       "    <tr>\n",
       "      <th>147</th>\n",
       "      <td>6.5</td>\n",
       "      <td>5.2</td>\n",
       "      <td>2.0</td>\n",
       "    </tr>\n",
       "    <tr>\n",
       "      <th>148</th>\n",
       "      <td>6.2</td>\n",
       "      <td>5.4</td>\n",
       "      <td>2.3</td>\n",
       "    </tr>\n",
       "    <tr>\n",
       "      <th>149</th>\n",
       "      <td>5.9</td>\n",
       "      <td>5.1</td>\n",
       "      <td>1.8</td>\n",
       "    </tr>\n",
       "  </tbody>\n",
       "</table>\n",
       "<p>150 rows × 3 columns</p>\n",
       "</div>"
      ],
      "text/plain": [
       "     sepal length (cm)  petal length (cm)  petal width (cm)\n",
       "0                  5.1                1.4               0.2\n",
       "1                  4.9                1.4               0.2\n",
       "2                  4.7                1.3               0.2\n",
       "3                  4.6                1.5               0.2\n",
       "4                  5.0                1.4               0.2\n",
       "..                 ...                ...               ...\n",
       "145                6.7                5.2               2.3\n",
       "146                6.3                5.0               1.9\n",
       "147                6.5                5.2               2.0\n",
       "148                6.2                5.4               2.3\n",
       "149                5.9                5.1               1.8\n",
       "\n",
       "[150 rows x 3 columns]"
      ]
     },
     "execution_count": 17,
     "metadata": {},
     "output_type": "execute_result"
    }
   ],
   "source": [
    "iris_data.drop(columns=['sepal width (cm)'])"
   ]
  },
  {
   "cell_type": "code",
   "execution_count": null,
   "metadata": {},
   "outputs": [],
   "source": []
  },
  {
   "cell_type": "code",
   "execution_count": 18,
   "metadata": {
    "ExecuteTime": {
     "end_time": "2021-04-05T14:24:56.568855Z",
     "start_time": "2021-04-05T14:24:56.565966Z"
    },
    "id": "PI1-3XWxMNsN"
   },
   "outputs": [],
   "source": [
    "iris_dataset_1 = iris_data.drop(columns=['sepal width (cm)'])\n",
    "iris_dataset_2 = iris_data.drop(columns=['petal width (cm)'])"
   ]
  },
  {
   "cell_type": "markdown",
   "metadata": {
    "id": "4QZhYI5RMNsO"
   },
   "source": [
    "### 2.\n",
    "Теперь посмотрите на трехмерном графике, насколько хорошо данные разделяются по каждой из совокупностей трех параметров."
   ]
  },
  {
   "cell_type": "code",
   "execution_count": 19,
   "metadata": {
    "ExecuteTime": {
     "end_time": "2021-04-05T14:25:08.117374Z",
     "start_time": "2021-04-05T14:25:08.114622Z"
    },
    "id": "WKEoyJyyMNsP"
   },
   "outputs": [
    {
     "name": "stderr",
     "output_type": "stream",
     "text": [
      "UsageError: Line magic function `%` not found.\n"
     ]
    }
   ],
   "source": [
    "# если работаете в интерактивной оболочке IPython \n",
    "% matplotlib inline\n",
    "\n",
    "from mpl_toolkits import mplot3d\n",
    "import matplotlib.pyplot as plt"
   ]
  },
  {
   "cell_type": "markdown",
   "metadata": {
    "id": "9AWq-nrQMNsR"
   },
   "source": [
    "**Пример** построения трехмерного графика"
   ]
  },
  {
   "cell_type": "code",
   "execution_count": 20,
   "metadata": {
    "ExecuteTime": {
     "end_time": "2021-04-05T14:25:15.700370Z",
     "start_time": "2021-04-05T14:25:15.561929Z"
    },
    "id": "n3uww5WuMNsR",
    "outputId": "1ba643f4-cc2a-4cec-816f-85bc8247d41f"
   },
   "outputs": [
    {
     "data": {
      "text/plain": [
       "<mpl_toolkits.mplot3d.art3d.Path3DCollection at 0x7fc240cd6190>"
      ]
     },
     "execution_count": 20,
     "metadata": {},
     "output_type": "execute_result"
    },
    {
     "data": {
      "image/png": "[encoded data removed]",
      "text/plain": [
       "<Figure size 432x288 with 1 Axes>"
      ]
     },
     "metadata": {
      "needs_background": "light"
     },
     "output_type": "display_data"
    }
   ],
   "source": [
    "ax = plt.axes(projection='3d')\n",
    "\n",
    "zdata = 15 * np.random.random(100) # точки оси Z\n",
    "xdata = np.sin(zdata) + 0.1 * np.random.randn(100) # точки оси X\n",
    "ydata = np.cos(zdata) + 0.1 * np.random.randn(100) # точки оси Y\n",
    "colors = np.random.randint(3, size=100)\n",
    "\n",
    "ax.scatter3D(xdata, ydata, zdata, alpha=.8, c=colors)"
   ]
  },
  {
   "cell_type": "markdown",
   "metadata": {
    "id": "R2j9OkyNMNsU"
   },
   "source": [
    "**Примечание: для установки цвета в функции используйте *c=iris_dataset.target*.**"
   ]
  },
  {
   "cell_type": "code",
   "execution_count": 22,
   "metadata": {
    "ExecuteTime": {
     "end_time": "2021-04-05T14:27:59.692427Z",
     "start_time": "2021-04-05T14:27:59.555385Z"
    },
    "id": "EHbifTqFMNsU"
   },
   "outputs": [
    {
     "data": {
      "text/plain": [
       "<mpl_toolkits.mplot3d.art3d.Path3DCollection at 0x7fc23f17e1f0>"
      ]
     },
     "execution_count": 22,
     "metadata": {},
     "output_type": "execute_result"
    },
    {
     "data": {
      "image/png": "[encoded data removed]",
      "text/plain": [
       "<Figure size 432x288 with 1 Axes>"
      ]
     },
     "metadata": {
      "needs_background": "light"
     },
     "output_type": "display_data"
    }
   ],
   "source": [
    "ax = plt.axes(projection='3d')\n",
    "\n",
    "zdata = iris_dataset_1['petal length (cm)']\n",
    "xdata = iris_dataset_1['sepal length (cm)']\n",
    "ydata = iris_dataset_1['petal width (cm)']\n",
    "colors = np.random.randint(3, size=100)\n",
    "\n",
    "ax.scatter3D(xdata, ydata, zdata, alpha=.8, c=iris_dataset.target)"
   ]
  },
  {
   "cell_type": "code",
   "execution_count": 23,
   "metadata": {
    "ExecuteTime": {
     "end_time": "2021-04-05T14:29:38.032000Z",
     "start_time": "2021-04-05T14:29:37.906005Z"
    },
    "id": "75lY7MqyMNsV"
   },
   "outputs": [
    {
     "data": {
      "text/plain": [
       "<mpl_toolkits.mplot3d.art3d.Path3DCollection at 0x7fc23cf741f0>"
      ]
     },
     "execution_count": 23,
     "metadata": {},
     "output_type": "execute_result"
    },
    {
     "data": {
      "image/png": "[encoded data removed]",
      "text/plain": [
       "<Figure size 432x288 with 1 Axes>"
      ]
     },
     "metadata": {
      "needs_background": "light"
     },
     "output_type": "display_data"
    }
   ],
   "source": [
    "ax = plt.axes(projection='3d')\n",
    "\n",
    "zdata = iris_dataset_2['petal length (cm)']\n",
    "xdata = iris_dataset_2['sepal length (cm)']\n",
    "ydata = iris_dataset_2['sepal width (cm)']\n",
    "colors = np.random.randint(3, size=100)\n",
    "\n",
    "ax.scatter3D(xdata, ydata, zdata, alpha=.8, c=iris_dataset.target)"
   ]
  },
  {
   "cell_type": "markdown",
   "metadata": {},
   "source": [
    "Провести классификацию будет легче на датасете 1."
   ]
  },
  {
   "cell_type": "markdown",
   "metadata": {
    "id": "EO82RejNMNsX"
   },
   "source": [
    "### 3.\n",
    "С помощью функции sklearn.model_selection.train_test_split разделите данные на тренировочный и тестовый датасеты и затем, применив библиотечную версию алгоритма sklearn.neighbors.KNeighborsClassifier, постройте модель для наборов данных *iris_dataset_1* и *iris_dataset_2* (по умолчанию используйте n_neighbors=5)."
   ]
  },
  {
   "cell_type": "markdown",
   "metadata": {
    "id": "YRgR__hoMNsY"
   },
   "source": [
    "*Примечание: в функции train_test_split используйте параметр random_state=17 для воспроизводимости результатов.*"
   ]
  },
  {
   "cell_type": "code",
   "execution_count": 25,
   "metadata": {
    "ExecuteTime": {
     "end_time": "2021-04-05T14:31:34.203630Z",
     "start_time": "2021-04-05T14:31:34.201841Z"
    },
    "id": "BuV1nTv3MNsY"
   },
   "outputs": [],
   "source": [
    "from sklearn.model_selection import train_test_split\n",
    "from sklearn.neighbors import KNeighborsClassifier"
   ]
  },
  {
   "cell_type": "code",
   "execution_count": 41,
   "metadata": {
    "ExecuteTime": {
     "end_time": "2021-04-05T15:07:02.325171Z",
     "start_time": "2021-04-05T15:07:02.314071Z"
    },
    "id": "0rwnGBv5MNsa"
   },
   "outputs": [
    {
     "data": {
      "text/plain": [
       "KNeighborsClassifier()"
      ]
     },
     "execution_count": 41,
     "metadata": {},
     "output_type": "execute_result"
    }
   ],
   "source": [
    "x_train_1, x_test_1, y_train_1, y_test_1 = train_test_split(iris_dataset_1, iris_dataset['target'], train_size=0.8, random_state=42)\n",
    "x_train_2, x_test_2, y_train_2, y_test_2 = train_test_split(iris_dataset_2, iris_dataset['target'], train_size=0.8, random_state=42)\n",
    "\n",
    "knn1 = KNeighborsClassifier(n_neighbors=5)\n",
    "knn2 = KNeighborsClassifier(n_neighbors=5)\n",
    "\n",
    "knn1.fit(x_train_1, y_train_1)\n",
    "knn2.fit(x_train_2, y_train_2)\n",
    "\n"
   ]
  },
  {
   "cell_type": "markdown",
   "metadata": {
    "id": "cljCoe3dMNsc"
   },
   "source": [
    "### 4.\n",
    "Проверьте точность работы обеих моделей, используя встроенную функцию sklearn.metrics.accuracy_score. Сравните результат их работы с результатом, полученным на наборе данных с двумя признаками (который разбирался в уроке), и укажите ответ."
   ]
  },
  {
   "cell_type": "code",
   "execution_count": 31,
   "metadata": {
    "ExecuteTime": {
     "end_time": "2021-04-05T14:34:57.925997Z",
     "start_time": "2021-04-05T14:34:57.924309Z"
    },
    "id": "16k7iZXfMNsc"
   },
   "outputs": [],
   "source": [
    "from sklearn.metrics import accuracy_score"
   ]
  },
  {
   "cell_type": "code",
   "execution_count": 34,
   "metadata": {
    "ExecuteTime": {
     "end_time": "2021-04-05T14:36:28.549357Z",
     "start_time": "2021-04-05T14:36:28.541827Z"
    },
    "id": "fxxP8DVJMNse"
   },
   "outputs": [
    {
     "name": "stdout",
     "output_type": "stream",
     "text": [
      "Accuracy_1: 1.0, accuracy_2: 0.9333333333333333\n"
     ]
    }
   ],
   "source": [
    "accuracy_1 = accuracy_score(knn1.predict(x_test_1), y_test_1)\n",
    "accuracy_2 = accuracy_score(knn2.predict(x_test_2), y_test_2)\n",
    "\n",
    "print(f'Accuracy_1: {accuracy_1}, accuracy_2: {accuracy_2}')"
   ]
  },
  {
   "cell_type": "markdown",
   "metadata": {
    "id": "B6jEwHEZMNsg"
   },
   "source": [
    "### 5.\n",
    "Постройте модель на данных *x_train_1, y_train_1* с гиперпараметром n_neighbors, пробегающим значения от 1 до 20 включительно, и укажите значения n_neighbors, которым соответствует наиболее высокий результат функции accuracy_score()."
   ]
  },
  {
   "cell_type": "markdown",
   "metadata": {
    "id": "KsJSGwiSMNsg"
   },
   "source": [
    "*Примечание: можно воспользоваться циклом for, чтобы не прописывать вручную все 20 вариаций модели.*"
   ]
  },
  {
   "cell_type": "code",
   "execution_count": 60,
   "metadata": {
    "ExecuteTime": {
     "end_time": "2021-04-05T15:19:20.936364Z",
     "start_time": "2021-04-05T15:19:20.864230Z"
    }
   },
   "outputs": [],
   "source": [
    "accuracy = []\n",
    "for n in range(1, 21):\n",
    "    knn = KNeighborsClassifier(n_neighbors=n)\n",
    "    knn.fit(x_train_1, y_train_1)\n",
    "    accuracy.append([n, accuracy_score(y_test_1, knn.predict(x_test_1))])"
   ]
  },
  {
   "cell_type": "code",
   "execution_count": 61,
   "metadata": {
    "ExecuteTime": {
     "end_time": "2021-04-05T15:19:28.125195Z",
     "start_time": "2021-04-05T15:19:28.122071Z"
    }
   },
   "outputs": [
    {
     "data": {
      "text/plain": [
       "[[1, 1.0],\n",
       " [2, 1.0],\n",
       " [3, 1.0],\n",
       " [4, 1.0],\n",
       " [5, 1.0],\n",
       " [6, 1.0],\n",
       " [7, 1.0],\n",
       " [8, 1.0],\n",
       " [9, 1.0],\n",
       " [10, 1.0],\n",
       " [11, 1.0],\n",
       " [12, 1.0],\n",
       " [13, 1.0],\n",
       " [14, 1.0],\n",
       " [15, 1.0],\n",
       " [16, 1.0],\n",
       " [17, 1.0],\n",
       " [18, 1.0],\n",
       " [19, 1.0],\n",
       " [20, 1.0]]"
      ]
     },
     "execution_count": 61,
     "metadata": {},
     "output_type": "execute_result"
    }
   ],
   "source": [
    "accuracy"
   ]
  },
  {
   "cell_type": "code",
   "execution_count": 63,
   "metadata": {
    "ExecuteTime": {
     "end_time": "2021-04-05T15:21:09.173707Z",
     "start_time": "2021-04-05T15:21:07.747296Z"
    }
   },
   "outputs": [
    {
     "name": "stdout",
     "output_type": "stream",
     "text": [
      "{'n_neighbors': 3}\n"
     ]
    }
   ],
   "source": [
    "\n",
    "clf = KNeighborsClassifier()\n",
    "\n",
    "# зададим сетку параметров\n",
    "param_grid = {\n",
    "    'n_neighbors': np.arange(1, 5)\n",
    "}\n",
    "\n",
    "# создадим объект GridSearchCV\n",
    "search = GridSearchCV(clf, param_grid, n_jobs=-1, cv=5, refit=True, scoring='accuracy')\n",
    "\n",
    "# запустим поиск\n",
    "search.fit(x_train_1, y_train_1)\n",
    "\n",
    "# выведем наилучшие параметры\n",
    "print(search.best_params_)\n"
   ]
  },
  {
   "cell_type": "code",
   "execution_count": 59,
   "metadata": {
    "ExecuteTime": {
     "end_time": "2021-04-05T15:16:51.772900Z",
     "start_time": "2021-04-05T15:16:51.766752Z"
    }
   },
   "outputs": [
    {
     "data": {
      "text/plain": [
       "1.0"
      ]
     },
     "execution_count": 59,
     "metadata": {},
     "output_type": "execute_result"
    }
   ],
   "source": [
    "accuracy_score(y_test_1, search.predict(x_test_1))"
   ]
  }
 ],
 "metadata": {
  "colab": {
   "collapsed_sections": [],
   "name": "homework_classification-1-les-3.ipynb",
   "provenance": []
  },
  "kernelspec": {
   "display_name": "Python 3",
   "language": "python",
   "name": "python3"
  },
  "language_info": {
   "codemirror_mode": {
    "name": "ipython",
    "version": 3
   },
   "file_extension": ".py",
   "mimetype": "text/x-python",
   "name": "python",
   "nbconvert_exporter": "python",
   "pygments_lexer": "ipython3",
   "version": "3.9.1"
  },
  "toc": {
   "base_numbering": 1,
   "nav_menu": {},
   "number_sections": true,
   "sideBar": true,
   "skip_h1_title": false,
   "title_cell": "Table of Contents",
   "title_sidebar": "Contents",
   "toc_cell": false,
   "toc_position": {},
   "toc_section_display": true,
   "toc_window_display": false
  },
  "varInspector": {
   "cols": {
    "lenName": 16,
    "lenType": 16,
    "lenVar": 40
   },
   "kernels_config": {
    "python": {
     "delete_cmd_postfix": "",
     "delete_cmd_prefix": "del ",
     "library": "var_list.py",
     "varRefreshCmd": "print(var_dic_list())"
    },
    "r": {
     "delete_cmd_postfix": ") ",
     "delete_cmd_prefix": "rm(",
     "library": "var_list.r",
     "varRefreshCmd": "cat(var_dic_list()) "
    }
   },
   "types_to_exclude": [
    "module",
    "function",
    "builtin_function_or_method",
    "instance",
    "_Feature"
   ],
   "window_display": false
  }
 },
 "nbformat": 4,
 "nbformat_minor": 1
}
