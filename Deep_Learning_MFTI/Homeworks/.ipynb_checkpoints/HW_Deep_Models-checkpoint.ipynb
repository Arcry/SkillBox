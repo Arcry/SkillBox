{
 "cells": [
  {
   "cell_type": "markdown",
   "metadata": {
    "id": "mCmfkwZhCXjx"
   },
   "source": [
    "# Задание 3"
   ]
  },
  {
   "cell_type": "code",
   "execution_count": null,
   "metadata": {
    "colab": {
     "base_uri": "https://localhost:8080/"
    },
    "id": "_JejJJdjgNf6",
    "outputId": "a43a3fff-4494-454a-814d-368e30068daa"
   },
   "outputs": [
    {
     "name": "stdout",
     "output_type": "stream",
     "text": [
      "\u001b[K     |████████████████████████████████| 471kB 17.6MB/s \n",
      "\u001b[K     |████████████████████████████████| 645kB 42.0MB/s \n",
      "\u001b[K     |████████████████████████████████| 317kB 49.0MB/s \n",
      "\u001b[?25h"
     ]
    }
   ],
   "source": [
    "!pip install -q catalyst"
   ]
  },
  {
   "cell_type": "code",
   "execution_count": null,
   "metadata": {
    "id": "Kd-KUTc1CBXm"
   },
   "outputs": [],
   "source": [
    "import numpy as np\n",
    "\n",
    "import seaborn as sns\n",
    "from matplotlib import pyplot as plt\n",
    "\n",
    "from sklearn.datasets import make_moons\n",
    "from sklearn.model_selection import train_test_split\n",
    "\n",
    "import torch\n",
    "from torch import nn\n",
    "from torch.nn.parameter import Parameter\n",
    "from torch.nn import functional as F\n",
    "from torch import Tensor\n",
    "from torch.utils.data import TensorDataset, DataLoader\n",
    "\n",
    "from catalyst import utils\n",
    "\n",
    "sns.set(style=\"darkgrid\", font_scale=1.4)"
   ]
  },
  {
   "cell_type": "markdown",
   "metadata": {
    "id": "BT6eRdVNCO42"
   },
   "source": [
    "## Logistic regression is my profession\n",
    "\n",
    "**Напоминание**\n",
    "Давайте вспоним, что происходит в логистической регрессии. На входе у нас есть матрица объект-признак X и столбец-вектор $y$ – метки из $\\{0, 1\\}$ для каждого объекта. Мы хотим найти такую матрицу весов $W$ и смещение $b$ (bias), что наша модель $XW + b$ будет каким-то образом предсказывать класс объекта. Как видно на выходе наша модель может выдавать число в интервале от $(-\\infty;\\infty)$. Этот выход как правило называют \"логитами\" (logits). Нам необходимо перевести его на интервал от $[0;1]$ для того, чтобы он выдавал нам вероятность принадлежности объекта к кассу один, также лучше, чтобы эта функция была монотонной, быстро считалась, имела производную и на $-\\infty$ имела значение $0$, а на $+\\infty$ имела значение $1$. Такой класс функций называется сигмоидыю. Чаще всего в качестве сигмоида берут \n",
    "$$\n",
    "\\sigma(x) = \\frac{1}{1 + e^{-x}}.\n",
    "$$\n",
    "\n",
    "### Задание\n",
    "\n",
    "Вам необходимо написать модуль на PyTorch реализующий $logits = XW + b$, где $W$ и $b$ – параметры (`nn.Parameter`) модели. Иначе говоря здесь мы реализуем своими руками модуль `nn.Linear` (в этом пункте его использование запрещено). Инициализируйте веса нормальным распределением (`torch.randn`)."
   ]
  },
  {
   "cell_type": "code",
   "execution_count": null,
   "metadata": {
    "id": "5U1y-0KtCTne"
   },
   "outputs": [],
   "source": [
    "class LinearRegression(nn.Module):\n",
    "    def __init__(self, in_features: int, out_features: int, bias: bool = True):\n",
    "        super().__init__()\n",
    "        self.weights = nn.Parameter(torch.randn(out_features, in_features))\n",
    "        self.bias = bias\n",
    "        if bias:\n",
    "            self.bias_term = nn.Parameter(torch.zeros(out_features))\n",
    "\n",
    "    def forward(self, x):\n",
    "        # y =  x @ self.weights.t()\n",
    "        # if self.bias:\n",
    "        #     x +=  self.bias_term\n",
    "        # return y\n",
    "        return F.linear(x, self.weights, self.bias_term)"
   ]
  },
  {
   "cell_type": "code",
   "execution_count": null,
   "metadata": {
    "id": "lY-abiMbre9-"
   },
   "outputs": [],
   "source": [
    "# class Linear(nn.Module):\n",
    "#     def __init__(self, in_features: int, out_features: int, bias: bool = True) -> None:\n",
    "#         super(Linear, self).__init__()\n",
    "#         self.in_features = in_features\n",
    "#         self.out_features = out_features\n",
    "#         self.weight = Parameter(torch.randn(out_features, in_features))\n",
    "#         if bias:\n",
    "#             self.bias = Parameter(torch.empty(out_features))\n",
    "\n",
    "#     def forward(self, input: Tensor) -> Tensor:\n",
    "#         return F.linear(input, self.weight, self.bias)"
   ]
  },
  {
   "cell_type": "code",
   "execution_count": null,
   "metadata": {
    "colab": {
     "base_uri": "https://localhost:8080/"
    },
    "id": "ikHYilfVtBOV",
    "outputId": "ab7fc086-165d-41e5-fe30-48ceadb2e59c"
   },
   "outputs": [
    {
     "data": {
      "text/plain": [
       "Parameter containing:\n",
       "tensor([[ 0.6564, -0.0395]], requires_grad=True)"
      ]
     },
     "execution_count": 5,
     "metadata": {
      "tags": []
     },
     "output_type": "execute_result"
    }
   ],
   "source": [
    "Parameter(torch.randn(1, 2))"
   ]
  },
  {
   "cell_type": "code",
   "execution_count": null,
   "metadata": {
    "colab": {
     "base_uri": "https://localhost:8080/"
    },
    "id": "idOBRE1Yvr1A",
    "outputId": "27ff7804-9b99-4a2e-88fc-00d86d38bff5"
   },
   "outputs": [
    {
     "data": {
      "text/plain": [
       "Parameter containing:\n",
       "tensor([-2.5451e+19], requires_grad=True)"
      ]
     },
     "execution_count": 6,
     "metadata": {
      "tags": []
     },
     "output_type": "execute_result"
    }
   ],
   "source": [
    "Parameter(torch.empty(1))"
   ]
  },
  {
   "cell_type": "markdown",
   "metadata": {
    "id": "aWdyORTW4l_i"
   },
   "source": [
    "### Датасет\n",
    "\n",
    "Давайте сгенерируем датасет и посмотрим на него!"
   ]
  },
  {
   "cell_type": "code",
   "execution_count": null,
   "metadata": {
    "id": "lo3nwjSJFUP7"
   },
   "outputs": [],
   "source": [
    "X, y = make_moons(n_samples=10000, random_state=42, noise=0.1)"
   ]
  },
  {
   "cell_type": "code",
   "execution_count": null,
   "metadata": {
    "id": "Xa9UCvRyJFqL"
   },
   "outputs": [],
   "source": [
    "plt.figure(figsize=(16, 10))\n",
    "plt.title(\"Dataset\")\n",
    "plt.scatter(X[:, 0], X[:, 1], c=y, cmap=\"viridis\")\n",
    "plt.show()"
   ]
  },
  {
   "cell_type": "markdown",
   "metadata": {
    "id": "r6BcB14d4wGm"
   },
   "source": [
    "Сделаем train/test split"
   ]
  },
  {
   "cell_type": "code",
   "execution_count": null,
   "metadata": {
    "id": "fv5MyTiCHjRh"
   },
   "outputs": [],
   "source": [
    "X_train, X_val, y_train, y_val = train_test_split(X, y, random_state=42)"
   ]
  },
  {
   "cell_type": "markdown",
   "metadata": {
    "id": "iTeLXQg240cQ"
   },
   "source": [
    "### Загрузка данных\n",
    "\n",
    "В PyTorch загрузка данных как правило происходит налету (иногда датасеты не помещаются в оперативную память). Для этого используются две сущности `Dataset` и `DataLoader`.\n",
    "\n",
    "1.   `Dataset` загружает каждый объект по отдельности.\n",
    "\n",
    "2.   `DataLoader` группирует объекты из `Dataset` в батчи.\n",
    "\n",
    "Так как наш датасет достаточно маленький мы будем использовать `TensorDataset`. Все, что нам нужно, это перевести из массива numpy в тензор с типом `torch.float32`.\n"
   ]
  },
  {
   "cell_type": "code",
   "execution_count": null,
   "metadata": {
    "id": "msj3bXOeIcN-"
   },
   "outputs": [],
   "source": [
    "X_train_t =  torch.tensor(X_train, dtype=torch.float32)\n",
    "y_train_t =  torch.tensor(y_train, dtype=torch.float32)\n",
    "X_val_t =  torch.tensor(X_val, dtype=torch.float32)\n",
    "y_val_t =  torch.tensor(y_val, dtype=torch.float32)"
   ]
  },
  {
   "cell_type": "markdown",
   "metadata": {
    "id": "gqwGMsE_7WBy"
   },
   "source": [
    "Создаем `Dataset` и `DataLoader`. "
   ]
  },
  {
   "cell_type": "code",
   "execution_count": null,
   "metadata": {
    "id": "ERvubjbMIu2J"
   },
   "outputs": [],
   "source": [
    "train_dataset = TensorDataset(X_train_t, y_train_t)\n",
    "val_dataset = TensorDataset(X_val_t, y_val_t)\n",
    "train_dataloader = DataLoader(train_dataset, batch_size=128)\n",
    "val_dataloader = DataLoader(val_dataset, batch_size=128)"
   ]
  },
  {
   "cell_type": "code",
   "execution_count": null,
   "metadata": {
    "id": "jgIgTLHSM-10"
   },
   "outputs": [],
   "source": [
    "utils.set_global_seed(42)\n",
    "linear_regression = LinearRegression(2, 1)\n",
    "loss_function = nn.BCEWithLogitsLoss()\n",
    "optimizer = torch.optim.SGD(linear_regression.parameters(), lr=0.05)"
   ]
  },
  {
   "cell_type": "code",
   "execution_count": null,
   "metadata": {
    "id": "E1ZtI4LTwxoG"
   },
   "outputs": [],
   "source": [
    "def count_parameters(model): \n",
    "    return sum(p.numel() for p in model.parameters() if p.requires_grad)"
   ]
  },
  {
   "cell_type": "code",
   "execution_count": null,
   "metadata": {
    "colab": {
     "base_uri": "https://localhost:8080/"
    },
    "id": "jw1kb7xu0Pcj",
    "outputId": "9432a190-2969-4ce1-a676-a7a8a5afe3a5"
   },
   "outputs": [
    {
     "name": "stdout",
     "output_type": "stream",
     "text": [
      "Collecting torchinfo\n",
      "  Downloading https://files.pythonhosted.org/packages/4f/b1/4b310bd715885636e7174b4b52817202fff0ae3609ca2bfb17f28e33e0a1/torchinfo-0.0.8-py3-none-any.whl\n",
      "Installing collected packages: torchinfo\n",
      "Successfully installed torchinfo-0.0.8\n"
     ]
    }
   ],
   "source": [
    "!pip install torchinfo"
   ]
  },
  {
   "cell_type": "code",
   "execution_count": null,
   "metadata": {
    "colab": {
     "base_uri": "https://localhost:8080/"
    },
    "id": "yXjwhUGzx3Jv",
    "outputId": "b7ab7b95-a797-4c25-ee3f-ebdfbc0b42a0"
   },
   "outputs": [
    {
     "name": "stdout",
     "output_type": "stream",
     "text": [
      "Обучаемых параметров у получившейся модели: 3\n"
     ]
    }
   ],
   "source": [
    "from torchinfo import summary\n",
    "\n",
    "model_info = summary(linear_regression)\n",
    "\n",
    "print('Обучаемых параметров у получившейся модели:', model_info.trainable_params)"
   ]
  },
  {
   "cell_type": "markdown",
   "metadata": {
    "id": "-VCVmee16yOl"
   },
   "source": [
    "**Вопрос 1** Сколько обучаемых параметров у получившейся модели?\n",
    "\n",
    "**Ответ:**"
   ]
  },
  {
   "cell_type": "markdown",
   "metadata": {
    "id": "4NV-JrNCoP8E"
   },
   "source": [
    "### Train loop\n",
    "\n",
    "Вот псевдокод, который поможет вам разобраться в том, что происходит во время обучения\n",
    "\n",
    "```python\n",
    "for epoch in range(max_epochs):  # <----------- итерируемся по датасету несколько раз\n",
    "    for x_batch, y_batch in dataset:  # <------ итерируемся по датасету. Так как мы используем SGD а не GD, то берем батчи заданного размера\n",
    "        optimizer.zero_grad()  # <------------- обуляем градиенты модели\n",
    "        outp = model(x_batch)  # <------------- получаем \"логиты\" из модели\n",
    "        loss = loss_func(outp, y_batch)  # <--- считаем \"лосс\" для логистической регрессии\n",
    "        loss.backward()  # <------------------- считаем градиенты\n",
    "        optimizer.step()  # <------------------ делаем шаг градиентного спуска\n",
    "        if convergence:  # <------------------- в случае сходимости выходим из цикла\n",
    "            break\n",
    "```\n",
    "\n",
    "В коде ниже добавлено логирование `accuracy` и `loss`."
   ]
  },
  {
   "cell_type": "code",
   "execution_count": null,
   "metadata": {
    "id": "dDfKm7yY1nkp"
   },
   "outputs": [],
   "source": []
  },
  {
   "cell_type": "code",
   "execution_count": null,
   "metadata": {
    "colab": {
     "base_uri": "https://localhost:8080/"
    },
    "id": "gVhlIfK0L93s",
    "outputId": "f3faf05e-9b7a-4409-d952-9bc2f2a33263"
   },
   "outputs": [
    {
     "name": "stdout",
     "output_type": "stream",
     "text": [
      "Iteration: 0\n",
      "Batch accuracy: 0.640625\n",
      "Iteration: 7500\n",
      "Batch accuracy: 0.75\n",
      "Iteration: 15000\n",
      "Batch accuracy: 0.78125\n",
      "Iteration: 22500\n",
      "Batch accuracy: 0.796875\n",
      "Iteration: 30000\n",
      "Batch accuracy: 0.796875\n",
      "Iteration: 37500\n",
      "Batch accuracy: 0.8046875\n",
      "Iteration: 45000\n",
      "Batch accuracy: 0.8125\n",
      "Iteration: 52500\n",
      "Batch accuracy: 0.8125\n",
      "Iteration: 60000\n",
      "Batch accuracy: 0.8203125\n",
      "Iteration: 67500\n",
      "Batch accuracy: 0.8203125\n",
      "Iteration: 75000\n",
      "Batch accuracy: 0.828125\n",
      "Iteration: 82500\n",
      "Batch accuracy: 0.828125\n",
      "Iteration: 90000\n",
      "Batch accuracy: 0.8359375\n",
      "\n",
      "Iteration: 90051.Convergence. Stopping iterations.\n"
     ]
    }
   ],
   "source": [
    "tol = 1e-3\n",
    "losses = []\n",
    "max_epochs = 100\n",
    "prev_weights = torch.zeros_like(linear_regression.weights)\n",
    "criterion = torch.nn.MSELoss()\n",
    "stop_it = False\n",
    "for epoch in range(max_epochs):\n",
    "    utils.set_global_seed(42 + epoch)\n",
    "    for it, (X_batch, y_batch) in enumerate(train_dataloader):\n",
    "        optimizer.zero_grad()\n",
    "        outp =  linear_regression(X_batch)\n",
    "        loss =  loss_function(outp[:, 0], y_batch)\n",
    "        loss.backward()\n",
    "        losses.append(loss.detach().flatten()[0])\n",
    "        optimizer.step()\n",
    "        probabilities =  outp[:, 0]\n",
    "        preds = (probabilities>0.5).type(torch.long)\n",
    "        batch_acc = (preds.flatten() == y_batch).type(torch.float32).sum()/y_batch.size(0)\n",
    "        if it % 500000 == 0:\n",
    "            print(f\"Iteration: {it + epoch*len(train_dataset)}\\nBatch accuracy: {batch_acc}\")\n",
    "        current_weights = linear_regression.weights.detach().clone()\n",
    "        if (prev_weights - current_weights).abs().max() < tol:\n",
    "            print(f\"\\nIteration: {it + epoch*len(train_dataset)}.Convergence. Stopping iterations.\")\n",
    "            stop_it = True\n",
    "            break\n",
    "        prev_weights = current_weights\n",
    "    if stop_it:\n",
    "        break"
   ]
  },
  {
   "cell_type": "markdown",
   "metadata": {
    "id": "QBJ64-MT63_r"
   },
   "source": [
    "**Вопрос 2**\n",
    "\n",
    "Сколько итераций потребовалось, чтобы алгоритм сошелся?\n",
    "\n",
    "**Ответ:**"
   ]
  },
  {
   "cell_type": "markdown",
   "metadata": {
    "id": "As-pgFbzFmiI"
   },
   "source": [
    "### Визуализируем результаты"
   ]
  },
  {
   "cell_type": "code",
   "execution_count": null,
   "metadata": {
    "id": "HzPRB8j4b1IF"
   },
   "outputs": [],
   "source": [
    "plt.figure(figsize=(12, 8))\n",
    "plt.plot(range(len(losses)), losses)\n",
    "plt.xlabel(\"Iteration\")\n",
    "plt.ylabel(\"Loss\")\n",
    "plt.show()"
   ]
  },
  {
   "cell_type": "code",
   "execution_count": null,
   "metadata": {
    "id": "9cGgcBMNX2WP"
   },
   "outputs": [],
   "source": [
    "import numpy as np\n",
    "\n",
    "sns.set(style=\"white\")\n",
    "\n",
    "xx, yy = np.mgrid[-1.5:2.5:.01, -1.:1.5:.01]\n",
    "grid = np.c_[xx.ravel(), yy.ravel()]\n",
    "batch = torch.from_numpy(grid).type(torch.float32)\n",
    "with torch.no_grad():\n",
    "    probs = torch.sigmoid(linear_regression(batch).reshape(xx.shape))\n",
    "    probs = probs.numpy().reshape(xx.shape)\n",
    "\n",
    "f, ax = plt.subplots(figsize=(16, 10))\n",
    "ax.set_title(\"Decision boundary\", fontsize=14)\n",
    "contour = ax.contourf(xx, yy, probs, 25, cmap=\"RdBu\",\n",
    "                      vmin=0, vmax=1)\n",
    "ax_c = f.colorbar(contour)\n",
    "ax_c.set_label(\"$P(y = 1)$\")\n",
    "ax_c.set_ticks([0, .25, .5, .75, 1])\n",
    "\n",
    "ax.scatter(X[100:,0], X[100:, 1], c=y[100:], s=50,\n",
    "           cmap=\"RdBu\", vmin=-.2, vmax=1.2,\n",
    "           edgecolor=\"white\", linewidth=1)\n",
    "\n",
    "ax.set(xlabel=\"$X_1$\", ylabel=\"$X_2$\")\n",
    "plt.show()"
   ]
  },
  {
   "cell_type": "code",
   "execution_count": null,
   "metadata": {
    "id": "FP_imFpe7Ac4"
   },
   "outputs": [],
   "source": [
    "@torch.no_grad()\n",
    "def predict(dataloader, model):\n",
    "    model.eval()\n",
    "    predictions = np.array([])\n",
    "    for x_batch, _ in dataloader:\n",
    "        outp = model(x_batch)\n",
    "        probs = torch.sigmoid(outp)\n",
    "        preds = (probs > 0.5).type(torch.long)\n",
    "        predictions = np.hstack((predictions, preds.numpy().flatten()))\n",
    "    predictions = predictions\n",
    "    return predictions.flatten()"
   ]
  },
  {
   "cell_type": "code",
   "execution_count": null,
   "metadata": {
    "colab": {
     "base_uri": "https://localhost:8080/"
    },
    "id": "b59ZNIeZ6mA_",
    "outputId": "63100d0e-783b-457c-b304-b085cdb1d1a1"
   },
   "outputs": [
    {
     "data": {
      "text/plain": [
       "array([1., 0., 0., ..., 1., 1., 0.])"
      ]
     },
     "execution_count": 20,
     "metadata": {
      "tags": []
     },
     "output_type": "execute_result"
    }
   ],
   "source": [
    "predict(train_dataloader, linear_regression)"
   ]
  },
  {
   "cell_type": "code",
   "execution_count": null,
   "metadata": {
    "colab": {
     "base_uri": "https://localhost:8080/"
    },
    "id": "sD83X1If63h7",
    "outputId": "0027e0cf-cbdc-48d2-b8df-beb2f040c43e"
   },
   "outputs": [
    {
     "data": {
      "text/plain": [
       "tensor([1., 1., 0.,  ..., 1., 1., 0.])"
      ]
     },
     "execution_count": 21,
     "metadata": {
      "tags": []
     },
     "output_type": "execute_result"
    }
   ],
   "source": [
    "y_train_t"
   ]
  },
  {
   "cell_type": "code",
   "execution_count": null,
   "metadata": {
    "id": "v0vaJdAS7Dfq"
   },
   "outputs": [],
   "source": [
    "from sklearn.metrics import accuracy_score\n",
    "\n",
    "# YOUR CODE GOES HERE"
   ]
  },
  {
   "cell_type": "code",
   "execution_count": null,
   "metadata": {
    "colab": {
     "base_uri": "https://localhost:8080/"
    },
    "id": "VPyssQ8e65Bb",
    "outputId": "52a854f0-a832-4d80-bb01-1cb5fe1fd6c6"
   },
   "outputs": [
    {
     "data": {
      "text/plain": [
       "0.8533333333333334"
      ]
     },
     "execution_count": 23,
     "metadata": {
      "tags": []
     },
     "output_type": "execute_result"
    }
   ],
   "source": [
    "accuracy_score(y_train_t, predict(train_dataloader, linear_regression))"
   ]
  },
  {
   "cell_type": "code",
   "execution_count": null,
   "metadata": {
    "colab": {
     "base_uri": "https://localhost:8080/"
    },
    "id": "XjnLEhAT7Iuh",
    "outputId": "fa26ffea-93ab-48d3-f762-b413e50c96e4"
   },
   "outputs": [
    {
     "data": {
      "text/plain": [
       "0.862"
      ]
     },
     "execution_count": 24,
     "metadata": {
      "tags": []
     },
     "output_type": "execute_result"
    }
   ],
   "source": [
    "accuracy_score(y_val_t, predict(val_dataloader, linear_regression))"
   ]
  },
  {
   "cell_type": "markdown",
   "metadata": {
    "id": "s7TXs3kk7Kmq"
   },
   "source": [
    "**Вопрос 3**\n",
    "\n",
    "Какое `accuracy` получается после обучения?\n",
    "\n",
    "**Ответ:** "
   ]
  },
  {
   "cell_type": "markdown",
   "metadata": {
    "id": "cyivMZBZC0Ha"
   },
   "source": [
    "### MNIST"
   ]
  },
  {
   "cell_type": "code",
   "execution_count": null,
   "metadata": {
    "colab": {
     "base_uri": "https://localhost:8080/",
     "height": 369,
     "referenced_widgets": [
      "5c8bbd1282bd42bc984c5248b3dca532",
      "87178e8193b542b1915fb693ace65907",
      "206aa6b6296c4018a74e090ba6c98216",
      "d21c50c865a545ecad0b77199998971b",
      "f6a40ded3c964a3fa31e612c3af948f1",
      "9403220721994d76923b4cd3018b8d5b",
      "38e0f2cf903c4cdfb4022054a93a3644",
      "ee3b90d5494e43029faaedd32a754deb",
      "22831730fc924b428761a639bcd0fc0e",
      "b55f413c8e7d40a3baa7c860ca364a77",
      "8f21f0ec039242a3a910f4b250ed182a",
      "93f4efefb0eb48db9e6cf0961937342b",
      "6bc550909c9a48aabc66cae4ef05a411",
      "6c469b4bd0e74ff5b3a8ae821f7720f4",
      "aec9de69edb842a28664ba52d406dfb1",
      "b325cfa160794dceb27501cf704cf4ae",
      "4450cb359a70461db58398437e27e3b5",
      "f0b8c0a05d72485ea5c8435dddaf14dc",
      "7a44295ab2864fd9b2876e96494346e3",
      "41490627fe6c4c20b0fff4da9b40c26e",
      "2d6984485df44d66915dd5833d19c93e",
      "65bd2fc7f9504e879d75d0f24a67f4ce",
      "195712c734ea4b03bb4d2ddc8ee62aee",
      "5d9632e3584c46d891127da8f1b63ee0",
      "7cd2a535c6df428aa0548c72f9f56f8b",
      "f134f2e6e56c4af5b1b500f97a599298",
      "6314141c78964a70afa30b392d1177ec",
      "e02c7cb4612145d69352fb2fd6b46901",
      "1fb1311087cf46e89a18c366c9c0d0f1",
      "33dd770efd4a479bb99a66990b02a034",
      "2ce8569c007043abb35bbc8eb83aea9a",
      "96f0dd7d73c34cbd849da08e4138e906"
     ]
    },
    "id": "LuUE2wihC4GW",
    "outputId": "1acae4d9-6089-426f-eb08-626a26c40ddb"
   },
   "outputs": [
    {
     "name": "stdout",
     "output_type": "stream",
     "text": [
      "Downloading https://storage.googleapis.com/cvdf-datasets/mnist/train-images-idx3-ubyte.gz to /content/MNIST/raw/train-images-idx3-ubyte.gz\n"
     ]
    },
    {
     "data": {
      "application/vnd.jupyter.widget-view+json": {
       "model_id": "5c8bbd1282bd42bc984c5248b3dca532",
       "version_major": 2,
       "version_minor": 0
      },
      "text/plain": [
       "HBox(children=(FloatProgress(value=1.0, bar_style='info', max=1.0), HTML(value='')))"
      ]
     },
     "metadata": {
      "tags": []
     },
     "output_type": "display_data"
    },
    {
     "name": "stdout",
     "output_type": "stream",
     "text": [
      "Extracting /content/MNIST/raw/train-images-idx3-ubyte.gz to /content/MNIST/raw\n",
      "Downloading https://storage.googleapis.com/cvdf-datasets/mnist/train-labels-idx1-ubyte.gz to /content/MNIST/raw/train-labels-idx1-ubyte.gz\n"
     ]
    },
    {
     "data": {
      "application/vnd.jupyter.widget-view+json": {
       "model_id": "22831730fc924b428761a639bcd0fc0e",
       "version_major": 2,
       "version_minor": 0
      },
      "text/plain": [
       "HBox(children=(FloatProgress(value=1.0, bar_style='info', max=1.0), HTML(value='')))"
      ]
     },
     "metadata": {
      "tags": []
     },
     "output_type": "display_data"
    },
    {
     "name": "stdout",
     "output_type": "stream",
     "text": [
      "Extracting /content/MNIST/raw/train-labels-idx1-ubyte.gz to /content/MNIST/raw\n",
      "Downloading https://storage.googleapis.com/cvdf-datasets/mnist/t10k-images-idx3-ubyte.gz to /content/MNIST/raw/t10k-images-idx3-ubyte.gz\n"
     ]
    },
    {
     "data": {
      "application/vnd.jupyter.widget-view+json": {
       "model_id": "4450cb359a70461db58398437e27e3b5",
       "version_major": 2,
       "version_minor": 0
      },
      "text/plain": [
       "HBox(children=(FloatProgress(value=1.0, bar_style='info', max=1.0), HTML(value='')))"
      ]
     },
     "metadata": {
      "tags": []
     },
     "output_type": "display_data"
    },
    {
     "name": "stdout",
     "output_type": "stream",
     "text": [
      "Extracting /content/MNIST/raw/t10k-images-idx3-ubyte.gz to /content/MNIST/raw\n",
      "Downloading https://storage.googleapis.com/cvdf-datasets/mnist/t10k-labels-idx1-ubyte.gz to /content/MNIST/raw/t10k-labels-idx1-ubyte.gz\n"
     ]
    },
    {
     "data": {
      "application/vnd.jupyter.widget-view+json": {
       "model_id": "7cd2a535c6df428aa0548c72f9f56f8b",
       "version_major": 2,
       "version_minor": 0
      },
      "text/plain": [
       "HBox(children=(FloatProgress(value=1.0, bar_style='info', max=1.0), HTML(value='')))"
      ]
     },
     "metadata": {
      "tags": []
     },
     "output_type": "display_data"
    },
    {
     "name": "stdout",
     "output_type": "stream",
     "text": [
      "Extracting /content/MNIST/raw/t10k-labels-idx1-ubyte.gz to /content/MNIST/raw\n",
      "Processing...\n",
      "Done!\n"
     ]
    },
    {
     "name": "stderr",
     "output_type": "stream",
     "text": [
      "/usr/local/lib/python3.7/dist-packages/catalyst/contrib/datasets/functional.py:187: UserWarning: The given NumPy array is not writeable, and PyTorch does not support non-writeable tensors. This means you can write to the underlying (supposedly non-writeable) NumPy array using the tensor. You may want to copy the array to protect its data or make it writeable before converting it to a tensor. This type of warning will be suppressed for the rest of this program. (Triggered internally at  /pytorch/torch/csrc/utils/tensor_numpy.cpp:143.)\n",
      "  return torch.from_numpy(parsed.astype(m[2], copy=False)).view(*s)\n"
     ]
    }
   ],
   "source": [
    "import os\n",
    "from catalyst.contrib.datasets import MNIST\n",
    "\n",
    "train_dataset = MNIST(root=os.getcwd(), train=True, download=True)\n",
    "val_dataset = MNIST(root=os.getcwd(), train=False)\n",
    "train_dataloader =  torch.utils.data.DataLoader(train_dataset, batch_size=4,\n",
    "                                          shuffle=True, num_workers=2)\n",
    "valid_dataloader =  torch.utils.data.DataLoader(val_dataset, batch_size=4,\n",
    "                                         shuffle=False, num_workers=2)"
   ]
  },
  {
   "cell_type": "code",
   "execution_count": null,
   "metadata": {
    "id": "Zvcy_wYFh1Lv"
   },
   "outputs": [],
   "source": [
    "class Identical(nn.Module):\n",
    "    def forward(self, x):\n",
    "        return x\n",
    "\n",
    "class Flatten(nn.Module):\n",
    "    def forward(self, x):\n",
    "        batch_size = x.size(0)\n",
    "        return x.view(batch_size, -1)"
   ]
  },
  {
   "cell_type": "code",
   "execution_count": null,
   "metadata": {
    "id": "ulxWHddEiQCr"
   },
   "outputs": [],
   "source": [
    "activation = nn.ReLU\n",
    "\n",
    "model = nn.Sequential(\n",
    "    Flatten(),\n",
    "    nn.Linear(28*28, 128),\n",
    "    activation(),\n",
    "    nn.Linear(128, 128),\n",
    "    activation(),\n",
    "    nn.Linear(128, 10)\n",
    ")"
   ]
  },
  {
   "cell_type": "code",
   "execution_count": null,
   "metadata": {
    "id": "FIl6z-AfivcK"
   },
   "outputs": [],
   "source": [
    "criterion = nn.CrossEntropyLoss()\n",
    "optimizer = torch.optim.Adam(model.parameters())\n",
    "\n",
    "loaders = {\"train\": train_dataloader, \"valid\": valid_dataloader}"
   ]
  },
  {
   "cell_type": "code",
   "execution_count": null,
   "metadata": {
    "id": "whvqhLjYmpKc"
   },
   "outputs": [],
   "source": [
    "device = \"cuda\" if torch.cuda.is_available() else \"cpu\""
   ]
  },
  {
   "cell_type": "markdown",
   "metadata": {
    "id": "4Xl_HawRGRAe"
   },
   "source": [
    "### Train loop (seriously)\n",
    "\n",
    "Давайте разберемся с кодом ниже, который подойдет для 90% задач в будущем.\n",
    "\n",
    "\n",
    "```python\n",
    "for epoch in range(max_epochs):  # <--------------- итерируемся по датасету несколько раз\n",
    "    for k, dataloader in loaders.items():  # <----- несколько dataloader для train / valid / test\n",
    "        for x_batch, y_batch in dataloader:  # <--- итерируемся по датасету. Так как мы используем SGD а не GD, то берем батчи заданного размера\n",
    "            if k == \"train\":\n",
    "                model.train()  # <------------------ переводим модель в режим train\n",
    "                optimizer.zero_grad()  # <--------- обнуляем градиенты модели\n",
    "                outp = model(x_batch)\n",
    "                loss = criterion(outp, y_batch) # <-считаем \"лосс\" для логистической регрессии\n",
    "                loss.backward()  # <--------------- считаем градиенты\n",
    "                optimizer.step()  # <-------------- делаем шаг градиентного спуска\n",
    "            else:  # <----------------------------- test/eval\n",
    "                model.eval()  # <------------------ переводим модель в режим eval\n",
    "                with torch.no_grad():  # <--------- НЕ считаем градиенты\n",
    "                    outp = model(x_batch)  # <------------- получаем \"логиты\" из модели\n",
    "            count_metrics(outp, y_batch)  # <-------------- считаем метрики\n",
    "```"
   ]
  },
  {
   "cell_type": "code",
   "execution_count": null,
   "metadata": {
    "id": "3Tmo1lsHjBE6"
   },
   "outputs": [],
   "source": [
    "max_epochs = 10\n",
    "accuracy = {\"train\": [], \"valid\": []}\n",
    "for epoch in range(max_epochs):\n",
    "    epoch_correct = 0\n",
    "    epoch_all = 0\n",
    "    utils.set_global_seed(42 + epoch)\n",
    "    for k, dataloader in loaders.items():\n",
    "        for x_batch, y_batch in dataloader:\n",
    "            if k == \"train\":\n",
    "                model.train()\n",
    "                optimizer.zero_grad()\n",
    "                outp = model(x_batch.type(torch.float32).unsqueeze(1))\n",
    "\n",
    "            else:\n",
    "                model.eval()\n",
    "                with torch.no_grad():\n",
    "                    outp = model(x_batch.type(torch.float32).unsqueeze(1))\n",
    "            preds = outp.argmax(-1)\n",
    "            correct =  (preds ==  y_batch).sum()\n",
    "            all =  len(y_batch)\n",
    "            epoch_correct += correct.item()\n",
    "            epoch_all += all\n",
    "            if k == \"train\":\n",
    "                loss = criterion(outp, y_batch)\n",
    "                loss.backward()\n",
    "                optimizer.step()\n",
    "        if k == \"train\":\n",
    "            print(f\"Epoch: {epoch+1}\")\n",
    "        print(f\"Loader: {k}. Accuracy: {epoch_correct/epoch_all}\")\n",
    "        accuracy[k].append(epoch_correct/epoch_all)\n"
   ]
  },
  {
   "cell_type": "markdown",
   "metadata": {
    "id": "fFRxO1-FK9U9"
   },
   "source": [
    "Попробуйте разные функции активации. Позапускайте ячейки сверху несколько раз изменив функции активации. После каждого обучения запустите одну из ячеек снизу. Таким образом мы получим график accuracy/epoch для каждой функции активации."
   ]
  },
  {
   "cell_type": "code",
   "execution_count": null,
   "metadata": {
    "id": "a1iXow0Tqsri"
   },
   "outputs": [],
   "source": [
    "plain_accuracy = accuracy[\"valid\"]"
   ]
  },
  {
   "cell_type": "code",
   "execution_count": null,
   "metadata": {
    "id": "SZOlZ8oSqA_b"
   },
   "outputs": [],
   "source": [
    "relu_accuracy = accuracy[\"valid\"]"
   ]
  },
  {
   "cell_type": "code",
   "execution_count": null,
   "metadata": {
    "id": "s4RxYNHWrVD_"
   },
   "outputs": [],
   "source": [
    "leaky_relu_accuracy = accuracy[\"valid\"]"
   ]
  },
  {
   "cell_type": "code",
   "execution_count": null,
   "metadata": {
    "id": "SezseDhEqhm2"
   },
   "outputs": [],
   "source": [
    "elu_accuracy = accuracy[\"valid\"]"
   ]
  },
  {
   "cell_type": "markdown",
   "metadata": {
    "id": "FK07mms3FwNd"
   },
   "source": [
    "### Accuracy"
   ]
  },
  {
   "cell_type": "code",
   "execution_count": null,
   "metadata": {
    "id": "cvKclpM5r-P3"
   },
   "outputs": [],
   "source": [
    "sns.set(style=\"darkgrid\", font_scale=1.4)\n",
    "\n",
    "plt.figure(figsize=(16, 10))\n",
    "plt.title(\"Valid accuracy\")\n",
    "plt.plot(range(max_epochs), plain_accuracy, label=\"No activation\", linewidth=2)\n",
    "plt.plot(range(max_epochs), relu_accuracy, label=\"ReLU activation\", linewidth=2)\n",
    "plt.plot(range(max_epochs), leaky_relu_accuracy, label=\"LeakyReLU activation\", linewidth=2)\n",
    "plt.plot(range(max_epochs), elu_accuracy, label=\"ELU activation\", linewidth=2)\n",
    "plt.legend()\n",
    "plt.xlabel(\"Epoch\")\n",
    "plt.show()"
   ]
  },
  {
   "cell_type": "code",
   "execution_count": null,
   "metadata": {
    "id": "4R8L1JCts_qz"
   },
   "outputs": [],
   "source": [
    "plt.figure(figsize=(16, 10))\n",
    "plt.title(\"Valid accuracy\")\n",
    "plt.plot(range(max_epochs), relu_accuracy, label=\"ReLU activation\", linewidth=2)\n",
    "plt.plot(range(max_epochs), leaky_relu_accuracy, label=\"LeakyReLU activation\", linewidth=2)\n",
    "plt.plot(range(max_epochs), elu_accuracy, label=\"ELU activation\", linewidth=2)\n",
    "plt.legend()\n",
    "plt.xlabel(\"Epoch\")\n",
    "plt.show()"
   ]
  },
  {
   "cell_type": "markdown",
   "metadata": {
    "id": "bl8qYSSa7c-r"
   },
   "source": [
    "**Вопрос 4** Какая из активаций показала наивысший `accuracy`?\n",
    "\n",
    "**Ответ:**"
   ]
  },
  {
   "cell_type": "markdown",
   "metadata": {
    "id": "ebq7icV8CbrU"
   },
   "source": [
    "## Сверточные слои"
   ]
  },
  {
   "cell_type": "markdown",
   "metadata": {
    "id": "9bXylTAuCqu-"
   },
   "source": [
    "### Ядра"
   ]
  },
  {
   "cell_type": "code",
   "execution_count": null,
   "metadata": {
    "colab": {
     "base_uri": "https://localhost:8080/"
    },
    "id": "G7P75exc0acy",
    "outputId": "d0eda66c-8b21-45e1-c495-e6e307ea4de5"
   },
   "outputs": [
    {
     "name": "stdout",
     "output_type": "stream",
     "text": [
      "--2021-03-31 17:11:52--  https://img.the-village.kz/the-village.com.kz/post-cover/5x5-I6oiwjmq79dMCZMEbA-default.jpg\n",
      "Resolving img.the-village.kz (img.the-village.kz)... 144.76.208.75\n",
      "Connecting to img.the-village.kz (img.the-village.kz)|144.76.208.75|:443... connected.\n",
      "HTTP request sent, awaiting response... 301 Moved Permanently\n",
      "Location: https://img.the-village-kz.com/the-village.com.kz/post-cover/5x5-I6oiwjmq79dMCZMEbA-default.jpg [following]\n",
      "--2021-03-31 17:11:53--  https://img.the-village-kz.com/the-village.com.kz/post-cover/5x5-I6oiwjmq79dMCZMEbA-default.jpg\n",
      "Resolving img.the-village-kz.com (img.the-village-kz.com)... 144.76.208.75\n",
      "Connecting to img.the-village-kz.com (img.the-village-kz.com)|144.76.208.75|:443... connected.\n",
      "HTTP request sent, awaiting response... 200 OK\n",
      "Length: 49337 (48K) [image/jpeg]\n",
      "Saving to: ‘sample_photo.jpg’\n",
      "\n",
      "sample_photo.jpg    100%[===================>]  48.18K   239KB/s    in 0.2s    \n",
      "\n",
      "2021-03-31 17:11:54 (239 KB/s) - ‘sample_photo.jpg’ saved [49337/49337]\n",
      "\n"
     ]
    }
   ],
   "source": [
    "!wget https://img.the-village.kz/the-village.com.kz/post-cover/5x5-I6oiwjmq79dMCZMEbA-default.jpg -O sample_photo.jpg"
   ]
  },
  {
   "cell_type": "code",
   "execution_count": null,
   "metadata": {
    "id": "88YOXq0CCyUM"
   },
   "outputs": [],
   "source": [
    "import cv2\n",
    "from PIL import Image\n",
    "sns.set(style=\"white\")\n",
    "img = cv2.imread(\"sample_photo.jpg\")\n",
    "RGB_img = cv2.cvtColor(img, cv2.COLOR_BGR2RGB)\n",
    "plt.figure(figsize=(12, 8))\n",
    "plt.imshow(RGB_img)\n",
    "plt.show()"
   ]
  },
  {
   "cell_type": "markdown",
   "metadata": {
    "id": "Iu9oxwbL-6xE"
   },
   "source": [
    "Попробуйте посмотреть как различные свертки влияют на фото. Например, попробуйте \n",
    "A)\n",
    "```\n",
    "[0, 0, 0],\n",
    "[0, 1, 0],\n",
    "[0, 0, 0]\n",
    "```\n",
    "Б)\n",
    "```\n",
    "[0, 1, 0],\n",
    "[0, -2, 0],\n",
    "[0, 1, 0]\n",
    "```\n",
    "В)\n",
    "```\n",
    "[0, 0, 0],\n",
    "[1, -2, 1],\n",
    "[0, 0, 0]\n",
    "```\n",
    "Г)\n",
    "```\n",
    "[0, 1, 0],\n",
    "[1, -4, 1],\n",
    "[0, 1, 0]\n",
    "```\n",
    "Д)\n",
    "```\n",
    "[0, -1, 0],\n",
    "[-1, 5, -1],\n",
    "[0, -1, 0]\n",
    "```\n",
    "Е)\n",
    "```\n",
    "[0.0625, 0.125, 0.0625],\n",
    "[0.125, 0.25, 0.125],\n",
    "[0.0625, 0.125, 0.0625]\n",
    "```\n",
    "\n",
    "Не стесняйтесь пробовать свои варианты!"
   ]
  },
  {
   "cell_type": "code",
   "execution_count": null,
   "metadata": {
    "id": "-0WNZro01pZE"
   },
   "outputs": [],
   "source": [
    "img_t = torch.from_numpy(RGB_img).type(torch.float32).unsqueeze(0)\n",
    "kernel = torch.tensor([\n",
    "    [0, 1, 0],\n",
    "    [0, -2, 0],\n",
    "    [0, 1, 0]\n",
    "]).reshape(1, 1, 3, 3).type(torch.float32)\n",
    "\n",
    "kernel = kernel.repeat(3, 3, 1, 1)\n",
    "img_t = img_t.permute(0, 3, 1, 2)  # [BS, H, W, C] -> [BS, C, H, W]\n",
    "img_t = nn.ReflectionPad2d(1)(img_t)  # Pad Image for same output size\n",
    "\n",
    "result = F.conv2d(img_t, kernel)[0]  #"
   ]
  },
  {
   "cell_type": "code",
   "execution_count": null,
   "metadata": {
    "colab": {
     "base_uri": "https://localhost:8080/"
    },
    "id": "C-SAfc7x28ko",
    "outputId": "a14e3ac9-e9c7-43df-b625-8f28e4b76fa0"
   },
   "outputs": [
    {
     "name": "stderr",
     "output_type": "stream",
     "text": [
      "Clipping input data to the valid range for imshow with RGB data ([0..1] for floats or [0..255] for integers).\n"
     ]
    }
   ],
   "source": [
    "plt.figure(figsize=(12, 8))\n",
    "result_np = result.permute(1, 2, 0).numpy() / 256 / 3\n",
    "\n",
    "plt.imshow(result_np)\n",
    "plt.show()"
   ]
  },
  {
   "cell_type": "markdown",
   "metadata": {
    "id": "oDapwqTXGC4e"
   },
   "source": [
    "**Вопрос 5** Как вы считаете, как можно описать действия ядер, приведенных выше? Сопоставьте для каждой буквы число.\n",
    "\n",
    "1) Размытие\n",
    "\n",
    "2) Увеличение резкости\n",
    "\n",
    "3) Тождественное преобразование\n",
    "\n",
    "4) Выделение вертикальных границ\n",
    "\n",
    "5) Выделение горизонтальных границ\n",
    "\n",
    "6) Выделение границ\n",
    "\n",
    "**Ответ:**"
   ]
  },
  {
   "cell_type": "markdown",
   "metadata": {
    "id": "4b9ib9saC9Vb"
   },
   "source": [
    "### LeNet\n",
    "\n",
    "Если мы сделаем параметры сверток обучаемыми, то можем добиться хороших результатов для задач компьютерного зрения. Давайте посмотрим на архитектуру, предложенную еще в 1998 году!"
   ]
  },
  {
   "cell_type": "code",
   "execution_count": null,
   "metadata": {
    "id": "lE8qJByKC-u0"
   },
   "outputs": [],
   "source": [
    "class LeNet(nn.Module):\n",
    "    def __init__(self):\n",
    "        super(LeNet, self).__init__()\n",
    "        # 1 input image channel, 6 output channels, 3x3 square conv kernel\n",
    "        self.conv1 = nn.Conv2d(1, 6, 3)\n",
    "        self.conv2 = nn.Conv2d(6, 16, 3)\n",
    "        self.fc1 = nn.Linear(16 * 5 * 5, 120)  # 5x5 image dimension\n",
    "        self.fc2 = nn.Linear(120, 84)\n",
    "        self.fc3 = nn.Linear(84, 10)\n",
    "\n",
    "    def forward(self, x):\n",
    "        x = F.max_pool2d(F.relu(self.conv1(x)), (2, 2))\n",
    "        x = F.max_pool2d(F.relu(self.conv2(x)), 2)\n",
    "        x = x.view(-1, int(x.nelement() / x.shape[0]))\n",
    "        x = F.relu(self.fc1(x))\n",
    "        x = F.relu(self.fc2(x))\n",
    "        x = self.fc3(x)\n",
    "        return x"
   ]
  },
  {
   "cell_type": "code",
   "execution_count": null,
   "metadata": {
    "id": "dgfBX_HPyd_z"
   },
   "outputs": [],
   "source": [
    "model = LeNet().to(device)\n",
    "\n",
    "criterion = nn.CrossEntropyLoss()\n",
    "optimizer = torch.optim.Adam(model.parameters())\n",
    "\n",
    "loaders = {\"train\": train_dataloader, \"valid\": valid_dataloader}"
   ]
  },
  {
   "cell_type": "markdown",
   "metadata": {
    "id": "J21MIKtjRNWA"
   },
   "source": []
  },
  {
   "cell_type": "code",
   "execution_count": null,
   "metadata": {
    "id": "bNzqw1NuBON1"
   },
   "outputs": [],
   "source": [
    "from tqdm import tqdm_notebook"
   ]
  },
  {
   "cell_type": "code",
   "execution_count": null,
   "metadata": {
    "colab": {
     "base_uri": "https://localhost:8080/",
     "height": 627,
     "referenced_widgets": [
      "29e40369daad4e749619d2f7561b9a5d",
      "de6cfc7e30304862b1d39645158e0715",
      "0a6171dc592b4145b55a6c65399d7ed8",
      "e13bf67225c64846b0e405e8d1079563",
      "bc05d7a9d6cd4746aea81b97485e4539",
      "80a09a3e01db4293a6e0cd05ddee6659",
      "79b08fcea8d54eb5bd0da129bb215fcf",
      "2bbd9de5055644a8a713fb8225e28463"
     ]
    },
    "id": "mlTk_aF8yqDi",
    "outputId": "8f8243a6-fff3-48f4-8e0c-cbfd8c19d916"
   },
   "outputs": [
    {
     "name": "stderr",
     "output_type": "stream",
     "text": [
      "/usr/local/lib/python3.7/dist-packages/ipykernel_launcher.py:3: TqdmDeprecationWarning: This function will be removed in tqdm==5.0.0\n",
      "Please use `tqdm.notebook.tqdm` instead of `tqdm.tqdm_notebook`\n",
      "  This is separate from the ipykernel package so we can avoid doing imports until\n"
     ]
    },
    {
     "data": {
      "application/vnd.jupyter.widget-view+json": {
       "model_id": "29e40369daad4e749619d2f7561b9a5d",
       "version_major": 2,
       "version_minor": 0
      },
      "text/plain": [
       "HBox(children=(FloatProgress(value=0.0, max=10.0), HTML(value='')))"
      ]
     },
     "metadata": {
      "tags": []
     },
     "output_type": "display_data"
    },
    {
     "name": "stdout",
     "output_type": "stream",
     "text": [
      "Epoch: 1\n",
      "Loader: train. Accuracy: 0.9737333333333333\n",
      "Loader: valid. Accuracy: 0.9746428571428571\n",
      "Epoch: 2\n",
      "Loader: train. Accuracy: 0.9774166666666667\n",
      "Loader: valid. Accuracy: 0.9776857142857143\n",
      "Epoch: 3\n",
      "Loader: train. Accuracy: 0.97885\n",
      "Loader: valid. Accuracy: 0.9787\n",
      "Epoch: 4\n",
      "Loader: train. Accuracy: 0.98105\n",
      "Loader: valid. Accuracy: 0.9809714285714286\n",
      "Epoch: 5\n",
      "Loader: train. Accuracy: 0.981\n",
      "Loader: valid. Accuracy: 0.9809142857142857\n",
      "Epoch: 6\n",
      "Loader: train. Accuracy: 0.9817333333333333\n",
      "Loader: valid. Accuracy: 0.9819285714285715\n",
      "Epoch: 7\n",
      "Loader: train. Accuracy: 0.9821166666666666\n",
      "Loader: valid. Accuracy: 0.9817285714285714\n",
      "Epoch: 8\n",
      "Loader: train. Accuracy: 0.98335\n",
      "Loader: valid. Accuracy: 0.9820428571428571\n",
      "Epoch: 9\n",
      "Loader: train. Accuracy: 0.9824166666666667\n",
      "Loader: valid. Accuracy: 0.9818285714285714\n",
      "Epoch: 10\n",
      "Loader: train. Accuracy: 0.9838666666666667\n",
      "Loader: valid. Accuracy: 0.9837714285714285\n",
      "\n"
     ]
    }
   ],
   "source": [
    "max_epochs = 10\n",
    "accuracy = {\"train\": [], \"valid\": []}\n",
    "for epoch in tqdm_notebook(range(10)):\n",
    "    epoch_correct = 0\n",
    "    epoch_all = 0\n",
    "    utils.set_global_seed(42+epoch)\n",
    "    for k, dataloader in loaders.items():\n",
    "        for x_batch, y_batch in dataloader:\n",
    "            if k == \"train\":\n",
    "                model.train()\n",
    "                optimizer.zero_grad()\n",
    "                outp = model(x_batch.type(torch.float32).unsqueeze(1))\n",
    "            else:\n",
    "                model.eval()\n",
    "                with torch.no_grad():\n",
    "                    outp = model(x_batch.type(torch.float32).unsqueeze(1))\n",
    "            preds = outp.argmax(-1)\n",
    "            correct =  (preds ==  y_batch).sum()\n",
    "            all =  len(y_batch)\n",
    "            epoch_correct += correct.item()\n",
    "            epoch_all += all\n",
    "            if k == \"train\":\n",
    "                loss = criterion(outp, y_batch)\n",
    "                loss.backward()\n",
    "                optimizer.step()\n",
    "        if k == \"train\":\n",
    "            print(f\"Epoch: {epoch+1}\")\n",
    "        print(f\"Loader: {k}. Accuracy: {epoch_correct/epoch_all}\")\n",
    "        accuracy[k].append(epoch_correct/epoch_all)"
   ]
  },
  {
   "cell_type": "code",
   "execution_count": null,
   "metadata": {
    "id": "uFT5XKS1ytA2"
   },
   "outputs": [],
   "source": [
    "lenet_accuracy = accuracy[\"valid\"]"
   ]
  },
  {
   "cell_type": "code",
   "execution_count": null,
   "metadata": {
    "colab": {
     "base_uri": "https://localhost:8080/"
    },
    "id": "z8Zsqx0fHKH6",
    "outputId": "791c8c1b-5acb-4e51-cc88-5a5ba151433f"
   },
   "outputs": [
    {
     "data": {
      "text/plain": [
       "[0.9746428571428571,\n",
       " 0.9776857142857143,\n",
       " 0.9787,\n",
       " 0.9809714285714286,\n",
       " 0.9809142857142857,\n",
       " 0.9819285714285715,\n",
       " 0.9817285714285714,\n",
       " 0.9820428571428571,\n",
       " 0.9818285714285714,\n",
       " 0.9837714285714285]"
      ]
     },
     "execution_count": 40,
     "metadata": {
      "tags": []
     },
     "output_type": "execute_result"
    }
   ],
   "source": [
    "lenet_accuracy"
   ]
  },
  {
   "cell_type": "markdown",
   "metadata": {
    "id": "q-PwAI5SPMBx"
   },
   "source": [
    "Сравним с предыдущем пунктом"
   ]
  },
  {
   "cell_type": "code",
   "execution_count": null,
   "metadata": {
    "id": "VDq6pSi_yytp"
   },
   "outputs": [],
   "source": [
    "plt.figure(figsize=(16, 10))\n",
    "plt.title(\"Valid accuracy\")\n",
    "# plt.plot(range(max_epochs), relu_accuracy, label=\"ReLU activation\", linewidth=2)\n",
    "# plt.plot(range(max_epochs), leaky_relu_accuracy, label=\"LeakyReLU activation\", linewidth=2)\n",
    "# plt.plot(range(max_epochs), elu_accuracy, label=\"ELU activation\", linewidth=2)\n",
    "plt.plot(range(max_epochs), lenet_accuracy, label=\"LeNet\", linewidth=2)\n",
    "plt.legend()\n",
    "plt.xlabel(\"Epoch\")\n",
    "plt.show()"
   ]
  },
  {
   "cell_type": "markdown",
   "metadata": {
    "id": "A3NCpTE3726m"
   },
   "source": [
    "**Вопрос 6**\n",
    "Какое `accuracy` получается после обучения с точностью до двух знаков после запятой?\n",
    "\n",
    "**Ответ:**"
   ]
  }
 ],
 "metadata": {
  "accelerator": "GPU",
  "colab": {
   "collapsed_sections": [],
   "name": "HW.ipynb",
   "provenance": [],
   "toc_visible": true
  },
  "kernelspec": {
   "display_name": "Python 3",
   "language": "python",
   "name": "python3"
  },
  "language_info": {
   "codemirror_mode": {
    "name": "ipython",
    "version": 3
   },
   "file_extension": ".py",
   "mimetype": "text/x-python",
   "name": "python",
   "nbconvert_exporter": "python",
   "pygments_lexer": "ipython3",
   "version": "3.7.10"
  },
  "toc": {
   "base_numbering": 1,
   "nav_menu": {},
   "number_sections": true,
   "sideBar": true,
   "skip_h1_title": false,
   "title_cell": "Table of Contents",
   "title_sidebar": "Contents",
   "toc_cell": false,
   "toc_position": {},
   "toc_section_display": true,
   "toc_window_display": false
  },
  "widgets": {
   "application/vnd.jupyter.widget-state+json": {
    "0a6171dc592b4145b55a6c65399d7ed8": {
     "model_module": "@jupyter-widgets/controls",
     "model_name": "FloatProgressModel",
     "state": {
      "_dom_classes": [],
      "_model_module": "@jupyter-widgets/controls",
      "_model_module_version": "1.5.0",
      "_model_name": "FloatProgressModel",
      "_view_count": null,
      "_view_module": "@jupyter-widgets/controls",
      "_view_module_version": "1.5.0",
      "_view_name": "ProgressView",
      "bar_style": "success",
      "description": "100%",
      "description_tooltip": null,
      "layout": "IPY_MODEL_80a09a3e01db4293a6e0cd05ddee6659",
      "max": 10,
      "min": 0,
      "orientation": "horizontal",
      "style": "IPY_MODEL_bc05d7a9d6cd4746aea81b97485e4539",
      "value": 10
     }
    },
    "195712c734ea4b03bb4d2ddc8ee62aee": {
     "model_module": "@jupyter-widgets/controls",
     "model_name": "DescriptionStyleModel",
     "state": {
      "_model_module": "@jupyter-widgets/controls",
      "_model_module_version": "1.5.0",
      "_model_name": "DescriptionStyleModel",
      "_view_count": null,
      "_view_module": "@jupyter-widgets/base",
      "_view_module_version": "1.2.0",
      "_view_name": "StyleView",
      "description_width": ""
     }
    },
    "1fb1311087cf46e89a18c366c9c0d0f1": {
     "model_module": "@jupyter-widgets/controls",
     "model_name": "ProgressStyleModel",
     "state": {
      "_model_module": "@jupyter-widgets/controls",
      "_model_module_version": "1.5.0",
      "_model_name": "ProgressStyleModel",
      "_view_count": null,
      "_view_module": "@jupyter-widgets/base",
      "_view_module_version": "1.2.0",
      "_view_name": "StyleView",
      "bar_color": null,
      "description_width": "initial"
     }
    },
    "206aa6b6296c4018a74e090ba6c98216": {
     "model_module": "@jupyter-widgets/controls",
     "model_name": "FloatProgressModel",
     "state": {
      "_dom_classes": [],
      "_model_module": "@jupyter-widgets/controls",
      "_model_module_version": "1.5.0",
      "_model_name": "FloatProgressModel",
      "_view_count": null,
      "_view_module": "@jupyter-widgets/controls",
      "_view_module_version": "1.5.0",
      "_view_name": "ProgressView",
      "bar_style": "info",
      "description": "",
      "description_tooltip": null,
      "layout": "IPY_MODEL_9403220721994d76923b4cd3018b8d5b",
      "max": 1,
      "min": 0,
      "orientation": "horizontal",
      "style": "IPY_MODEL_f6a40ded3c964a3fa31e612c3af948f1",
      "value": 1
     }
    },
    "22831730fc924b428761a639bcd0fc0e": {
     "model_module": "@jupyter-widgets/controls",
     "model_name": "HBoxModel",
     "state": {
      "_dom_classes": [],
      "_model_module": "@jupyter-widgets/controls",
      "_model_module_version": "1.5.0",
      "_model_name": "HBoxModel",
      "_view_count": null,
      "_view_module": "@jupyter-widgets/controls",
      "_view_module_version": "1.5.0",
      "_view_name": "HBoxView",
      "box_style": "",
      "children": [
       "IPY_MODEL_8f21f0ec039242a3a910f4b250ed182a",
       "IPY_MODEL_93f4efefb0eb48db9e6cf0961937342b"
      ],
      "layout": "IPY_MODEL_b55f413c8e7d40a3baa7c860ca364a77"
     }
    },
    "29e40369daad4e749619d2f7561b9a5d": {
     "model_module": "@jupyter-widgets/controls",
     "model_name": "HBoxModel",
     "state": {
      "_dom_classes": [],
      "_model_module": "@jupyter-widgets/controls",
      "_model_module_version": "1.5.0",
      "_model_name": "HBoxModel",
      "_view_count": null,
      "_view_module": "@jupyter-widgets/controls",
      "_view_module_version": "1.5.0",
      "_view_name": "HBoxView",
      "box_style": "",
      "children": [
       "IPY_MODEL_0a6171dc592b4145b55a6c65399d7ed8",
       "IPY_MODEL_e13bf67225c64846b0e405e8d1079563"
      ],
      "layout": "IPY_MODEL_de6cfc7e30304862b1d39645158e0715"
     }
    },
    "2bbd9de5055644a8a713fb8225e28463": {
     "model_module": "@jupyter-widgets/base",
     "model_name": "LayoutModel",
     "state": {
      "_model_module": "@jupyter-widgets/base",
      "_model_module_version": "1.2.0",
      "_model_name": "LayoutModel",
      "_view_count": null,
      "_view_module": "@jupyter-widgets/base",
      "_view_module_version": "1.2.0",
      "_view_name": "LayoutView",
      "align_content": null,
      "align_items": null,
      "align_self": null,
      "border": null,
      "bottom": null,
      "display": null,
      "flex": null,
      "flex_flow": null,
      "grid_area": null,
      "grid_auto_columns": null,
      "grid_auto_flow": null,
      "grid_auto_rows": null,
      "grid_column": null,
      "grid_gap": null,
      "grid_row": null,
      "grid_template_areas": null,
      "grid_template_columns": null,
      "grid_template_rows": null,
      "height": null,
      "justify_content": null,
      "justify_items": null,
      "left": null,
      "margin": null,
      "max_height": null,
      "max_width": null,
      "min_height": null,
      "min_width": null,
      "object_fit": null,
      "object_position": null,
      "order": null,
      "overflow": null,
      "overflow_x": null,
      "overflow_y": null,
      "padding": null,
      "right": null,
      "top": null,
      "visibility": null,
      "width": null
     }
    },
    "2ce8569c007043abb35bbc8eb83aea9a": {
     "model_module": "@jupyter-widgets/controls",
     "model_name": "DescriptionStyleModel",
     "state": {
      "_model_module": "@jupyter-widgets/controls",
      "_model_module_version": "1.5.0",
      "_model_name": "DescriptionStyleModel",
      "_view_count": null,
      "_view_module": "@jupyter-widgets/base",
      "_view_module_version": "1.2.0",
      "_view_name": "StyleView",
      "description_width": ""
     }
    },
    "2d6984485df44d66915dd5833d19c93e": {
     "model_module": "@jupyter-widgets/controls",
     "model_name": "ProgressStyleModel",
     "state": {
      "_model_module": "@jupyter-widgets/controls",
      "_model_module_version": "1.5.0",
      "_model_name": "ProgressStyleModel",
      "_view_count": null,
      "_view_module": "@jupyter-widgets/base",
      "_view_module_version": "1.2.0",
      "_view_name": "StyleView",
      "bar_color": null,
      "description_width": "initial"
     }
    },
    "33dd770efd4a479bb99a66990b02a034": {
     "model_module": "@jupyter-widgets/base",
     "model_name": "LayoutModel",
     "state": {
      "_model_module": "@jupyter-widgets/base",
      "_model_module_version": "1.2.0",
      "_model_name": "LayoutModel",
      "_view_count": null,
      "_view_module": "@jupyter-widgets/base",
      "_view_module_version": "1.2.0",
      "_view_name": "LayoutView",
      "align_content": null,
      "align_items": null,
      "align_self": null,
      "border": null,
      "bottom": null,
      "display": null,
      "flex": null,
      "flex_flow": null,
      "grid_area": null,
      "grid_auto_columns": null,
      "grid_auto_flow": null,
      "grid_auto_rows": null,
      "grid_column": null,
      "grid_gap": null,
      "grid_row": null,
      "grid_template_areas": null,
      "grid_template_columns": null,
      "grid_template_rows": null,
      "height": null,
      "justify_content": null,
      "justify_items": null,
      "left": null,
      "margin": null,
      "max_height": null,
      "max_width": null,
      "min_height": null,
      "min_width": null,
      "object_fit": null,
      "object_position": null,
      "order": null,
      "overflow": null,
      "overflow_x": null,
      "overflow_y": null,
      "padding": null,
      "right": null,
      "top": null,
      "visibility": null,
      "width": null
     }
    },
    "38e0f2cf903c4cdfb4022054a93a3644": {
     "model_module": "@jupyter-widgets/controls",
     "model_name": "DescriptionStyleModel",
     "state": {
      "_model_module": "@jupyter-widgets/controls",
      "_model_module_version": "1.5.0",
      "_model_name": "DescriptionStyleModel",
      "_view_count": null,
      "_view_module": "@jupyter-widgets/base",
      "_view_module_version": "1.2.0",
      "_view_name": "StyleView",
      "description_width": ""
     }
    },
    "41490627fe6c4c20b0fff4da9b40c26e": {
     "model_module": "@jupyter-widgets/controls",
     "model_name": "HTMLModel",
     "state": {
      "_dom_classes": [],
      "_model_module": "@jupyter-widgets/controls",
      "_model_module_version": "1.5.0",
      "_model_name": "HTMLModel",
      "_view_count": null,
      "_view_module": "@jupyter-widgets/controls",
      "_view_module_version": "1.5.0",
      "_view_name": "HTMLView",
      "description": "",
      "description_tooltip": null,
      "layout": "IPY_MODEL_5d9632e3584c46d891127da8f1b63ee0",
      "placeholder": "​",
      "style": "IPY_MODEL_195712c734ea4b03bb4d2ddc8ee62aee",
      "value": " 1654784/? [00:01&lt;00:00, 1545933.68it/s]"
     }
    },
    "4450cb359a70461db58398437e27e3b5": {
     "model_module": "@jupyter-widgets/controls",
     "model_name": "HBoxModel",
     "state": {
      "_dom_classes": [],
      "_model_module": "@jupyter-widgets/controls",
      "_model_module_version": "1.5.0",
      "_model_name": "HBoxModel",
      "_view_count": null,
      "_view_module": "@jupyter-widgets/controls",
      "_view_module_version": "1.5.0",
      "_view_name": "HBoxView",
      "box_style": "",
      "children": [
       "IPY_MODEL_7a44295ab2864fd9b2876e96494346e3",
       "IPY_MODEL_41490627fe6c4c20b0fff4da9b40c26e"
      ],
      "layout": "IPY_MODEL_f0b8c0a05d72485ea5c8435dddaf14dc"
     }
    },
    "5c8bbd1282bd42bc984c5248b3dca532": {
     "model_module": "@jupyter-widgets/controls",
     "model_name": "HBoxModel",
     "state": {
      "_dom_classes": [],
      "_model_module": "@jupyter-widgets/controls",
      "_model_module_version": "1.5.0",
      "_model_name": "HBoxModel",
      "_view_count": null,
      "_view_module": "@jupyter-widgets/controls",
      "_view_module_version": "1.5.0",
      "_view_name": "HBoxView",
      "box_style": "",
      "children": [
       "IPY_MODEL_206aa6b6296c4018a74e090ba6c98216",
       "IPY_MODEL_d21c50c865a545ecad0b77199998971b"
      ],
      "layout": "IPY_MODEL_87178e8193b542b1915fb693ace65907"
     }
    },
    "5d9632e3584c46d891127da8f1b63ee0": {
     "model_module": "@jupyter-widgets/base",
     "model_name": "LayoutModel",
     "state": {
      "_model_module": "@jupyter-widgets/base",
      "_model_module_version": "1.2.0",
      "_model_name": "LayoutModel",
      "_view_count": null,
      "_view_module": "@jupyter-widgets/base",
      "_view_module_version": "1.2.0",
      "_view_name": "LayoutView",
      "align_content": null,
      "align_items": null,
      "align_self": null,
      "border": null,
      "bottom": null,
      "display": null,
      "flex": null,
      "flex_flow": null,
      "grid_area": null,
      "grid_auto_columns": null,
      "grid_auto_flow": null,
      "grid_auto_rows": null,
      "grid_column": null,
      "grid_gap": null,
      "grid_row": null,
      "grid_template_areas": null,
      "grid_template_columns": null,
      "grid_template_rows": null,
      "height": null,
      "justify_content": null,
      "justify_items": null,
      "left": null,
      "margin": null,
      "max_height": null,
      "max_width": null,
      "min_height": null,
      "min_width": null,
      "object_fit": null,
      "object_position": null,
      "order": null,
      "overflow": null,
      "overflow_x": null,
      "overflow_y": null,
      "padding": null,
      "right": null,
      "top": null,
      "visibility": null,
      "width": null
     }
    },
    "6314141c78964a70afa30b392d1177ec": {
     "model_module": "@jupyter-widgets/controls",
     "model_name": "FloatProgressModel",
     "state": {
      "_dom_classes": [],
      "_model_module": "@jupyter-widgets/controls",
      "_model_module_version": "1.5.0",
      "_model_name": "FloatProgressModel",
      "_view_count": null,
      "_view_module": "@jupyter-widgets/controls",
      "_view_module_version": "1.5.0",
      "_view_name": "ProgressView",
      "bar_style": "success",
      "description": "",
      "description_tooltip": null,
      "layout": "IPY_MODEL_33dd770efd4a479bb99a66990b02a034",
      "max": 1,
      "min": 0,
      "orientation": "horizontal",
      "style": "IPY_MODEL_1fb1311087cf46e89a18c366c9c0d0f1",
      "value": 1
     }
    },
    "65bd2fc7f9504e879d75d0f24a67f4ce": {
     "model_module": "@jupyter-widgets/base",
     "model_name": "LayoutModel",
     "state": {
      "_model_module": "@jupyter-widgets/base",
      "_model_module_version": "1.2.0",
      "_model_name": "LayoutModel",
      "_view_count": null,
      "_view_module": "@jupyter-widgets/base",
      "_view_module_version": "1.2.0",
      "_view_name": "LayoutView",
      "align_content": null,
      "align_items": null,
      "align_self": null,
      "border": null,
      "bottom": null,
      "display": null,
      "flex": null,
      "flex_flow": null,
      "grid_area": null,
      "grid_auto_columns": null,
      "grid_auto_flow": null,
      "grid_auto_rows": null,
      "grid_column": null,
      "grid_gap": null,
      "grid_row": null,
      "grid_template_areas": null,
      "grid_template_columns": null,
      "grid_template_rows": null,
      "height": null,
      "justify_content": null,
      "justify_items": null,
      "left": null,
      "margin": null,
      "max_height": null,
      "max_width": null,
      "min_height": null,
      "min_width": null,
      "object_fit": null,
      "object_position": null,
      "order": null,
      "overflow": null,
      "overflow_x": null,
      "overflow_y": null,
      "padding": null,
      "right": null,
      "top": null,
      "visibility": null,
      "width": null
     }
    },
    "6bc550909c9a48aabc66cae4ef05a411": {
     "model_module": "@jupyter-widgets/controls",
     "model_name": "ProgressStyleModel",
     "state": {
      "_model_module": "@jupyter-widgets/controls",
      "_model_module_version": "1.5.0",
      "_model_name": "ProgressStyleModel",
      "_view_count": null,
      "_view_module": "@jupyter-widgets/base",
      "_view_module_version": "1.2.0",
      "_view_name": "StyleView",
      "bar_color": null,
      "description_width": "initial"
     }
    },
    "6c469b4bd0e74ff5b3a8ae821f7720f4": {
     "model_module": "@jupyter-widgets/base",
     "model_name": "LayoutModel",
     "state": {
      "_model_module": "@jupyter-widgets/base",
      "_model_module_version": "1.2.0",
      "_model_name": "LayoutModel",
      "_view_count": null,
      "_view_module": "@jupyter-widgets/base",
      "_view_module_version": "1.2.0",
      "_view_name": "LayoutView",
      "align_content": null,
      "align_items": null,
      "align_self": null,
      "border": null,
      "bottom": null,
      "display": null,
      "flex": null,
      "flex_flow": null,
      "grid_area": null,
      "grid_auto_columns": null,
      "grid_auto_flow": null,
      "grid_auto_rows": null,
      "grid_column": null,
      "grid_gap": null,
      "grid_row": null,
      "grid_template_areas": null,
      "grid_template_columns": null,
      "grid_template_rows": null,
      "height": null,
      "justify_content": null,
      "justify_items": null,
      "left": null,
      "margin": null,
      "max_height": null,
      "max_width": null,
      "min_height": null,
      "min_width": null,
      "object_fit": null,
      "object_position": null,
      "order": null,
      "overflow": null,
      "overflow_x": null,
      "overflow_y": null,
      "padding": null,
      "right": null,
      "top": null,
      "visibility": null,
      "width": null
     }
    },
    "79b08fcea8d54eb5bd0da129bb215fcf": {
     "model_module": "@jupyter-widgets/controls",
     "model_name": "DescriptionStyleModel",
     "state": {
      "_model_module": "@jupyter-widgets/controls",
      "_model_module_version": "1.5.0",
      "_model_name": "DescriptionStyleModel",
      "_view_count": null,
      "_view_module": "@jupyter-widgets/base",
      "_view_module_version": "1.2.0",
      "_view_name": "StyleView",
      "description_width": ""
     }
    },
    "7a44295ab2864fd9b2876e96494346e3": {
     "model_module": "@jupyter-widgets/controls",
     "model_name": "FloatProgressModel",
     "state": {
      "_dom_classes": [],
      "_model_module": "@jupyter-widgets/controls",
      "_model_module_version": "1.5.0",
      "_model_name": "FloatProgressModel",
      "_view_count": null,
      "_view_module": "@jupyter-widgets/controls",
      "_view_module_version": "1.5.0",
      "_view_name": "ProgressView",
      "bar_style": "success",
      "description": "",
      "description_tooltip": null,
      "layout": "IPY_MODEL_65bd2fc7f9504e879d75d0f24a67f4ce",
      "max": 1,
      "min": 0,
      "orientation": "horizontal",
      "style": "IPY_MODEL_2d6984485df44d66915dd5833d19c93e",
      "value": 1
     }
    },
    "7cd2a535c6df428aa0548c72f9f56f8b": {
     "model_module": "@jupyter-widgets/controls",
     "model_name": "HBoxModel",
     "state": {
      "_dom_classes": [],
      "_model_module": "@jupyter-widgets/controls",
      "_model_module_version": "1.5.0",
      "_model_name": "HBoxModel",
      "_view_count": null,
      "_view_module": "@jupyter-widgets/controls",
      "_view_module_version": "1.5.0",
      "_view_name": "HBoxView",
      "box_style": "",
      "children": [
       "IPY_MODEL_6314141c78964a70afa30b392d1177ec",
       "IPY_MODEL_e02c7cb4612145d69352fb2fd6b46901"
      ],
      "layout": "IPY_MODEL_f134f2e6e56c4af5b1b500f97a599298"
     }
    },
    "80a09a3e01db4293a6e0cd05ddee6659": {
     "model_module": "@jupyter-widgets/base",
     "model_name": "LayoutModel",
     "state": {
      "_model_module": "@jupyter-widgets/base",
      "_model_module_version": "1.2.0",
      "_model_name": "LayoutModel",
      "_view_count": null,
      "_view_module": "@jupyter-widgets/base",
      "_view_module_version": "1.2.0",
      "_view_name": "LayoutView",
      "align_content": null,
      "align_items": null,
      "align_self": null,
      "border": null,
      "bottom": null,
      "display": null,
      "flex": null,
      "flex_flow": null,
      "grid_area": null,
      "grid_auto_columns": null,
      "grid_auto_flow": null,
      "grid_auto_rows": null,
      "grid_column": null,
      "grid_gap": null,
      "grid_row": null,
      "grid_template_areas": null,
      "grid_template_columns": null,
      "grid_template_rows": null,
      "height": null,
      "justify_content": null,
      "justify_items": null,
      "left": null,
      "margin": null,
      "max_height": null,
      "max_width": null,
      "min_height": null,
      "min_width": null,
      "object_fit": null,
      "object_position": null,
      "order": null,
      "overflow": null,
      "overflow_x": null,
      "overflow_y": null,
      "padding": null,
      "right": null,
      "top": null,
      "visibility": null,
      "width": null
     }
    },
    "87178e8193b542b1915fb693ace65907": {
     "model_module": "@jupyter-widgets/base",
     "model_name": "LayoutModel",
     "state": {
      "_model_module": "@jupyter-widgets/base",
      "_model_module_version": "1.2.0",
      "_model_name": "LayoutModel",
      "_view_count": null,
      "_view_module": "@jupyter-widgets/base",
      "_view_module_version": "1.2.0",
      "_view_name": "LayoutView",
      "align_content": null,
      "align_items": null,
      "align_self": null,
      "border": null,
      "bottom": null,
      "display": null,
      "flex": null,
      "flex_flow": null,
      "grid_area": null,
      "grid_auto_columns": null,
      "grid_auto_flow": null,
      "grid_auto_rows": null,
      "grid_column": null,
      "grid_gap": null,
      "grid_row": null,
      "grid_template_areas": null,
      "grid_template_columns": null,
      "grid_template_rows": null,
      "height": null,
      "justify_content": null,
      "justify_items": null,
      "left": null,
      "margin": null,
      "max_height": null,
      "max_width": null,
      "min_height": null,
      "min_width": null,
      "object_fit": null,
      "object_position": null,
      "order": null,
      "overflow": null,
      "overflow_x": null,
      "overflow_y": null,
      "padding": null,
      "right": null,
      "top": null,
      "visibility": null,
      "width": null
     }
    },
    "8f21f0ec039242a3a910f4b250ed182a": {
     "model_module": "@jupyter-widgets/controls",
     "model_name": "FloatProgressModel",
     "state": {
      "_dom_classes": [],
      "_model_module": "@jupyter-widgets/controls",
      "_model_module_version": "1.5.0",
      "_model_name": "FloatProgressModel",
      "_view_count": null,
      "_view_module": "@jupyter-widgets/controls",
      "_view_module_version": "1.5.0",
      "_view_name": "ProgressView",
      "bar_style": "info",
      "description": "",
      "description_tooltip": null,
      "layout": "IPY_MODEL_6c469b4bd0e74ff5b3a8ae821f7720f4",
      "max": 1,
      "min": 0,
      "orientation": "horizontal",
      "style": "IPY_MODEL_6bc550909c9a48aabc66cae4ef05a411",
      "value": 0
     }
    },
    "93f4efefb0eb48db9e6cf0961937342b": {
     "model_module": "@jupyter-widgets/controls",
     "model_name": "HTMLModel",
     "state": {
      "_dom_classes": [],
      "_model_module": "@jupyter-widgets/controls",
      "_model_module_version": "1.5.0",
      "_model_name": "HTMLModel",
      "_view_count": null,
      "_view_module": "@jupyter-widgets/controls",
      "_view_module_version": "1.5.0",
      "_view_name": "HTMLView",
      "description": "",
      "description_tooltip": null,
      "layout": "IPY_MODEL_b325cfa160794dceb27501cf704cf4ae",
      "placeholder": "​",
      "style": "IPY_MODEL_aec9de69edb842a28664ba52d406dfb1",
      "value": " 0/? [00:00&lt;?, ?it/s]"
     }
    },
    "9403220721994d76923b4cd3018b8d5b": {
     "model_module": "@jupyter-widgets/base",
     "model_name": "LayoutModel",
     "state": {
      "_model_module": "@jupyter-widgets/base",
      "_model_module_version": "1.2.0",
      "_model_name": "LayoutModel",
      "_view_count": null,
      "_view_module": "@jupyter-widgets/base",
      "_view_module_version": "1.2.0",
      "_view_name": "LayoutView",
      "align_content": null,
      "align_items": null,
      "align_self": null,
      "border": null,
      "bottom": null,
      "display": null,
      "flex": null,
      "flex_flow": null,
      "grid_area": null,
      "grid_auto_columns": null,
      "grid_auto_flow": null,
      "grid_auto_rows": null,
      "grid_column": null,
      "grid_gap": null,
      "grid_row": null,
      "grid_template_areas": null,
      "grid_template_columns": null,
      "grid_template_rows": null,
      "height": null,
      "justify_content": null,
      "justify_items": null,
      "left": null,
      "margin": null,
      "max_height": null,
      "max_width": null,
      "min_height": null,
      "min_width": null,
      "object_fit": null,
      "object_position": null,
      "order": null,
      "overflow": null,
      "overflow_x": null,
      "overflow_y": null,
      "padding": null,
      "right": null,
      "top": null,
      "visibility": null,
      "width": null
     }
    },
    "96f0dd7d73c34cbd849da08e4138e906": {
     "model_module": "@jupyter-widgets/base",
     "model_name": "LayoutModel",
     "state": {
      "_model_module": "@jupyter-widgets/base",
      "_model_module_version": "1.2.0",
      "_model_name": "LayoutModel",
      "_view_count": null,
      "_view_module": "@jupyter-widgets/base",
      "_view_module_version": "1.2.0",
      "_view_name": "LayoutView",
      "align_content": null,
      "align_items": null,
      "align_self": null,
      "border": null,
      "bottom": null,
      "display": null,
      "flex": null,
      "flex_flow": null,
      "grid_area": null,
      "grid_auto_columns": null,
      "grid_auto_flow": null,
      "grid_auto_rows": null,
      "grid_column": null,
      "grid_gap": null,
      "grid_row": null,
      "grid_template_areas": null,
      "grid_template_columns": null,
      "grid_template_rows": null,
      "height": null,
      "justify_content": null,
      "justify_items": null,
      "left": null,
      "margin": null,
      "max_height": null,
      "max_width": null,
      "min_height": null,
      "min_width": null,
      "object_fit": null,
      "object_position": null,
      "order": null,
      "overflow": null,
      "overflow_x": null,
      "overflow_y": null,
      "padding": null,
      "right": null,
      "top": null,
      "visibility": null,
      "width": null
     }
    },
    "aec9de69edb842a28664ba52d406dfb1": {
     "model_module": "@jupyter-widgets/controls",
     "model_name": "DescriptionStyleModel",
     "state": {
      "_model_module": "@jupyter-widgets/controls",
      "_model_module_version": "1.5.0",
      "_model_name": "DescriptionStyleModel",
      "_view_count": null,
      "_view_module": "@jupyter-widgets/base",
      "_view_module_version": "1.2.0",
      "_view_name": "StyleView",
      "description_width": ""
     }
    },
    "b325cfa160794dceb27501cf704cf4ae": {
     "model_module": "@jupyter-widgets/base",
     "model_name": "LayoutModel",
     "state": {
      "_model_module": "@jupyter-widgets/base",
      "_model_module_version": "1.2.0",
      "_model_name": "LayoutModel",
      "_view_count": null,
      "_view_module": "@jupyter-widgets/base",
      "_view_module_version": "1.2.0",
      "_view_name": "LayoutView",
      "align_content": null,
      "align_items": null,
      "align_self": null,
      "border": null,
      "bottom": null,
      "display": null,
      "flex": null,
      "flex_flow": null,
      "grid_area": null,
      "grid_auto_columns": null,
      "grid_auto_flow": null,
      "grid_auto_rows": null,
      "grid_column": null,
      "grid_gap": null,
      "grid_row": null,
      "grid_template_areas": null,
      "grid_template_columns": null,
      "grid_template_rows": null,
      "height": null,
      "justify_content": null,
      "justify_items": null,
      "left": null,
      "margin": null,
      "max_height": null,
      "max_width": null,
      "min_height": null,
      "min_width": null,
      "object_fit": null,
      "object_position": null,
      "order": null,
      "overflow": null,
      "overflow_x": null,
      "overflow_y": null,
      "padding": null,
      "right": null,
      "top": null,
      "visibility": null,
      "width": null
     }
    },
    "b55f413c8e7d40a3baa7c860ca364a77": {
     "model_module": "@jupyter-widgets/base",
     "model_name": "LayoutModel",
     "state": {
      "_model_module": "@jupyter-widgets/base",
      "_model_module_version": "1.2.0",
      "_model_name": "LayoutModel",
      "_view_count": null,
      "_view_module": "@jupyter-widgets/base",
      "_view_module_version": "1.2.0",
      "_view_name": "LayoutView",
      "align_content": null,
      "align_items": null,
      "align_self": null,
      "border": null,
      "bottom": null,
      "display": null,
      "flex": null,
      "flex_flow": null,
      "grid_area": null,
      "grid_auto_columns": null,
      "grid_auto_flow": null,
      "grid_auto_rows": null,
      "grid_column": null,
      "grid_gap": null,
      "grid_row": null,
      "grid_template_areas": null,
      "grid_template_columns": null,
      "grid_template_rows": null,
      "height": null,
      "justify_content": null,
      "justify_items": null,
      "left": null,
      "margin": null,
      "max_height": null,
      "max_width": null,
      "min_height": null,
      "min_width": null,
      "object_fit": null,
      "object_position": null,
      "order": null,
      "overflow": null,
      "overflow_x": null,
      "overflow_y": null,
      "padding": null,
      "right": null,
      "top": null,
      "visibility": null,
      "width": null
     }
    },
    "bc05d7a9d6cd4746aea81b97485e4539": {
     "model_module": "@jupyter-widgets/controls",
     "model_name": "ProgressStyleModel",
     "state": {
      "_model_module": "@jupyter-widgets/controls",
      "_model_module_version": "1.5.0",
      "_model_name": "ProgressStyleModel",
      "_view_count": null,
      "_view_module": "@jupyter-widgets/base",
      "_view_module_version": "1.2.0",
      "_view_name": "StyleView",
      "bar_color": null,
      "description_width": "initial"
     }
    },
    "d21c50c865a545ecad0b77199998971b": {
     "model_module": "@jupyter-widgets/controls",
     "model_name": "HTMLModel",
     "state": {
      "_dom_classes": [],
      "_model_module": "@jupyter-widgets/controls",
      "_model_module_version": "1.5.0",
      "_model_name": "HTMLModel",
      "_view_count": null,
      "_view_module": "@jupyter-widgets/controls",
      "_view_module_version": "1.5.0",
      "_view_name": "HTMLView",
      "description": "",
      "description_tooltip": null,
      "layout": "IPY_MODEL_ee3b90d5494e43029faaedd32a754deb",
      "placeholder": "​",
      "style": "IPY_MODEL_38e0f2cf903c4cdfb4022054a93a3644",
      "value": " 9920512/? [00:20&lt;00:00, 43981644.51it/s]"
     }
    },
    "de6cfc7e30304862b1d39645158e0715": {
     "model_module": "@jupyter-widgets/base",
     "model_name": "LayoutModel",
     "state": {
      "_model_module": "@jupyter-widgets/base",
      "_model_module_version": "1.2.0",
      "_model_name": "LayoutModel",
      "_view_count": null,
      "_view_module": "@jupyter-widgets/base",
      "_view_module_version": "1.2.0",
      "_view_name": "LayoutView",
      "align_content": null,
      "align_items": null,
      "align_self": null,
      "border": null,
      "bottom": null,
      "display": null,
      "flex": null,
      "flex_flow": null,
      "grid_area": null,
      "grid_auto_columns": null,
      "grid_auto_flow": null,
      "grid_auto_rows": null,
      "grid_column": null,
      "grid_gap": null,
      "grid_row": null,
      "grid_template_areas": null,
      "grid_template_columns": null,
      "grid_template_rows": null,
      "height": null,
      "justify_content": null,
      "justify_items": null,
      "left": null,
      "margin": null,
      "max_height": null,
      "max_width": null,
      "min_height": null,
      "min_width": null,
      "object_fit": null,
      "object_position": null,
      "order": null,
      "overflow": null,
      "overflow_x": null,
      "overflow_y": null,
      "padding": null,
      "right": null,
      "top": null,
      "visibility": null,
      "width": null
     }
    },
    "e02c7cb4612145d69352fb2fd6b46901": {
     "model_module": "@jupyter-widgets/controls",
     "model_name": "HTMLModel",
     "state": {
      "_dom_classes": [],
      "_model_module": "@jupyter-widgets/controls",
      "_model_module_version": "1.5.0",
      "_model_name": "HTMLModel",
      "_view_count": null,
      "_view_module": "@jupyter-widgets/controls",
      "_view_module_version": "1.5.0",
      "_view_name": "HTMLView",
      "description": "",
      "description_tooltip": null,
      "layout": "IPY_MODEL_96f0dd7d73c34cbd849da08e4138e906",
      "placeholder": "​",
      "style": "IPY_MODEL_2ce8569c007043abb35bbc8eb83aea9a",
      "value": " 8192/? [00:00&lt;00:00, 9239.34it/s]"
     }
    },
    "e13bf67225c64846b0e405e8d1079563": {
     "model_module": "@jupyter-widgets/controls",
     "model_name": "HTMLModel",
     "state": {
      "_dom_classes": [],
      "_model_module": "@jupyter-widgets/controls",
      "_model_module_version": "1.5.0",
      "_model_name": "HTMLModel",
      "_view_count": null,
      "_view_module": "@jupyter-widgets/controls",
      "_view_module_version": "1.5.0",
      "_view_name": "HTMLView",
      "description": "",
      "description_tooltip": null,
      "layout": "IPY_MODEL_2bbd9de5055644a8a713fb8225e28463",
      "placeholder": "​",
      "style": "IPY_MODEL_79b08fcea8d54eb5bd0da129bb215fcf",
      "value": " 10/10 [25:55&lt;00:00, 155.52s/it]"
     }
    },
    "ee3b90d5494e43029faaedd32a754deb": {
     "model_module": "@jupyter-widgets/base",
     "model_name": "LayoutModel",
     "state": {
      "_model_module": "@jupyter-widgets/base",
      "_model_module_version": "1.2.0",
      "_model_name": "LayoutModel",
      "_view_count": null,
      "_view_module": "@jupyter-widgets/base",
      "_view_module_version": "1.2.0",
      "_view_name": "LayoutView",
      "align_content": null,
      "align_items": null,
      "align_self": null,
      "border": null,
      "bottom": null,
      "display": null,
      "flex": null,
      "flex_flow": null,
      "grid_area": null,
      "grid_auto_columns": null,
      "grid_auto_flow": null,
      "grid_auto_rows": null,
      "grid_column": null,
      "grid_gap": null,
      "grid_row": null,
      "grid_template_areas": null,
      "grid_template_columns": null,
      "grid_template_rows": null,
      "height": null,
      "justify_content": null,
      "justify_items": null,
      "left": null,
      "margin": null,
      "max_height": null,
      "max_width": null,
      "min_height": null,
      "min_width": null,
      "object_fit": null,
      "object_position": null,
      "order": null,
      "overflow": null,
      "overflow_x": null,
      "overflow_y": null,
      "padding": null,
      "right": null,
      "top": null,
      "visibility": null,
      "width": null
     }
    },
    "f0b8c0a05d72485ea5c8435dddaf14dc": {
     "model_module": "@jupyter-widgets/base",
     "model_name": "LayoutModel",
     "state": {
      "_model_module": "@jupyter-widgets/base",
      "_model_module_version": "1.2.0",
      "_model_name": "LayoutModel",
      "_view_count": null,
      "_view_module": "@jupyter-widgets/base",
      "_view_module_version": "1.2.0",
      "_view_name": "LayoutView",
      "align_content": null,
      "align_items": null,
      "align_self": null,
      "border": null,
      "bottom": null,
      "display": null,
      "flex": null,
      "flex_flow": null,
      "grid_area": null,
      "grid_auto_columns": null,
      "grid_auto_flow": null,
      "grid_auto_rows": null,
      "grid_column": null,
      "grid_gap": null,
      "grid_row": null,
      "grid_template_areas": null,
      "grid_template_columns": null,
      "grid_template_rows": null,
      "height": null,
      "justify_content": null,
      "justify_items": null,
      "left": null,
      "margin": null,
      "max_height": null,
      "max_width": null,
      "min_height": null,
      "min_width": null,
      "object_fit": null,
      "object_position": null,
      "order": null,
      "overflow": null,
      "overflow_x": null,
      "overflow_y": null,
      "padding": null,
      "right": null,
      "top": null,
      "visibility": null,
      "width": null
     }
    },
    "f134f2e6e56c4af5b1b500f97a599298": {
     "model_module": "@jupyter-widgets/base",
     "model_name": "LayoutModel",
     "state": {
      "_model_module": "@jupyter-widgets/base",
      "_model_module_version": "1.2.0",
      "_model_name": "LayoutModel",
      "_view_count": null,
      "_view_module": "@jupyter-widgets/base",
      "_view_module_version": "1.2.0",
      "_view_name": "LayoutView",
      "align_content": null,
      "align_items": null,
      "align_self": null,
      "border": null,
      "bottom": null,
      "display": null,
      "flex": null,
      "flex_flow": null,
      "grid_area": null,
      "grid_auto_columns": null,
      "grid_auto_flow": null,
      "grid_auto_rows": null,
      "grid_column": null,
      "grid_gap": null,
      "grid_row": null,
      "grid_template_areas": null,
      "grid_template_columns": null,
      "grid_template_rows": null,
      "height": null,
      "justify_content": null,
      "justify_items": null,
      "left": null,
      "margin": null,
      "max_height": null,
      "max_width": null,
      "min_height": null,
      "min_width": null,
      "object_fit": null,
      "object_position": null,
      "order": null,
      "overflow": null,
      "overflow_x": null,
      "overflow_y": null,
      "padding": null,
      "right": null,
      "top": null,
      "visibility": null,
      "width": null
     }
    },
    "f6a40ded3c964a3fa31e612c3af948f1": {
     "model_module": "@jupyter-widgets/controls",
     "model_name": "ProgressStyleModel",
     "state": {
      "_model_module": "@jupyter-widgets/controls",
      "_model_module_version": "1.5.0",
      "_model_name": "ProgressStyleModel",
      "_view_count": null,
      "_view_module": "@jupyter-widgets/base",
      "_view_module_version": "1.2.0",
      "_view_name": "StyleView",
      "bar_color": null,
      "description_width": "initial"
     }
    }
   }
  }
 },
 "nbformat": 4,
 "nbformat_minor": 1
}
