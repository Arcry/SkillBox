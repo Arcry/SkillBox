{
 "cells": [
  {
   "cell_type": "code",
   "execution_count": 1,
   "id": "210035c7",
   "metadata": {
    "ExecuteTime": {
     "end_time": "2021-05-20T14:47:11.628295Z",
     "start_time": "2021-05-20T14:47:11.501804Z"
    }
   },
   "outputs": [],
   "source": [
    "import pandas as pd\n",
    "import numpy as np"
   ]
  },
  {
   "cell_type": "code",
   "execution_count": 2,
   "id": "93d1c55a",
   "metadata": {
    "ExecuteTime": {
     "end_time": "2021-05-20T14:47:11.827686Z",
     "start_time": "2021-05-20T14:47:11.813489Z"
    }
   },
   "outputs": [],
   "source": [
    "data = pd.read_csv('/home/arcry/Загрузки/abalone.csv')"
   ]
  },
  {
   "cell_type": "code",
   "execution_count": 3,
   "id": "99007d28",
   "metadata": {
    "ExecuteTime": {
     "end_time": "2021-05-20T14:47:12.387816Z",
     "start_time": "2021-05-20T14:47:12.366274Z"
    }
   },
   "outputs": [
    {
     "data": {
      "text/html": [
       "<div>\n",
       "<style scoped>\n",
       "    .dataframe tbody tr th:only-of-type {\n",
       "        vertical-align: middle;\n",
       "    }\n",
       "\n",
       "    .dataframe tbody tr th {\n",
       "        vertical-align: top;\n",
       "    }\n",
       "\n",
       "    .dataframe thead th {\n",
       "        text-align: right;\n",
       "    }\n",
       "</style>\n",
       "<table border=\"1\" class=\"dataframe\">\n",
       "  <thead>\n",
       "    <tr style=\"text-align: right;\">\n",
       "      <th></th>\n",
       "      <th>Sex</th>\n",
       "      <th>Length</th>\n",
       "      <th>Diameter</th>\n",
       "      <th>Height</th>\n",
       "      <th>WholeWeight</th>\n",
       "      <th>ShuckedWeight</th>\n",
       "      <th>VisceraWeight</th>\n",
       "      <th>ShellWeight</th>\n",
       "      <th>Rings</th>\n",
       "    </tr>\n",
       "  </thead>\n",
       "  <tbody>\n",
       "    <tr>\n",
       "      <th>0</th>\n",
       "      <td>M</td>\n",
       "      <td>0.455</td>\n",
       "      <td>0.365</td>\n",
       "      <td>0.095</td>\n",
       "      <td>0.5140</td>\n",
       "      <td>0.2245</td>\n",
       "      <td>0.1010</td>\n",
       "      <td>0.150</td>\n",
       "      <td>15</td>\n",
       "    </tr>\n",
       "    <tr>\n",
       "      <th>1</th>\n",
       "      <td>M</td>\n",
       "      <td>0.350</td>\n",
       "      <td>0.265</td>\n",
       "      <td>0.090</td>\n",
       "      <td>0.2255</td>\n",
       "      <td>0.0995</td>\n",
       "      <td>0.0485</td>\n",
       "      <td>0.070</td>\n",
       "      <td>7</td>\n",
       "    </tr>\n",
       "    <tr>\n",
       "      <th>2</th>\n",
       "      <td>F</td>\n",
       "      <td>0.530</td>\n",
       "      <td>0.420</td>\n",
       "      <td>0.135</td>\n",
       "      <td>0.6770</td>\n",
       "      <td>0.2565</td>\n",
       "      <td>0.1415</td>\n",
       "      <td>0.210</td>\n",
       "      <td>9</td>\n",
       "    </tr>\n",
       "    <tr>\n",
       "      <th>3</th>\n",
       "      <td>M</td>\n",
       "      <td>0.440</td>\n",
       "      <td>0.365</td>\n",
       "      <td>0.125</td>\n",
       "      <td>0.5160</td>\n",
       "      <td>0.2155</td>\n",
       "      <td>0.1140</td>\n",
       "      <td>0.155</td>\n",
       "      <td>10</td>\n",
       "    </tr>\n",
       "    <tr>\n",
       "      <th>4</th>\n",
       "      <td>I</td>\n",
       "      <td>0.330</td>\n",
       "      <td>0.255</td>\n",
       "      <td>0.080</td>\n",
       "      <td>0.2050</td>\n",
       "      <td>0.0895</td>\n",
       "      <td>0.0395</td>\n",
       "      <td>0.055</td>\n",
       "      <td>7</td>\n",
       "    </tr>\n",
       "  </tbody>\n",
       "</table>\n",
       "</div>"
      ],
      "text/plain": [
       "  Sex  Length  Diameter  Height  WholeWeight  ShuckedWeight  VisceraWeight  \\\n",
       "0   M   0.455     0.365   0.095       0.5140         0.2245         0.1010   \n",
       "1   M   0.350     0.265   0.090       0.2255         0.0995         0.0485   \n",
       "2   F   0.530     0.420   0.135       0.6770         0.2565         0.1415   \n",
       "3   M   0.440     0.365   0.125       0.5160         0.2155         0.1140   \n",
       "4   I   0.330     0.255   0.080       0.2050         0.0895         0.0395   \n",
       "\n",
       "   ShellWeight  Rings  \n",
       "0        0.150     15  \n",
       "1        0.070      7  \n",
       "2        0.210      9  \n",
       "3        0.155     10  \n",
       "4        0.055      7  "
      ]
     },
     "execution_count": 3,
     "metadata": {},
     "output_type": "execute_result"
    }
   ],
   "source": [
    "data.head()"
   ]
  },
  {
   "cell_type": "code",
   "execution_count": 5,
   "id": "081e27ac",
   "metadata": {
    "ExecuteTime": {
     "end_time": "2021-05-20T14:49:28.102082Z",
     "start_time": "2021-05-20T14:49:28.098364Z"
    }
   },
   "outputs": [],
   "source": [
    "data['Sex'] = data['Sex'].apply(lambda x: 1 if x=='M' else (0 if x == 'I' else -1))"
   ]
  },
  {
   "cell_type": "code",
   "execution_count": 6,
   "id": "d886b703",
   "metadata": {
    "ExecuteTime": {
     "end_time": "2021-05-20T14:51:38.017785Z",
     "start_time": "2021-05-20T14:51:37.979530Z"
    }
   },
   "outputs": [],
   "source": [
    "X = data.iloc[:, :-1]\n",
    "y = data.iloc[:, -1]"
   ]
  },
  {
   "cell_type": "code",
   "execution_count": 8,
   "id": "fe82a7aa",
   "metadata": {
    "ExecuteTime": {
     "end_time": "2021-05-20T14:52:20.096620Z",
     "start_time": "2021-05-20T14:52:20.094265Z"
    }
   },
   "outputs": [],
   "source": [
    "from sklearn.ensemble import RandomForestRegressor"
   ]
  },
  {
   "cell_type": "code",
   "execution_count": 20,
   "id": "71bdab2a",
   "metadata": {
    "ExecuteTime": {
     "end_time": "2021-05-20T15:01:25.891114Z",
     "start_time": "2021-05-20T15:01:25.888829Z"
    }
   },
   "outputs": [],
   "source": [
    "rf = RandomForestRegressor(random_state=1)"
   ]
  },
  {
   "cell_type": "code",
   "execution_count": 21,
   "id": "e319d72d",
   "metadata": {
    "ExecuteTime": {
     "end_time": "2021-05-20T15:01:26.032038Z",
     "start_time": "2021-05-20T15:01:26.027615Z"
    }
   },
   "outputs": [],
   "source": [
    "from sklearn.model_selection import KFold\n",
    "from sklearn.model_selection import GridSearchCV"
   ]
  },
  {
   "cell_type": "code",
   "execution_count": 22,
   "id": "dd33e583",
   "metadata": {
    "ExecuteTime": {
     "end_time": "2021-05-20T15:01:26.159273Z",
     "start_time": "2021-05-20T15:01:26.154241Z"
    }
   },
   "outputs": [],
   "source": [
    "cv = KFold(random_state=1, shuffle=True)\n",
    "parametres = {'n_estimators': np.arange(1, 51)}"
   ]
  },
  {
   "cell_type": "code",
   "execution_count": 41,
   "id": "688bd552",
   "metadata": {
    "ExecuteTime": {
     "end_time": "2021-05-20T15:10:49.972902Z",
     "start_time": "2021-05-20T15:10:49.967273Z"
    }
   },
   "outputs": [],
   "source": [
    "clf = GridSearchCV(rf, parametres, cv=cv, scoring='r2', return_train_score = True, verbose=3)"
   ]
  },
  {
   "cell_type": "code",
   "execution_count": 42,
   "id": "ab9b52dc",
   "metadata": {
    "ExecuteTime": {
     "end_time": "2021-05-20T15:11:54.130088Z",
     "start_time": "2021-05-20T15:10:50.329309Z"
    }
   },
   "outputs": [
    {
     "name": "stdout",
     "output_type": "stream",
     "text": [
      "Fitting 5 folds for each of 50 candidates, totalling 250 fits\n",
      "[CV 1/5] END .................................n_estimators=1; total time=   0.0s\n",
      "[CV 2/5] END .................................n_estimators=1; total time=   0.0s\n",
      "[CV 3/5] END .................................n_estimators=1; total time=   0.0s\n",
      "[CV 4/5] END .................................n_estimators=1; total time=   0.0s\n",
      "[CV 5/5] END .................................n_estimators=1; total time=   0.0s\n",
      "[CV 1/5] END .................................n_estimators=2; total time=   0.0s\n",
      "[CV 2/5] END .................................n_estimators=2; total time=   0.0s\n",
      "[CV 3/5] END .................................n_estimators=2; total time=   0.0s\n",
      "[CV 4/5] END .................................n_estimators=2; total time=   0.0s\n",
      "[CV 5/5] END .................................n_estimators=2; total time=   0.0s\n",
      "[CV 1/5] END .................................n_estimators=3; total time=   0.0s\n",
      "[CV 2/5] END .................................n_estimators=3; total time=   0.0s\n",
      "[CV 3/5] END .................................n_estimators=3; total time=   0.0s\n",
      "[CV 4/5] END .................................n_estimators=3; total time=   0.0s\n",
      "[CV 5/5] END .................................n_estimators=3; total time=   0.0s\n",
      "[CV 1/5] END .................................n_estimators=4; total time=   0.0s\n",
      "[CV 2/5] END .................................n_estimators=4; total time=   0.0s\n",
      "[CV 3/5] END .................................n_estimators=4; total time=   0.0s\n",
      "[CV 4/5] END .................................n_estimators=4; total time=   0.0s\n",
      "[CV 5/5] END .................................n_estimators=4; total time=   0.0s\n",
      "[CV 1/5] END .................................n_estimators=5; total time=   0.0s\n",
      "[CV 2/5] END .................................n_estimators=5; total time=   0.0s\n",
      "[CV 3/5] END .................................n_estimators=5; total time=   0.0s\n",
      "[CV 4/5] END .................................n_estimators=5; total time=   0.0s\n",
      "[CV 5/5] END .................................n_estimators=5; total time=   0.0s\n",
      "[CV 1/5] END .................................n_estimators=6; total time=   0.1s\n",
      "[CV 2/5] END .................................n_estimators=6; total time=   0.1s\n",
      "[CV 3/5] END .................................n_estimators=6; total time=   0.1s\n",
      "[CV 4/5] END .................................n_estimators=6; total time=   0.1s\n",
      "[CV 5/5] END .................................n_estimators=6; total time=   0.1s\n",
      "[CV 1/5] END .................................n_estimators=7; total time=   0.1s\n",
      "[CV 2/5] END .................................n_estimators=7; total time=   0.1s\n",
      "[CV 3/5] END .................................n_estimators=7; total time=   0.1s\n",
      "[CV 4/5] END .................................n_estimators=7; total time=   0.1s\n",
      "[CV 5/5] END .................................n_estimators=7; total time=   0.1s\n",
      "[CV 1/5] END .................................n_estimators=8; total time=   0.1s\n",
      "[CV 2/5] END .................................n_estimators=8; total time=   0.1s\n",
      "[CV 3/5] END .................................n_estimators=8; total time=   0.1s\n",
      "[CV 4/5] END .................................n_estimators=8; total time=   0.1s\n",
      "[CV 5/5] END .................................n_estimators=8; total time=   0.1s\n",
      "[CV 1/5] END .................................n_estimators=9; total time=   0.1s\n",
      "[CV 2/5] END .................................n_estimators=9; total time=   0.1s\n",
      "[CV 3/5] END .................................n_estimators=9; total time=   0.1s\n",
      "[CV 4/5] END .................................n_estimators=9; total time=   0.1s\n",
      "[CV 5/5] END .................................n_estimators=9; total time=   0.1s\n",
      "[CV 1/5] END ................................n_estimators=10; total time=   0.1s\n",
      "[CV 2/5] END ................................n_estimators=10; total time=   0.1s\n",
      "[CV 3/5] END ................................n_estimators=10; total time=   0.1s\n",
      "[CV 4/5] END ................................n_estimators=10; total time=   0.1s\n",
      "[CV 5/5] END ................................n_estimators=10; total time=   0.1s\n",
      "[CV 1/5] END ................................n_estimators=11; total time=   0.1s\n",
      "[CV 2/5] END ................................n_estimators=11; total time=   0.1s\n",
      "[CV 3/5] END ................................n_estimators=11; total time=   0.1s\n",
      "[CV 4/5] END ................................n_estimators=11; total time=   0.1s\n",
      "[CV 5/5] END ................................n_estimators=11; total time=   0.1s\n",
      "[CV 1/5] END ................................n_estimators=12; total time=   0.1s\n",
      "[CV 2/5] END ................................n_estimators=12; total time=   0.1s\n",
      "[CV 3/5] END ................................n_estimators=12; total time=   0.1s\n",
      "[CV 4/5] END ................................n_estimators=12; total time=   0.1s\n",
      "[CV 5/5] END ................................n_estimators=12; total time=   0.1s\n",
      "[CV 1/5] END ................................n_estimators=13; total time=   0.1s\n",
      "[CV 2/5] END ................................n_estimators=13; total time=   0.1s\n",
      "[CV 3/5] END ................................n_estimators=13; total time=   0.1s\n",
      "[CV 4/5] END ................................n_estimators=13; total time=   0.1s\n",
      "[CV 5/5] END ................................n_estimators=13; total time=   0.1s\n",
      "[CV 1/5] END ................................n_estimators=14; total time=   0.1s\n",
      "[CV 2/5] END ................................n_estimators=14; total time=   0.1s\n",
      "[CV 3/5] END ................................n_estimators=14; total time=   0.1s\n",
      "[CV 4/5] END ................................n_estimators=14; total time=   0.1s\n",
      "[CV 5/5] END ................................n_estimators=14; total time=   0.1s\n",
      "[CV 1/5] END ................................n_estimators=15; total time=   0.2s\n",
      "[CV 2/5] END ................................n_estimators=15; total time=   0.2s\n",
      "[CV 3/5] END ................................n_estimators=15; total time=   0.1s\n",
      "[CV 4/5] END ................................n_estimators=15; total time=   0.1s\n",
      "[CV 5/5] END ................................n_estimators=15; total time=   0.1s\n",
      "[CV 1/5] END ................................n_estimators=16; total time=   0.1s\n",
      "[CV 2/5] END ................................n_estimators=16; total time=   0.1s\n",
      "[CV 3/5] END ................................n_estimators=16; total time=   0.1s\n",
      "[CV 4/5] END ................................n_estimators=16; total time=   0.2s\n",
      "[CV 5/5] END ................................n_estimators=16; total time=   0.1s\n",
      "[CV 1/5] END ................................n_estimators=17; total time=   0.2s\n",
      "[CV 2/5] END ................................n_estimators=17; total time=   0.1s\n",
      "[CV 3/5] END ................................n_estimators=17; total time=   0.2s\n",
      "[CV 4/5] END ................................n_estimators=17; total time=   0.2s\n",
      "[CV 5/5] END ................................n_estimators=17; total time=   0.2s\n",
      "[CV 1/5] END ................................n_estimators=18; total time=   0.2s\n",
      "[CV 2/5] END ................................n_estimators=18; total time=   0.2s\n",
      "[CV 3/5] END ................................n_estimators=18; total time=   0.2s\n",
      "[CV 4/5] END ................................n_estimators=18; total time=   0.2s\n",
      "[CV 5/5] END ................................n_estimators=18; total time=   0.2s\n",
      "[CV 1/5] END ................................n_estimators=19; total time=   0.2s\n",
      "[CV 2/5] END ................................n_estimators=19; total time=   0.2s\n",
      "[CV 3/5] END ................................n_estimators=19; total time=   0.2s\n",
      "[CV 4/5] END ................................n_estimators=19; total time=   0.2s\n",
      "[CV 5/5] END ................................n_estimators=19; total time=   0.2s\n",
      "[CV 1/5] END ................................n_estimators=20; total time=   0.2s\n",
      "[CV 2/5] END ................................n_estimators=20; total time=   0.2s\n",
      "[CV 3/5] END ................................n_estimators=20; total time=   0.2s\n",
      "[CV 4/5] END ................................n_estimators=20; total time=   0.2s\n",
      "[CV 5/5] END ................................n_estimators=20; total time=   0.2s\n",
      "[CV 1/5] END ................................n_estimators=21; total time=   0.2s\n"
     ]
    },
    {
     "name": "stdout",
     "output_type": "stream",
     "text": [
      "[CV 2/5] END ................................n_estimators=21; total time=   0.2s\n",
      "[CV 3/5] END ................................n_estimators=21; total time=   0.2s\n",
      "[CV 4/5] END ................................n_estimators=21; total time=   0.2s\n",
      "[CV 5/5] END ................................n_estimators=21; total time=   0.2s\n",
      "[CV 1/5] END ................................n_estimators=22; total time=   0.2s\n",
      "[CV 2/5] END ................................n_estimators=22; total time=   0.2s\n",
      "[CV 3/5] END ................................n_estimators=22; total time=   0.2s\n",
      "[CV 4/5] END ................................n_estimators=22; total time=   0.2s\n",
      "[CV 5/5] END ................................n_estimators=22; total time=   0.2s\n",
      "[CV 1/5] END ................................n_estimators=23; total time=   0.2s\n",
      "[CV 2/5] END ................................n_estimators=23; total time=   0.2s\n",
      "[CV 3/5] END ................................n_estimators=23; total time=   0.2s\n",
      "[CV 4/5] END ................................n_estimators=23; total time=   0.2s\n",
      "[CV 5/5] END ................................n_estimators=23; total time=   0.2s\n",
      "[CV 1/5] END ................................n_estimators=24; total time=   0.2s\n",
      "[CV 2/5] END ................................n_estimators=24; total time=   0.2s\n",
      "[CV 3/5] END ................................n_estimators=24; total time=   0.2s\n",
      "[CV 4/5] END ................................n_estimators=24; total time=   0.2s\n",
      "[CV 5/5] END ................................n_estimators=24; total time=   0.2s\n",
      "[CV 1/5] END ................................n_estimators=25; total time=   0.2s\n",
      "[CV 2/5] END ................................n_estimators=25; total time=   0.2s\n",
      "[CV 3/5] END ................................n_estimators=25; total time=   0.2s\n",
      "[CV 4/5] END ................................n_estimators=25; total time=   0.2s\n",
      "[CV 5/5] END ................................n_estimators=25; total time=   0.2s\n",
      "[CV 1/5] END ................................n_estimators=26; total time=   0.2s\n",
      "[CV 2/5] END ................................n_estimators=26; total time=   0.2s\n",
      "[CV 3/5] END ................................n_estimators=26; total time=   0.2s\n",
      "[CV 4/5] END ................................n_estimators=26; total time=   0.2s\n",
      "[CV 5/5] END ................................n_estimators=26; total time=   0.2s\n",
      "[CV 1/5] END ................................n_estimators=27; total time=   0.3s\n",
      "[CV 2/5] END ................................n_estimators=27; total time=   0.2s\n",
      "[CV 3/5] END ................................n_estimators=27; total time=   0.2s\n",
      "[CV 4/5] END ................................n_estimators=27; total time=   0.2s\n",
      "[CV 5/5] END ................................n_estimators=27; total time=   0.2s\n",
      "[CV 1/5] END ................................n_estimators=28; total time=   0.2s\n",
      "[CV 2/5] END ................................n_estimators=28; total time=   0.2s\n",
      "[CV 3/5] END ................................n_estimators=28; total time=   0.2s\n",
      "[CV 4/5] END ................................n_estimators=28; total time=   0.2s\n",
      "[CV 5/5] END ................................n_estimators=28; total time=   0.2s\n",
      "[CV 1/5] END ................................n_estimators=29; total time=   0.2s\n",
      "[CV 2/5] END ................................n_estimators=29; total time=   0.3s\n",
      "[CV 3/5] END ................................n_estimators=29; total time=   0.2s\n",
      "[CV 4/5] END ................................n_estimators=29; total time=   0.2s\n",
      "[CV 5/5] END ................................n_estimators=29; total time=   0.2s\n",
      "[CV 1/5] END ................................n_estimators=30; total time=   0.3s\n",
      "[CV 2/5] END ................................n_estimators=30; total time=   0.3s\n",
      "[CV 3/5] END ................................n_estimators=30; total time=   0.3s\n",
      "[CV 4/5] END ................................n_estimators=30; total time=   0.3s\n",
      "[CV 5/5] END ................................n_estimators=30; total time=   0.3s\n",
      "[CV 1/5] END ................................n_estimators=31; total time=   0.3s\n",
      "[CV 2/5] END ................................n_estimators=31; total time=   0.3s\n",
      "[CV 3/5] END ................................n_estimators=31; total time=   0.3s\n",
      "[CV 4/5] END ................................n_estimators=31; total time=   0.3s\n",
      "[CV 5/5] END ................................n_estimators=31; total time=   0.3s\n",
      "[CV 1/5] END ................................n_estimators=32; total time=   0.3s\n",
      "[CV 2/5] END ................................n_estimators=32; total time=   0.3s\n",
      "[CV 3/5] END ................................n_estimators=32; total time=   0.3s\n",
      "[CV 4/5] END ................................n_estimators=32; total time=   0.3s\n",
      "[CV 5/5] END ................................n_estimators=32; total time=   0.3s\n",
      "[CV 1/5] END ................................n_estimators=33; total time=   0.3s\n",
      "[CV 2/5] END ................................n_estimators=33; total time=   0.3s\n",
      "[CV 3/5] END ................................n_estimators=33; total time=   0.3s\n",
      "[CV 4/5] END ................................n_estimators=33; total time=   0.3s\n",
      "[CV 5/5] END ................................n_estimators=33; total time=   0.3s\n",
      "[CV 1/5] END ................................n_estimators=34; total time=   0.3s\n",
      "[CV 2/5] END ................................n_estimators=34; total time=   0.3s\n",
      "[CV 3/5] END ................................n_estimators=34; total time=   0.3s\n",
      "[CV 4/5] END ................................n_estimators=34; total time=   0.3s\n",
      "[CV 5/5] END ................................n_estimators=34; total time=   0.3s\n",
      "[CV 1/5] END ................................n_estimators=35; total time=   0.3s\n",
      "[CV 2/5] END ................................n_estimators=35; total time=   0.3s\n",
      "[CV 3/5] END ................................n_estimators=35; total time=   0.3s\n",
      "[CV 4/5] END ................................n_estimators=35; total time=   0.3s\n",
      "[CV 5/5] END ................................n_estimators=35; total time=   0.3s\n",
      "[CV 1/5] END ................................n_estimators=36; total time=   0.3s\n",
      "[CV 2/5] END ................................n_estimators=36; total time=   0.3s\n",
      "[CV 3/5] END ................................n_estimators=36; total time=   0.4s\n",
      "[CV 4/5] END ................................n_estimators=36; total time=   0.3s\n",
      "[CV 5/5] END ................................n_estimators=36; total time=   0.3s\n",
      "[CV 1/5] END ................................n_estimators=37; total time=   0.3s\n",
      "[CV 2/5] END ................................n_estimators=37; total time=   0.3s\n",
      "[CV 3/5] END ................................n_estimators=37; total time=   0.4s\n",
      "[CV 4/5] END ................................n_estimators=37; total time=   0.4s\n",
      "[CV 5/5] END ................................n_estimators=37; total time=   0.4s\n",
      "[CV 1/5] END ................................n_estimators=38; total time=   0.4s\n",
      "[CV 2/5] END ................................n_estimators=38; total time=   0.4s\n",
      "[CV 3/5] END ................................n_estimators=38; total time=   0.4s\n",
      "[CV 4/5] END ................................n_estimators=38; total time=   0.4s\n",
      "[CV 5/5] END ................................n_estimators=38; total time=   0.4s\n",
      "[CV 1/5] END ................................n_estimators=39; total time=   0.4s\n",
      "[CV 2/5] END ................................n_estimators=39; total time=   0.4s\n",
      "[CV 3/5] END ................................n_estimators=39; total time=   0.5s\n",
      "[CV 4/5] END ................................n_estimators=39; total time=   0.4s\n",
      "[CV 5/5] END ................................n_estimators=39; total time=   0.4s\n",
      "[CV 1/5] END ................................n_estimators=40; total time=   0.4s\n",
      "[CV 2/5] END ................................n_estimators=40; total time=   0.4s\n",
      "[CV 3/5] END ................................n_estimators=40; total time=   0.4s\n",
      "[CV 4/5] END ................................n_estimators=40; total time=   0.4s\n",
      "[CV 5/5] END ................................n_estimators=40; total time=   0.4s\n",
      "[CV 1/5] END ................................n_estimators=41; total time=   0.4s\n",
      "[CV 2/5] END ................................n_estimators=41; total time=   0.4s\n",
      "[CV 3/5] END ................................n_estimators=41; total time=   0.4s\n"
     ]
    },
    {
     "name": "stdout",
     "output_type": "stream",
     "text": [
      "[CV 4/5] END ................................n_estimators=41; total time=   0.4s\n",
      "[CV 5/5] END ................................n_estimators=41; total time=   0.4s\n",
      "[CV 1/5] END ................................n_estimators=42; total time=   0.4s\n",
      "[CV 2/5] END ................................n_estimators=42; total time=   0.4s\n",
      "[CV 3/5] END ................................n_estimators=42; total time=   0.4s\n",
      "[CV 4/5] END ................................n_estimators=42; total time=   0.4s\n",
      "[CV 5/5] END ................................n_estimators=42; total time=   0.4s\n",
      "[CV 1/5] END ................................n_estimators=43; total time=   0.4s\n",
      "[CV 2/5] END ................................n_estimators=43; total time=   0.4s\n",
      "[CV 3/5] END ................................n_estimators=43; total time=   0.4s\n",
      "[CV 4/5] END ................................n_estimators=43; total time=   0.4s\n",
      "[CV 5/5] END ................................n_estimators=43; total time=   0.4s\n",
      "[CV 1/5] END ................................n_estimators=44; total time=   0.4s\n",
      "[CV 2/5] END ................................n_estimators=44; total time=   0.4s\n",
      "[CV 3/5] END ................................n_estimators=44; total time=   0.4s\n",
      "[CV 4/5] END ................................n_estimators=44; total time=   0.4s\n",
      "[CV 5/5] END ................................n_estimators=44; total time=   0.4s\n",
      "[CV 1/5] END ................................n_estimators=45; total time=   0.4s\n",
      "[CV 2/5] END ................................n_estimators=45; total time=   0.4s\n",
      "[CV 3/5] END ................................n_estimators=45; total time=   0.4s\n",
      "[CV 4/5] END ................................n_estimators=45; total time=   0.4s\n",
      "[CV 5/5] END ................................n_estimators=45; total time=   0.4s\n",
      "[CV 1/5] END ................................n_estimators=46; total time=   0.5s\n",
      "[CV 2/5] END ................................n_estimators=46; total time=   0.5s\n",
      "[CV 3/5] END ................................n_estimators=46; total time=   0.5s\n",
      "[CV 4/5] END ................................n_estimators=46; total time=   0.4s\n",
      "[CV 5/5] END ................................n_estimators=46; total time=   0.4s\n",
      "[CV 1/5] END ................................n_estimators=47; total time=   0.5s\n",
      "[CV 2/5] END ................................n_estimators=47; total time=   0.5s\n",
      "[CV 3/5] END ................................n_estimators=47; total time=   0.5s\n",
      "[CV 4/5] END ................................n_estimators=47; total time=   0.5s\n",
      "[CV 5/5] END ................................n_estimators=47; total time=   0.5s\n",
      "[CV 1/5] END ................................n_estimators=48; total time=   0.5s\n",
      "[CV 2/5] END ................................n_estimators=48; total time=   0.5s\n",
      "[CV 3/5] END ................................n_estimators=48; total time=   0.5s\n",
      "[CV 4/5] END ................................n_estimators=48; total time=   0.5s\n",
      "[CV 5/5] END ................................n_estimators=48; total time=   0.5s\n",
      "[CV 1/5] END ................................n_estimators=49; total time=   0.5s\n",
      "[CV 2/5] END ................................n_estimators=49; total time=   0.5s\n",
      "[CV 3/5] END ................................n_estimators=49; total time=   0.5s\n",
      "[CV 4/5] END ................................n_estimators=49; total time=   0.5s\n",
      "[CV 5/5] END ................................n_estimators=49; total time=   0.5s\n",
      "[CV 1/5] END ................................n_estimators=50; total time=   0.5s\n",
      "[CV 2/5] END ................................n_estimators=50; total time=   0.6s\n",
      "[CV 3/5] END ................................n_estimators=50; total time=   0.5s\n",
      "[CV 4/5] END ................................n_estimators=50; total time=   0.5s\n",
      "[CV 5/5] END ................................n_estimators=50; total time=   0.5s\n"
     ]
    },
    {
     "data": {
      "text/plain": [
       "GridSearchCV(cv=KFold(n_splits=5, random_state=1, shuffle=True),\n",
       "             estimator=RandomForestRegressor(random_state=1),\n",
       "             param_grid={'n_estimators': array([ 1,  2,  3,  4,  5,  6,  7,  8,  9, 10, 11, 12, 13, 14, 15, 16, 17,\n",
       "       18, 19, 20, 21, 22, 23, 24, 25, 26, 27, 28, 29, 30, 31, 32, 33, 34,\n",
       "       35, 36, 37, 38, 39, 40, 41, 42, 43, 44, 45, 46, 47, 48, 49, 50])},\n",
       "             return_train_score=True, scoring='r2', verbose=3)"
      ]
     },
     "execution_count": 42,
     "metadata": {},
     "output_type": "execute_result"
    }
   ],
   "source": [
    "clf.fit(X, y)"
   ]
  },
  {
   "cell_type": "code",
   "execution_count": 57,
   "id": "9f251eac",
   "metadata": {
    "ExecuteTime": {
     "end_time": "2021-05-20T15:21:36.745966Z",
     "start_time": "2021-05-20T15:21:36.743556Z"
    }
   },
   "outputs": [],
   "source": [
    "scores = clf.cv_results_['mean_test_score']"
   ]
  },
  {
   "cell_type": "code",
   "execution_count": 62,
   "id": "bfdef931",
   "metadata": {
    "ExecuteTime": {
     "end_time": "2021-05-20T15:26:25.952881Z",
     "start_time": "2021-05-20T15:26:25.945790Z"
    }
   },
   "outputs": [
    {
     "data": {
      "text/plain": [
       "28"
      ]
     },
     "execution_count": 62,
     "metadata": {},
     "output_type": "execute_result"
    }
   ],
   "source": [
    "np.argmax(scores >= 0.525)+1"
   ]
  }
 ],
 "metadata": {
  "kernelspec": {
   "display_name": "Python 3",
   "language": "python",
   "name": "python3"
  },
  "language_info": {
   "codemirror_mode": {
    "name": "ipython",
    "version": 3
   },
   "file_extension": ".py",
   "mimetype": "text/x-python",
   "name": "python",
   "nbconvert_exporter": "python",
   "pygments_lexer": "ipython3",
   "version": "3.9.2"
  },
  "toc": {
   "base_numbering": 1,
   "nav_menu": {},
   "number_sections": true,
   "sideBar": true,
   "skip_h1_title": false,
   "title_cell": "Table of Contents",
   "title_sidebar": "Contents",
   "toc_cell": false,
   "toc_position": {},
   "toc_section_display": true,
   "toc_window_display": false
  },
  "varInspector": {
   "cols": {
    "lenName": 16,
    "lenType": 16,
    "lenVar": 40
   },
   "kernels_config": {
    "python": {
     "delete_cmd_postfix": "",
     "delete_cmd_prefix": "del ",
     "library": "var_list.py",
     "varRefreshCmd": "print(var_dic_list())"
    },
    "r": {
     "delete_cmd_postfix": ") ",
     "delete_cmd_prefix": "rm(",
     "library": "var_list.r",
     "varRefreshCmd": "cat(var_dic_list()) "
    }
   },
   "types_to_exclude": [
    "module",
    "function",
    "builtin_function_or_method",
    "instance",
    "_Feature"
   ],
   "window_display": false
  }
 },
 "nbformat": 4,
 "nbformat_minor": 5
}
