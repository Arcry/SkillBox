{
 "cells": [
  {
   "cell_type": "code",
   "execution_count": 1,
   "id": "3812a55c",
   "metadata": {
    "ExecuteTime": {
     "end_time": "2021-05-17T18:07:44.554653Z",
     "start_time": "2021-05-17T18:07:43.194047Z"
    }
   },
   "outputs": [],
   "source": [
    "import pandas as pd\n",
    "import numpy as np\n",
    "import matplotlib.pyplot as plt"
   ]
  },
  {
   "cell_type": "code",
   "execution_count": 2,
   "id": "ae42c99f",
   "metadata": {
    "ExecuteTime": {
     "end_time": "2021-05-17T18:08:19.440833Z",
     "start_time": "2021-05-17T18:08:19.409377Z"
    }
   },
   "outputs": [],
   "source": [
    "data_clf = pd.read_csv('C:/Users/Arcry/SkillBox/ML_HSE/files/classification.csv')\n",
    "scores = pd.read_csv('C:/Users/Arcry/SkillBox/ML_HSE/files/scores.csv')"
   ]
  },
  {
   "cell_type": "code",
   "execution_count": 3,
   "id": "e437a44c",
   "metadata": {
    "ExecuteTime": {
     "end_time": "2021-05-17T18:08:27.273392Z",
     "start_time": "2021-05-17T18:08:27.249364Z"
    }
   },
   "outputs": [
    {
     "data": {
      "text/html": [
       "<div>\n",
       "<style scoped>\n",
       "    .dataframe tbody tr th:only-of-type {\n",
       "        vertical-align: middle;\n",
       "    }\n",
       "\n",
       "    .dataframe tbody tr th {\n",
       "        vertical-align: top;\n",
       "    }\n",
       "\n",
       "    .dataframe thead th {\n",
       "        text-align: right;\n",
       "    }\n",
       "</style>\n",
       "<table border=\"1\" class=\"dataframe\">\n",
       "  <thead>\n",
       "    <tr style=\"text-align: right;\">\n",
       "      <th></th>\n",
       "      <th>true</th>\n",
       "      <th>pred</th>\n",
       "    </tr>\n",
       "  </thead>\n",
       "  <tbody>\n",
       "    <tr>\n",
       "      <th>0</th>\n",
       "      <td>1</td>\n",
       "      <td>0</td>\n",
       "    </tr>\n",
       "    <tr>\n",
       "      <th>1</th>\n",
       "      <td>1</td>\n",
       "      <td>1</td>\n",
       "    </tr>\n",
       "    <tr>\n",
       "      <th>2</th>\n",
       "      <td>1</td>\n",
       "      <td>1</td>\n",
       "    </tr>\n",
       "    <tr>\n",
       "      <th>3</th>\n",
       "      <td>0</td>\n",
       "      <td>0</td>\n",
       "    </tr>\n",
       "    <tr>\n",
       "      <th>4</th>\n",
       "      <td>1</td>\n",
       "      <td>1</td>\n",
       "    </tr>\n",
       "  </tbody>\n",
       "</table>\n",
       "</div>"
      ],
      "text/plain": [
       "   true  pred\n",
       "0     1     0\n",
       "1     1     1\n",
       "2     1     1\n",
       "3     0     0\n",
       "4     1     1"
      ]
     },
     "execution_count": 3,
     "metadata": {},
     "output_type": "execute_result"
    }
   ],
   "source": [
    "data_clf.head()"
   ]
  },
  {
   "cell_type": "code",
   "execution_count": 4,
   "id": "a631195d",
   "metadata": {
    "ExecuteTime": {
     "end_time": "2021-05-17T18:08:33.751361Z",
     "start_time": "2021-05-17T18:08:33.728363Z"
    }
   },
   "outputs": [
    {
     "data": {
      "text/html": [
       "<div>\n",
       "<style scoped>\n",
       "    .dataframe tbody tr th:only-of-type {\n",
       "        vertical-align: middle;\n",
       "    }\n",
       "\n",
       "    .dataframe tbody tr th {\n",
       "        vertical-align: top;\n",
       "    }\n",
       "\n",
       "    .dataframe thead th {\n",
       "        text-align: right;\n",
       "    }\n",
       "</style>\n",
       "<table border=\"1\" class=\"dataframe\">\n",
       "  <thead>\n",
       "    <tr style=\"text-align: right;\">\n",
       "      <th></th>\n",
       "      <th>true</th>\n",
       "      <th>score_logreg</th>\n",
       "      <th>score_svm</th>\n",
       "      <th>score_knn</th>\n",
       "      <th>score_tree</th>\n",
       "    </tr>\n",
       "  </thead>\n",
       "  <tbody>\n",
       "    <tr>\n",
       "      <th>0</th>\n",
       "      <td>0</td>\n",
       "      <td>0.683832</td>\n",
       "      <td>0.145976</td>\n",
       "      <td>0.787063</td>\n",
       "      <td>0.500000</td>\n",
       "    </tr>\n",
       "    <tr>\n",
       "      <th>1</th>\n",
       "      <td>1</td>\n",
       "      <td>0.801966</td>\n",
       "      <td>0.239511</td>\n",
       "      <td>1.000000</td>\n",
       "      <td>0.833333</td>\n",
       "    </tr>\n",
       "    <tr>\n",
       "      <th>2</th>\n",
       "      <td>0</td>\n",
       "      <td>0.382315</td>\n",
       "      <td>-0.245701</td>\n",
       "      <td>0.000000</td>\n",
       "      <td>0.000000</td>\n",
       "    </tr>\n",
       "    <tr>\n",
       "      <th>3</th>\n",
       "      <td>1</td>\n",
       "      <td>0.506797</td>\n",
       "      <td>-0.137058</td>\n",
       "      <td>0.000000</td>\n",
       "      <td>0.105263</td>\n",
       "    </tr>\n",
       "    <tr>\n",
       "      <th>4</th>\n",
       "      <td>1</td>\n",
       "      <td>0.488781</td>\n",
       "      <td>-0.154148</td>\n",
       "      <td>0.000000</td>\n",
       "      <td>0.105263</td>\n",
       "    </tr>\n",
       "  </tbody>\n",
       "</table>\n",
       "</div>"
      ],
      "text/plain": [
       "   true  score_logreg  score_svm  score_knn  score_tree\n",
       "0     0      0.683832   0.145976   0.787063    0.500000\n",
       "1     1      0.801966   0.239511   1.000000    0.833333\n",
       "2     0      0.382315  -0.245701   0.000000    0.000000\n",
       "3     1      0.506797  -0.137058   0.000000    0.105263\n",
       "4     1      0.488781  -0.154148   0.000000    0.105263"
      ]
     },
     "execution_count": 4,
     "metadata": {},
     "output_type": "execute_result"
    }
   ],
   "source": [
    "scores.head()"
   ]
  },
  {
   "cell_type": "code",
   "execution_count": 5,
   "id": "64c9e527",
   "metadata": {
    "ExecuteTime": {
     "end_time": "2021-05-17T18:17:49.604116Z",
     "start_time": "2021-05-17T18:17:49.593148Z"
    }
   },
   "outputs": [],
   "source": [
    "from sklearn.metrics import confusion_matrix"
   ]
  },
  {
   "cell_type": "code",
   "execution_count": 6,
   "id": "cd2a6f52",
   "metadata": {
    "ExecuteTime": {
     "end_time": "2021-05-17T18:19:15.074486Z",
     "start_time": "2021-05-17T18:19:15.056485Z"
    }
   },
   "outputs": [
    {
     "data": {
      "text/plain": [
       "array([[64, 34],\n",
       "       [59, 43]], dtype=int64)"
      ]
     },
     "execution_count": 6,
     "metadata": {},
     "output_type": "execute_result"
    }
   ],
   "source": [
    "confusion_matrix(y_true=data_clf['true'], y_pred=data_clf['pred'])"
   ]
  },
  {
   "cell_type": "code",
   "execution_count": 25,
   "id": "5ee3c273",
   "metadata": {
    "ExecuteTime": {
     "end_time": "2021-05-17T18:37:26.036545Z",
     "start_time": "2021-05-17T18:37:26.018531Z"
    }
   },
   "outputs": [],
   "source": [
    "from sklearn.metrics import recall_score, accuracy_score, precision_score,\\\n",
    "        f1_score, roc_auc_score, precision_recall_curve\n"
   ]
  },
  {
   "cell_type": "code",
   "execution_count": 9,
   "id": "6e3ba52c",
   "metadata": {
    "ExecuteTime": {
     "end_time": "2021-05-17T18:29:36.007348Z",
     "start_time": "2021-05-17T18:29:35.986314Z"
    }
   },
   "outputs": [
    {
     "name": "stdout",
     "output_type": "stream",
     "text": [
      "Accuracy 0.535\n",
      "Precision 0.5584415584415584\n",
      "Recall 0.4215686274509804\n",
      "F1 0.48044692737430167\n"
     ]
    }
   ],
   "source": [
    "print('Accuracy', accuracy_score(y_true=data_clf['true'], y_pred=data_clf['pred']))\n",
    "print('Precision', precision_score(y_true=data_clf['true'], y_pred=data_clf['pred']))\n",
    "print('Recall', recall_score(y_true=data_clf['true'], y_pred=data_clf['pred']))\n",
    "print('F1', f1_score(y_true=data_clf['true'], y_pred=data_clf['pred']))"
   ]
  },
  {
   "cell_type": "code",
   "execution_count": 14,
   "id": "122bed56",
   "metadata": {
    "ExecuteTime": {
     "end_time": "2021-05-17T18:33:02.423271Z",
     "start_time": "2021-05-17T18:33:02.410271Z"
    }
   },
   "outputs": [
    {
     "data": {
      "text/plain": [
       "4"
      ]
     },
     "execution_count": 14,
     "metadata": {},
     "output_type": "execute_result"
    }
   ],
   "source": [
    "scores"
   ]
  },
  {
   "cell_type": "code",
   "execution_count": 24,
   "id": "bc0e1d43",
   "metadata": {
    "ExecuteTime": {
     "end_time": "2021-05-17T18:36:13.895974Z",
     "start_time": "2021-05-17T18:36:13.873974Z"
    }
   },
   "outputs": [
    {
     "name": "stdout",
     "output_type": "stream",
     "text": [
      "score_logreg roc_auc =  0.719187675070028\n",
      "score_svm roc_auc =  0.7086834733893557\n",
      "score_knn roc_auc =  0.6351540616246498\n",
      "score_tree roc_auc =  0.6919267707082833\n"
     ]
    }
   ],
   "source": [
    "for i in range(1, 5):\n",
    "    print(scores.iloc[:,i].name, 'roc_auc = ', roc_auc_score(scores.iloc[:,0], scores.iloc[:,i]))"
   ]
  },
  {
   "cell_type": "code",
   "execution_count": 18,
   "id": "50b8bd8a",
   "metadata": {
    "ExecuteTime": {
     "end_time": "2021-05-17T18:33:44.153130Z",
     "start_time": "2021-05-17T18:33:44.145132Z"
    }
   },
   "outputs": [
    {
     "data": {
      "text/plain": [
       "'score_logreg'"
      ]
     },
     "execution_count": 18,
     "metadata": {},
     "output_type": "execute_result"
    }
   ],
   "source": [
    "scores.iloc[:,1].name"
   ]
  },
  {
   "cell_type": "code",
   "execution_count": 44,
   "id": "a251388c",
   "metadata": {
    "ExecuteTime": {
     "end_time": "2021-05-17T18:47:15.870775Z",
     "start_time": "2021-05-17T18:47:15.499760Z"
    }
   },
   "outputs": [
    {
     "data": {
      "text/plain": [
       "<matplotlib.legend.Legend at 0x2aa360e8508>"
      ]
     },
     "execution_count": 44,
     "metadata": {},
     "output_type": "execute_result"
    },
    {
     "data": {
      "image/png": "[encoded data removed]",
      "text/plain": [
       "<Figure size 432x288 with 1 Axes>"
      ]
     },
     "metadata": {
      "needs_background": "light"
     },
     "output_type": "display_data"
    }
   ],
   "source": [
    "for i in range(1, 5):\n",
    "    precision, recall, threshholds = precision_recall_curve(scores.iloc[:,0], scores.iloc[:,i])\n",
    "    plt.plot(recall, precision, label=scores.iloc[:,i].name)\n",
    "    plt.xlim(0.7,1)\n",
    "    plt.ylim(0.5, 0.7)\n",
    "plt.legend()"
   ]
  },
  {
   "cell_type": "code",
   "execution_count": 43,
   "id": "74119cbe",
   "metadata": {
    "ExecuteTime": {
     "end_time": "2021-05-17T18:46:16.184220Z",
     "start_time": "2021-05-17T18:46:16.178207Z"
    }
   },
   "outputs": [
    {
     "data": {
      "text/plain": [
       "0.6517857142857143"
      ]
     },
     "execution_count": 43,
     "metadata": {},
     "output_type": "execute_result"
    }
   ],
   "source": [
    "precision[(recall >= 0.7)].max()"
   ]
  }
 ],
 "metadata": {
  "kernelspec": {
   "display_name": "Python 3",
   "language": "python",
   "name": "python3"
  },
  "language_info": {
   "codemirror_mode": {
    "name": "ipython",
    "version": 3
   },
   "file_extension": ".py",
   "mimetype": "text/x-python",
   "name": "python",
   "nbconvert_exporter": "python",
   "pygments_lexer": "ipython3",
   "version": "3.7.10"
  },
  "toc": {
   "base_numbering": 1,
   "nav_menu": {},
   "number_sections": true,
   "sideBar": true,
   "skip_h1_title": false,
   "title_cell": "Table of Contents",
   "title_sidebar": "Contents",
   "toc_cell": false,
   "toc_position": {},
   "toc_section_display": true,
   "toc_window_display": false
  }
 },
 "nbformat": 4,
 "nbformat_minor": 5
}
