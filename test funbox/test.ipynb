{
 "cells": [
  {
   "cell_type": "code",
   "execution_count": 557,
   "id": "e397a366",
   "metadata": {
    "ExecuteTime": {
     "end_time": "2021-06-09T14:06:49.590438Z",
     "start_time": "2021-06-09T14:06:49.577437Z"
    }
   },
   "outputs": [],
   "source": [
    "import pandas as pd\n",
    "import numpy as np\n",
    "import matplotlib.pyplot as plt\n",
    "from statistics import median, mean"
   ]
  },
  {
   "cell_type": "code",
   "execution_count": 558,
   "id": "0d1c13fd",
   "metadata": {
    "ExecuteTime": {
     "end_time": "2021-06-09T14:06:50.917901Z",
     "start_time": "2021-06-09T14:06:49.717931Z"
    }
   },
   "outputs": [],
   "source": [
    "data = pd.read_csv('C:/Users/Arcry/Test_funbox/event_sample.csv', delimiter=';', header=None)"
   ]
  },
  {
   "cell_type": "code",
   "execution_count": 559,
   "id": "212fcd0c",
   "metadata": {
    "ExecuteTime": {
     "end_time": "2021-06-09T14:06:50.933902Z",
     "start_time": "2021-06-09T14:06:50.919901Z"
    }
   },
   "outputs": [],
   "source": [
    "data.columns = ['id', 'time', 'longitude', 'latitude']"
   ]
  },
  {
   "cell_type": "code",
   "execution_count": 560,
   "id": "5447c143",
   "metadata": {
    "ExecuteTime": {
     "end_time": "2021-06-09T14:06:51.903474Z",
     "start_time": "2021-06-09T14:06:50.936902Z"
    }
   },
   "outputs": [],
   "source": [
    "data['time'] = pd.to_datetime(data['time'])\n",
    "data.index = data['time']"
   ]
  },
  {
   "cell_type": "code",
   "execution_count": 561,
   "id": "eeabf5df",
   "metadata": {
    "ExecuteTime": {
     "end_time": "2021-06-09T14:06:51.919441Z",
     "start_time": "2021-06-09T14:06:51.905489Z"
    }
   },
   "outputs": [
    {
     "name": "stdout",
     "output_type": "stream",
     "text": [
      "<class 'pandas.core.frame.DataFrame'>\n",
      "DatetimeIndex: 1727040 entries, 2017-03-20 00:00:18+03:00 to 2017-03-21 00:00:00+03:00\n",
      "Data columns (total 4 columns):\n",
      " #   Column     Dtype                                \n",
      "---  ------     -----                                \n",
      " 0   id         int64                                \n",
      " 1   time       datetime64[ns, pytz.FixedOffset(180)]\n",
      " 2   longitude  float64                              \n",
      " 3   latitude   float64                              \n",
      "dtypes: datetime64[ns, pytz.FixedOffset(180)](1), float64(2), int64(1)\n",
      "memory usage: 65.9 MB\n"
     ]
    }
   ],
   "source": [
    "data.info()"
   ]
  },
  {
   "cell_type": "code",
   "execution_count": 606,
   "id": "63cd494a",
   "metadata": {
    "ExecuteTime": {
     "end_time": "2021-06-09T14:21:05.622907Z",
     "start_time": "2021-06-09T14:21:05.598942Z"
    }
   },
   "outputs": [],
   "source": [
    "ids = data['id'].unique()"
   ]
  },
  {
   "cell_type": "code",
   "execution_count": 563,
   "id": "472ddef8",
   "metadata": {
    "ExecuteTime": {
     "end_time": "2021-06-09T14:06:52.512358Z",
     "start_time": "2021-06-09T14:06:52.486328Z"
    }
   },
   "outputs": [
    {
     "data": {
      "text/plain": [
       "id           0\n",
       "time         0\n",
       "longitude    0\n",
       "latitude     0\n",
       "dtype: int64"
      ]
     },
     "execution_count": 563,
     "metadata": {},
     "output_type": "execute_result"
    }
   ],
   "source": [
    "data.isna().sum()"
   ]
  },
  {
   "cell_type": "code",
   "execution_count": 564,
   "id": "e7f3ed00",
   "metadata": {
    "ExecuteTime": {
     "end_time": "2021-06-09T14:06:52.904783Z",
     "start_time": "2021-06-09T14:06:52.887761Z"
    }
   },
   "outputs": [],
   "source": [
    "# http://www.movable-type.co.uk/scripts/latlong.html\n",
    "# функция для вычисления расстояния между двумя координатами\n",
    "from math import radians, cos, sin, asin, sqrt, atan2\n",
    "def haversine(x):\n",
    "    # конвертируем значения градусов в радианы \n",
    "    lon1, lat1, lon2, lat2 = map(radians, [x['min_longitude'], x['min_latitude'], x['max_longitude'], x['max_latitude']])\n",
    "    # формула для вычисления расстояния с использоанием гаверсинуса\n",
    "    dlon = lon2 - lon1 \n",
    "    dlat = lat2 - lat1 \n",
    "    a = sin(dlat/2)**2 + cos(lat1) * cos(lat2) * sin(dlon/2)**2\n",
    "    c = 2 * asin(sqrt(a)) \n",
    "    # Радиус Земли в километрах равен 6371\n",
    "    km = 6371* c \n",
    "    return km"
   ]
  },
  {
   "cell_type": "markdown",
   "id": "9fad9179",
   "metadata": {
    "ExecuteTime": {
     "end_time": "2021-06-08T19:33:57.077144Z",
     "start_time": "2021-06-08T19:33:56.980146Z"
    }
   },
   "source": [
    "Возьмем за нахождение дома промежуток времени с 21:00 до 07:00."
   ]
  },
  {
   "cell_type": "code",
   "execution_count": 565,
   "id": "217590b1",
   "metadata": {
    "ExecuteTime": {
     "end_time": "2021-06-09T14:06:53.904054Z",
     "start_time": "2021-06-09T14:06:53.598025Z"
    }
   },
   "outputs": [
    {
     "name": "stderr",
     "output_type": "stream",
     "text": [
      "c:\\users\\arcry\\anaconda3\\envs\\myenv\\lib\\site-packages\\ipykernel_launcher.py:11: FutureWarning: Indexing with multiple keys (implicitly converted to a tuple of keys) will be deprecated, use a list instead.\n",
      "  # This is added back by InteractiveShellApp.init_path()\n",
      "c:\\users\\arcry\\anaconda3\\envs\\myenv\\lib\\site-packages\\ipykernel_launcher.py:15: FutureWarning: Indexing with multiple keys (implicitly converted to a tuple of keys) will be deprecated, use a list instead.\n",
      "  from ipykernel import kernelapp as app\n",
      "c:\\users\\arcry\\anaconda3\\envs\\myenv\\lib\\site-packages\\ipykernel_launcher.py:19: FutureWarning: Indexing with multiple keys (implicitly converted to a tuple of keys) will be deprecated, use a list instead.\n"
     ]
    }
   ],
   "source": [
    "# Необходимо разбить на два промежутка временной диапазон\n",
    "# Рассмотрим время с 00:01 до 07:00\n",
    "\n",
    "data_nigth = data.between_time('00:01', '07:00')\n",
    "# посчитаем количество часов проведенных дома в это время\n",
    "night_hours = pd.DataFrame(data_nigth.groupby('id')['time'].max() -\n",
    "                           data_nigth.groupby('id')['time'].min())['time']\\\n",
    "                           / np.timedelta64(1, 'h')\n",
    "# определим максимаьные, минимальные и медианные координаты пользователя за этот\n",
    "# промежуток времени \n",
    "max_coord_night = data_nigth.groupby('id')['longitude', 'latitude']\\\n",
    "                            .agg(max).reset_index()\\\n",
    "                            .rename(columns={'longitude': 'max_longitude', \n",
    "                                             'latitude': 'max_latitude'})\n",
    "min_coord_night = data_nigth.groupby('id')['longitude', 'latitude']\\\n",
    "                            .agg(min).reset_index()\\\n",
    "                            .rename(columns={'longitude': 'min_longitude', \n",
    "                                             'latitude': 'min_latitude'})\n",
    "median_coord_night = data_nigth.groupby('id')['longitude', 'latitude']\\\n",
    "                            .agg('median').reset_index()\\\n",
    "                            .rename(columns={'longitude': 'median_longitude', \n",
    "                                             'latitude': 'median_latitude'})\n",
    "nigth_coords = max_coord_night.merge(min_coord_night, on='id').merge(median_coord_night, on='id')\n",
    "# объединим полученную информацию в одну таблицу\n",
    "night = nigth_coords.merge(night_hours, on='id')\n"
   ]
  },
  {
   "cell_type": "code",
   "execution_count": 566,
   "id": "fedfea1c",
   "metadata": {
    "ExecuteTime": {
     "end_time": "2021-06-09T14:06:54.142024Z",
     "start_time": "2021-06-09T14:06:53.973025Z"
    }
   },
   "outputs": [
    {
     "name": "stderr",
     "output_type": "stream",
     "text": [
      "c:\\users\\arcry\\anaconda3\\envs\\myenv\\lib\\site-packages\\ipykernel_launcher.py:8: FutureWarning: Indexing with multiple keys (implicitly converted to a tuple of keys) will be deprecated, use a list instead.\n",
      "  \n",
      "c:\\users\\arcry\\anaconda3\\envs\\myenv\\lib\\site-packages\\ipykernel_launcher.py:12: FutureWarning: Indexing with multiple keys (implicitly converted to a tuple of keys) will be deprecated, use a list instead.\n",
      "  if sys.path[0] == '':\n",
      "c:\\users\\arcry\\anaconda3\\envs\\myenv\\lib\\site-packages\\ipykernel_launcher.py:16: FutureWarning: Indexing with multiple keys (implicitly converted to a tuple of keys) will be deprecated, use a list instead.\n",
      "  app.launch_new_instance()\n"
     ]
    }
   ],
   "source": [
    "# Рассмотрим время с 21:00 до 23:59\n",
    "data_night_bef_midnight = data.between_time('21:00', '23:59')\n",
    "night_hours_bef_midnigh = pd.DataFrame(data_night_bef_midnight.groupby('id')['time'].max() -\n",
    "                           data_night_bef_midnight.groupby('id')['time'].min())['time']\\\n",
    "                           / np.timedelta64(1, 'h')\n",
    "# определим максимаьные, минимальные и средние координаты каждого пользователя \n",
    "# за этот промежуток времени \n",
    "max_coord_night_bef_midnight = data_night_bef_midnight.groupby('id')['longitude', 'latitude']\\\n",
    "                            .agg(max).reset_index()\\\n",
    "                            .rename(columns={'longitude': 'max_longitude', \n",
    "                                             'latitude': 'max_latitude'})\n",
    "min_coord_night_bef_midnight = data_night_bef_midnight.groupby('id')['longitude', 'latitude']\\\n",
    "                            .agg(min).reset_index()\\\n",
    "                            .rename(columns={'longitude': 'min_longitude', \n",
    "                                             'latitude': 'min_latitude'})\n",
    "median_coord_night_bef_midnight = data_night_bef_midnight.groupby('id')['longitude', 'latitude']\\\n",
    "                            .agg('median').reset_index()\\\n",
    "                            .rename(columns={'longitude': 'median_longitude', \n",
    "                                             'latitude': 'median_latitude'})\n",
    "night_coords_bef_midnight  = max_coord_night_bef_midnight.merge(min_coord_night_bef_midnight, on='id').merge(median_coord_night_bef_midnight, on='id')\n",
    "# объединим полученную информацию в одну таблицу\n",
    "night_bef_midnight = night_coords_bef_midnight.merge(night_hours_bef_midnigh, on='id')\n"
   ]
  },
  {
   "cell_type": "code",
   "execution_count": 567,
   "id": "7bde85fd",
   "metadata": {
    "ExecuteTime": {
     "end_time": "2021-06-09T14:06:54.374744Z",
     "start_time": "2021-06-09T14:06:54.357713Z"
    }
   },
   "outputs": [],
   "source": [
    "# объединим всю информацию о пользователях за всю ночь \n",
    "all_night = night.merge(night_bef_midnight, on='id', how='left')"
   ]
  },
  {
   "cell_type": "code",
   "execution_count": 568,
   "id": "da215602",
   "metadata": {
    "ExecuteTime": {
     "end_time": "2021-06-09T14:06:54.860752Z",
     "start_time": "2021-06-09T14:06:54.808754Z"
    }
   },
   "outputs": [],
   "source": [
    "# выделим необходимые данные из полученной таблицы\n",
    "all_night['max_longitude'] = all_night[[\"max_longitude_x\", \"max_longitude_y\"]].max(axis=1)\n",
    "all_night['max_latitude'] = all_night[[\"max_latitude_x\", \"max_latitude_y\"]].max(axis=1)\n",
    "all_night['min_longitude'] = all_night[[\"min_longitude_x\", \"min_longitude_y\"]].min(axis=1)\n",
    "all_night['min_latitude'] = all_night[[\"min_latitude_x\", \"min_latitude_y\"]].min(axis=1)\n",
    "all_night['median_longitude'] = all_night[[\"median_longitude_x\", \"median_longitude_y\"]].median(axis=1)\n",
    "all_night['median_latitude'] = all_night[[\"median_latitude_x\", \"median_latitude_y\"]].median(axis=1)\n",
    "all_night['time'] = all_night[[\"time_x\", \"time_y\"]].sum(axis=1)\n",
    "#  посчитаем расстояния\n",
    "all_night['dist'] = all_night.apply(haversine, axis=1)"
   ]
  },
  {
   "cell_type": "code",
   "execution_count": 569,
   "id": "90bccd13",
   "metadata": {
    "ExecuteTime": {
     "end_time": "2021-06-09T14:06:55.344755Z",
     "start_time": "2021-06-09T14:06:55.332753Z"
    }
   },
   "outputs": [],
   "source": [
    "all_night = all_night[['id', 'time', 'max_longitude', 'max_latitude', 'min_longitude', \n",
    "           'min_latitude', 'median_longitude', 'median_latitude', 'dist']]"
   ]
  },
  {
   "cell_type": "code",
   "execution_count": 570,
   "id": "1c468305",
   "metadata": {
    "ExecuteTime": {
     "end_time": "2021-06-09T14:06:55.963752Z",
     "start_time": "2021-06-09T14:06:55.796753Z"
    }
   },
   "outputs": [
    {
     "data": {
      "text/plain": [
       "<AxesSubplot:ylabel='Frequency'>"
      ]
     },
     "execution_count": 570,
     "metadata": {},
     "output_type": "execute_result"
    },
    {
     "data": {
      "image/png": "[encoded data removed]",
      "text/plain": [
       "<Figure size 432x288 with 1 Axes>"
      ]
     },
     "metadata": {
      "needs_background": "light"
     },
     "output_type": "display_data"
    }
   ],
   "source": [
    "# посмотрим распределение часов проведенных пользователями ночью дома\n",
    "all_night['time'].plot.hist(bins=5)"
   ]
  },
  {
   "cell_type": "code",
   "execution_count": 571,
   "id": "2835dcba",
   "metadata": {
    "ExecuteTime": {
     "end_time": "2021-06-09T14:06:59.972975Z",
     "start_time": "2021-06-09T14:06:56.190881Z"
    }
   },
   "outputs": [
    {
     "data": {
      "text/plain": [
       "(0.0, 20.0)"
      ]
     },
     "execution_count": 571,
     "metadata": {},
     "output_type": "execute_result"
    },
    {
     "data": {
      "image/png": "[encoded data removed]",
      "text/plain": [
       "<Figure size 432x288 with 1 Axes>"
      ]
     },
     "metadata": {
      "needs_background": "light"
     },
     "output_type": "display_data"
    }
   ],
   "source": [
    "# посмотрим распределение расстояний, которые изменялись у пользователей за ночь\n",
    "all_night['dist'].plot.hist(bins= 2500)\n",
    "plt.xlim(0, 20)"
   ]
  },
  {
   "cell_type": "markdown",
   "id": "d565bce5",
   "metadata": {},
   "source": [
    "Отфильтруем данные в соответствии с графиками, часы > 1.5 часов, расстояния < 7 км (с учетом погрешности местоопределения в помещении, раннего ухода/позднего прихода)"
   ]
  },
  {
   "cell_type": "code",
   "execution_count": 572,
   "id": "f07aba66",
   "metadata": {
    "ExecuteTime": {
     "end_time": "2021-06-09T14:06:59.987946Z",
     "start_time": "2021-06-09T14:06:59.974944Z"
    }
   },
   "outputs": [],
   "source": [
    "home = all_night[(all_night['time'] >= 1.5) & (all_night['dist'] < 7)]"
   ]
  },
  {
   "cell_type": "code",
   "execution_count": 573,
   "id": "08e7b7f9",
   "metadata": {
    "ExecuteTime": {
     "end_time": "2021-06-09T14:07:00.510357Z",
     "start_time": "2021-06-09T14:06:59.990945Z"
    }
   },
   "outputs": [
    {
     "name": "stderr",
     "output_type": "stream",
     "text": [
      "c:\\users\\arcry\\anaconda3\\envs\\myenv\\lib\\site-packages\\ipykernel_launcher.py:7: FutureWarning: Indexing with multiple keys (implicitly converted to a tuple of keys) will be deprecated, use a list instead.\n",
      "  import sys\n",
      "c:\\users\\arcry\\anaconda3\\envs\\myenv\\lib\\site-packages\\ipykernel_launcher.py:11: FutureWarning: Indexing with multiple keys (implicitly converted to a tuple of keys) will be deprecated, use a list instead.\n",
      "  # This is added back by InteractiveShellApp.init_path()\n",
      "c:\\users\\arcry\\anaconda3\\envs\\myenv\\lib\\site-packages\\ipykernel_launcher.py:15: FutureWarning: Indexing with multiple keys (implicitly converted to a tuple of keys) will be deprecated, use a list instead.\n",
      "  from ipykernel import kernelapp as app\n"
     ]
    }
   ],
   "source": [
    "# аналогично получим данные для рабочего времени с 10:00 до 18:00 \n",
    "# (в среднем в это время большинство людей находится на работе)\n",
    "data_day = data.between_time('10:00', '18:00')\n",
    "day_hours = pd.DataFrame(data_day.groupby('id')['time'].max() -\n",
    "                           data_day.groupby('id')['time'].min())['time']\\\n",
    "                           / np.timedelta64(1, 'h')\n",
    "max_coord_day = data_day.groupby('id')['longitude', 'latitude']\\\n",
    "                            .agg(max).reset_index()\\\n",
    "                            .rename(columns={'longitude': 'max_longitude', \n",
    "                                             'latitude': 'max_latitude'})\n",
    "min_coord_day = data_day.groupby('id')['longitude', 'latitude']\\\n",
    "                            .agg(min).reset_index()\\\n",
    "                            .rename(columns={'longitude': 'min_longitude', \n",
    "                                             'latitude': 'min_latitude'})\n",
    "median_coord_day = data_day.groupby('id')['longitude', 'latitude']\\\n",
    "                            .agg('median').reset_index()\\\n",
    "                            .rename(columns={'longitude': 'median_longitude', \n",
    "                                             'latitude': 'median_latitude'})\n",
    "day_coords = max_coord_day.merge(min_coord_day, on='id').merge(median_coord_day, on='id')\n",
    "day = day_coords.merge(day_hours, on='id')\n",
    "day['dist'] = day.apply(haversine, axis=1)"
   ]
  },
  {
   "cell_type": "code",
   "execution_count": 574,
   "id": "b43b4fd7",
   "metadata": {
    "ExecuteTime": {
     "end_time": "2021-06-09T14:07:00.667944Z",
     "start_time": "2021-06-09T14:07:00.511393Z"
    }
   },
   "outputs": [
    {
     "data": {
      "text/plain": [
       "<AxesSubplot:ylabel='Frequency'>"
      ]
     },
     "execution_count": 574,
     "metadata": {},
     "output_type": "execute_result"
    },
    {
     "data": {
      "image/png": "[encoded data removed]",
      "text/plain": [
       "<Figure size 432x288 with 1 Axes>"
      ]
     },
     "metadata": {
      "needs_background": "light"
     },
     "output_type": "display_data"
    }
   ],
   "source": [
    "# посмотрим распределение часов проведенных пользователями днем на работе\n",
    "day_hours.plot.hist(bins=5)"
   ]
  },
  {
   "cell_type": "code",
   "execution_count": 575,
   "id": "aaa2646c",
   "metadata": {
    "ExecuteTime": {
     "end_time": "2021-06-09T14:07:01.523868Z",
     "start_time": "2021-06-09T14:07:00.669943Z"
    }
   },
   "outputs": [
    {
     "data": {
      "text/plain": [
       "(0.0, 20.0)"
      ]
     },
     "execution_count": 575,
     "metadata": {},
     "output_type": "execute_result"
    },
    {
     "data": {
      "image/png": "[encoded data removed]",
      "text/plain": [
       "<Figure size 432x288 with 1 Axes>"
      ]
     },
     "metadata": {
      "needs_background": "light"
     },
     "output_type": "display_data"
    }
   ],
   "source": [
    "# посмотрим распределение расстояний, которые изменялись у пользователей за ночь\n",
    "day['dist'].plot.hist(bins= 500)\n",
    "plt.xlim(0, 20)"
   ]
  },
  {
   "cell_type": "markdown",
   "id": "2fbed73b",
   "metadata": {},
   "source": [
    "Отфильтруем данные в соответствии с графиками, часы > 2 часов, расстояния < 10 км (с учетом погрешности местоопределения в помещении)"
   ]
  },
  {
   "cell_type": "code",
   "execution_count": 576,
   "id": "cd4c8fcf",
   "metadata": {
    "ExecuteTime": {
     "end_time": "2021-06-09T14:07:01.538870Z",
     "start_time": "2021-06-09T14:07:01.525868Z"
    }
   },
   "outputs": [],
   "source": [
    "work = day[(day['time'] >= 2) & (day['dist'] < 10)]"
   ]
  },
  {
   "cell_type": "code",
   "execution_count": 577,
   "id": "f21371cc",
   "metadata": {
    "ExecuteTime": {
     "end_time": "2021-06-09T14:07:01.570867Z",
     "start_time": "2021-06-09T14:07:01.540870Z"
    }
   },
   "outputs": [
    {
     "data": {
      "text/html": [
       "<div>\n",
       "<style scoped>\n",
       "    .dataframe tbody tr th:only-of-type {\n",
       "        vertical-align: middle;\n",
       "    }\n",
       "\n",
       "    .dataframe tbody tr th {\n",
       "        vertical-align: top;\n",
       "    }\n",
       "\n",
       "    .dataframe thead th {\n",
       "        text-align: right;\n",
       "    }\n",
       "</style>\n",
       "<table border=\"1\" class=\"dataframe\">\n",
       "  <thead>\n",
       "    <tr style=\"text-align: right;\">\n",
       "      <th></th>\n",
       "      <th>id</th>\n",
       "      <th>time_x</th>\n",
       "      <th>max_longitude_x</th>\n",
       "      <th>max_latitude_x</th>\n",
       "      <th>min_longitude_x</th>\n",
       "      <th>min_latitude_x</th>\n",
       "      <th>median_longitude_x</th>\n",
       "      <th>median_latitude_x</th>\n",
       "      <th>dist_x</th>\n",
       "      <th>max_longitude_y</th>\n",
       "      <th>max_latitude_y</th>\n",
       "      <th>min_longitude_y</th>\n",
       "      <th>min_latitude_y</th>\n",
       "      <th>median_longitude_y</th>\n",
       "      <th>median_latitude_y</th>\n",
       "      <th>time_y</th>\n",
       "      <th>dist_y</th>\n",
       "    </tr>\n",
       "  </thead>\n",
       "  <tbody>\n",
       "    <tr>\n",
       "      <th>0</th>\n",
       "      <td>2</td>\n",
       "      <td>9.829444</td>\n",
       "      <td>38.940334</td>\n",
       "      <td>47.214460</td>\n",
       "      <td>38.928703</td>\n",
       "      <td>47.206815</td>\n",
       "      <td>38.938606</td>\n",
       "      <td>47.209599</td>\n",
       "      <td>1.222513</td>\n",
       "      <td>38.940323</td>\n",
       "      <td>47.228889</td>\n",
       "      <td>38.906093</td>\n",
       "      <td>47.201989</td>\n",
       "      <td>38.938130</td>\n",
       "      <td>47.209372</td>\n",
       "      <td>7.804444</td>\n",
       "      <td>3.953583</td>\n",
       "    </tr>\n",
       "    <tr>\n",
       "      <th>1</th>\n",
       "      <td>4</td>\n",
       "      <td>9.906667</td>\n",
       "      <td>47.153826</td>\n",
       "      <td>42.822272</td>\n",
       "      <td>47.109504</td>\n",
       "      <td>42.784932</td>\n",
       "      <td>47.121719</td>\n",
       "      <td>42.812230</td>\n",
       "      <td>5.505763</td>\n",
       "      <td>47.165216</td>\n",
       "      <td>42.822346</td>\n",
       "      <td>47.110006</td>\n",
       "      <td>42.768954</td>\n",
       "      <td>47.123030</td>\n",
       "      <td>42.813048</td>\n",
       "      <td>7.977500</td>\n",
       "      <td>7.452513</td>\n",
       "    </tr>\n",
       "    <tr>\n",
       "      <th>2</th>\n",
       "      <td>5</td>\n",
       "      <td>7.254722</td>\n",
       "      <td>158.635300</td>\n",
       "      <td>53.077955</td>\n",
       "      <td>158.597147</td>\n",
       "      <td>53.055120</td>\n",
       "      <td>158.608927</td>\n",
       "      <td>53.068263</td>\n",
       "      <td>3.598024</td>\n",
       "      <td>158.634022</td>\n",
       "      <td>53.069652</td>\n",
       "      <td>158.595042</td>\n",
       "      <td>53.056002</td>\n",
       "      <td>158.613087</td>\n",
       "      <td>53.068434</td>\n",
       "      <td>2.173611</td>\n",
       "      <td>3.014694</td>\n",
       "    </tr>\n",
       "    <tr>\n",
       "      <th>3</th>\n",
       "      <td>6</td>\n",
       "      <td>9.511389</td>\n",
       "      <td>104.300663</td>\n",
       "      <td>52.258638</td>\n",
       "      <td>104.240612</td>\n",
       "      <td>52.222479</td>\n",
       "      <td>104.259045</td>\n",
       "      <td>52.252631</td>\n",
       "      <td>5.734566</td>\n",
       "      <td>104.295569</td>\n",
       "      <td>52.291269</td>\n",
       "      <td>104.232849</td>\n",
       "      <td>52.247617</td>\n",
       "      <td>104.259008</td>\n",
       "      <td>52.252755</td>\n",
       "      <td>7.732222</td>\n",
       "      <td>6.463355</td>\n",
       "    </tr>\n",
       "    <tr>\n",
       "      <th>4</th>\n",
       "      <td>9</td>\n",
       "      <td>8.510833</td>\n",
       "      <td>39.697043</td>\n",
       "      <td>47.274640</td>\n",
       "      <td>39.684324</td>\n",
       "      <td>47.252271</td>\n",
       "      <td>39.688910</td>\n",
       "      <td>47.268071</td>\n",
       "      <td>2.666058</td>\n",
       "      <td>39.691806</td>\n",
       "      <td>47.275609</td>\n",
       "      <td>39.684423</td>\n",
       "      <td>47.257685</td>\n",
       "      <td>39.687834</td>\n",
       "      <td>47.268546</td>\n",
       "      <td>7.320833</td>\n",
       "      <td>2.069533</td>\n",
       "    </tr>\n",
       "  </tbody>\n",
       "</table>\n",
       "</div>"
      ],
      "text/plain": [
       "   id    time_x  max_longitude_x  max_latitude_x  min_longitude_x  \\\n",
       "0   2  9.829444        38.940334       47.214460        38.928703   \n",
       "1   4  9.906667        47.153826       42.822272        47.109504   \n",
       "2   5  7.254722       158.635300       53.077955       158.597147   \n",
       "3   6  9.511389       104.300663       52.258638       104.240612   \n",
       "4   9  8.510833        39.697043       47.274640        39.684324   \n",
       "\n",
       "   min_latitude_x  median_longitude_x  median_latitude_x    dist_x  \\\n",
       "0       47.206815           38.938606          47.209599  1.222513   \n",
       "1       42.784932           47.121719          42.812230  5.505763   \n",
       "2       53.055120          158.608927          53.068263  3.598024   \n",
       "3       52.222479          104.259045          52.252631  5.734566   \n",
       "4       47.252271           39.688910          47.268071  2.666058   \n",
       "\n",
       "   max_longitude_y  max_latitude_y  min_longitude_y  min_latitude_y  \\\n",
       "0        38.940323       47.228889        38.906093       47.201989   \n",
       "1        47.165216       42.822346        47.110006       42.768954   \n",
       "2       158.634022       53.069652       158.595042       53.056002   \n",
       "3       104.295569       52.291269       104.232849       52.247617   \n",
       "4        39.691806       47.275609        39.684423       47.257685   \n",
       "\n",
       "   median_longitude_y  median_latitude_y    time_y    dist_y  \n",
       "0           38.938130          47.209372  7.804444  3.953583  \n",
       "1           47.123030          42.813048  7.977500  7.452513  \n",
       "2          158.613087          53.068434  2.173611  3.014694  \n",
       "3          104.259008          52.252755  7.732222  6.463355  \n",
       "4           39.687834          47.268546  7.320833  2.069533  "
      ]
     },
     "execution_count": 577,
     "metadata": {},
     "output_type": "execute_result"
    }
   ],
   "source": [
    "# объединим информацию за день и ночь\n",
    "df = home.merge(work, on='id')\n",
    "df.head()"
   ]
  },
  {
   "cell_type": "code",
   "execution_count": null,
   "id": "58754dd1",
   "metadata": {
    "ExecuteTime": {
     "end_time": "2021-06-09T08:54:27.861096Z",
     "start_time": "2021-06-09T08:54:27.844097Z"
    }
   },
   "outputs": [],
   "source": []
  },
  {
   "cell_type": "code",
   "execution_count": 578,
   "id": "5939aacb",
   "metadata": {
    "ExecuteTime": {
     "end_time": "2021-06-09T14:07:01.601871Z",
     "start_time": "2021-06-09T14:07:01.573871Z"
    }
   },
   "outputs": [
    {
     "data": {
      "text/html": [
       "<div>\n",
       "<style scoped>\n",
       "    .dataframe tbody tr th:only-of-type {\n",
       "        vertical-align: middle;\n",
       "    }\n",
       "\n",
       "    .dataframe tbody tr th {\n",
       "        vertical-align: top;\n",
       "    }\n",
       "\n",
       "    .dataframe thead th {\n",
       "        text-align: right;\n",
       "    }\n",
       "</style>\n",
       "<table border=\"1\" class=\"dataframe\">\n",
       "  <thead>\n",
       "    <tr style=\"text-align: right;\">\n",
       "      <th></th>\n",
       "      <th>id</th>\n",
       "      <th>time_x</th>\n",
       "      <th>max_longitude</th>\n",
       "      <th>max_latitude</th>\n",
       "      <th>dist_x</th>\n",
       "      <th>min_longitude</th>\n",
       "      <th>min_latitude</th>\n",
       "      <th>time_y</th>\n",
       "      <th>dist_y</th>\n",
       "    </tr>\n",
       "  </thead>\n",
       "  <tbody>\n",
       "    <tr>\n",
       "      <th>0</th>\n",
       "      <td>2</td>\n",
       "      <td>9.829444</td>\n",
       "      <td>38.938606</td>\n",
       "      <td>47.209599</td>\n",
       "      <td>1.222513</td>\n",
       "      <td>38.938130</td>\n",
       "      <td>47.209372</td>\n",
       "      <td>7.804444</td>\n",
       "      <td>3.953583</td>\n",
       "    </tr>\n",
       "    <tr>\n",
       "      <th>1</th>\n",
       "      <td>4</td>\n",
       "      <td>9.906667</td>\n",
       "      <td>47.121719</td>\n",
       "      <td>42.812230</td>\n",
       "      <td>5.505763</td>\n",
       "      <td>47.123030</td>\n",
       "      <td>42.813048</td>\n",
       "      <td>7.977500</td>\n",
       "      <td>7.452513</td>\n",
       "    </tr>\n",
       "    <tr>\n",
       "      <th>2</th>\n",
       "      <td>5</td>\n",
       "      <td>7.254722</td>\n",
       "      <td>158.608927</td>\n",
       "      <td>53.068263</td>\n",
       "      <td>3.598024</td>\n",
       "      <td>158.613087</td>\n",
       "      <td>53.068434</td>\n",
       "      <td>2.173611</td>\n",
       "      <td>3.014694</td>\n",
       "    </tr>\n",
       "    <tr>\n",
       "      <th>3</th>\n",
       "      <td>6</td>\n",
       "      <td>9.511389</td>\n",
       "      <td>104.259045</td>\n",
       "      <td>52.252631</td>\n",
       "      <td>5.734566</td>\n",
       "      <td>104.259008</td>\n",
       "      <td>52.252755</td>\n",
       "      <td>7.732222</td>\n",
       "      <td>6.463355</td>\n",
       "    </tr>\n",
       "    <tr>\n",
       "      <th>4</th>\n",
       "      <td>9</td>\n",
       "      <td>8.510833</td>\n",
       "      <td>39.688910</td>\n",
       "      <td>47.268071</td>\n",
       "      <td>2.666058</td>\n",
       "      <td>39.687834</td>\n",
       "      <td>47.268546</td>\n",
       "      <td>7.320833</td>\n",
       "      <td>2.069533</td>\n",
       "    </tr>\n",
       "  </tbody>\n",
       "</table>\n",
       "</div>"
      ],
      "text/plain": [
       "   id    time_x  max_longitude  max_latitude    dist_x  min_longitude  \\\n",
       "0   2  9.829444      38.938606     47.209599  1.222513      38.938130   \n",
       "1   4  9.906667      47.121719     42.812230  5.505763      47.123030   \n",
       "2   5  7.254722     158.608927     53.068263  3.598024     158.613087   \n",
       "3   6  9.511389     104.259045     52.252631  5.734566     104.259008   \n",
       "4   9  8.510833      39.688910     47.268071  2.666058      39.687834   \n",
       "\n",
       "   min_latitude    time_y    dist_y  \n",
       "0     47.209372  7.804444  3.953583  \n",
       "1     42.813048  7.977500  7.452513  \n",
       "2     53.068434  2.173611  3.014694  \n",
       "3     52.252755  7.732222  6.463355  \n",
       "4     47.268546  7.320833  2.069533  "
      ]
     },
     "execution_count": 578,
     "metadata": {},
     "output_type": "execute_result"
    }
   ],
   "source": [
    "# исключим и переименуем нужные столбцы в таблице \n",
    "home_work = df.drop(columns=['min_longitude_x', 'min_latitude_x', 'max_longitude_y', 'max_latitude_y',\n",
    "                            'max_longitude_x', 'max_latitude_x', 'min_longitude_y', 'min_latitude_y'])\\\n",
    "                .rename(columns={'median_longitude_x': 'max_longitude',\n",
    "                                'median_latitude_x': 'max_latitude',\n",
    "                                'median_longitude_y': 'min_longitude',\n",
    "                                'median_latitude_y': 'min_latitude'})\n",
    "home_work.head()"
   ]
  },
  {
   "cell_type": "code",
   "execution_count": 579,
   "id": "72b1bc5e",
   "metadata": {
    "ExecuteTime": {
     "end_time": "2021-06-09T14:07:01.633872Z",
     "start_time": "2021-06-09T14:07:01.604869Z"
    }
   },
   "outputs": [],
   "source": [
    "# рассчитаем расстояния между наиболее частыми координатами (медианные) возле дома и возле работы\n",
    "home_work['h_w_dist'] = home_work.apply(haversine, axis=1)"
   ]
  },
  {
   "cell_type": "code",
   "execution_count": 580,
   "id": "48d1b3e0",
   "metadata": {
    "ExecuteTime": {
     "end_time": "2021-06-09T14:07:02.235867Z",
     "start_time": "2021-06-09T14:07:01.635870Z"
    }
   },
   "outputs": [
    {
     "data": {
      "text/plain": [
       "(0.0, 5.0)"
      ]
     },
     "execution_count": 580,
     "metadata": {},
     "output_type": "execute_result"
    },
    {
     "data": {
      "image/png": "[encoded data removed]",
      "text/plain": [
       "<Figure size 432x288 with 1 Axes>"
      ]
     },
     "metadata": {
      "needs_background": "light"
     },
     "output_type": "display_data"
    }
   ],
   "source": [
    "# построим гистрограмму распределния расстояний дом - работа\n",
    "home_work['h_w_dist'].plot.hist(bins= 300)\n",
    "plt.xlim(0, 5)"
   ]
  },
  {
   "cell_type": "code",
   "execution_count": 583,
   "id": "67db29de",
   "metadata": {
    "ExecuteTime": {
     "end_time": "2021-06-09T14:07:51.648790Z",
     "start_time": "2021-06-09T14:07:51.637767Z"
    }
   },
   "outputs": [],
   "source": [
    "# отфильтруем данные с учетом полученного графика, расстоние дом - работа не менее 1,5 км, \n",
    "# и не более 40 км (больше это скорее всего командировка или поездка)"
   ]
  },
  {
   "cell_type": "code",
   "execution_count": 40,
   "id": "c632861e",
   "metadata": {
    "ExecuteTime": {
     "end_time": "2021-06-09T08:58:51.369335Z",
     "start_time": "2021-06-09T08:58:51.364359Z"
    }
   },
   "outputs": [],
   "source": [
    "# http://www.movable-type.co.uk/scripts/latlong.html\n",
    "from math import radians, cos, sin, asin, sqrt, atan2\n",
    "def haversine_for_id(lon1, lat1, lon2, lat2):\n",
    "    # конвертируем значения градусов в радианы \n",
    "    lon1, lat1, lon2, lat2 = map(radians, [lon1, lat1, lon2, lat2])\n",
    "    # формула для вычисления расстояния с использоанием гаверсинуса\n",
    "    dlon = lon2 - lon1 \n",
    "    dlat = lat2 - lat1 \n",
    "    a = sin(dlat/2)**2 + cos(lat1) * cos(lat2) * sin(dlon/2)**2\n",
    "    c = 2 * asin(sqrt(a)) \n",
    "    # Радиус Земли в километрах равен 6371\n",
    "    km = 6371* c \n",
    "    return km"
   ]
  },
  {
   "cell_type": "markdown",
   "id": "af080910",
   "metadata": {},
   "source": [
    "Определим для каждого отделного пользователя:\n",
    "- перемещение дом-работ - 1\n",
    "- другое - 0"
   ]
  },
  {
   "cell_type": "code",
   "execution_count": null,
   "id": "449b0754",
   "metadata": {},
   "outputs": [],
   "source": [
    "# сохранение отдельных файлов с данными пользователями для проверки\n",
    "for i in range(999):\n",
    "    list(data.groupby('id'))[i][1].drop(columns=['id']).to_csv(f'C:/Users/Arcry/Test_funbox/id_{i}.csv', sep=';', header=None, index=None)"
   ]
  },
  {
   "cell_type": "code",
   "execution_count": 622,
   "id": "537686ba",
   "metadata": {
    "ExecuteTime": {
     "end_time": "2021-06-09T14:38:31.402328Z",
     "start_time": "2021-06-09T14:37:55.945002Z"
    }
   },
   "outputs": [
    {
     "name": "stderr",
     "output_type": "stream",
     "text": [
      "100%|████████████████████████████████████████████████████████████████████████████████| 973/973 [00:35<00:00, 27.51it/s]\n"
     ]
    }
   ],
   "source": [
    "from tqdm import tqdm\n",
    "res = []\n",
    "for i in tqdm(range(973)):\n",
    "    info = pd.read_csv(f'C:/Users/Arcry/Test_funbox/id_{i}.csv', delimiter=';', header=None)\n",
    "    info.columns = ['time', 'longitude', 'latitude']\n",
    "    info['time'] = pd.to_datetime(info['time'])\n",
    "    info.index = info['time']\n",
    "    \n",
    "    night_bm = info.between_time('21:00', '23:59')\n",
    "    std_night_bm = night_bm['longitude'].std()\n",
    "    dev_night_bm = (night_bm['longitude'] - night_bm['longitude'].mean()).abs()\n",
    "    night_bm = night_bm[~(dev_night_bm>1*std_night_bm)]\n",
    "    max_coords_night_bm = night_bm[['longitude', 'latitude']].max()\n",
    "    min_coords_night_bm = night_bm[['longitude', 'latitude']].min()\n",
    "    median_coords_night_bm = night_bm[['longitude', 'latitude']].median()\n",
    "    night_hour_bm = (night_bm['time'].max() - night_bm['time'].min())/ np.timedelta64(1, 'h')\n",
    "\n",
    "    night_am = info.between_time('00:01', '07:00')\n",
    "    std_night_am = night_am['longitude'].std()\n",
    "    dev_night_am = (night_am['longitude'] - night_am['longitude'].mean()).abs()\n",
    "    night_am = night_am[~(dev_night_am>1*std_night_am)]\n",
    "    max_coords_night_am = night_am[['longitude', 'latitude']].max()\n",
    "    min_coords_night_am = night_am[['longitude', 'latitude']].min()\n",
    "    median_coords_night_am = night_am[['longitude', 'latitude']].median()\n",
    "    night_hour_am = (night_am['time'].max() - night_am['time'].min())/ np.timedelta64(1, 'h')\n",
    "\n",
    "    max_coords_night = [max(max_coords_night_bm[0], max_coords_night_am[0]),\n",
    "                       max(max_coords_night_bm[1], max_coords_night_am[1])]\n",
    "    min_coords_night = [min(min_coords_night_bm[0], min_coords_night_am[0]),\n",
    "                       min(min_coords_night_bm[1], min_coords_night_am[1])]\n",
    "    median_coords_night = [median([median_coords_night_bm[0], median_coords_night_am[0]]),\n",
    "                       median([median_coords_night_bm[1], median_coords_night_am[1]])]\n",
    "\n",
    "    night_hour = night_hour_am + night_hour_bm\n",
    "\n",
    "    night_dist = haversine_for_id(min_coords_night[0], min_coords_night[1],\n",
    "                                 max_coords_night[0], max_coords_night[1])\n",
    "\n",
    "\n",
    "\n",
    "    day = info.between_time('10:00', '18:00')\n",
    "    std_day = day['longitude'].std()\n",
    "    dev_day = (day['longitude'] - day['longitude'].mean()).abs()\n",
    "    day = day[~(dev_day>1*std_day)]\n",
    "    max_coords_day = day[['longitude', 'latitude']].max()\n",
    "    min_coords_day = day[['longitude', 'latitude']].min()\n",
    "    median_coords_day = day[['longitude', 'latitude']].median()\n",
    "\n",
    "    day_hour = (day['time'].max() - day['time'].min())/ np.timedelta64(1, 'h')\n",
    "    day_dist = haversine_for_id(min_coords_day[0], min_coords_day[1],\n",
    "                                 max_coords_day[0], max_coords_day[1])\n",
    "\n",
    "    dist_home_work = haversine_for_id(median_coords_day[0], median_coords_day[1],\n",
    "                                 median_coords_night[0], median_coords_night[1])\n",
    "\n",
    "    if night_hour >= 1.5 and night_dist < 10 and day_hour >= 2 and day_dist < 10 and dist_home_work > 2 and dist_home_work < 40:\n",
    "#         print('id=', i+2, 'result:', 1)\n",
    "        res.append(1)\n",
    "    else:\n",
    "#         print('id=', i+2, 'result:', 0)\n",
    "        res.append(0)\n",
    "\n",
    "# print(night_hour)\n",
    "# print(night_dist)\n",
    "# print(day_hour)\n",
    "# print(day_dist)\n",
    "# print(dist_home_work)"
   ]
  },
  {
   "cell_type": "code",
   "execution_count": 619,
   "id": "ba629a7d",
   "metadata": {
    "ExecuteTime": {
     "end_time": "2021-06-09T14:28:12.420391Z",
     "start_time": "2021-06-09T14:28:12.398393Z"
    }
   },
   "outputs": [],
   "source": [
    "# сохранение полученных результатов\n",
    "pd.DataFrame({'id': ids, 'result': res}).to_csv('C:/Users/Arcry/Test_funbox/result_of_test_task.csv', sep=';', header=None, index=None)"
   ]
  },
  {
   "cell_type": "markdown",
   "id": "84c2ad03",
   "metadata": {},
   "source": [
    "**Были пристально просмотрены перемещения 200 пользователей, практически все визульные оценки (за исключением одной или двух) совпали с полученным автоматическим результатом**\n",
    "\n",
    "**Есть ошибки у пользователей, время ухода на работу которых сильно отличается от обычного. Например, работник аэропорта в Якутске, который выходит на работу в 04:30.**"
   ]
  }
 ],
 "metadata": {
  "kernelspec": {
   "display_name": "Python 3",
   "language": "python",
   "name": "python3"
  },
  "language_info": {
   "codemirror_mode": {
    "name": "ipython",
    "version": 3
   },
   "file_extension": ".py",
   "mimetype": "text/x-python",
   "name": "python",
   "nbconvert_exporter": "python",
   "pygments_lexer": "ipython3",
   "version": "3.7.10"
  },
  "toc": {
   "base_numbering": 1,
   "nav_menu": {},
   "number_sections": true,
   "sideBar": true,
   "skip_h1_title": false,
   "title_cell": "Table of Contents",
   "title_sidebar": "Contents",
   "toc_cell": false,
   "toc_position": {},
   "toc_section_display": true,
   "toc_window_display": false
  }
 },
 "nbformat": 4,
 "nbformat_minor": 5
}
