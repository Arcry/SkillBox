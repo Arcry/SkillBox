{
 "cells": [
  {
   "cell_type": "markdown",
   "metadata": {
    "id": "KkW9XLpDgFAF"
   },
   "source": [
    "# Библиотека `NumPy`: часть 1\n",
    "\n",
    "*Алла Тамбовцева*\n",
    "\n",
    "## Домашнее задание \n",
    "\n",
    "### Описание домашнего задания и формат сдачи\n",
    "\n",
    "В домашнем задании необходимо решить предложенные задачи по программированию – вписать свой код в ячейки после условий задач вместо комментария `### YOUR CODE HERE ###` в файле *homework-numpy1.ipynb* и сохранить изменения, используя опцию *Save and Checkpoint* из вкладки меню *File* или кнопку *Save and Checkpoint* на панели инструментов. Итоговый файл в формате `.ipynb` (файл Jupyter Notebook) необходимо загрузить в личный кабинет обучающей онлайн платформы Skillbox (https://go.skillbox.ru/) и отправить на проверку."
   ]
  },
  {
   "cell_type": "markdown",
   "metadata": {
    "id": "HWyKtbvPgFAF"
   },
   "source": [
    "Дан массив, содержащий баллы слушателей курса по английскому языку за вступительный экзамен. Слушатели распределены по 15 группам по 10 человек."
   ]
  },
  {
   "cell_type": "code",
   "execution_count": 2,
   "metadata": {
    "executionInfo": {
     "elapsed": 611,
     "status": "ok",
     "timestamp": 1611827222334,
     "user": {
      "displayName": "Андрей Щербинин",
      "photoUrl": "",
      "userId": "12257454032092519749"
     },
     "user_tz": -180
    },
    "id": "XViQYLNHgFAG"
   },
   "outputs": [],
   "source": [
    "import numpy as np\n",
    "scores = np.array([[20, 40, 56, 80, 0, 5, 25, 27, 74, 1],\n",
    "         [0, 98, 67, 100, 8, 56, 34, 82, 100, 7],\n",
    "         [78, 54, 23, 79, 100, 0, 0, 42, 95, 83],\n",
    "         [51, 50, 47, 23, 100, 94, 25, 48, 38, 77],\n",
    "         [90, 87, 41, 89, 52, 0, 5, 17, 28, 99],\n",
    "         [32, 18, 21, 18, 29, 31, 48, 62, 76, 22],\n",
    "         [6, 0, 65, 78, 43, 22, 38, 88, 94, 100],\n",
    "         [77, 28, 39, 41, 0, 81, 45, 54, 98, 12],\n",
    "         [66, 0, 88, 0, 44, 0, 55, 100, 12, 11],\n",
    "         [17, 70, 86, 96, 56, 23, 32, 49, 70, 80],\n",
    "         [20, 24, 76, 50, 29, 40, 3, 2, 5, 11],\n",
    "         [33, 63, 28, 40, 51, 100, 98, 87, 22, 30],\n",
    "         [16, 54, 78, 12, 25, 35, 10, 19, 67, 0],\n",
    "         [100, 88, 24, 33, 47, 56, 62, 34, 77, 53],\n",
    "         [50, 89, 70, 72, 56, 29, 15, 20, 0, 0]])"
   ]
  },
  {
   "cell_type": "markdown",
   "metadata": {
    "id": "FZyP6_u4gFAI"
   },
   "source": [
    "### Задание 1\n",
    "\n",
    "Посчитать, сколько слушателей получили 0 за вступительный экзамен."
   ]
  },
  {
   "cell_type": "code",
   "execution_count": 3,
   "metadata": {
    "colab": {
     "base_uri": "https://localhost:8080/"
    },
    "executionInfo": {
     "elapsed": 884,
     "status": "ok",
     "timestamp": 1611827222631,
     "user": {
      "displayName": "Андрей Щербинин",
      "photoUrl": "",
      "userId": "12257454032092519749"
     },
     "user_tz": -180
    },
    "id": "ny-bpAn_gFAI",
    "outputId": "6a99c3d5-510c-44b6-8abd-44eae90ff4b6"
   },
   "outputs": [
    {
     "data": {
      "text/plain": [
       "13"
      ]
     },
     "execution_count": 3,
     "metadata": {
      "tags": []
     },
     "output_type": "execute_result"
    }
   ],
   "source": [
    "scores[scores == 0].size"
   ]
  },
  {
   "cell_type": "markdown",
   "metadata": {
    "id": "zqXOMBPCgFAL"
   },
   "source": [
    "### Задание 2\n",
    "\n",
    "Посчитать, сколько слушателей получили балл выше 50."
   ]
  },
  {
   "cell_type": "code",
   "execution_count": 4,
   "metadata": {
    "colab": {
     "base_uri": "https://localhost:8080/"
    },
    "executionInfo": {
     "elapsed": 877,
     "status": "ok",
     "timestamp": 1611827222633,
     "user": {
      "displayName": "Андрей Щербинин",
      "photoUrl": "",
      "userId": "12257454032092519749"
     },
     "user_tz": -180
    },
    "id": "mUD76BUigFAL",
    "outputId": "d916ff0f-3697-4c8d-b9f0-0c275b3e4817"
   },
   "outputs": [
    {
     "data": {
      "text/plain": [
       "64"
      ]
     },
     "execution_count": 4,
     "metadata": {
      "tags": []
     },
     "output_type": "execute_result"
    }
   ],
   "source": [
    "scores[scores > 50].size"
   ]
  },
  {
   "cell_type": "markdown",
   "metadata": {
    "id": "OocnEIqdgFAN"
   },
   "source": [
    "### Задание 3\n",
    "\n",
    "Посчитать, сколько человек получили балл не ниже 50, но не выше 70."
   ]
  },
  {
   "cell_type": "code",
   "execution_count": 5,
   "metadata": {
    "colab": {
     "base_uri": "https://localhost:8080/"
    },
    "executionInfo": {
     "elapsed": 868,
     "status": "ok",
     "timestamp": 1611827222633,
     "user": {
      "displayName": "Андрей Щербинин",
      "photoUrl": "",
      "userId": "12257454032092519749"
     },
     "user_tz": -180
    },
    "id": "RvzMz6lTgFAO",
    "outputId": "b89cb5af-91dd-47c3-e6c3-2433e1c3f6d2"
   },
   "outputs": [
    {
     "data": {
      "text/plain": [
       "20"
      ]
     },
     "execution_count": 5,
     "metadata": {
      "tags": []
     },
     "output_type": "execute_result"
    }
   ],
   "source": [
    "scores[(scores > 50) & (scores < 70)].size"
   ]
  },
  {
   "cell_type": "markdown",
   "metadata": {
    "id": "Q9dNpdEBgFAP"
   },
   "source": [
    "### Задание 4\n",
    "\n",
    "Определить, в какой группе средний балл за вступительный экзамен выше."
   ]
  },
  {
   "cell_type": "code",
   "execution_count": 6,
   "metadata": {
    "colab": {
     "base_uri": "https://localhost:8080/"
    },
    "executionInfo": {
     "elapsed": 860,
     "status": "ok",
     "timestamp": 1611827222634,
     "user": {
      "displayName": "Андрей Щербинин",
      "photoUrl": "",
      "userId": "12257454032092519749"
     },
     "user_tz": -180
    },
    "id": "Fto_aImFgFAQ",
    "outputId": "aacebedf-1dca-4202-f9ed-e80905800e60"
   },
   "outputs": [
    {
     "data": {
      "text/plain": [
       "10"
      ]
     },
     "execution_count": 6,
     "metadata": {
      "tags": []
     },
     "output_type": "execute_result"
    }
   ],
   "source": [
    "scores.mean(axis=1).argmax() + 1 #нумерация в массивах с 0, поэтому добавил 1"
   ]
  },
  {
   "cell_type": "markdown",
   "metadata": {
    "id": "IjZUz0KkgFAR"
   },
   "source": [
    "### Задание 5\n",
    "\n",
    "Сохранить баллы слушателей выше 0 в массив `nonzero`. "
   ]
  },
  {
   "cell_type": "code",
   "execution_count": 7,
   "metadata": {
    "colab": {
     "base_uri": "https://localhost:8080/"
    },
    "executionInfo": {
     "elapsed": 1163,
     "status": "ok",
     "timestamp": 1611827222945,
     "user": {
      "displayName": "Андрей Щербинин",
      "photoUrl": "",
      "userId": "12257454032092519749"
     },
     "user_tz": -180
    },
    "id": "PRViY--agFAT",
    "outputId": "40f29051-b097-4710-a2ef-ea93bfab21d8"
   },
   "outputs": [
    {
     "name": "stdout",
     "output_type": "stream",
     "text": [
      "[ 20  40  56  80   5  25  27  74   1  98  67 100   8  56  34  82 100   7\n",
      "  78  54  23  79 100  42  95  83  51  50  47  23 100  94  25  48  38  77\n",
      "  90  87  41  89  52   5  17  28  99  32  18  21  18  29  31  48  62  76\n",
      "  22   6  65  78  43  22  38  88  94 100  77  28  39  41  81  45  54  98\n",
      "  12  66  88  44  55 100  12  11  17  70  86  96  56  23  32  49  70  80\n",
      "  20  24  76  50  29  40   3   2   5  11  33  63  28  40  51 100  98  87\n",
      "  22  30  16  54  78  12  25  35  10  19  67 100  88  24  33  47  56  62\n",
      "  34  77  53  50  89  70  72  56  29  15  20]\n"
     ]
    }
   ],
   "source": [
    "nonzero = scores[scores > 0]\n",
    "print(nonzero)"
   ]
  },
  {
   "cell_type": "markdown",
   "metadata": {
    "id": "-ve1VG1XgFAV"
   },
   "source": [
    "### Задание 6\n",
    "\n",
    "Используя массив `nonzero`, определить минимальный балл за вступительный балл по всем группам."
   ]
  },
  {
   "cell_type": "code",
   "execution_count": 8,
   "metadata": {
    "colab": {
     "base_uri": "https://localhost:8080/"
    },
    "executionInfo": {
     "elapsed": 1155,
     "status": "ok",
     "timestamp": 1611827222946,
     "user": {
      "displayName": "Андрей Щербинин",
      "photoUrl": "",
      "userId": "12257454032092519749"
     },
     "user_tz": -180
    },
    "id": "ZnGg9mcUgFAV",
    "outputId": "9324c0b1-c513-4403-d5c4-01f28576511f"
   },
   "outputs": [
    {
     "data": {
      "text/plain": [
       "1"
      ]
     },
     "execution_count": 8,
     "metadata": {
      "tags": []
     },
     "output_type": "execute_result"
    }
   ],
   "source": [
    "nonzero.min()"
   ]
  },
  {
   "cell_type": "markdown",
   "metadata": {
    "id": "5eaQJGatgFAZ"
   },
   "source": [
    "### Задание 7\n",
    "\n",
    "Выбрать из массива `nonzero` только те значения, которые соответствуют продвинутому уровню знания языка – баллу за экзамен выше 80. Сохранить полученный результат в массив `advanced`. В заданиях 8-10 нужно работать с массивом `advanced`."
   ]
  },
  {
   "cell_type": "code",
   "execution_count": 9,
   "metadata": {
    "colab": {
     "base_uri": "https://localhost:8080/"
    },
    "executionInfo": {
     "elapsed": 1148,
     "status": "ok",
     "timestamp": 1611827222947,
     "user": {
      "displayName": "Андрей Щербинин",
      "photoUrl": "",
      "userId": "12257454032092519749"
     },
     "user_tz": -180
    },
    "id": "nmMA59fAgFAZ",
    "outputId": "9c6516da-2a59-4cf2-e6cc-6c9737e2a4fb"
   },
   "outputs": [
    {
     "name": "stdout",
     "output_type": "stream",
     "text": [
      "[ 80  98 100  82 100 100  95  83 100  94  90  87  89  99  88  94 100  81\n",
      "  98  88 100  86  96  80 100  98  87 100  88  89]\n"
     ]
    }
   ],
   "source": [
    "advanced = nonzero[nonzero >= 80]\n",
    "print(advanced)"
   ]
  },
  {
   "cell_type": "markdown",
   "metadata": {
    "id": "Aq0Lf1f6gFAk"
   },
   "source": [
    "### Задание 8\n",
    "\n",
    "Определить размерность массива `advanced`."
   ]
  },
  {
   "cell_type": "code",
   "execution_count": 10,
   "metadata": {
    "colab": {
     "base_uri": "https://localhost:8080/"
    },
    "executionInfo": {
     "elapsed": 1141,
     "status": "ok",
     "timestamp": 1611827222949,
     "user": {
      "displayName": "Андрей Щербинин",
      "photoUrl": "",
      "userId": "12257454032092519749"
     },
     "user_tz": -180
    },
    "id": "m_9Wm-7xgFAl",
    "outputId": "213e4384-32d5-4b64-c53b-ef73e355d0d4"
   },
   "outputs": [
    {
     "data": {
      "text/plain": [
       "1"
      ]
     },
     "execution_count": 10,
     "metadata": {
      "tags": []
     },
     "output_type": "execute_result"
    }
   ],
   "source": [
    "advanced.ndim"
   ]
  },
  {
   "cell_type": "markdown",
   "metadata": {
    "id": "Bc_cX_EYgFAo"
   },
   "source": [
    "### Задание 9\n",
    "\n",
    "Определить форму массива `advanced`."
   ]
  },
  {
   "cell_type": "code",
   "execution_count": 11,
   "metadata": {
    "colab": {
     "base_uri": "https://localhost:8080/"
    },
    "executionInfo": {
     "elapsed": 1133,
     "status": "ok",
     "timestamp": 1611827222950,
     "user": {
      "displayName": "Андрей Щербинин",
      "photoUrl": "",
      "userId": "12257454032092519749"
     },
     "user_tz": -180
    },
    "id": "6VSwGB6fgFAp",
    "outputId": "47c8d3d9-aba7-4fb6-f3ac-81686bf8165c"
   },
   "outputs": [
    {
     "data": {
      "text/plain": [
       "(30,)"
      ]
     },
     "execution_count": 11,
     "metadata": {
      "tags": []
     },
     "output_type": "execute_result"
    }
   ],
   "source": [
    "advanced.shape"
   ]
  },
  {
   "cell_type": "markdown",
   "metadata": {
    "id": "tmheEQZ3gFAr"
   },
   "source": [
    "### Задание 10\n",
    "\n",
    "Определить общее число элементов в массиве `advanced`."
   ]
  },
  {
   "cell_type": "code",
   "execution_count": 12,
   "metadata": {
    "colab": {
     "base_uri": "https://localhost:8080/"
    },
    "executionInfo": {
     "elapsed": 1124,
     "status": "ok",
     "timestamp": 1611827222951,
     "user": {
      "displayName": "Андрей Щербинин",
      "photoUrl": "",
      "userId": "12257454032092519749"
     },
     "user_tz": -180
    },
    "id": "OvJ2oJV7gFAr",
    "outputId": "1717a5a8-8702-4656-b75f-ee6520e8becd"
   },
   "outputs": [
    {
     "data": {
      "text/plain": [
       "30"
      ]
     },
     "execution_count": 12,
     "metadata": {
      "tags": []
     },
     "output_type": "execute_result"
    }
   ],
   "source": [
    "advanced.size"
   ]
  },
  {
   "cell_type": "markdown",
   "metadata": {
    "id": "rfufTemUgFAv"
   },
   "source": [
    "### Задание 11\n",
    "\n",
    "На основе исходного массива `scores` создать булев массив `sto`, где `True` соответствует баллам за экзамен, равным 100, а `False` – всем остальным баллам. "
   ]
  },
  {
   "cell_type": "code",
   "execution_count": 13,
   "metadata": {
    "colab": {
     "base_uri": "https://localhost:8080/"
    },
    "executionInfo": {
     "elapsed": 1118,
     "status": "ok",
     "timestamp": 1611827222953,
     "user": {
      "displayName": "Андрей Щербинин",
      "photoUrl": "",
      "userId": "12257454032092519749"
     },
     "user_tz": -180
    },
    "id": "cXVCTZJRgFAw",
    "outputId": "22d9d3dd-5602-4fd3-8f4b-35a41ce3d4f1"
   },
   "outputs": [
    {
     "name": "stdout",
     "output_type": "stream",
     "text": [
      "[[False False False False False False False False False False]\n",
      " [False False False  True False False False False  True False]\n",
      " [False False False False  True False False False False False]\n",
      " [False False False False  True False False False False False]\n",
      " [False False False False False False False False False False]\n",
      " [False False False False False False False False False False]\n",
      " [False False False False False False False False False  True]\n",
      " [False False False False False False False False False False]\n",
      " [False False False False False False False  True False False]\n",
      " [False False False False False False False False False False]\n",
      " [False False False False False False False False False False]\n",
      " [False False False False False  True False False False False]\n",
      " [False False False False False False False False False False]\n",
      " [ True False False False False False False False False False]\n",
      " [False False False False False False False False False False]]\n"
     ]
    }
   ],
   "source": [
    "sto = scores == 100\n",
    "print(sto)"
   ]
  },
  {
   "cell_type": "markdown",
   "metadata": {
    "id": "GBKO0EiTgFAy"
   },
   "source": [
    "### Задание 12\n",
    "\n",
    "На основе исходного массива `scores` вывести на экран оценки слушателей первых семи групп (включительно, должны быть 7 списков оценок)."
   ]
  },
  {
   "cell_type": "code",
   "execution_count": 14,
   "metadata": {
    "colab": {
     "base_uri": "https://localhost:8080/"
    },
    "executionInfo": {
     "elapsed": 1111,
     "status": "ok",
     "timestamp": 1611827222955,
     "user": {
      "displayName": "Андрей Щербинин",
      "photoUrl": "",
      "userId": "12257454032092519749"
     },
     "user_tz": -180
    },
    "id": "5MsmBdCggFA0",
    "outputId": "dca78970-2459-4204-947c-117945165bd0"
   },
   "outputs": [
    {
     "name": "stdout",
     "output_type": "stream",
     "text": [
      "[[ 20  40  56  80   0   5  25  27  74   1]\n",
      " [  0  98  67 100   8  56  34  82 100   7]\n",
      " [ 78  54  23  79 100   0   0  42  95  83]\n",
      " [ 51  50  47  23 100  94  25  48  38  77]\n",
      " [ 90  87  41  89  52   0   5  17  28  99]\n",
      " [ 32  18  21  18  29  31  48  62  76  22]\n",
      " [  6   0  65  78  43  22  38  88  94 100]]\n"
     ]
    }
   ],
   "source": [
    "print(scores[0:7])"
   ]
  },
  {
   "cell_type": "markdown",
   "metadata": {
    "id": "5cwVuZHAgFA1"
   },
   "source": [
    ".<br> .<br> .<br> .<br> .<br> .<br> .<br> .<br> .<br> .<br> .<br> .<br> .<br> .<br> .<br> .<br> .<br> .<br> \n",
    "# Дополнительное (необязательное) задание.\n",
    "<br>\n"
   ]
  },
  {
   "cell_type": "markdown",
   "metadata": {
    "id": "NevmPbRrgFA2"
   },
   "source": [
    "В заданиях 1-2 необходимо работать с массивом `A`:"
   ]
  },
  {
   "cell_type": "code",
   "execution_count": 23,
   "metadata": {
    "executionInfo": {
     "elapsed": 633,
     "status": "ok",
     "timestamp": 1611827527052,
     "user": {
      "displayName": "Андрей Щербинин",
      "photoUrl": "",
      "userId": "12257454032092519749"
     },
     "user_tz": -180
    },
    "id": "b8eeE6EOgFA2"
   },
   "outputs": [],
   "source": [
    "A = np.array([[2, 9, 8, 0],\n",
    "             [8, 7, 5, 6], \n",
    "             [3, 1, 0, 2], \n",
    "             [6, 5, 6, 8],\n",
    "             [1, 0, 0, 4]])"
   ]
  },
  {
   "cell_type": "markdown",
   "metadata": {
    "id": "RAQ4aJhfgFA5"
   },
   "source": [
    "### Задание 1\n",
    "\n",
    "Транспонировать массив `A`, не используя встроенных методов `NumPy`. Сохранить полученный массив в переменную `A_tr`. Допустимо использовать циклы и условные конструкции (при необходимости).\n",
    "\n",
    "**Напоминание:** транспонирование – операция замены строк и столбцов местами. Пример:\n",
    "\n",
    "До транспонирования:\n",
    "\n",
    "        [[2, 5, 0], \n",
    "        [7, 8, 1]]\n",
    "\n",
    "После транспонирования:\n",
    "\n",
    "        [[2, 7],\n",
    "        [5, 8],\n",
    "        [0, 1]]\n",
    "\n",
    "**Подсказка:** можно почитать про цикл *for* на [pythontutor.ru](https://pythontutor.ru/lessons/for_loop/). На самом деле, если вспомнить про выбор элементов в массиве `NumPy`, то одного цикла будет достаточно, условные конструкции не понадобятся."
   ]
  },
  {
   "cell_type": "code",
   "execution_count": 38,
   "metadata": {
    "colab": {
     "base_uri": "https://localhost:8080/"
    },
    "executionInfo": {
     "elapsed": 706,
     "status": "ok",
     "timestamp": 1611828149684,
     "user": {
      "displayName": "Андрей Щербинин",
      "photoUrl": "",
      "userId": "12257454032092519749"
     },
     "user_tz": -180
    },
    "id": "2HvCIIF0gFA6",
    "outputId": "155090b4-69ea-45fd-e055-a02fc12d94d0"
   },
   "outputs": [
    {
     "name": "stdout",
     "output_type": "stream",
     "text": [
      "[[2 9 8 0]\n",
      " [8 7 5 6]\n",
      " [3 1 0 2]\n",
      " [6 5 6 8]\n",
      " [1 0 0 4]]\n",
      "[[2 8 3 6 1]\n",
      " [9 7 1 5 0]\n",
      " [8 5 0 6 0]\n",
      " [0 6 2 8 4]]\n",
      "[[2 8 3 6 1]\n",
      " [9 7 1 5 0]\n",
      " [8 5 0 6 0]\n",
      " [0 6 2 8 4]]\n"
     ]
    }
   ],
   "source": [
    "A_tr = np.empty((A.shape[1], A.shape[0]))\n",
    "for i in range(A.shape[0]):\n",
    "    for j in range(A.shape[1]):\n",
    "        A_tr[j,i] = A[i,j]\n",
    "A_tr = A_tr.astype(int)     \n",
    "print(A)\n",
    "print(A_tr)\n"
   ]
  },
  {
   "cell_type": "markdown",
   "metadata": {
    "id": "Rb0Np089gFA8"
   },
   "source": [
    "### Задание 2\n",
    "\n",
    "Сравнить результаты: проверить равенство полученного выше массива `A_tr` и массива, который получается транспонированием массива `A` с помощью метода `.T`. \n",
    "\n",
    "**Подсказка:** для сравнения массивов целиком, не поэлементно, можно использовать [функцию](https://docs.scipy.org/doc/numpy/reference/generated/numpy.array_equal.html) `array_equal()`."
   ]
  },
  {
   "cell_type": "code",
   "execution_count": 39,
   "metadata": {
    "colab": {
     "base_uri": "https://localhost:8080/"
    },
    "executionInfo": {
     "elapsed": 771,
     "status": "ok",
     "timestamp": 1611828160344,
     "user": {
      "displayName": "Андрей Щербинин",
      "photoUrl": "",
      "userId": "12257454032092519749"
     },
     "user_tz": -180
    },
    "id": "oy3tY9Y0gFA9",
    "outputId": "085545e4-6188-4edb-9db8-33188784d406"
   },
   "outputs": [
    {
     "data": {
      "text/plain": [
       "True"
      ]
     },
     "execution_count": 39,
     "metadata": {
      "tags": []
     },
     "output_type": "execute_result"
    }
   ],
   "source": [
    "np.array_equal(A.T, A_tr)"
   ]
  },
  {
   "cell_type": "markdown",
   "metadata": {
    "id": "0GsTgRbbgFA_"
   },
   "source": [
    "### Задание 3\n",
    "\n",
    "Студент N подрабатывает репетитором по математике и ведёт занятия разных типов: готовит к ЕГЭ, к олимпиадам, «подтягивает» математику у школьников младших классов. \n",
    "\n",
    "В массиве `classes` хранится число проведённых уроков за пять рабочих дней, в массиве `prices` — стоимость одного урока (считаем, что студент за день проводит занятия одного типа, одинаковые по стоимости).\n",
    "\n",
    "Определить доход студента за неделю, используя [метод](https://docs.scipy.org/doc/numpy/reference/generated/numpy.dot.html) `.dot()` для нахождения [скалярного произведения](https://ru.wikipedia.org/wiki/%D0%A1%D0%BA%D0%B0%D0%BB%D1%8F%D1%80%D0%BD%D0%BE%D0%B5_%D0%BF%D1%80%D0%BE%D0%B8%D0%B7%D0%B2%D0%B5%D0%B4%D0%B5%D0%BD%D0%B8%D0%B5). "
   ]
  },
  {
   "cell_type": "code",
   "execution_count": 40,
   "metadata": {
    "executionInfo": {
     "elapsed": 637,
     "status": "ok",
     "timestamp": 1611828525832,
     "user": {
      "displayName": "Андрей Щербинин",
      "photoUrl": "",
      "userId": "12257454032092519749"
     },
     "user_tz": -180
    },
    "id": "IHm4BAzMgFA_"
   },
   "outputs": [],
   "source": [
    "classes = np.array([3, 3, 2, 0, 2])\n",
    "prices = np.array([1500, 1500, 2500, 1000, 1000])"
   ]
  },
  {
   "cell_type": "markdown",
   "metadata": {
    "id": "OtbBTRbsd3UG"
   },
   "source": []
  },
  {
   "cell_type": "code",
   "execution_count": 41,
   "metadata": {
    "colab": {
     "base_uri": "https://localhost:8080/"
    },
    "executionInfo": {
     "elapsed": 638,
     "status": "ok",
     "timestamp": 1611828534347,
     "user": {
      "displayName": "Андрей Щербинин",
      "photoUrl": "",
      "userId": "12257454032092519749"
     },
     "user_tz": -180
    },
    "id": "naNXR55mgFBD",
    "outputId": "cadc2d58-e5a8-441f-f689-7b90c047bdcc"
   },
   "outputs": [
    {
     "data": {
      "text/plain": [
       "16000"
      ]
     },
     "execution_count": 41,
     "metadata": {
      "tags": []
     },
     "output_type": "execute_result"
    }
   ],
   "source": [
    "np.dot(classes, prices)"
   ]
  },
  {
   "cell_type": "markdown",
   "metadata": {
    "id": "pVhH4MrAgFBH"
   },
   "source": [
    "### Задание 4\n",
    "\n",
    "По результатам работы с данными по оценкам за эссе студентов, поставленным двумя разными экспертами, были созданы два булевых массива `expert1` и `expert2`, в которых значение `True` означает оценку «удовлетворительно» и выше, а значение `False` – неудовлетворительно. Всего было оценено 15 эссе, по 5 эссе на каждую из трёх тем."
   ]
  },
  {
   "cell_type": "code",
   "execution_count": 60,
   "metadata": {
    "executionInfo": {
     "elapsed": 615,
     "status": "ok",
     "timestamp": 1611829022163,
     "user": {
      "displayName": "Андрей Щербинин",
      "photoUrl": "",
      "userId": "12257454032092519749"
     },
     "user_tz": -180
    },
    "id": "XvKTyCPsgFBH"
   },
   "outputs": [],
   "source": [
    "expert1 = np.array([[True, False, False, True, True],\n",
    "                   [False, True, False, False, True],\n",
    "                   [True, True, True, False, False]])\n",
    "expert2 = np.array([[True, False, False, False, True],\n",
    "                   [False, False, False, False, False],\n",
    "                   [True, False, True, False, False]])"
   ]
  },
  {
   "cell_type": "code",
   "execution_count": 88,
   "metadata": {
    "colab": {
     "base_uri": "https://localhost:8080/"
    },
    "executionInfo": {
     "elapsed": 595,
     "status": "ok",
     "timestamp": 1611830873189,
     "user": {
      "displayName": "Андрей Щербинин",
      "photoUrl": "",
      "userId": "12257454032092519749"
     },
     "user_tz": -180
    },
    "id": "_ItTN6kugFBI",
    "outputId": "2130983d-d234-4dab-986d-a624154753ae"
   },
   "outputs": [
    {
     "data": {
      "text/plain": [
       "array([[ True, False, False, False,  True],\n",
       "       [False, False, False, False, False],\n",
       "       [ True, False,  True, False, False]])"
      ]
     },
     "execution_count": 88,
     "metadata": {
      "tags": []
     },
     "output_type": "execute_result"
    }
   ],
   "source": [
    "both_experts = np.bitwise_and(expert1, expert2)\n",
    "both_experts[both_experts == True].size\n",
    "both_experts"
   ]
  },
  {
   "cell_type": "markdown",
   "metadata": {
    "id": "Pu9yicVpgFBL"
   },
   "source": [
    "Определить, используя различные логические операторы (`|`, `&`, и проч.) и вспомогательные методы/функции, сколько студентов получат зачёт, если известно, что для этого необходимо получить оценку не ниже удовлетворительной у обоих экспертов."
   ]
  },
  {
   "cell_type": "markdown",
   "metadata": {
    "id": "SNjTSYadgFBM"
   },
   "source": [
    "### Задание 5\n",
    "\n",
    "Дан массив `essay` с итоговыми оценками студентов за эссе из задачи 4:"
   ]
  },
  {
   "cell_type": "code",
   "execution_count": 73,
   "metadata": {
    "executionInfo": {
     "elapsed": 627,
     "status": "ok",
     "timestamp": 1611829522338,
     "user": {
      "displayName": "Андрей Щербинин",
      "photoUrl": "",
      "userId": "12257454032092519749"
     },
     "user_tz": -180
    },
    "id": "m-0uuLMsgFBN"
   },
   "outputs": [],
   "source": [
    "# pass - сдал\n",
    "# not pass - не сдал\n",
    "essay = np.array([[\"pass\", \"not pass\", \"not pass\", \"not pass\", \"pass\"],\n",
    "        [\"not pass\", \"not pass\", \"not pass\", \"not pass\", \"not pass\"],\n",
    "        [\"pass\", \"not pass\", \"pass\", \"not pass\", \"not pass\"]])"
   ]
  },
  {
   "cell_type": "markdown",
   "metadata": {
    "id": "ods6NVgWgFBO"
   },
   "source": [
    "Проверить ответ в предыдущей задаче, используя массив `essay`. Решение должно быть представлено в виде кода, не в виде выводов в результате явного подсчёта элементов."
   ]
  },
  {
   "cell_type": "code",
   "execution_count": 89,
   "metadata": {
    "colab": {
     "base_uri": "https://localhost:8080/"
    },
    "executionInfo": {
     "elapsed": 873,
     "status": "ok",
     "timestamp": 1611830886681,
     "user": {
      "displayName": "Андрей Щербинин",
      "photoUrl": "",
      "userId": "12257454032092519749"
     },
     "user_tz": -180
    },
    "id": "VrnzKwKfgFBO",
    "outputId": "6adfb991-4f6b-4a3b-a52b-834edacee395"
   },
   "outputs": [
    {
     "data": {
      "text/plain": [
       "True"
      ]
     },
     "execution_count": 89,
     "metadata": {
      "tags": []
     },
     "output_type": "execute_result"
    }
   ],
   "source": [
    "np.array_equal(both_experts, essay == 'pass')"
   ]
  },
  {
   "cell_type": "markdown",
   "metadata": {
    "id": "O4WRS6GagFBQ"
   },
   "source": [
    "### Задание 6\n",
    "\n",
    "Используя массивы `expert1` и `expert2` из задачи 4, определить согласованность двух экспертов, используя меру близости Жаккара, которая вычисляется следующим образом:\n",
    "\n",
    "$$\n",
    "J(A, B) = \\frac{|A \\cap B|}{|A| + |B| - |A \\cap B|}\n",
    ",$$ \n",
    "\n",
    "где $A$ – первое множество, $B$ – второе множество, $A \\cap B$ – пересечение множеств, т.е. их общие элементы. Запись $|A|$ означает «количество элементов в множестве». \n",
    "\n",
    "В качестве множеств $A$ и $B$ в данной задаче выступают множества (группы) студентов, которые получили зачёт у первого и второго экспертов."
   ]
  },
  {
   "cell_type": "code",
   "execution_count": 90,
   "metadata": {
    "colab": {
     "base_uri": "https://localhost:8080/"
    },
    "executionInfo": {
     "elapsed": 603,
     "status": "ok",
     "timestamp": 1611830892001,
     "user": {
      "displayName": "Андрей Щербинин",
      "photoUrl": "",
      "userId": "12257454032092519749"
     },
     "user_tz": -180
    },
    "id": "uxsA-5kGgFBQ",
    "outputId": "082cd4d0-7855-4717-fb33-ef089a56d428"
   },
   "outputs": [
    {
     "data": {
      "text/plain": [
       "0.5"
      ]
     },
     "execution_count": 90,
     "metadata": {
      "tags": []
     },
     "output_type": "execute_result"
    }
   ],
   "source": [
    "np.bitwise_and(expert1, expert2).sum() / np.bitwise_or(expert1, expert2).sum()"
   ]
  },
  {
   "cell_type": "code",
   "execution_count": 95,
   "metadata": {
    "colab": {
     "base_uri": "https://localhost:8080/"
    },
    "executionInfo": {
     "elapsed": 603,
     "status": "ok",
     "timestamp": 1611831057081,
     "user": {
      "displayName": "Андрей Щербинин",
      "photoUrl": "",
      "userId": "12257454032092519749"
     },
     "user_tz": -180
    },
    "id": "fIS2I7emm8BX",
    "outputId": "dffd38f5-4e3f-4632-87c6-255c04727dc5"
   },
   "outputs": [
    {
     "data": {
      "text/plain": [
       "0.5"
      ]
     },
     "execution_count": 95,
     "metadata": {
      "tags": []
     },
     "output_type": "execute_result"
    }
   ],
   "source": [
    "np.bitwise_and(expert1, expert2).sum() / (expert1[expert1==True].size + expert2[expert2==True].size - np.bitwise_and(expert1, expert2).sum())"
   ]
  }
 ],
 "metadata": {
  "colab": {
   "name": "jun_anl_numpy1_hw.ipynb",
   "provenance": []
  },
  "kernelspec": {
   "display_name": "Python 3",
   "language": "python",
   "name": "python3"
  },
  "language_info": {
   "codemirror_mode": {
    "name": "ipython",
    "version": 3
   },
   "file_extension": ".py",
   "mimetype": "text/x-python",
   "name": "python",
   "nbconvert_exporter": "python",
   "pygments_lexer": "ipython3",
   "version": "3.8.5"
  }
 },
 "nbformat": 4,
 "nbformat_minor": 1
}
