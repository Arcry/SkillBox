{
 "cells": [
  {
   "cell_type": "markdown",
   "metadata": {
    "id": "yyo73hwFEoJt"
   },
   "source": [
    "## Преобразования функций и полиномы. Домашнее задание\n",
    "\n",
    "С помощью SymPy найдите полиномы, описывающие данные наборы точек. Затем проведите полное исследование каждого полученного полинома: проверьте четность/нечетность, найдите нули, промежутки знакопостоянства. Постройте их графики. С помощью изменения промежутка для х добейтесь того, чтобы все нули были отображены на графике функции.<br><br>\n",
    "Средний уровень <br><br>\n",
    "$(-2, 2), (-1, 1), (0, 0), (1, 1), (2, 2)$<br><br>\n",
    "Сложный уровень <br><br>\n",
    "$(-3, 33), (-2, 31), (-1, 18), (1, -18), (2, -31), (3, -33)$\n"
   ]
  },
  {
   "cell_type": "code",
   "execution_count": 134,
   "metadata": {
    "ExecuteTime": {
     "end_time": "2021-02-20T08:30:40.537953Z",
     "start_time": "2021-02-20T08:30:40.535860Z"
    },
    "id": "bVBLXKfjEiEA"
   },
   "outputs": [],
   "source": [
    "from sympy import *\n",
    "import numpy as np\n",
    "import matplotlib.pyplot as plt"
   ]
  },
  {
   "cell_type": "code",
   "execution_count": 135,
   "metadata": {
    "ExecuteTime": {
     "end_time": "2021-02-20T08:30:40.549608Z",
     "start_time": "2021-02-20T08:30:40.538939Z"
    }
   },
   "outputs": [],
   "source": [
    "x, y, z = symbols('x y z')\n",
    "a0, a1, a2, a3, a4, a5 = symbols('a0, a1, a2, a3, a4, a5')"
   ]
  },
  {
   "cell_type": "markdown",
   "metadata": {},
   "source": [
    "## Средний уровень"
   ]
  },
  {
   "cell_type": "code",
   "execution_count": 136,
   "metadata": {
    "ExecuteTime": {
     "end_time": "2021-02-20T08:30:40.553257Z",
     "start_time": "2021-02-20T08:30:40.551255Z"
    }
   },
   "outputs": [],
   "source": [
    "x_y = [(-2,2),(-1,1),(0,0),(1,1),(2,2)]"
   ]
  },
  {
   "cell_type": "code",
   "execution_count": 137,
   "metadata": {
    "ExecuteTime": {
     "end_time": "2021-02-20T08:30:40.558743Z",
     "start_time": "2021-02-20T08:30:40.554663Z"
    }
   },
   "outputs": [],
   "source": [
    "eq_lp = []\n",
    "for num in (x_y):\n",
    "    eq_lp.append(a4 * num[0]**4 + a3 * num[0]**3 + a2 * num[0]**2 + a1 * num[0] + a0 - num[1])"
   ]
  },
  {
   "cell_type": "code",
   "execution_count": 138,
   "metadata": {
    "ExecuteTime": {
     "end_time": "2021-02-20T08:30:40.564294Z",
     "start_time": "2021-02-20T08:30:40.559862Z"
    }
   },
   "outputs": [
    {
     "data": {
      "text/plain": [
       "[a0 - 2*a1 + 4*a2 - 8*a3 + 16*a4 - 2,\n",
       " a0 - a1 + a2 - a3 + a4 - 1,\n",
       " a0,\n",
       " a0 + a1 + a2 + a3 + a4 - 1,\n",
       " a0 + 2*a1 + 4*a2 + 8*a3 + 16*a4 - 2]"
      ]
     },
     "execution_count": 138,
     "metadata": {},
     "output_type": "execute_result"
    }
   ],
   "source": [
    "eq_lp"
   ]
  },
  {
   "cell_type": "code",
   "execution_count": 139,
   "metadata": {
    "ExecuteTime": {
     "end_time": "2021-02-20T08:30:40.654320Z",
     "start_time": "2021-02-20T08:30:40.565474Z"
    }
   },
   "outputs": [
    {
     "data": {
      "text/latex": [
       "$\\displaystyle \\left\\{\\left( - \\frac{1}{6}, \\  0, \\  \\frac{7}{6}, \\  0, \\  0\\right)\\right\\}$"
      ],
      "text/plain": [
       "FiniteSet((-1/6, 0, 7/6, 0, 0))"
      ]
     },
     "execution_count": 139,
     "metadata": {},
     "output_type": "execute_result"
    }
   ],
   "source": [
    "nonlinsolve(eq_lp, [a4, a3, a2, a1, a0])"
   ]
  },
  {
   "cell_type": "code",
   "execution_count": 164,
   "metadata": {
    "ExecuteTime": {
     "end_time": "2021-02-20T08:35:15.524017Z",
     "start_time": "2021-02-20T08:35:15.519737Z"
    }
   },
   "outputs": [
    {
     "data": {
      "text/latex": [
       "$\\displaystyle - 0.166666666666667 x^{4} + 1.16666666666667 x^{2}$"
      ],
      "text/plain": [
       "-0.166666666666667*x**4 + 1.16666666666667*x**2"
      ]
     },
     "execution_count": 164,
     "metadata": {},
     "output_type": "execute_result"
    }
   ],
   "source": [
    "f = -1/6 * x**4 + 7/6 * x**2\n",
    "f"
   ]
  },
  {
   "cell_type": "code",
   "execution_count": 141,
   "metadata": {
    "ExecuteTime": {
     "end_time": "2021-02-20T08:30:40.672872Z",
     "start_time": "2021-02-20T08:30:40.664702Z"
    }
   },
   "outputs": [
    {
     "name": "stdout",
     "output_type": "stream",
     "text": [
      " x=-2, y=2\n",
      " x=-1, y=1\n",
      " x=0, y=0\n",
      " x=1, y=1\n",
      " x=2, y=2\n"
     ]
    }
   ],
   "source": [
    "for num in (x_y):\n",
    "    print (f' x={num[0]}, y={int(f.subs(x, num[0]))}') # все значения совпали"
   ]
  },
  {
   "cell_type": "code",
   "execution_count": 166,
   "metadata": {
    "ExecuteTime": {
     "end_time": "2021-02-20T08:35:25.171929Z",
     "start_time": "2021-02-20T08:35:25.021913Z"
    }
   },
   "outputs": [
    {
     "data": {
      "image/png": "[encoded data removed]",
      "text/plain": [
       "<Figure size 432x288 with 1 Axes>"
      ]
     },
     "metadata": {
      "needs_background": "light"
     },
     "output_type": "display_data"
    },
    {
     "data": {
      "text/plain": [
       "<sympy.plotting.plot.Plot at 0x7f63f9bc6d90>"
      ]
     },
     "execution_count": 166,
     "metadata": {},
     "output_type": "execute_result"
    }
   ],
   "source": [
    "plot(f, (x, -3, 3))"
   ]
  },
  {
   "cell_type": "code",
   "execution_count": 143,
   "metadata": {
    "ExecuteTime": {
     "end_time": "2021-02-20T08:30:40.849622Z",
     "start_time": "2021-02-20T08:30:40.847344Z"
    }
   },
   "outputs": [],
   "source": [
    "# Функция четная"
   ]
  },
  {
   "cell_type": "code",
   "execution_count": 144,
   "metadata": {
    "ExecuteTime": {
     "end_time": "2021-02-20T08:30:40.869019Z",
     "start_time": "2021-02-20T08:30:40.851067Z"
    }
   },
   "outputs": [
    {
     "data": {
      "text/plain": [
       "[-2.64575131106459, 0.0, 2.64575131106459]"
      ]
     },
     "execution_count": 144,
     "metadata": {},
     "output_type": "execute_result"
    }
   ],
   "source": [
    "solve(f, x) # корни равны [-2.64575131106459, 0.0, 2.64575131106459]"
   ]
  },
  {
   "cell_type": "code",
   "execution_count": 145,
   "metadata": {
    "ExecuteTime": {
     "end_time": "2021-02-20T08:30:40.952157Z",
     "start_time": "2021-02-20T08:30:40.870475Z"
    }
   },
   "outputs": [
    {
     "data": {
      "text/latex": [
       "$\\displaystyle \\left(-2.64575131106459 < x \\wedge x < 0\\right) \\vee \\left(0 < x \\wedge x < 2.64575131106459\\right)$"
      ],
      "text/plain": [
       "((-2.64575131106459 < x) & (x < 0)) | ((0 < x) & (x < 2.64575131106459))"
      ]
     },
     "execution_count": 145,
     "metadata": {},
     "output_type": "execute_result"
    }
   ],
   "source": [
    "solve_univariate_inequality(f > 0, x) # Функция положительна на интервалах"
   ]
  },
  {
   "cell_type": "code",
   "execution_count": 146,
   "metadata": {
    "ExecuteTime": {
     "end_time": "2021-02-20T08:30:41.010470Z",
     "start_time": "2021-02-20T08:30:40.953100Z"
    }
   },
   "outputs": [
    {
     "data": {
      "text/latex": [
       "$\\displaystyle \\left(-\\infty < x \\wedge x < -2.64575131106459\\right) \\vee \\left(2.64575131106459 < x \\wedge x < \\infty\\right)$"
      ],
      "text/plain": [
       "((-oo < x) & (x < -2.64575131106459)) | ((2.64575131106459 < x) & (x < oo))"
      ]
     },
     "execution_count": 146,
     "metadata": {},
     "output_type": "execute_result"
    }
   ],
   "source": [
    "solve_univariate_inequality(f < 0, x) # Функция отрицательна на интервалах"
   ]
  },
  {
   "cell_type": "code",
   "execution_count": 147,
   "metadata": {
    "ExecuteTime": {
     "end_time": "2021-02-20T08:30:41.120614Z",
     "start_time": "2021-02-20T08:30:41.011826Z"
    }
   },
   "outputs": [
    {
     "data": {
      "image/png": "[encoded data removed]",
      "text/plain": [
       "<Figure size 432x288 with 1 Axes>"
      ]
     },
     "metadata": {
      "needs_background": "light"
     },
     "output_type": "display_data"
    }
   ],
   "source": [
    "x_range = np.linspace(-10, 10, 1000)\n",
    "f_l = lambda x: -1/6 * x**4 + 7/6 * x**2\n",
    "plt.scatter([-2, -1, 0, 1, 2], [2, 1, 0, 1, 2], c='r')\n",
    "plt.plot(x_range, f_l(x_range))\n",
    "plt.xlim(-4, 4)\n",
    "plt.ylim(-15, 5)\n",
    "plt.grid()"
   ]
  },
  {
   "cell_type": "code",
   "execution_count": null,
   "metadata": {},
   "outputs": [],
   "source": []
  },
  {
   "cell_type": "markdown",
   "metadata": {},
   "source": [
    "## Сложный уровень"
   ]
  },
  {
   "cell_type": "code",
   "execution_count": 148,
   "metadata": {
    "ExecuteTime": {
     "end_time": "2021-02-20T08:30:41.123449Z",
     "start_time": "2021-02-20T08:30:41.121497Z"
    }
   },
   "outputs": [],
   "source": [
    "a0, a1, a2, a3, a4, a5 = symbols('a0, a1, a2, a3, a4, a5')"
   ]
  },
  {
   "cell_type": "code",
   "execution_count": 149,
   "metadata": {
    "ExecuteTime": {
     "end_time": "2021-02-20T08:30:41.127894Z",
     "start_time": "2021-02-20T08:30:41.124883Z"
    }
   },
   "outputs": [],
   "source": [
    "x_y = [(-3,33),(-2,31),(-1,18),(1,-18),(2,-31),(3,-33)]"
   ]
  },
  {
   "cell_type": "code",
   "execution_count": 150,
   "metadata": {
    "ExecuteTime": {
     "end_time": "2021-02-20T08:30:41.137034Z",
     "start_time": "2021-02-20T08:30:41.129360Z"
    }
   },
   "outputs": [],
   "source": [
    "eq_lp = []\n",
    "for num in (x_y):\n",
    "    eq_lp.append(a5 * num[0]**5 + a4 * num[0]**4 + a3 * num[0]**3 + a2 * num[0]**2 + a1 * num[0] + a0 - num[1])"
   ]
  },
  {
   "cell_type": "code",
   "execution_count": 151,
   "metadata": {
    "ExecuteTime": {
     "end_time": "2021-02-20T08:30:41.147200Z",
     "start_time": "2021-02-20T08:30:41.138550Z"
    }
   },
   "outputs": [
    {
     "data": {
      "text/plain": [
       "[a0 - 3*a1 + 9*a2 - 27*a3 + 81*a4 - 243*a5 - 33,\n",
       " a0 - 2*a1 + 4*a2 - 8*a3 + 16*a4 - 32*a5 - 31,\n",
       " a0 - a1 + a2 - a3 + a4 - a5 - 18,\n",
       " a0 + a1 + a2 + a3 + a4 + a5 + 18,\n",
       " a0 + 2*a1 + 4*a2 + 8*a3 + 16*a4 + 32*a5 + 31,\n",
       " a0 + 3*a1 + 9*a2 + 27*a3 + 81*a4 + 243*a5 + 33]"
      ]
     },
     "execution_count": 151,
     "metadata": {},
     "output_type": "execute_result"
    }
   ],
   "source": [
    "eq_lp"
   ]
  },
  {
   "cell_type": "code",
   "execution_count": 152,
   "metadata": {
    "ExecuteTime": {
     "end_time": "2021-02-20T08:30:41.279061Z",
     "start_time": "2021-02-20T08:30:41.151853Z"
    }
   },
   "outputs": [
    {
     "data": {
      "text/latex": [
       "$\\displaystyle \\left\\{\\left( \\frac{1}{120}, \\  0, \\  \\frac{19}{24}, \\  0, \\  - \\frac{94}{5}, \\  0\\right)\\right\\}$"
      ],
      "text/plain": [
       "FiniteSet((1/120, 0, 19/24, 0, -94/5, 0))"
      ]
     },
     "execution_count": 152,
     "metadata": {},
     "output_type": "execute_result"
    }
   ],
   "source": [
    "nonlinsolve(eq_lp, [a5, a4, a3, a2, a1, a0])"
   ]
  },
  {
   "cell_type": "code",
   "execution_count": 153,
   "metadata": {
    "ExecuteTime": {
     "end_time": "2021-02-20T08:30:41.286221Z",
     "start_time": "2021-02-20T08:30:41.280963Z"
    }
   },
   "outputs": [
    {
     "data": {
      "text/latex": [
       "$\\displaystyle 0.00833333333333333 x^{5} + 0.791666666666667 x^{3} - 18.8 x$"
      ],
      "text/plain": [
       "0.00833333333333333*x**5 + 0.791666666666667*x**3 - 18.8*x"
      ]
     },
     "execution_count": 153,
     "metadata": {},
     "output_type": "execute_result"
    }
   ],
   "source": [
    "f = 1/120 * x**5  + 19/24 * x**3 - 94/5 * x\n",
    "f"
   ]
  },
  {
   "cell_type": "code",
   "execution_count": 154,
   "metadata": {
    "ExecuteTime": {
     "end_time": "2021-02-20T08:30:41.290410Z",
     "start_time": "2021-02-20T08:30:41.287521Z"
    }
   },
   "outputs": [
    {
     "name": "stdout",
     "output_type": "stream",
     "text": [
      " x=-3, y=33\n",
      " x=-2, y=31\n",
      " x=-1, y=18\n",
      " x=1, y=-18\n",
      " x=2, y=-31\n",
      " x=3, y=-33\n"
     ]
    }
   ],
   "source": [
    "for num in (x_y):\n",
    "    print (f' x={num[0]}, y={int(f.subs(x, num[0]))}') # все значения совпали"
   ]
  },
  {
   "cell_type": "code",
   "execution_count": 155,
   "metadata": {
    "ExecuteTime": {
     "end_time": "2021-02-20T08:30:41.455447Z",
     "start_time": "2021-02-20T08:30:41.291395Z"
    }
   },
   "outputs": [
    {
     "data": {
      "image/png": "[encoded data removed]",
      "text/plain": [
       "<Figure size 432x288 with 1 Axes>"
      ]
     },
     "metadata": {
      "needs_background": "light"
     },
     "output_type": "display_data"
    },
    {
     "data": {
      "text/plain": [
       "<sympy.plotting.plot.Plot at 0x7f63faf751f0>"
      ]
     },
     "execution_count": 155,
     "metadata": {},
     "output_type": "execute_result"
    }
   ],
   "source": [
    "plot(f, (x, -5, 5))"
   ]
  },
  {
   "cell_type": "code",
   "execution_count": 156,
   "metadata": {
    "ExecuteTime": {
     "end_time": "2021-02-20T08:30:41.458547Z",
     "start_time": "2021-02-20T08:30:41.456708Z"
    }
   },
   "outputs": [],
   "source": [
    "# Функция нечетная"
   ]
  },
  {
   "cell_type": "code",
   "execution_count": 157,
   "metadata": {
    "ExecuteTime": {
     "end_time": "2021-02-20T08:30:41.498598Z",
     "start_time": "2021-02-20T08:30:41.460205Z"
    }
   },
   "outputs": [
    {
     "data": {
      "text/plain": [
       "[-4.43545751638198,\n",
       " 0.0,\n",
       " 4.43545751638198,\n",
       " -10.7085612189327*I,\n",
       " 10.7085612189327*I]"
      ]
     },
     "execution_count": 157,
     "metadata": {},
     "output_type": "execute_result"
    }
   ],
   "source": [
    "solve(f, x) # корни равны "
   ]
  },
  {
   "cell_type": "code",
   "execution_count": 158,
   "metadata": {
    "ExecuteTime": {
     "end_time": "2021-02-20T08:30:41.635008Z",
     "start_time": "2021-02-20T08:30:41.500033Z"
    }
   },
   "outputs": [
    {
     "data": {
      "text/latex": [
       "$\\displaystyle \\left(-4.43545751638198 < x \\wedge x < 0\\right) \\vee \\left(4.43545751638198 < x \\wedge x < \\infty\\right)$"
      ],
      "text/plain": [
       "((-4.43545751638198 < x) & (x < 0)) | ((4.43545751638198 < x) & (x < oo))"
      ]
     },
     "execution_count": 158,
     "metadata": {},
     "output_type": "execute_result"
    }
   ],
   "source": [
    "solve_univariate_inequality(f > 0, x) # Функция положительна на интервалах"
   ]
  },
  {
   "cell_type": "code",
   "execution_count": 159,
   "metadata": {
    "ExecuteTime": {
     "end_time": "2021-02-20T08:30:41.752327Z",
     "start_time": "2021-02-20T08:30:41.636020Z"
    }
   },
   "outputs": [
    {
     "data": {
      "text/latex": [
       "$\\displaystyle \\left(-\\infty < x \\wedge x < -4.43545751638198\\right) \\vee \\left(0 < x \\wedge x < 4.43545751638198\\right)$"
      ],
      "text/plain": [
       "((-oo < x) & (x < -4.43545751638198)) | ((0 < x) & (x < 4.43545751638198))"
      ]
     },
     "execution_count": 159,
     "metadata": {},
     "output_type": "execute_result"
    }
   ],
   "source": [
    "solve_univariate_inequality(f < 0, x) # Функция отрицательна на интервалах"
   ]
  },
  {
   "cell_type": "code",
   "execution_count": 160,
   "metadata": {
    "ExecuteTime": {
     "end_time": "2021-02-20T08:30:41.985203Z",
     "start_time": "2021-02-20T08:30:41.753480Z"
    }
   },
   "outputs": [
    {
     "data": {
      "image/png": "[encoded data removed]",
      "text/plain": [
       "<Figure size 432x288 with 1 Axes>"
      ]
     },
     "metadata": {
      "needs_background": "light"
     },
     "output_type": "display_data"
    }
   ],
   "source": [
    "x_range = np.linspace(-10, 10, 1000)\n",
    "f_l = lambda x: 1/120 * x**5  + 19/24 * x**3 - 94/5 * x\n",
    "plt.scatter([-3, -2, -1, 1, 2, 3], [33, 31, 18, -18, -31, -33], c='r')\n",
    "plt.plot(x_range, f_l(x_range))\n",
    "plt.xlim(-5, 5)\n",
    "plt.ylim(-40, 40)\n",
    "plt.grid()"
   ]
  }
 ],
 "metadata": {
  "colab": {
   "collapsed_sections": [],
   "name": "Преобразования функций и полиномы. Домашнее задание.ipynb",
   "provenance": []
  },
  "kernelspec": {
   "display_name": "Python 3",
   "language": "python",
   "name": "python3"
  },
  "language_info": {
   "codemirror_mode": {
    "name": "ipython",
    "version": 3
   },
   "file_extension": ".py",
   "mimetype": "text/x-python",
   "name": "python",
   "nbconvert_exporter": "python",
   "pygments_lexer": "ipython3",
   "version": "3.9.1"
  },
  "toc": {
   "base_numbering": 1,
   "nav_menu": {},
   "number_sections": true,
   "sideBar": true,
   "skip_h1_title": false,
   "title_cell": "Table of Contents",
   "title_sidebar": "Contents",
   "toc_cell": false,
   "toc_position": {},
   "toc_section_display": true,
   "toc_window_display": false
  },
  "varInspector": {
   "cols": {
    "lenName": 16,
    "lenType": 16,
    "lenVar": 40
   },
   "kernels_config": {
    "python": {
     "delete_cmd_postfix": "",
     "delete_cmd_prefix": "del ",
     "library": "var_list.py",
     "varRefreshCmd": "print(var_dic_list())"
    },
    "r": {
     "delete_cmd_postfix": ") ",
     "delete_cmd_prefix": "rm(",
     "library": "var_list.r",
     "varRefreshCmd": "cat(var_dic_list()) "
    }
   },
   "types_to_exclude": [
    "module",
    "function",
    "builtin_function_or_method",
    "instance",
    "_Feature"
   ],
   "window_display": false
  }
 },
 "nbformat": 4,
 "nbformat_minor": 1
}
