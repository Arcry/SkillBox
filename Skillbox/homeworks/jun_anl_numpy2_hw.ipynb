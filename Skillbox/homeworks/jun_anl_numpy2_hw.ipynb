{
 "cells": [
  {
   "cell_type": "markdown",
   "metadata": {
    "id": "nVt242D_gxtN"
   },
   "source": [
    "# Библиотека `NumPy`: часть 2\n",
    "\n",
    "*Алла Тамбовцева*\n",
    "\n",
    "## Домашнее задание \n",
    "\n",
    "### Описание домашнего задания и формат сдачи\n",
    "\n",
    "В домашнем задании необходимо решить предложенные задачи по программированию – вписать свой код в ячейки после условий задач вместо комментария `### YOUR CODE HERE ###` в файле *homework-numpy2.ipynb* и сохранить изменения, используя опцию *Save and Checkpoint* из вкладки меню *File* или кнопку *Save and Checkpoint* на панели инструментов. Итоговый файл в формате `.ipynb` (файл Jupyter Notebook) необходимо загрузить в личный кабинет обучающей онлайн платформы Skillbox (https://go.skillbox.ru/) и отправить на проверку."
   ]
  },
  {
   "cell_type": "code",
   "execution_count": null,
   "metadata": {
    "colab": {
     "base_uri": "https://localhost:8080/"
    },
    "executionInfo": {
     "elapsed": 27868,
     "status": "ok",
     "timestamp": 1611678499834,
     "user": {
      "displayName": "Андрей Щербинин",
      "photoUrl": "",
      "userId": "12257454032092519749"
     },
     "user_tz": -180
    },
    "id": "2biWk1U1hacn",
    "outputId": "24c54c48-3fd2-4111-c1e5-4e3f1518ecde"
   },
   "outputs": [
    {
     "name": "stdout",
     "output_type": "stream",
     "text": [
      "Mounted at /content/drive\n"
     ]
    }
   ],
   "source": [
    "from google.colab import drive\n",
    "drive.mount('/content/drive')\n"
   ]
  },
  {
   "cell_type": "code",
   "execution_count": 3,
   "metadata": {
    "executionInfo": {
     "elapsed": 1268,
     "status": "ok",
     "timestamp": 1611724561299,
     "user": {
      "displayName": "Андрей Щербинин",
      "photoUrl": "",
      "userId": "12257454032092519749"
     },
     "user_tz": -180
    },
    "id": "Zv3WGR40h4Xr"
   },
   "outputs": [],
   "source": [
    "import numpy as np"
   ]
  },
  {
   "cell_type": "markdown",
   "metadata": {
    "id": "vFKIkYGqgxtU"
   },
   "source": [
    "### Задание 1\n",
    "Загрузить из файла `array_hw.npy` массив и сохранить его как `arr`. Массив содержит объёмы продаж мороженого (в штуках) в 5 магазинах за одну неделю в июне (7 дней, с понедельника до воскресенья). В заданиях 2-5 нужно работать с массивом `arr`."
   ]
  },
  {
   "cell_type": "code",
   "execution_count": null,
   "metadata": {
    "colab": {
     "base_uri": "https://localhost:8080/"
    },
    "executionInfo": {
     "elapsed": 684,
     "status": "ok",
     "timestamp": 1611687281230,
     "user": {
      "displayName": "Андрей Щербинин",
      "photoUrl": "",
      "userId": "12257454032092519749"
     },
     "user_tz": -180
    },
    "id": "4gmyG-bfgxtV",
    "outputId": "609461b9-2f27-436b-b400-49a17c5117d2"
   },
   "outputs": [
    {
     "name": "stdout",
     "output_type": "stream",
     "text": [
      "[[100  80  70  60 120]\n",
      " [ 65  55  20  50  60]\n",
      " [ 80  90  75  80  60]\n",
      " [ 45  60  70  20  40]\n",
      " [ 82  47  56  89  92]\n",
      " [115 120 113 106 107]\n",
      " [ 46  74  23  34  19]]\n"
     ]
    }
   ],
   "source": [
    "arr = np.load('/content/drive/MyDrive/SkillBox/array_hw.npy', )\n",
    "print(arr)"
   ]
  },
  {
   "cell_type": "markdown",
   "metadata": {
    "id": "-RQWg-PDgxtW"
   },
   "source": [
    "### Задание 2\n",
    "Если думать о массиве `arr` как о таблице, сейчас в таблице магазины идут по столбцам (1 магазин = 1 столбец, всего 5), а дни – по строкам (1 день = 1 строка, всего 7). Преобразовать массив `arr` таким образом, чтобы по строкам шли магазины, а по столбцам – дни (1 строка = 1 магазин). Сохранить изменения. Проверить, что форма массива изменилась."
   ]
  },
  {
   "cell_type": "code",
   "execution_count": null,
   "metadata": {
    "colab": {
     "base_uri": "https://localhost:8080/"
    },
    "executionInfo": {
     "elapsed": 801,
     "status": "ok",
     "timestamp": 1611678994587,
     "user": {
      "displayName": "Андрей Щербинин",
      "photoUrl": "",
      "userId": "12257454032092519749"
     },
     "user_tz": -180
    },
    "id": "BgibktLFgxtW",
    "outputId": "3806245c-ef0e-4a95-8730-035ab390050a"
   },
   "outputs": [
    {
     "name": "stdout",
     "output_type": "stream",
     "text": [
      "[[100  65  80  45  82 115  46]\n",
      " [ 80  55  90  60  47 120  74]\n",
      " [ 70  20  75  70  56 113  23]\n",
      " [ 60  50  80  20  89 106  34]\n",
      " [120  60  60  40  92 107  19]]\n"
     ]
    }
   ],
   "source": [
    "arr = arr.transpose()\n",
    "print(arr)"
   ]
  },
  {
   "cell_type": "markdown",
   "metadata": {
    "id": "c6jW6KrugxtW"
   },
   "source": [
    "### Задание 3\n",
    "\n",
    "Давайте представим, что информация по продажам обновилась: оказалось, что пятый магазин в воскресенье продал не 19 порций мороженого, а 25, и второй магазин продал во вторник не 55 порций, а 65. Изменить массив `arr` в соответствии с этой информацией."
   ]
  },
  {
   "cell_type": "code",
   "execution_count": null,
   "metadata": {
    "colab": {
     "base_uri": "https://localhost:8080/"
    },
    "executionInfo": {
     "elapsed": 655,
     "status": "ok",
     "timestamp": 1611679086816,
     "user": {
      "displayName": "Андрей Щербинин",
      "photoUrl": "",
      "userId": "12257454032092519749"
     },
     "user_tz": -180
    },
    "id": "xUytu3A5gxtX",
    "outputId": "ecf272ff-1e97-4be0-b9b0-a5f3c2b4bb90"
   },
   "outputs": [
    {
     "name": "stdout",
     "output_type": "stream",
     "text": [
      "[[100  65  80  45  82 115  46]\n",
      " [ 80  65  90  60  47 120  74]\n",
      " [ 70  20  75  70  56 113  23]\n",
      " [ 60  50  80  20  89 106  34]\n",
      " [120  60  60  40  92 107  25]]\n"
     ]
    }
   ],
   "source": [
    "arr[1][1] = 65 # второй магазин продал во вторник не 55 порций, а 65\n",
    "arr[4][6] = 25 # второй магазин продал во вторник не 19 порций, а 25\n",
    "print(arr)"
   ]
  },
  {
   "cell_type": "markdown",
   "metadata": {
    "id": "hHrXsMnBgxtX"
   },
   "source": [
    "### Задание 4\n",
    "\n",
    "Посчитать суммарный объём продаж мороженого по всем магазинам."
   ]
  },
  {
   "cell_type": "code",
   "execution_count": null,
   "metadata": {
    "colab": {
     "base_uri": "https://localhost:8080/"
    },
    "executionInfo": {
     "elapsed": 688,
     "status": "ok",
     "timestamp": 1611679349182,
     "user": {
      "displayName": "Андрей Щербинин",
      "photoUrl": "",
      "userId": "12257454032092519749"
     },
     "user_tz": -180
    },
    "id": "J6pWyRT8gxtX",
    "outputId": "9184288d-c7a5-4e65-b06d-087083b9e2fa"
   },
   "outputs": [
    {
     "data": {
      "text/plain": [
       "2439"
      ]
     },
     "execution_count": 21,
     "metadata": {
      "tags": []
     },
     "output_type": "execute_result"
    }
   ],
   "source": [
    "arr.sum()"
   ]
  },
  {
   "cell_type": "markdown",
   "metadata": {
    "id": "tYiRJEcDgxtY"
   },
   "source": [
    "### Задание 5\n",
    "\n",
    "Выгрузить обновлённый массив `arr` в txt-файл. Сам txt-файл загружать в систему не нужно, только написать соответствующий код в ipynb-файл."
   ]
  },
  {
   "cell_type": "code",
   "execution_count": null,
   "metadata": {
    "id": "cybdyT4xgxtY"
   },
   "outputs": [],
   "source": [
    "try:\n",
    "    np.savetxt('/content/drive/MyDrive/SkillBox/arr_file.txt', arr, fmt='%.d')\n",
    "except Exception as exc:\n",
    "        print(\"Неожиданная ошибк при записи:\", exc)\n"
   ]
  },
  {
   "cell_type": "markdown",
   "metadata": {
    "id": "OXAJI1VdgxtY"
   },
   "source": [
    "### Задание 6\n",
    "Дан массив `income`, содержащий значения прибыли магазина в тысячах на начало, середину и конец года, за четыре года подряд (значения никак не сгруппированы, можно считать, что они так выгрузились из файла). \n",
    "Изменить форму массива так, чтобы значения были сгруппированы по три значения в каждом списке внутри массива (прибыль на начало, середину и конец года)."
   ]
  },
  {
   "cell_type": "code",
   "execution_count": null,
   "metadata": {
    "id": "o0zL2NJWgxtZ"
   },
   "outputs": [],
   "source": [
    "# массив\n",
    "income = np.array([1000, 2000, 3500, \n",
    "                   2500, 1500, 3800, \n",
    "                   1200, 9000, 12000,\n",
    "                   4500, 6700, 11000])"
   ]
  },
  {
   "cell_type": "code",
   "execution_count": null,
   "metadata": {
    "colab": {
     "base_uri": "https://localhost:8080/"
    },
    "executionInfo": {
     "elapsed": 1217,
     "status": "ok",
     "timestamp": 1611681384790,
     "user": {
      "displayName": "Андрей Щербинин",
      "photoUrl": "",
      "userId": "12257454032092519749"
     },
     "user_tz": -180
    },
    "id": "kHwZjM24gxtZ",
    "outputId": "413d910f-760d-4782-9e91-b564e2ca9a3f"
   },
   "outputs": [
    {
     "name": "stdout",
     "output_type": "stream",
     "text": [
      "[[ 1000  2000  3500]\n",
      " [ 2500  1500  3800]\n",
      " [ 1200  9000 12000]\n",
      " [ 4500  6700 11000]]\n"
     ]
    }
   ],
   "source": [
    "income = income.reshape(4, 3)\n",
    "print(income)"
   ]
  },
  {
   "cell_type": "markdown",
   "metadata": {
    "id": "PD_1_gRSgxtZ"
   },
   "source": [
    "### Задание 7\n",
    "Создать список `turnout` (*list*, не массив), содержащий следующие значения явки на избирательные участки в процентах:\n",
    "\n",
    "23.56, 45.78, 34.92, 57.34, 56.55, 67.23.\n",
    "\n",
    "Создать, используя списковые включения и встроенные, не из `NumPy`, функции для округления, новый список `turnout_r`, который состоит из округлённых до первого знака после запятой значений явки из `turnout`."
   ]
  },
  {
   "cell_type": "code",
   "execution_count": null,
   "metadata": {
    "colab": {
     "base_uri": "https://localhost:8080/"
    },
    "executionInfo": {
     "elapsed": 634,
     "status": "ok",
     "timestamp": 1611681951245,
     "user": {
      "displayName": "Андрей Щербинин",
      "photoUrl": "",
      "userId": "12257454032092519749"
     },
     "user_tz": -180
    },
    "id": "omghSLw2gxtZ",
    "outputId": "98070af2-a155-4dc7-af9f-bafbf00a4a31"
   },
   "outputs": [
    {
     "data": {
      "text/plain": [
       "[23.6, 45.8, 34.9, 57.3, 56.5, 67.2]"
      ]
     },
     "execution_count": 42,
     "metadata": {
      "tags": []
     },
     "output_type": "execute_result"
    }
   ],
   "source": [
    "turnout = [23.56, 45.78, 34.92, 57.34, 56.55, 67.23]\n",
    "turnout_r = []\n",
    "for num in turnout:\n",
    "    turnout_r.append(round(num, 1))\n",
    "turnout_r"
   ]
  },
  {
   "cell_type": "markdown",
   "metadata": {
    "id": "gJhU8VoIgxta"
   },
   "source": [
    "### Задание 8\n",
    "Выполнить те же операции, что и в предыдущей задаче, но с использованием массивов и функций `NumPy`. Другими словами, создать массив `turnout` и на его основе создать массив `turnout_r` с округлёнными до первого знака значениями явки."
   ]
  },
  {
   "cell_type": "code",
   "execution_count": null,
   "metadata": {
    "colab": {
     "base_uri": "https://localhost:8080/"
    },
    "executionInfo": {
     "elapsed": 669,
     "status": "ok",
     "timestamp": 1611682119136,
     "user": {
      "displayName": "Андрей Щербинин",
      "photoUrl": "",
      "userId": "12257454032092519749"
     },
     "user_tz": -180
    },
    "id": "vHe6vCzDgxta",
    "outputId": "98707742-02e7-489d-9c39-6057199d6d95"
   },
   "outputs": [
    {
     "name": "stdout",
     "output_type": "stream",
     "text": [
      "[23.6 45.8 34.9 57.3 56.6 67.2]\n"
     ]
    }
   ],
   "source": [
    "turnout = np.array([23.56, 45.78, 34.92, 57.34, 56.55, 67.23])\n",
    "turnout_r = np.round(turnout, 1)\n",
    "print(turnout_r)"
   ]
  },
  {
   "cell_type": "markdown",
   "metadata": {
    "id": "n35jEUj_gxta"
   },
   "source": [
    "### Задание 9\n",
    "\n",
    "Зайдите на [страницу](https://ru.wikipedia.org/wiki/%D0%9C%D0%B5%D0%B6%D0%B4%D1%83%D0%BD%D0%B0%D1%80%D0%BE%D0%B4%D0%BD%D1%8B%D0%B9_%D0%B8%D0%BD%D0%B4%D0%B5%D0%BA%D1%81_%D1%81%D1%87%D0%B0%D1%81%D1%82%D1%8C%D1%8F) Википедии, посвящённую Международному индексу счастья, выберите из таблицы **2012 Международный индекс счастья** любые 5 стран и любые 3 показателя и создайте структурированный массив `happy`, такой, в котором есть поле «название страны» и поля для трёх выбранных показателей. Выберите подходящий тип для каждого поля (показателя) в массиве и учтите это при создание структурированного массива. Выведите полученный массив на экран."
   ]
  },
  {
   "cell_type": "code",
   "execution_count": null,
   "metadata": {
    "colab": {
     "base_uri": "https://localhost:8080/"
    },
    "executionInfo": {
     "elapsed": 663,
     "status": "ok",
     "timestamp": 1611683902835,
     "user": {
      "displayName": "Андрей Щербинин",
      "photoUrl": "",
      "userId": "12257454032092519749"
     },
     "user_tz": -180
    },
    "id": "Gr3l7GQ-gxtb",
    "outputId": "28b15039-f0fa-4cf1-a92f-0ea6bb54b898"
   },
   "outputs": [
    {
     "name": "stdout",
     "output_type": "stream",
     "text": [
      "[('Гондурас', 5.9, 73.1, 1.7) ('Мексика', 6.8, 77. , 3.3)\n",
      " ('Киргизия', 5. , 67.7, 1.3) ('Индия', 5. , 65.4, 0.9)\n",
      " ('Марокко', 4.4, 72.2, 1.3)]\n"
     ]
    },
    {
     "data": {
      "text/plain": [
       "numpy.ndarray"
      ]
     },
     "execution_count": 53,
     "metadata": {
      "tags": []
     },
     "output_type": "execute_result"
    }
   ],
   "source": [
    "happy = np.array([('Гондурас', 5.9, 73.1, 1.7),\n",
    "                  ('Мексика', 6.8, 77.0, 3.3),\n",
    "                  ('Киргизия', 5.0, 67.7, 1.3),\n",
    "                  ('Индия', 5.0, 65.4, 0.9),\n",
    "                  ('Марокко', 4.4, 72.2, 1.3)],\n",
    "                 dtype=[('Страна', 'U10'), \n",
    "                        ('Удовлетворенность жизнью', float),\n",
    "                        ('Ожидаемая продожительность жизни', float),\n",
    "                        ('Экологический след', float)])\n",
    "print(happy)"
   ]
  },
  {
   "cell_type": "markdown",
   "metadata": {
    "id": "CvDYuB8Cgxtb"
   },
   "source": [
    "### Задание 10\n",
    "Сконвертируйте полученный в предыдущей задаче структурированный массив в обычный список и выведите на экран его второй элемент."
   ]
  },
  {
   "cell_type": "code",
   "execution_count": null,
   "metadata": {
    "colab": {
     "base_uri": "https://localhost:8080/"
    },
    "executionInfo": {
     "elapsed": 635,
     "status": "ok",
     "timestamp": 1611684326844,
     "user": {
      "displayName": "Андрей Щербинин",
      "photoUrl": "",
      "userId": "12257454032092519749"
     },
     "user_tz": -180
    },
    "id": "yQamQZ8egxtb",
    "outputId": "e4f81c03-a221-42a5-b28c-74b30430a2b8"
   },
   "outputs": [
    {
     "data": {
      "text/plain": [
       "('Мексика', 6.8, 77.0, 3.3)"
      ]
     },
     "execution_count": 59,
     "metadata": {
      "tags": []
     },
     "output_type": "execute_result"
    }
   ],
   "source": [
    "happy.tolist()[1]"
   ]
  },
  {
   "cell_type": "markdown",
   "metadata": {
    "id": "NsFwPIUjgxtb"
   },
   "source": [
    ".<br> .<br> .<br> .<br> .<br> .<br> .<br> .<br> .<br> .<br> .<br> .<br> .<br> .<br> .<br> .<br> .<br> .<br> \n",
    "# Дополнительное (необязательное) задание.\n",
    "<br>"
   ]
  },
  {
   "cell_type": "markdown",
   "metadata": {
    "id": "uplaYklo0zrv"
   },
   "source": [
    "### Задание 1\n",
    "\n",
    "Написать функцию `build_array()`, которая принимает на вход размерность квадратной матрицы (двумерного массива, в котором число строк и число столбцов совпадают) и создаёт единичную матрицу `E` (массив) соответствующей размерности. Использовать готовую функцию `np.eye()` нельзя, можно использовать циклы и условные конструкции.\n",
    "\n",
    "**Пример:**\n",
    "\n",
    "Ввод:\n",
    "\n",
    "    build_array(4)\n",
    "\n",
    "Вывод:\n",
    "\n",
    "    array([[1., 0., 0., 0.],\n",
    "       [0., 1., 0., 0.],\n",
    "       [0., 0., 1., 0.],\n",
    "       [0., 0., 0., 1.]])\n",
    "       \n",
    "**Подсказка:** про циклы, условные конструкции, функции и двумерные массивы можно почитать в соответствующих разделах pythontutor.ru: [цикл for](http://pythontutor.ru/lessons/for_loop/), [условия](http://pythontutor.ru/lessons/ifelse/), [функции](http://pythontutor.ru/lessons/functions/) и [массивы](http://pythontutor.ru/lessons/2d_arrays/)."
   ]
  },
  {
   "cell_type": "code",
   "execution_count": null,
   "metadata": {
    "id": "saSGBa2N0zrw"
   },
   "outputs": [],
   "source": [
    "def build_array(n):\n",
    "    if n == 0:\n",
    "        return print('!!!')\n",
    "    e_array = np.zeros((n,n))\n",
    "    for i in range(n):\n",
    "        for j in range(n):\n",
    "            if i == j:\n",
    "                e_array[i, j] = 1\n",
    "    return e_array"
   ]
  },
  {
   "cell_type": "code",
   "execution_count": null,
   "metadata": {
    "colab": {
     "base_uri": "https://localhost:8080/"
    },
    "executionInfo": {
     "elapsed": 658,
     "status": "ok",
     "timestamp": 1611685838802,
     "user": {
      "displayName": "Андрей Щербинин",
      "photoUrl": "",
      "userId": "12257454032092519749"
     },
     "user_tz": -180
    },
    "id": "lHyaea6Y6Qvh",
    "outputId": "864f2bbe-f53b-4ea1-bdaa-3c428184cb71"
   },
   "outputs": [
    {
     "data": {
      "text/plain": [
       "array([[1., 0., 0., 0.],\n",
       "       [0., 1., 0., 0.],\n",
       "       [0., 0., 1., 0.],\n",
       "       [0., 0., 0., 1.]])"
      ]
     },
     "execution_count": 87,
     "metadata": {
      "tags": []
     },
     "output_type": "execute_result"
    }
   ],
   "source": [
    "build_array(4)"
   ]
  },
  {
   "cell_type": "markdown",
   "metadata": {
    "id": "jgutn2Sj0zr1"
   },
   "source": [
    "### Задание 2\n",
    "\n",
    "Напишите функцию `my_reshape()`, которая принимает на вход массив и его новую размерность (пару чисел), и:\n",
    "\n",
    "* если указанные измерения корректны, то возвращает массив новой размерности;\n",
    "* если указанные измерения некорректны, то возвращает пустой массив (пример: из массива 2×5 нельзя сделать новый массив 4×3, потому что в старом массиве 10 элементов, а в новом – 12).\n",
    "\n",
    "**Пример:**\n",
    "\n",
    "Ввод:\n",
    "\n",
    "    A = np.array([[2, 4, 6], \n",
    "            [4, 8, 10]])\n",
    "\n",
    "    my_reshape(A, 6, 1)\n",
    "\n",
    "Вывод:\n",
    "\n",
    "    array([[2], \n",
    "       [4], \n",
    "       [6], \n",
    "       [4], \n",
    "       [8],\n",
    "       [10]])\n",
    "\n",
    "Ввод:\n",
    "\n",
    "    A = np.array([[2, 4, 6], \n",
    "            [4, 8, 10]])\n",
    "\n",
    "    my_reshape(A, 4, 2)\n",
    "\n",
    "Вывод:\n",
    "\n",
    "    array([])\n",
    "\n",
    "**Примечание:** результаты в выводе могут визуально отличаться (выводиться без переносов по строкам, с указанием типа данных), это нормально, примеры модифицированы для читаемости.\n",
    "\n",
    "**Подсказка:** см. материалы, предложенные в задаче 1."
   ]
  },
  {
   "cell_type": "code",
   "execution_count": 1,
   "metadata": {
    "executionInfo": {
     "elapsed": 1831,
     "status": "ok",
     "timestamp": 1611724547572,
     "user": {
      "displayName": "Андрей Щербинин",
      "photoUrl": "",
      "userId": "12257454032092519749"
     },
     "user_tz": -180
    },
    "id": "BARsZ6SU0zr1"
   },
   "outputs": [],
   "source": [
    "def my_reshape(arr, n, m):\n",
    "    if m*n != arr.size:\n",
    "        return np.array([])\n",
    "    else:\n",
    "        mod_arr = np.empty((n, m))\n",
    "        arr = arr.flatten()\n",
    "        k = 0\n",
    "        for i in range(n):\n",
    "            for j in range(m):\n",
    "                mod_arr[i, j] = arr[k]\n",
    "                k += 1\n",
    "    return mod_arr"
   ]
  },
  {
   "cell_type": "code",
   "execution_count": 4,
   "metadata": {
    "colab": {
     "base_uri": "https://localhost:8080/"
    },
    "executionInfo": {
     "elapsed": 671,
     "status": "ok",
     "timestamp": 1611724567600,
     "user": {
      "displayName": "Андрей Щербинин",
      "photoUrl": "",
      "userId": "12257454032092519749"
     },
     "user_tz": -180
    },
    "id": "9RnEtDhq-vTJ",
    "outputId": "f1e198f5-9d3a-4cfe-e991-7ecdfb2d6990"
   },
   "outputs": [
    {
     "data": {
      "text/plain": [
       "array([[100.,  80.,  70.],\n",
       "       [ 60., 120.,  65.],\n",
       "       [ 55.,  20.,  50.],\n",
       "       [ 60.,  80.,  90.],\n",
       "       [ 75.,  80.,  60.],\n",
       "       [ 45.,  60.,  70.],\n",
       "       [ 20.,  40.,  82.],\n",
       "       [ 47.,  56.,  89.],\n",
       "       [ 92., 115., 120.],\n",
       "       [113., 106., 107.]])"
      ]
     },
     "execution_count": 4,
     "metadata": {
      "tags": []
     },
     "output_type": "execute_result"
    }
   ],
   "source": [
    "A = np.array([[100,  80,  70,  60, 120],\n",
    "       [ 65,  55,  20,  50,  60],\n",
    "       [ 80,  90,  75,  80,  60],\n",
    "       [ 45,  60,  70,  20,  40],\n",
    "       [ 82,  47,  56,  89,  92],\n",
    "       [115, 120, 113, 106, 107]])\n",
    " \n",
    "my_reshape(A, 10, 3)"
   ]
  }
 ],
 "metadata": {
  "colab": {
   "name": "jun_anl_numpy2_hw.ipynb",
   "provenance": []
  },
  "kernelspec": {
   "display_name": "Python 3",
   "language": "python",
   "name": "python3"
  },
  "language_info": {
   "codemirror_mode": {
    "name": "ipython",
    "version": 3
   },
   "file_extension": ".py",
   "mimetype": "text/x-python",
   "name": "python",
   "nbconvert_exporter": "python",
   "pygments_lexer": "ipython3",
   "version": "3.8.5"
  }
 },
 "nbformat": 4,
 "nbformat_minor": 1
}
