{
 "cells": [
  {
   "cell_type": "markdown",
   "metadata": {
    "id": "x_ZpEPSMmtbx"
   },
   "source": [
    "# Практика по определению моделей в Keras\n",
    "\n",
    "В каждом из заданий ниже, реализуйте модель, повторяющую структуру модели на приложенной картинке. При определении моделей, можете использовать как Sequential так и Functional API."
   ]
  },
  {
   "cell_type": "code",
   "execution_count": 21,
   "metadata": {
    "ExecuteTime": {
     "end_time": "2021-05-12T12:41:48.087690Z",
     "start_time": "2021-05-12T12:41:48.074689Z"
    },
    "id": "b3WDUlrzLWys"
   },
   "outputs": [],
   "source": [
    "import tensorflow as tf\n",
    "from tensorflow.keras.layers import Dense\n",
    "import numpy as np\n",
    "\n",
    "import os\n",
    "os.environ[\"PATH\"] += os.pathsep + 'C:/Program Files (x86)/Graphviz2.38/bin/'\n",
    "\n",
    "tf.enable_eager_execution()"
   ]
  },
  {
   "cell_type": "markdown",
   "metadata": {
    "id": "RCL3xXAfnXkN"
   },
   "source": [
    "## Задание 1\n",
    "\n",
    "Реализуйте модель описанную ниже. Активацию последнего слоя сделайте \"softmax\".\n",
    "\n",
    "<img src=\"https://drive.google.com/uc?export=view&id=1QCKcPlmguNNXPvUQnUaphcfOTWvQKzEW\" width=200>\n",
    "<img src=\"https://drive.google.com/uc?export=view&id=1r6DoTrn8Pe2RKuPT3RM9rR8Xc2X3WNVe\" width=400>\n"
   ]
  },
  {
   "cell_type": "code",
   "execution_count": 27,
   "metadata": {
    "ExecuteTime": {
     "end_time": "2021-05-12T13:01:13.767815Z",
     "start_time": "2021-05-12T13:01:13.691782Z"
    },
    "id": "ZLqiMurVnfd8"
   },
   "outputs": [
    {
     "name": "stdout",
     "output_type": "stream",
     "text": [
      "Model: \"sequential_9\"\n",
      "_________________________________________________________________\n",
      "Layer (type)                 Output Shape              Param #   \n",
      "=================================================================\n",
      "dense_17 (Dense)             (None, 4)                 44        \n",
      "_________________________________________________________________\n",
      "dense_18 (Dense)             (None, 8)                 40        \n",
      "_________________________________________________________________\n",
      "dense_19 (Dense)             (None, 16)                144       \n",
      "_________________________________________________________________\n",
      "dense_20 (Dense)             (None, 3)                 51        \n",
      "=================================================================\n",
      "Total params: 279\n",
      "Trainable params: 279\n",
      "Non-trainable params: 0\n",
      "_________________________________________________________________\n",
      "Failed to import pydot. You must install pydot and graphviz for `pydotprint` to work.\n"
     ]
    }
   ],
   "source": [
    "# <YOUR CODE STARTS HERE >\n",
    "model = tf.keras.Sequential()\n",
    "model.add(Dense(4, input_shape=(10,), name='dense_17'))\n",
    "model.add(Dense(8, name='dense_18'))\n",
    "model.add(Dense(16, name='dense_19'))\n",
    "model.add(Dense(3, name='dense_20', activation='softmax'))\n",
    "# <YOUR CODE ENDS HERE >\n",
    "model.summary()\n",
    "tf.keras.utils.plot_model(model, show_shapes=False)"
   ]
  },
  {
   "cell_type": "code",
   "execution_count": 28,
   "metadata": {
    "ExecuteTime": {
     "end_time": "2021-05-12T13:01:15.763747Z",
     "start_time": "2021-05-12T13:01:15.746747Z"
    },
    "id": "18bLYj04oOq_"
   },
   "outputs": [
    {
     "name": "stdout",
     "output_type": "stream",
     "text": [
      "Simple tests passed\n"
     ]
    }
   ],
   "source": [
    "output = model(np.ones((3, 10)))\n",
    "assert np.allclose(output.numpy().sum(1),  np.ones(3)), \"Did you forget softmax in the last layer?\"\n",
    "assert model.count_params() == 279, \"Wrong params number\"\n",
    "print(\"Simple tests passed\")"
   ]
  },
  {
   "cell_type": "markdown",
   "metadata": {
    "id": "Zdp3Qj9L2V8f"
   },
   "source": [
    "## Задание 2\n",
    "\n",
    "Реализуйте модель описанную ниже.\n",
    "\n",
    "<img src=\"https://lh3.googleusercontent.com/Aa_RCQNbksP9j27Br0kbq-Aj_yWHW3fofmaZj6jOm8xBLgWrEn60MbxVBkfZipLJ5mI3LAMC9wdhv08i76oKY6cQzUdYVHyRzLV4dZ8Yw-TIC6Y82gLe1zmdwzpX2JkFmo-nJy6YPLGiZuqkjKJlTdtHdFdDuIp_akK2fSMEMf85u3_3N-Gx6XSTxaQsCX5PL8aWlNeDl5rpHhmQYBTe1TR2-EDsAMgz4CLBMwyhVPJwjBR57WOBw14NPp6RrayuaPSltd9qbvQG2236WKqyL0w__y6tR6Vg7WMtUm4SKrPbTSUUyEEvU1hH6Z6yQpgyRRXecdupmTyx3FySqgERRVIqEb-JNoLppqzcaBEHDKdi0I7tQuuKXVyjSq5P02McLEwR7ej3dKVC8R3EsFDZV8uVLWJQSdpvInhp5d0fGb5u-UOfRuJ1X_4s2A6BJPbWbj4NyQAWPFem02A2Ya4CpzgDbMnjiAmlt_-JavcPCi7UALu6mH_RzPgNkzlrSqEMHpdBnVs6vhtEQGoZU1kxARvZxfBnbXTudg0IYjZ-LBKEfEFRwN3pbC3A9xnPS_-LRXcvAy45VSgH_JgPV4PpBFwo-xVg6O1RUhbOBuR8_a9OOyLd2zN8NaLO4e4bxq8pHD9mIXXBrxxCK76pjO5Vs2m03h-U7o6VTci3Fr9U5f2rF4ejP_7pNtSwfZ3RRA=w646-h220-no?authuser=0\" width=400>\n",
    "<img src=\"https://drive.google.com/uc?export=view&id=1vR3XfyYEpSmgEXZoLGY_FfWRwgOiefoj\" width=300>\n"
   ]
  },
  {
   "cell_type": "markdown",
   "metadata": {
    "id": "8bxZLZJTaUQT"
   },
   "source": [
    "*Кстати, такая кострукция не лишена смысла -- в следующем модуле мы увидим как она помогла совершить прорыв в классификации изображений. Она носит название residual block*\n"
   ]
  },
  {
   "cell_type": "code",
   "execution_count": 29,
   "metadata": {
    "ExecuteTime": {
     "end_time": "2021-05-12T13:01:18.605937Z",
     "start_time": "2021-05-12T13:01:18.562940Z"
    },
    "id": "NTJSQ6jzL8N4"
   },
   "outputs": [
    {
     "name": "stdout",
     "output_type": "stream",
     "text": [
      "Model: \"model_6\"\n",
      "__________________________________________________________________________________________________\n",
      "Layer (type)                    Output Shape         Param #     Connected to                     \n",
      "==================================================================================================\n",
      "InputLayer (InputLayer)         [(None, 10)]         0                                            \n",
      "__________________________________________________________________________________________________\n",
      "Layer1 (Dense)                  (None, 10)           110         InputLayer[0][0]                 \n",
      "__________________________________________________________________________________________________\n",
      "add_2 (Add)                     (None, 10)           0           InputLayer[0][0]                 \n",
      "                                                                 Layer1[0][0]                     \n",
      "==================================================================================================\n",
      "Total params: 110\n",
      "Trainable params: 110\n",
      "Non-trainable params: 0\n",
      "__________________________________________________________________________________________________\n",
      "Simple tests passed\n",
      "Failed to import pydot. You must install pydot and graphviz for `pydotprint` to work.\n"
     ]
    }
   ],
   "source": [
    "# <YOUR CODE STARTS HERE >\n",
    "input_layer = tf.keras.layers.Input(shape=(10,), name='InputLayer')\n",
    "l1_output = Dense(10, name='Layer1')(input_layer)\n",
    "add_output = tf.keras.layers.Add(name='add_2')([input_layer, l1_output])\n",
    "\n",
    "model = tf.keras.Model(inputs=input_layer, outputs=add_output)\n",
    "# <YOUR CODE ENDS HERE >\n",
    "model.summary()\n",
    "assert model.count_params() == 110, \"Wrong params number\"\n",
    "print(\"Simple tests passed\")\n",
    "tf.keras.utils.plot_model(model, show_shapes=True)"
   ]
  },
  {
   "cell_type": "markdown",
   "metadata": {
    "id": "A_mbbL304acW"
   },
   "source": [
    "## Задание 3\n",
    "\n",
    "Реализуйте модель описанную ниже. Вам пригодится tf.keras.layers.Concatenate.\n",
    "\n",
    "<img src=\"https://drive.google.com/uc?export=view&id=1LvsTd2a0HW-duuv3UyxCBLmERpqQQweU\" width=450>\n",
    "<img src=\"https://drive.google.com/uc?export=view&id=18IMatPWKG-0T9gisyJ_k465mospO_xow\" width=400>\n"
   ]
  },
  {
   "cell_type": "code",
   "execution_count": 30,
   "metadata": {
    "ExecuteTime": {
     "end_time": "2021-05-12T13:01:21.227048Z",
     "start_time": "2021-05-12T13:01:21.098551Z"
    },
    "id": "F6jBLTId4GGf"
   },
   "outputs": [
    {
     "name": "stdout",
     "output_type": "stream",
     "text": [
      "Model: \"model_7\"\n",
      "__________________________________________________________________________________________________\n",
      "Layer (type)                    Output Shape         Param #     Connected to                     \n",
      "==================================================================================================\n",
      "InputLayer (InputLayer)         [(None, 10)]         0                                            \n",
      "__________________________________________________________________________________________________\n",
      "Layer1 (Dense)                  (None, 10)           110         InputLayer[0][0]                 \n",
      "__________________________________________________________________________________________________\n",
      "Layer2 (Dense)                  (None, 10)           110         InputLayer[0][0]                 \n",
      "__________________________________________________________________________________________________\n",
      "Layer3 (Dense)                  (None, 10)           110         Layer1[0][0]                     \n",
      "__________________________________________________________________________________________________\n",
      "Layer4 (Dense)                  (None, 10)           110         Layer1[0][0]                     \n",
      "__________________________________________________________________________________________________\n",
      "Layer5 (Dense)                  (None, 10)           110         Layer2[0][0]                     \n",
      "__________________________________________________________________________________________________\n",
      "Layer6 (Dense)                  (None, 10)           110         Layer2[0][0]                     \n",
      "__________________________________________________________________________________________________\n",
      "ConcatLayer (Concatenate)       (None, 40)           0           Layer3[0][0]                     \n",
      "                                                                 Layer4[0][0]                     \n",
      "                                                                 Layer5[0][0]                     \n",
      "                                                                 Layer6[0][0]                     \n",
      "__________________________________________________________________________________________________\n",
      "Output (Dense)                  (None, 3)            123         ConcatLayer[0][0]                \n",
      "==================================================================================================\n",
      "Total params: 783\n",
      "Trainable params: 783\n",
      "Non-trainable params: 0\n",
      "__________________________________________________________________________________________________\n",
      "Simple tests passed\n",
      "Failed to import pydot. You must install pydot and graphviz for `pydotprint` to work.\n"
     ]
    }
   ],
   "source": [
    "\n",
    "# <YOUR CODE STARTS HERE >\n",
    "input_layer = tf.keras.layers.Input(shape=(10,), name='InputLayer')\n",
    "\n",
    "l1_output = Dense(10, name='Layer1')(input_layer)\n",
    "l2_output = Dense(10, name='Layer2')(input_layer)\n",
    "\n",
    "l3_output = Dense(10, name='Layer3')(l1_output)\n",
    "l4_output = Dense(10, name='Layer4')(l1_output)\n",
    "\n",
    "l5_output = Dense(10, name='Layer5')(l2_output)\n",
    "l6_output = Dense(10, name='Layer6')(l2_output)\n",
    "\n",
    "concat_layer = tf.keras.layers.Concatenate(name='ConcatLayer')([l3_output, l4_output, l5_output, l6_output])\n",
    "\n",
    "output = Dense(3, name='Output')(concat_layer)\n",
    "\n",
    "model = tf.keras.Model(inputs=input_layer, outputs=output)\n",
    "\n",
    "# <YOUR CODE ENDS HERE >\n",
    "\n",
    "model.summary()\n",
    "assert model.count_params() == 783, \"Wrong params number\"\n",
    "print(\"Simple tests passed\")\n",
    "tf.keras.utils.plot_model(model, show_shapes=False)"
   ]
  }
 ],
 "metadata": {
  "colab": {
   "collapsed_sections": [],
   "name": "keras_model_practice.ipynb",
   "provenance": []
  },
  "kernelspec": {
   "display_name": "Python 3",
   "language": "python",
   "name": "python3"
  },
  "language_info": {
   "codemirror_mode": {
    "name": "ipython",
    "version": 3
   },
   "file_extension": ".py",
   "mimetype": "text/x-python",
   "name": "python",
   "nbconvert_exporter": "python",
   "pygments_lexer": "ipython3",
   "version": "3.7.10"
  },
  "toc": {
   "base_numbering": 1,
   "nav_menu": {},
   "number_sections": true,
   "sideBar": true,
   "skip_h1_title": false,
   "title_cell": "Table of Contents",
   "title_sidebar": "Contents",
   "toc_cell": false,
   "toc_position": {},
   "toc_section_display": true,
   "toc_window_display": false
  }
 },
 "nbformat": 4,
 "nbformat_minor": 1
}
