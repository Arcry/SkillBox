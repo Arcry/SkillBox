{
 "cells": [
  {
   "cell_type": "code",
   "execution_count": 7,
   "id": "3812a55c",
   "metadata": {
    "ExecuteTime": {
     "end_time": "2021-05-24T10:02:23.081582Z",
     "start_time": "2021-05-24T10:02:23.074560Z"
    }
   },
   "outputs": [],
   "source": [
    "import pandas as pd\n",
    "import numpy as np\n",
    "import matplotlib.pyplot as plt\n",
    "import scipy\n",
    "from sklearn.model_selection import train_test_split"
   ]
  },
  {
   "cell_type": "code",
   "execution_count": 2,
   "id": "ae42c99f",
   "metadata": {
    "ExecuteTime": {
     "end_time": "2021-05-24T09:59:57.205133Z",
     "start_time": "2021-05-24T09:59:56.348133Z"
    }
   },
   "outputs": [],
   "source": [
    "data = pd.read_csv('C:/Users/Arcry/SkillBox/ML_HSE/files/gbm-data.csv')"
   ]
  },
  {
   "cell_type": "code",
   "execution_count": 3,
   "id": "e437a44c",
   "metadata": {
    "ExecuteTime": {
     "end_time": "2021-05-24T09:59:57.253132Z",
     "start_time": "2021-05-24T09:59:57.207134Z"
    }
   },
   "outputs": [
    {
     "data": {
      "text/html": [
       "<div>\n",
       "<style scoped>\n",
       "    .dataframe tbody tr th:only-of-type {\n",
       "        vertical-align: middle;\n",
       "    }\n",
       "\n",
       "    .dataframe tbody tr th {\n",
       "        vertical-align: top;\n",
       "    }\n",
       "\n",
       "    .dataframe thead th {\n",
       "        text-align: right;\n",
       "    }\n",
       "</style>\n",
       "<table border=\"1\" class=\"dataframe\">\n",
       "  <thead>\n",
       "    <tr style=\"text-align: right;\">\n",
       "      <th></th>\n",
       "      <th>Activity</th>\n",
       "      <th>D1</th>\n",
       "      <th>D2</th>\n",
       "      <th>D3</th>\n",
       "      <th>D4</th>\n",
       "      <th>D5</th>\n",
       "      <th>D6</th>\n",
       "      <th>D7</th>\n",
       "      <th>D8</th>\n",
       "      <th>D9</th>\n",
       "      <th>...</th>\n",
       "      <th>D1767</th>\n",
       "      <th>D1768</th>\n",
       "      <th>D1769</th>\n",
       "      <th>D1770</th>\n",
       "      <th>D1771</th>\n",
       "      <th>D1772</th>\n",
       "      <th>D1773</th>\n",
       "      <th>D1774</th>\n",
       "      <th>D1775</th>\n",
       "      <th>D1776</th>\n",
       "    </tr>\n",
       "  </thead>\n",
       "  <tbody>\n",
       "    <tr>\n",
       "      <th>0</th>\n",
       "      <td>1</td>\n",
       "      <td>0.000000</td>\n",
       "      <td>0.497009</td>\n",
       "      <td>0.10</td>\n",
       "      <td>0.0</td>\n",
       "      <td>0.132956</td>\n",
       "      <td>0.678031</td>\n",
       "      <td>0.273166</td>\n",
       "      <td>0.585445</td>\n",
       "      <td>0.743663</td>\n",
       "      <td>...</td>\n",
       "      <td>0</td>\n",
       "      <td>0</td>\n",
       "      <td>0</td>\n",
       "      <td>0</td>\n",
       "      <td>0</td>\n",
       "      <td>0</td>\n",
       "      <td>0</td>\n",
       "      <td>0</td>\n",
       "      <td>0</td>\n",
       "      <td>0</td>\n",
       "    </tr>\n",
       "    <tr>\n",
       "      <th>1</th>\n",
       "      <td>1</td>\n",
       "      <td>0.366667</td>\n",
       "      <td>0.606291</td>\n",
       "      <td>0.05</td>\n",
       "      <td>0.0</td>\n",
       "      <td>0.111209</td>\n",
       "      <td>0.803455</td>\n",
       "      <td>0.106105</td>\n",
       "      <td>0.411754</td>\n",
       "      <td>0.836582</td>\n",
       "      <td>...</td>\n",
       "      <td>1</td>\n",
       "      <td>1</td>\n",
       "      <td>1</td>\n",
       "      <td>1</td>\n",
       "      <td>0</td>\n",
       "      <td>1</td>\n",
       "      <td>0</td>\n",
       "      <td>0</td>\n",
       "      <td>1</td>\n",
       "      <td>0</td>\n",
       "    </tr>\n",
       "    <tr>\n",
       "      <th>2</th>\n",
       "      <td>1</td>\n",
       "      <td>0.033300</td>\n",
       "      <td>0.480124</td>\n",
       "      <td>0.00</td>\n",
       "      <td>0.0</td>\n",
       "      <td>0.209791</td>\n",
       "      <td>0.610350</td>\n",
       "      <td>0.356453</td>\n",
       "      <td>0.517720</td>\n",
       "      <td>0.679051</td>\n",
       "      <td>...</td>\n",
       "      <td>0</td>\n",
       "      <td>0</td>\n",
       "      <td>0</td>\n",
       "      <td>0</td>\n",
       "      <td>0</td>\n",
       "      <td>0</td>\n",
       "      <td>0</td>\n",
       "      <td>0</td>\n",
       "      <td>0</td>\n",
       "      <td>0</td>\n",
       "    </tr>\n",
       "    <tr>\n",
       "      <th>3</th>\n",
       "      <td>1</td>\n",
       "      <td>0.000000</td>\n",
       "      <td>0.538825</td>\n",
       "      <td>0.00</td>\n",
       "      <td>0.5</td>\n",
       "      <td>0.196344</td>\n",
       "      <td>0.724230</td>\n",
       "      <td>0.235606</td>\n",
       "      <td>0.288764</td>\n",
       "      <td>0.805110</td>\n",
       "      <td>...</td>\n",
       "      <td>0</td>\n",
       "      <td>0</td>\n",
       "      <td>0</td>\n",
       "      <td>0</td>\n",
       "      <td>0</td>\n",
       "      <td>0</td>\n",
       "      <td>0</td>\n",
       "      <td>0</td>\n",
       "      <td>0</td>\n",
       "      <td>0</td>\n",
       "    </tr>\n",
       "    <tr>\n",
       "      <th>4</th>\n",
       "      <td>0</td>\n",
       "      <td>0.100000</td>\n",
       "      <td>0.517794</td>\n",
       "      <td>0.00</td>\n",
       "      <td>0.0</td>\n",
       "      <td>0.494734</td>\n",
       "      <td>0.781422</td>\n",
       "      <td>0.154361</td>\n",
       "      <td>0.303809</td>\n",
       "      <td>0.812646</td>\n",
       "      <td>...</td>\n",
       "      <td>0</td>\n",
       "      <td>0</td>\n",
       "      <td>0</td>\n",
       "      <td>0</td>\n",
       "      <td>0</td>\n",
       "      <td>0</td>\n",
       "      <td>0</td>\n",
       "      <td>0</td>\n",
       "      <td>0</td>\n",
       "      <td>0</td>\n",
       "    </tr>\n",
       "  </tbody>\n",
       "</table>\n",
       "<p>5 rows × 1777 columns</p>\n",
       "</div>"
      ],
      "text/plain": [
       "   Activity        D1        D2    D3   D4        D5        D6        D7  \\\n",
       "0         1  0.000000  0.497009  0.10  0.0  0.132956  0.678031  0.273166   \n",
       "1         1  0.366667  0.606291  0.05  0.0  0.111209  0.803455  0.106105   \n",
       "2         1  0.033300  0.480124  0.00  0.0  0.209791  0.610350  0.356453   \n",
       "3         1  0.000000  0.538825  0.00  0.5  0.196344  0.724230  0.235606   \n",
       "4         0  0.100000  0.517794  0.00  0.0  0.494734  0.781422  0.154361   \n",
       "\n",
       "         D8        D9  ...  D1767  D1768  D1769  D1770  D1771  D1772  D1773  \\\n",
       "0  0.585445  0.743663  ...      0      0      0      0      0      0      0   \n",
       "1  0.411754  0.836582  ...      1      1      1      1      0      1      0   \n",
       "2  0.517720  0.679051  ...      0      0      0      0      0      0      0   \n",
       "3  0.288764  0.805110  ...      0      0      0      0      0      0      0   \n",
       "4  0.303809  0.812646  ...      0      0      0      0      0      0      0   \n",
       "\n",
       "   D1774  D1775  D1776  \n",
       "0      0      0      0  \n",
       "1      0      1      0  \n",
       "2      0      0      0  \n",
       "3      0      0      0  \n",
       "4      0      0      0  \n",
       "\n",
       "[5 rows x 1777 columns]"
      ]
     },
     "execution_count": 3,
     "metadata": {},
     "output_type": "execute_result"
    }
   ],
   "source": [
    "data.head()"
   ]
  },
  {
   "cell_type": "code",
   "execution_count": 6,
   "id": "632dda81",
   "metadata": {
    "ExecuteTime": {
     "end_time": "2021-05-24T10:01:01.972410Z",
     "start_time": "2021-05-24T10:01:01.946410Z"
    }
   },
   "outputs": [],
   "source": [
    "X = data.iloc[:, 1:]\n",
    "y = data.iloc[:, 0]"
   ]
  },
  {
   "cell_type": "code",
   "execution_count": 8,
   "id": "b9972277",
   "metadata": {
    "ExecuteTime": {
     "end_time": "2021-05-24T10:03:13.139383Z",
     "start_time": "2021-05-24T10:03:13.091386Z"
    }
   },
   "outputs": [],
   "source": [
    "X_train, X_test, y_train, y_test = train_test_split(X, y, test_size=0.8, random_state=241)"
   ]
  },
  {
   "cell_type": "code",
   "execution_count": 9,
   "id": "7cb62fa2",
   "metadata": {
    "ExecuteTime": {
     "end_time": "2021-05-24T10:03:58.529488Z",
     "start_time": "2021-05-24T10:03:58.521461Z"
    }
   },
   "outputs": [],
   "source": [
    "from sklearn.ensemble import GradientBoostingClassifier"
   ]
  },
  {
   "cell_type": "code",
   "execution_count": 64,
   "id": "ba83a9f5",
   "metadata": {
    "ExecuteTime": {
     "end_time": "2021-05-24T10:46:29.205319Z",
     "start_time": "2021-05-24T10:46:29.201284Z"
    }
   },
   "outputs": [],
   "source": [
    "gbm = GradientBoostingClassifier(n_estimators=250, learning_rate=0.2, verbose=True, random_state=241)"
   ]
  },
  {
   "cell_type": "code",
   "execution_count": null,
   "id": "dc259863",
   "metadata": {},
   "outputs": [],
   "source": []
  },
  {
   "cell_type": "code",
   "execution_count": 65,
   "id": "86390583",
   "metadata": {
    "ExecuteTime": {
     "end_time": "2021-05-24T10:46:40.805597Z",
     "start_time": "2021-05-24T10:46:29.913604Z"
    }
   },
   "outputs": [
    {
     "name": "stdout",
     "output_type": "stream",
     "text": [
      "      Iter       Train Loss   Remaining Time \n",
      "         1           1.2613           10.96s\n",
      "         2           1.1715           10.79s\n",
      "         3           1.1009           10.70s\n",
      "         4           1.0529           10.64s\n",
      "         5           1.0130           10.68s\n",
      "         6           0.9740           10.70s\n",
      "         7           0.9475           10.62s\n",
      "         8           0.9197           10.59s\n",
      "         9           0.8979           10.55s\n",
      "        10           0.8730           10.54s\n",
      "        20           0.7207            9.95s\n",
      "        30           0.6055            9.46s\n",
      "        40           0.5244            9.04s\n",
      "        50           0.4501            8.61s\n",
      "        60           0.3908            8.26s\n",
      "        70           0.3372            7.80s\n",
      "        80           0.3009            7.35s\n",
      "        90           0.2603            6.90s\n",
      "       100           0.2327            6.45s\n",
      "       200           0.0835            2.17s\n"
     ]
    },
    {
     "data": {
      "text/plain": [
       "GradientBoostingClassifier(learning_rate=0.2, n_estimators=250,\n",
       "                           random_state=241, verbose=True)"
      ]
     },
     "execution_count": 65,
     "metadata": {},
     "output_type": "execute_result"
    }
   ],
   "source": [
    "gbm.fit(X_train, y_train)"
   ]
  },
  {
   "cell_type": "code",
   "execution_count": 47,
   "id": "2f7a5e04",
   "metadata": {
    "ExecuteTime": {
     "end_time": "2021-05-24T10:39:16.245997Z",
     "start_time": "2021-05-24T10:39:16.226989Z"
    }
   },
   "outputs": [],
   "source": [
    "import math\n",
    "\n",
    "def sigmoid(x):\n",
    "  return 1 / (1 + math.exp(-x))"
   ]
  },
  {
   "cell_type": "code",
   "execution_count": 75,
   "id": "815119a1",
   "metadata": {
    "ExecuteTime": {
     "end_time": "2021-05-24T10:52:25.550279Z",
     "start_time": "2021-05-24T10:52:24.611252Z"
    }
   },
   "outputs": [
    {
     "data": {
      "text/plain": [
       "<matplotlib.legend.Legend at 0x19f1bc87148>"
      ]
     },
     "execution_count": 75,
     "metadata": {},
     "output_type": "execute_result"
    },
    {
     "data": {
      "image/png": "[encoded data removed]",
      "text/plain": [
       "<Figure size 432x288 with 1 Axes>"
      ]
     },
     "metadata": {
      "needs_background": "light"
     },
     "output_type": "display_data"
    }
   ],
   "source": [
    "test_score = np.empty(len(gbm.estimators_))\n",
    "train_score = np.empty(len(gbm.estimators_))\n",
    "\n",
    "for i, pred in enumerate(gbm.staged_predict_proba(X_test)):\n",
    "    test_score[i] = log_loss(y_test, pred)\n",
    "\n",
    "for i, pred in enumerate(gbm.staged_predict_proba(X_train)):\n",
    "    train_score[i] = log_loss(y_train, pred)\n",
    "\n",
    "plt.plot(test_score)\n",
    "plt.plot(train_score)\n",
    "plt.legend(['test score', 'train score'])"
   ]
  },
  {
   "cell_type": "code",
   "execution_count": 27,
   "id": "1cf84660",
   "metadata": {
    "ExecuteTime": {
     "end_time": "2021-05-24T10:19:48.424654Z",
     "start_time": "2021-05-24T10:19:48.417654Z"
    }
   },
   "outputs": [],
   "source": [
    "from sklearn.metrics import log_loss"
   ]
  },
  {
   "cell_type": "code",
   "execution_count": 67,
   "id": "a73cea16",
   "metadata": {
    "ExecuteTime": {
     "end_time": "2021-05-24T10:46:47.125717Z",
     "start_time": "2021-05-24T10:46:46.994687Z"
    }
   },
   "outputs": [
    {
     "data": {
      "text/plain": [
       "0.6570367033329095"
      ]
     },
     "execution_count": 67,
     "metadata": {},
     "output_type": "execute_result"
    }
   ],
   "source": [
    "log_loss(y_test, gbm.predict_proba(X_test))"
   ]
  },
  {
   "cell_type": "code",
   "execution_count": 76,
   "id": "0fef3fc2",
   "metadata": {
    "ExecuteTime": {
     "end_time": "2021-05-24T10:53:02.835930Z",
     "start_time": "2021-05-24T10:53:02.818950Z"
    }
   },
   "outputs": [
    {
     "data": {
      "text/plain": [
       "36"
      ]
     },
     "execution_count": 76,
     "metadata": {},
     "output_type": "execute_result"
    }
   ],
   "source": [
    "np.argmin(test_score)"
   ]
  },
  {
   "cell_type": "code",
   "execution_count": 78,
   "id": "62fae0a5",
   "metadata": {
    "ExecuteTime": {
     "end_time": "2021-05-24T10:53:11.574680Z",
     "start_time": "2021-05-24T10:53:11.561676Z"
    }
   },
   "outputs": [
    {
     "data": {
      "text/plain": [
       "0.5301645204906471"
      ]
     },
     "execution_count": 78,
     "metadata": {},
     "output_type": "execute_result"
    }
   ],
   "source": [
    "test_score.min()"
   ]
  },
  {
   "cell_type": "code",
   "execution_count": 50,
   "id": "9ac301f2",
   "metadata": {
    "ExecuteTime": {
     "end_time": "2021-05-24T10:40:39.003726Z",
     "start_time": "2021-05-24T10:40:38.985695Z"
    }
   },
   "outputs": [],
   "source": [
    "from sklearn.ensemble import RandomForestClassifier"
   ]
  },
  {
   "cell_type": "code",
   "execution_count": 55,
   "id": "6af1faa6",
   "metadata": {
    "ExecuteTime": {
     "end_time": "2021-05-24T10:44:34.304029Z",
     "start_time": "2021-05-24T10:44:34.290029Z"
    }
   },
   "outputs": [],
   "source": [
    "clf = RandomForestClassifier(n_estimators=36, random_state=241, verbose=5)"
   ]
  },
  {
   "cell_type": "code",
   "execution_count": 56,
   "id": "0c52a560",
   "metadata": {
    "ExecuteTime": {
     "end_time": "2021-05-24T10:44:38.862597Z",
     "start_time": "2021-05-24T10:44:38.641908Z"
    }
   },
   "outputs": [
    {
     "name": "stdout",
     "output_type": "stream",
     "text": [
      "building tree 1 of 36\n",
      "building tree 2 of 36\n",
      "building tree 3 of 36\n",
      "building tree 4 of 36\n",
      "building tree 5 of 36\n",
      "building tree 6 of 36\n",
      "building tree 7 of 36\n",
      "building tree 8 of 36\n",
      "building tree 9 of 36\n",
      "building tree 10 of 36\n",
      "building tree 11 of 36\n",
      "building tree 12 of 36\n",
      "building tree 13 of 36\n",
      "building tree 14 of 36\n",
      "building tree 15 of 36\n",
      "building tree 16 of 36\n",
      "building tree 17 of 36\n",
      "building tree 18 of 36\n",
      "building tree 19 of 36\n",
      "building tree 20 of 36\n",
      "building tree 21 of 36\n",
      "building tree 22 of 36\n",
      "building tree 23 of 36\n",
      "building tree 24 of 36\n",
      "building tree 25 of 36\n",
      "building tree 26 of 36\n",
      "building tree 27 of 36\n",
      "building tree 28 of 36\n",
      "building tree 29 of 36\n",
      "building tree 30 of 36\n",
      "building tree 31 of 36\n",
      "building tree 32 of 36\n",
      "building tree 33 of 36\n",
      "building tree 34 of 36\n",
      "building tree 35 of 36\n",
      "building tree 36 of 36\n"
     ]
    },
    {
     "name": "stderr",
     "output_type": "stream",
     "text": [
      "[Parallel(n_jobs=1)]: Using backend SequentialBackend with 1 concurrent workers.\n",
      "[Parallel(n_jobs=1)]: Done   1 out of   1 | elapsed:    0.0s remaining:    0.0s\n",
      "[Parallel(n_jobs=1)]: Done   2 out of   2 | elapsed:    0.0s remaining:    0.0s\n",
      "[Parallel(n_jobs=1)]: Done   3 out of   3 | elapsed:    0.0s remaining:    0.0s\n",
      "[Parallel(n_jobs=1)]: Done   4 out of   4 | elapsed:    0.0s remaining:    0.0s\n",
      "[Parallel(n_jobs=1)]: Done  36 out of  36 | elapsed:    0.1s finished\n"
     ]
    },
    {
     "data": {
      "text/plain": [
       "RandomForestClassifier(n_estimators=36, random_state=241, verbose=5)"
      ]
     },
     "execution_count": 56,
     "metadata": {},
     "output_type": "execute_result"
    }
   ],
   "source": [
    "clf.fit(X_train, y_train)"
   ]
  },
  {
   "cell_type": "code",
   "execution_count": 57,
   "id": "b4cb592a",
   "metadata": {
    "ExecuteTime": {
     "end_time": "2021-05-24T10:44:46.468537Z",
     "start_time": "2021-05-24T10:44:46.385511Z"
    }
   },
   "outputs": [
    {
     "name": "stderr",
     "output_type": "stream",
     "text": [
      "[Parallel(n_jobs=1)]: Using backend SequentialBackend with 1 concurrent workers.\n",
      "[Parallel(n_jobs=1)]: Done   1 out of   1 | elapsed:    0.0s remaining:    0.0s\n",
      "[Parallel(n_jobs=1)]: Done   2 out of   2 | elapsed:    0.0s remaining:    0.0s\n",
      "[Parallel(n_jobs=1)]: Done   3 out of   3 | elapsed:    0.0s remaining:    0.0s\n",
      "[Parallel(n_jobs=1)]: Done   4 out of   4 | elapsed:    0.0s remaining:    0.0s\n",
      "[Parallel(n_jobs=1)]: Done  36 out of  36 | elapsed:    0.0s finished\n"
     ]
    },
    {
     "data": {
      "text/plain": [
       "0.5415685811957381"
      ]
     },
     "execution_count": 57,
     "metadata": {},
     "output_type": "execute_result"
    }
   ],
   "source": [
    "log_loss(y_test, clf.predict_proba(X_test))"
   ]
  },
  {
   "cell_type": "code",
   "execution_count": null,
   "id": "5b7972f5",
   "metadata": {},
   "outputs": [],
   "source": []
  }
 ],
 "metadata": {
  "kernelspec": {
   "display_name": "Python 3",
   "language": "python",
   "name": "python3"
  },
  "language_info": {
   "codemirror_mode": {
    "name": "ipython",
    "version": 3
   },
   "file_extension": ".py",
   "mimetype": "text/x-python",
   "name": "python",
   "nbconvert_exporter": "python",
   "pygments_lexer": "ipython3",
   "version": "3.7.10"
  },
  "toc": {
   "base_numbering": 1,
   "nav_menu": {},
   "number_sections": true,
   "sideBar": true,
   "skip_h1_title": false,
   "title_cell": "Table of Contents",
   "title_sidebar": "Contents",
   "toc_cell": false,
   "toc_position": {},
   "toc_section_display": true,
   "toc_window_display": false
  }
 },
 "nbformat": 4,
 "nbformat_minor": 5
}
