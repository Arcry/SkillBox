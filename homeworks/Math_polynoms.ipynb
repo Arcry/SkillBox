{
 "cells": [
  {
   "cell_type": "markdown",
   "metadata": {
    "id": "yyo73hwFEoJt"
   },
   "source": [
    "## Преобразования функций и полиномы. Домашнее задание\n",
    "\n",
    "С помощью SymPy найдите полиномы, описывающие данные наборы точек. Затем проведите полное исследование каждого полученного полинома: проверьте четность/нечетность, найдите нули, промежутки знакопостоянства. Постройте их графики. С помощью изменения промежутка для х добейтесь того, чтобы все нули были отображены на графике функции.<br><br>\n",
    "Средний уровень <br><br>\n",
    "$(-2, 2), (-1, 1), (0, 0), (1, 1), (2, 2)$<br><br>\n",
    "Сложный уровень <br><br>\n",
    "$(-3, 33), (-2, 31), (-1, 18), (1, -18), (2, -31), (3, -33)$\n"
   ]
  },
  {
   "cell_type": "code",
   "execution_count": 175,
   "metadata": {
    "ExecuteTime": {
     "end_time": "2021-02-20T08:37:40.188844Z",
     "start_time": "2021-02-20T08:37:40.186721Z"
    },
    "id": "bVBLXKfjEiEA"
   },
   "outputs": [],
   "source": [
    "from sympy import *\n",
    "import numpy as np\n",
    "import matplotlib.pyplot as plt"
   ]
  },
  {
   "cell_type": "code",
   "execution_count": 176,
   "metadata": {
    "ExecuteTime": {
     "end_time": "2021-02-20T08:37:40.200961Z",
     "start_time": "2021-02-20T08:37:40.189731Z"
    }
   },
   "outputs": [],
   "source": [
    "x, y, z = symbols('x y z')\n",
    "a0, a1, a2, a3, a4, a5 = symbols('a0, a1, a2, a3, a4, a5')"
   ]
  },
  {
   "cell_type": "markdown",
   "metadata": {},
   "source": [
    "## Средний уровень"
   ]
  },
  {
   "cell_type": "code",
   "execution_count": 177,
   "metadata": {
    "ExecuteTime": {
     "end_time": "2021-02-20T08:37:40.205156Z",
     "start_time": "2021-02-20T08:37:40.202673Z"
    }
   },
   "outputs": [],
   "source": [
    "x_y = [(-2,2),(-1,1),(0,0),(1,1),(2,2)]"
   ]
  },
  {
   "cell_type": "code",
   "execution_count": 178,
   "metadata": {
    "ExecuteTime": {
     "end_time": "2021-02-20T08:37:40.210344Z",
     "start_time": "2021-02-20T08:37:40.206985Z"
    }
   },
   "outputs": [],
   "source": [
    "eq_lp = []\n",
    "for num in (x_y):\n",
    "    eq_lp.append(a4 * num[0]**4 + a3 * num[0]**3 + a2 *\n",
    "                 num[0]**2 + a1 * num[0] + a0 - num[1])"
   ]
  },
  {
   "cell_type": "code",
   "execution_count": 179,
   "metadata": {
    "ExecuteTime": {
     "end_time": "2021-02-20T08:37:40.219619Z",
     "start_time": "2021-02-20T08:37:40.212221Z"
    }
   },
   "outputs": [
    {
     "data": {
      "text/plain": [
       "[a0 - 2*a1 + 4*a2 - 8*a3 + 16*a4 - 2,\n",
       " a0 - a1 + a2 - a3 + a4 - 1,\n",
       " a0,\n",
       " a0 + a1 + a2 + a3 + a4 - 1,\n",
       " a0 + 2*a1 + 4*a2 + 8*a3 + 16*a4 - 2]"
      ]
     },
     "execution_count": 179,
     "metadata": {},
     "output_type": "execute_result"
    }
   ],
   "source": [
    "eq_lp"
   ]
  },
  {
   "cell_type": "code",
   "execution_count": 180,
   "metadata": {
    "ExecuteTime": {
     "end_time": "2021-02-20T08:37:40.307751Z",
     "start_time": "2021-02-20T08:37:40.221106Z"
    }
   },
   "outputs": [
    {
     "data": {
      "text/latex": [
       "$\\displaystyle \\left\\{\\left( - \\frac{1}{6}, \\  0, \\  \\frac{7}{6}, \\  0, \\  0\\right)\\right\\}$"
      ],
      "text/plain": [
       "FiniteSet((-1/6, 0, 7/6, 0, 0))"
      ]
     },
     "execution_count": 180,
     "metadata": {},
     "output_type": "execute_result"
    }
   ],
   "source": [
    "nonlinsolve(eq_lp, [a4, a3, a2, a1, a0])"
   ]
  },
  {
   "cell_type": "code",
   "execution_count": 181,
   "metadata": {
    "ExecuteTime": {
     "end_time": "2021-02-20T08:37:40.313567Z",
     "start_time": "2021-02-20T08:37:40.308826Z"
    }
   },
   "outputs": [
    {
     "data": {
      "text/latex": [
       "$\\displaystyle - 0.166666666666667 x^{4} + 1.16666666666667 x^{2}$"
      ],
      "text/plain": [
       "-0.166666666666667*x**4 + 1.16666666666667*x**2"
      ]
     },
     "execution_count": 181,
     "metadata": {},
     "output_type": "execute_result"
    }
   ],
   "source": [
    "f = -1/6 * x**4 + 7/6 * x**2\n",
    "f"
   ]
  },
  {
   "cell_type": "code",
   "execution_count": 182,
   "metadata": {
    "ExecuteTime": {
     "end_time": "2021-02-20T08:37:40.319120Z",
     "start_time": "2021-02-20T08:37:40.315627Z"
    }
   },
   "outputs": [
    {
     "name": "stdout",
     "output_type": "stream",
     "text": [
      " x=-2, y=2\n",
      " x=-1, y=1\n",
      " x=0, y=0\n",
      " x=1, y=1\n",
      " x=2, y=2\n"
     ]
    }
   ],
   "source": [
    "for num in (x_y):\n",
    "    print(f' x={num[0]}, y={int(f.subs(x, num[0]))}')  # все значения совпали"
   ]
  },
  {
   "cell_type": "code",
   "execution_count": 183,
   "metadata": {
    "ExecuteTime": {
     "end_time": "2021-02-20T08:37:40.478061Z",
     "start_time": "2021-02-20T08:37:40.320717Z"
    }
   },
   "outputs": [
    {
     "data": {
      "image/png": "[encoded data removed]",
      "text/plain": [
       "<Figure size 432x288 with 1 Axes>"
      ]
     },
     "metadata": {
      "needs_background": "light"
     },
     "output_type": "display_data"
    },
    {
     "data": {
      "text/plain": [
       "<sympy.plotting.plot.Plot at 0x7f63f9f61df0>"
      ]
     },
     "execution_count": 183,
     "metadata": {},
     "output_type": "execute_result"
    }
   ],
   "source": [
    "plot(f, (x, -3, 3))"
   ]
  },
  {
   "cell_type": "code",
   "execution_count": 184,
   "metadata": {
    "ExecuteTime": {
     "end_time": "2021-02-20T08:37:40.481266Z",
     "start_time": "2021-02-20T08:37:40.479444Z"
    }
   },
   "outputs": [],
   "source": [
    "# Функция четная"
   ]
  },
  {
   "cell_type": "code",
   "execution_count": 185,
   "metadata": {
    "ExecuteTime": {
     "end_time": "2021-02-20T08:37:40.495716Z",
     "start_time": "2021-02-20T08:37:40.482507Z"
    }
   },
   "outputs": [
    {
     "data": {
      "text/plain": [
       "[-2.64575131106459, 0.0, 2.64575131106459]"
      ]
     },
     "execution_count": 185,
     "metadata": {},
     "output_type": "execute_result"
    }
   ],
   "source": [
    "solve(f, x) # корни равны [-2.64575131106459, 0.0, 2.64575131106459]"
   ]
  },
  {
   "cell_type": "code",
   "execution_count": 186,
   "metadata": {
    "ExecuteTime": {
     "end_time": "2021-02-20T08:37:40.572335Z",
     "start_time": "2021-02-20T08:37:40.498448Z"
    }
   },
   "outputs": [
    {
     "data": {
      "text/latex": [
       "$\\displaystyle \\left(-2.64575131106459 < x \\wedge x < 0\\right) \\vee \\left(0 < x \\wedge x < 2.64575131106459\\right)$"
      ],
      "text/plain": [
       "((-2.64575131106459 < x) & (x < 0)) | ((0 < x) & (x < 2.64575131106459))"
      ]
     },
     "execution_count": 186,
     "metadata": {},
     "output_type": "execute_result"
    }
   ],
   "source": [
    "solve_univariate_inequality(f > 0, x) # Функция положительна на интервалах"
   ]
  },
  {
   "cell_type": "code",
   "execution_count": 187,
   "metadata": {
    "ExecuteTime": {
     "end_time": "2021-02-20T08:37:40.626609Z",
     "start_time": "2021-02-20T08:37:40.573465Z"
    }
   },
   "outputs": [
    {
     "data": {
      "text/latex": [
       "$\\displaystyle \\left(-\\infty < x \\wedge x < -2.64575131106459\\right) \\vee \\left(2.64575131106459 < x \\wedge x < \\infty\\right)$"
      ],
      "text/plain": [
       "((-oo < x) & (x < -2.64575131106459)) | ((2.64575131106459 < x) & (x < oo))"
      ]
     },
     "execution_count": 187,
     "metadata": {},
     "output_type": "execute_result"
    }
   ],
   "source": [
    "solve_univariate_inequality(f < 0, x) # Функция отрицательна на интервалах"
   ]
  },
  {
   "cell_type": "code",
   "execution_count": 188,
   "metadata": {
    "ExecuteTime": {
     "end_time": "2021-02-20T08:37:40.735205Z",
     "start_time": "2021-02-20T08:37:40.627822Z"
    }
   },
   "outputs": [
    {
     "data": {
      "image/png": "[encoded data removed]",
      "text/plain": [
       "<Figure size 432x288 with 1 Axes>"
      ]
     },
     "metadata": {
      "needs_background": "light"
     },
     "output_type": "display_data"
    }
   ],
   "source": [
    "x_range = np.linspace(-10, 10, 1000)\n",
    "f_l = lambda x: -1/6 * x**4 + 7/6 * x**2\n",
    "plt.scatter([-2, -1, 0, 1, 2], [2, 1, 0, 1, 2], c='r')\n",
    "plt.plot(x_range, f_l(x_range))\n",
    "plt.xlim(-4, 4)\n",
    "plt.ylim(-15, 5)\n",
    "plt.grid()"
   ]
  },
  {
   "cell_type": "code",
   "execution_count": null,
   "metadata": {},
   "outputs": [],
   "source": []
  },
  {
   "cell_type": "markdown",
   "metadata": {},
   "source": [
    "## Сложный уровень"
   ]
  },
  {
   "cell_type": "code",
   "execution_count": 189,
   "metadata": {
    "ExecuteTime": {
     "end_time": "2021-02-20T08:37:40.738852Z",
     "start_time": "2021-02-20T08:37:40.736281Z"
    }
   },
   "outputs": [],
   "source": [
    "a0, a1, a2, a3, a4, a5 = symbols('a0, a1, a2, a3, a4, a5')"
   ]
  },
  {
   "cell_type": "code",
   "execution_count": 190,
   "metadata": {
    "ExecuteTime": {
     "end_time": "2021-02-20T08:37:40.743215Z",
     "start_time": "2021-02-20T08:37:40.740408Z"
    }
   },
   "outputs": [],
   "source": [
    "x_y = [(-3,33),(-2,31),(-1,18),(1,-18),(2,-31),(3,-33)]"
   ]
  },
  {
   "cell_type": "code",
   "execution_count": 191,
   "metadata": {
    "ExecuteTime": {
     "end_time": "2021-02-20T08:37:40.751365Z",
     "start_time": "2021-02-20T08:37:40.744402Z"
    }
   },
   "outputs": [],
   "source": [
    "eq_lp = []\n",
    "for num in (x_y):\n",
    "    eq_lp.append(a5 * num[0]**5 + a4 * num[0]**4 + a3 *\n",
    "                 num[0]**3 + a2 * num[0]**2 + a1 * num[0] + a0 - num[1])"
   ]
  },
  {
   "cell_type": "code",
   "execution_count": 192,
   "metadata": {
    "ExecuteTime": {
     "end_time": "2021-02-20T08:37:40.760265Z",
     "start_time": "2021-02-20T08:37:40.752957Z"
    }
   },
   "outputs": [
    {
     "data": {
      "text/plain": [
       "[a0 - 3*a1 + 9*a2 - 27*a3 + 81*a4 - 243*a5 - 33,\n",
       " a0 - 2*a1 + 4*a2 - 8*a3 + 16*a4 - 32*a5 - 31,\n",
       " a0 - a1 + a2 - a3 + a4 - a5 - 18,\n",
       " a0 + a1 + a2 + a3 + a4 + a5 + 18,\n",
       " a0 + 2*a1 + 4*a2 + 8*a3 + 16*a4 + 32*a5 + 31,\n",
       " a0 + 3*a1 + 9*a2 + 27*a3 + 81*a4 + 243*a5 + 33]"
      ]
     },
     "execution_count": 192,
     "metadata": {},
     "output_type": "execute_result"
    }
   ],
   "source": [
    "eq_lp"
   ]
  },
  {
   "cell_type": "code",
   "execution_count": 193,
   "metadata": {
    "ExecuteTime": {
     "end_time": "2021-02-20T08:37:40.886802Z",
     "start_time": "2021-02-20T08:37:40.761344Z"
    }
   },
   "outputs": [
    {
     "data": {
      "text/latex": [
       "$\\displaystyle \\left\\{\\left( \\frac{1}{120}, \\  0, \\  \\frac{19}{24}, \\  0, \\  - \\frac{94}{5}, \\  0\\right)\\right\\}$"
      ],
      "text/plain": [
       "FiniteSet((1/120, 0, 19/24, 0, -94/5, 0))"
      ]
     },
     "execution_count": 193,
     "metadata": {},
     "output_type": "execute_result"
    }
   ],
   "source": [
    "nonlinsolve(eq_lp, [a5, a4, a3, a2, a1, a0])"
   ]
  },
  {
   "cell_type": "code",
   "execution_count": 194,
   "metadata": {
    "ExecuteTime": {
     "end_time": "2021-02-20T08:37:40.893455Z",
     "start_time": "2021-02-20T08:37:40.887965Z"
    }
   },
   "outputs": [
    {
     "data": {
      "text/latex": [
       "$\\displaystyle 0.00833333333333333 x^{5} + 0.791666666666667 x^{3} - 18.8 x$"
      ],
      "text/plain": [
       "0.00833333333333333*x**5 + 0.791666666666667*x**3 - 18.8*x"
      ]
     },
     "execution_count": 194,
     "metadata": {},
     "output_type": "execute_result"
    }
   ],
   "source": [
    "f = 1/120 * x**5 + 19/24 * x**3 - 94/5 * x\n",
    "f"
   ]
  },
  {
   "cell_type": "code",
   "execution_count": 195,
   "metadata": {
    "ExecuteTime": {
     "end_time": "2021-02-20T08:37:40.899130Z",
     "start_time": "2021-02-20T08:37:40.895351Z"
    }
   },
   "outputs": [
    {
     "name": "stdout",
     "output_type": "stream",
     "text": [
      " x=-3, y=33\n",
      " x=-2, y=31\n",
      " x=-1, y=18\n",
      " x=1, y=-18\n",
      " x=2, y=-31\n",
      " x=3, y=-33\n"
     ]
    }
   ],
   "source": [
    "for num in (x_y):\n",
    "    print(f' x={num[0]}, y={int(f.subs(x, num[0]))}')  # все значения совпали"
   ]
  },
  {
   "cell_type": "code",
   "execution_count": 196,
   "metadata": {
    "ExecuteTime": {
     "end_time": "2021-02-20T08:37:41.053276Z",
     "start_time": "2021-02-20T08:37:40.900733Z"
    }
   },
   "outputs": [
    {
     "data": {
      "image/png": "[encoded data removed]",
      "text/plain": [
       "<Figure size 432x288 with 1 Axes>"
      ]
     },
     "metadata": {
      "needs_background": "light"
     },
     "output_type": "display_data"
    },
    {
     "data": {
      "text/plain": [
       "<sympy.plotting.plot.Plot at 0x7f63f9f4feb0>"
      ]
     },
     "execution_count": 196,
     "metadata": {},
     "output_type": "execute_result"
    }
   ],
   "source": [
    "plot(f, (x, -5, 5))"
   ]
  },
  {
   "cell_type": "code",
   "execution_count": 197,
   "metadata": {
    "ExecuteTime": {
     "end_time": "2021-02-20T08:37:41.058709Z",
     "start_time": "2021-02-20T08:37:41.056596Z"
    }
   },
   "outputs": [],
   "source": [
    "# Функция нечетная"
   ]
  },
  {
   "cell_type": "code",
   "execution_count": 198,
   "metadata": {
    "ExecuteTime": {
     "end_time": "2021-02-20T08:37:41.097843Z",
     "start_time": "2021-02-20T08:37:41.061881Z"
    }
   },
   "outputs": [
    {
     "data": {
      "text/plain": [
       "[-4.43545751638198,\n",
       " 0.0,\n",
       " 4.43545751638198,\n",
       " -10.7085612189327*I,\n",
       " 10.7085612189327*I]"
      ]
     },
     "execution_count": 198,
     "metadata": {},
     "output_type": "execute_result"
    }
   ],
   "source": [
    "solve(f, x) # корни равны "
   ]
  },
  {
   "cell_type": "code",
   "execution_count": 199,
   "metadata": {
    "ExecuteTime": {
     "end_time": "2021-02-20T08:37:41.226521Z",
     "start_time": "2021-02-20T08:37:41.099017Z"
    }
   },
   "outputs": [
    {
     "data": {
      "text/latex": [
       "$\\displaystyle \\left(-4.43545751638198 < x \\wedge x < 0\\right) \\vee \\left(4.43545751638198 < x \\wedge x < \\infty\\right)$"
      ],
      "text/plain": [
       "((-4.43545751638198 < x) & (x < 0)) | ((4.43545751638198 < x) & (x < oo))"
      ]
     },
     "execution_count": 199,
     "metadata": {},
     "output_type": "execute_result"
    }
   ],
   "source": [
    "solve_univariate_inequality(f > 0, x) # Функция положительна на интервалах"
   ]
  },
  {
   "cell_type": "code",
   "execution_count": 200,
   "metadata": {
    "ExecuteTime": {
     "end_time": "2021-02-20T08:37:41.336283Z",
     "start_time": "2021-02-20T08:37:41.227742Z"
    }
   },
   "outputs": [
    {
     "data": {
      "text/latex": [
       "$\\displaystyle \\left(-\\infty < x \\wedge x < -4.43545751638198\\right) \\vee \\left(0 < x \\wedge x < 4.43545751638198\\right)$"
      ],
      "text/plain": [
       "((-oo < x) & (x < -4.43545751638198)) | ((0 < x) & (x < 4.43545751638198))"
      ]
     },
     "execution_count": 200,
     "metadata": {},
     "output_type": "execute_result"
    }
   ],
   "source": [
    "solve_univariate_inequality(f < 0, x) # Функция отрицательна на интервалах"
   ]
  },
  {
   "cell_type": "code",
   "execution_count": 201,
   "metadata": {
    "ExecuteTime": {
     "end_time": "2021-02-20T08:37:41.470238Z",
     "start_time": "2021-02-20T08:37:41.337637Z"
    }
   },
   "outputs": [
    {
     "data": {
      "image/png": "[encoded data removed]",
      "text/plain": [
       "<Figure size 432x288 with 1 Axes>"
      ]
     },
     "metadata": {
      "needs_background": "light"
     },
     "output_type": "display_data"
    }
   ],
   "source": [
    "x_range = np.linspace(-10, 10, 1000)\n",
    "f_l = lambda x: 1/120 * x**5  + 19/24 * x**3 - 94/5 * x\n",
    "plt.scatter([-3, -2, -1, 1, 2, 3], [33, 31, 18, -18, -31, -33], c='r')\n",
    "plt.plot(x_range, f_l(x_range))\n",
    "plt.xlim(-5, 5)\n",
    "plt.ylim(-40, 40)\n",
    "plt.grid()"
   ]
  }
 ],
 "metadata": {
  "colab": {
   "collapsed_sections": [],
   "name": "Преобразования функций и полиномы. Домашнее задание.ipynb",
   "provenance": []
  },
  "kernelspec": {
   "display_name": "Python 3",
   "language": "python",
   "name": "python3"
  },
  "language_info": {
   "codemirror_mode": {
    "name": "ipython",
    "version": 3
   },
   "file_extension": ".py",
   "mimetype": "text/x-python",
   "name": "python",
   "nbconvert_exporter": "python",
   "pygments_lexer": "ipython3",
   "version": "3.9.1"
  },
  "toc": {
   "base_numbering": 1,
   "nav_menu": {},
   "number_sections": true,
   "sideBar": true,
   "skip_h1_title": false,
   "title_cell": "Table of Contents",
   "title_sidebar": "Contents",
   "toc_cell": false,
   "toc_position": {},
   "toc_section_display": true,
   "toc_window_display": false
  },
  "varInspector": {
   "cols": {
    "lenName": 16,
    "lenType": 16,
    "lenVar": 40
   },
   "kernels_config": {
    "python": {
     "delete_cmd_postfix": "",
     "delete_cmd_prefix": "del ",
     "library": "var_list.py",
     "varRefreshCmd": "print(var_dic_list())"
    },
    "r": {
     "delete_cmd_postfix": ") ",
     "delete_cmd_prefix": "rm(",
     "library": "var_list.r",
     "varRefreshCmd": "cat(var_dic_list()) "
    }
   },
   "types_to_exclude": [
    "module",
    "function",
    "builtin_function_or_method",
    "instance",
    "_Feature"
   ],
   "window_display": false
  }
 },
 "nbformat": 4,
 "nbformat_minor": 1
}
